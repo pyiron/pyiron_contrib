{
 "cells": [
  {
   "cell_type": "markdown",
   "id": "52ba63b5-8826-4abe-baa1-3ff757d7c1f2",
   "metadata": {},
   "source": [
    "# Table of Contents\n",
    "1. [How to upload our pyiron jobs to coscine?](#intro)\n",
    "    1. [Create and attach Coscine Interface](#create)\n",
    "    2. [Make a new 'resource'](#newres)\n",
    "    3. [Access storage](#access)\n",
    "    4. [Handle Metadata and upload a file](#fileup)\n",
    "    5. [Upload a job](#jobup)\n",
    "2. [coscine package](#coscine)"
   ]
  },
  {
   "cell_type": "markdown",
   "id": "37c90686-8978-45ca-ac6e-49390e541d3b",
   "metadata": {
    "tags": []
   },
   "source": [
    "# How to upload our pyiron jobs to coscine? <a name=\"intro\"></a>"
   ]
  },
  {
   "cell_type": "markdown",
   "id": "30f1a957-eee0-4538-b64c-3d8b97ca9d79",
   "metadata": {},
   "source": [
    "To upload pyiron jobs to coscine, you need to have \n",
    "- the most recent version of pyiron_contrib\n",
    "- the coscine package installed\n",
    "- a coscine account to upload to\n",
    "- a coscine token!\n",
    "\n",
    "The first two are normal python updates/installs (e.g. using `mamba install -c conda-forge coscine` or the like).\n",
    "For the second one, you log in into cosine and open the [user profile](https://coscine.rwth-aachen.de/user/). Below the 'Personal Information' you will find the 'Access Token' section in which you choose a name for your token and an expiration date and create a token. Copy and store the token in a save place (e.g. a password manager)! It provides __full access__ to all data available to you on coscine!\n"
   ]
  },
  {
   "cell_type": "code",
   "execution_count": 1,
   "id": "e3e2c80d-a586-4888-9a69-10530549db71",
   "metadata": {
    "tags": []
   },
   "outputs": [
    {
     "data": {
      "application/vnd.jupyter.widget-view+json": {
       "model_id": "3d5d549e1f8c4036aff4ed944072762b",
       "version_major": 2,
       "version_minor": 0
      },
      "text/plain": []
     },
     "metadata": {},
     "output_type": "display_data"
    }
   ],
   "source": [
    "from pyiron import Project"
   ]
  },
  {
   "cell_type": "code",
   "execution_count": 2,
   "id": "5bffb4a1-34ad-4739-bcdd-e6e7bb36c152",
   "metadata": {
    "tags": []
   },
   "outputs": [],
   "source": [
    "pr = Project('.')"
   ]
  },
  {
   "cell_type": "markdown",
   "id": "2dbf88c5-5587-4420-91cd-a1000b81b351",
   "metadata": {
    "tags": []
   },
   "source": [
    "The project has a new attribute storage_interface, which provides an interface to different storage backends (currently mainly coscine):"
   ]
  },
  {
   "cell_type": "code",
   "execution_count": 3,
   "id": "f03c75ab-9354-49bb-b30a-c5964ce8ed56",
   "metadata": {
    "tags": []
   },
   "outputs": [],
   "source": [
    "pr.storage_interface"
   ]
  },
  {
   "cell_type": "markdown",
   "id": "52836b2b-1bc8-4854-ab5e-c4836b3b97b8",
   "metadata": {
    "tags": []
   },
   "source": [
    "## Create and attach Coscine Interface  <a name=\"create\"></a>\n",
    "\n",
    "We will now create a coscine interface, first just as an idependent object to browse through coscine. Once we decided a folder (aka resource in coscine nomenclature) to upload our jobs to, we attach that folder to the project instance. This way, a reload of the project provides us with access to the same folders again. Resources on coscine are like folders with a single metadata scheme attached to them. Therefore, you might need multiple storages in your storage interface to work with different kind of data. However, most of the time we will probably use the 'sfb1394/AtomisticSimulation' or the 'sfb1394/AtomisticSimulationMD' resource types.\n",
    "\n",
    "Upon creation of a coscine interface, you have to specify the token or you will be asked to provide it."
   ]
  },
  {
   "cell_type": "code",
   "execution_count": 4,
   "id": "46f610f1-cf74-47bc-8754-e49f1a2e7f36",
   "metadata": {
    "tags": []
   },
   "outputs": [
    {
     "name": "stdin",
     "output_type": "stream",
     "text": [
      "Coscine token:  ········\n"
     ]
    }
   ],
   "source": [
    "co_pr = pr.storage_interface.create.coscine()"
   ]
  },
  {
   "cell_type": "markdown",
   "id": "8eb574f7-0458-466f-a803-883a44b21a29",
   "metadata": {},
   "source": [
    "The `co_pr` feels like a normal pyiron project (only beeing a lot slower). However, it does not (yet?) support '/' seperated paths."
   ]
  },
  {
   "cell_type": "code",
   "execution_count": 5,
   "id": "65cd417d-dfe7-4db5-a1cd-5f4d35e87544",
   "metadata": {
    "tags": []
   },
   "outputs": [
    {
     "data": {
      "text/plain": [
       "{'groups': ['Coscine Demo Project 2022-06', 'SFB1394', 'TestProject'], 'nodes': []}"
      ]
     },
     "execution_count": 5,
     "metadata": {},
     "output_type": "execute_result"
    }
   ],
   "source": [
    "co_pr"
   ]
  },
  {
   "cell_type": "code",
   "execution_count": 6,
   "id": "72f3272a-d91e-44c1-b599-76d1de78873f",
   "metadata": {
    "tags": []
   },
   "outputs": [
    {
     "data": {
      "text/plain": [
       "{'groups': ['TestProject2', 'TestProject2'], 'nodes': ['ANewNode', 'aRes', 'AtomisticSimulation', 'CalphadDB', 'Document Library', 'linked dara', 'NanoIndentation', 'NewCalphadDB', 'SamplesTest', 'some', 't4', 't5', 'Test', 'Test2', 'TestCreateNewRes']}"
      ]
     },
     "execution_count": 6,
     "metadata": {},
     "output_type": "execute_result"
    }
   ],
   "source": [
    "co_pr['TestProject']"
   ]
  },
  {
   "cell_type": "code",
   "execution_count": 7,
   "id": "b69467a3-6f70-42b1-9071-a59b7dc2780e",
   "metadata": {
    "tags": []
   },
   "outputs": [],
   "source": [
    "a_res = co_pr['TestProject']['AtomisticSimulation']"
   ]
  },
  {
   "cell_type": "markdown",
   "id": "e415fd4f-0154-457e-93c7-e5013e6bcca1",
   "metadata": {},
   "source": [
    "Once we browsed to the right folder to store our files/calculations in, we attach it to the storage interface of the project:"
   ]
  },
  {
   "cell_type": "code",
   "execution_count": 9,
   "id": "d336db2f-c460-4dfd-b14c-1ef918c582b8",
   "metadata": {
    "tags": []
   },
   "outputs": [
    {
     "name": "stdin",
     "output_type": "stream",
     "text": [
      "Coscine token:  ········\n"
     ]
    }
   ],
   "source": [
    "pr.storage_interface.attach('my_name_for_the_storage', a_res)"
   ]
  },
  {
   "cell_type": "markdown",
   "id": "620fe18f-1279-4eeb-8fe3-a702a1279d13",
   "metadata": {},
   "source": [
    "This will again ask you for the credentials to log in, since it opens a new connection to the storage to ensure that reloading will work."
   ]
  },
  {
   "cell_type": "markdown",
   "id": "b07ccb6e-3e86-4191-b402-c8c66557c0c0",
   "metadata": {
    "tags": []
   },
   "source": [
    "## Make a new 'resource' <a name=\"newres\"></a>\n",
    "If you do not have a resource to attach, you may make a new one in your sub-project using `create_node`"
   ]
  },
  {
   "cell_type": "code",
   "execution_count": 10,
   "id": "31e4db73-9ded-4e4b-8e7d-4911d60c32f9",
   "metadata": {
    "tags": []
   },
   "outputs": [],
   "source": [
    "test_co_pr = co_pr['TestProject']"
   ]
  },
  {
   "cell_type": "code",
   "execution_count": 11,
   "id": "020567cf-970a-45e9-bfac-89b9b5c8bf13",
   "metadata": {
    "tags": []
   },
   "outputs": [
    {
     "data": {
      "text/plain": [
       "{'groups': [], 'nodes': []}"
      ]
     },
     "execution_count": 11,
     "metadata": {},
     "output_type": "execute_result"
    }
   ],
   "source": [
    "test_co_pr.create_node('SomeNewNode')"
   ]
  },
  {
   "cell_type": "code",
   "execution_count": 12,
   "id": "ac8220d4-e044-4b89-b119-d36f547c8702",
   "metadata": {
    "tags": []
   },
   "outputs": [
    {
     "data": {
      "text/plain": [
       "{'groups': ['TestProject2', 'TestProject2'], 'nodes': ['ANewNode', 'aRes', 'AtomisticSimulation', 'CalphadDB', 'Document Library', 'linked dara', 'NanoIndentation', 'NewCalphadDB', 'SamplesTest', 'some', 'SomeNewNode', 't4', 't5', 'Test', 'Test2', 'TestCreateNewRes']}"
      ]
     },
     "execution_count": 12,
     "metadata": {},
     "output_type": "execute_result"
    }
   ],
   "source": [
    "test_co_pr"
   ]
  },
  {
   "cell_type": "code",
   "execution_count": 13,
   "id": "5026d798-ce4e-42ba-b023-a285f32fdb49",
   "metadata": {
    "tags": []
   },
   "outputs": [
    {
     "data": {
      "text/plain": [
       "\u001b[0;31mSignature:\u001b[0m\n",
       "\u001b[0mtest_co_pr\u001b[0m\u001b[0;34m.\u001b[0m\u001b[0mcreate_group\u001b[0m\u001b[0;34m(\u001b[0m\u001b[0;34m\u001b[0m\n",
       "\u001b[0;34m\u001b[0m    \u001b[0mproject_name\u001b[0m\u001b[0;34m,\u001b[0m\u001b[0;34m\u001b[0m\n",
       "\u001b[0;34m\u001b[0m    \u001b[0mdisplay_name\u001b[0m\u001b[0;34m=\u001b[0m\u001b[0;32mNone\u001b[0m\u001b[0;34m,\u001b[0m\u001b[0;34m\u001b[0m\n",
       "\u001b[0;34m\u001b[0m    \u001b[0mproject_description\u001b[0m\u001b[0;34m=\u001b[0m\u001b[0;32mNone\u001b[0m\u001b[0;34m,\u001b[0m\u001b[0;34m\u001b[0m\n",
       "\u001b[0;34m\u001b[0m    \u001b[0mprincipal_investigators\u001b[0m\u001b[0;34m=\u001b[0m\u001b[0;32mNone\u001b[0m\u001b[0;34m,\u001b[0m\u001b[0;34m\u001b[0m\n",
       "\u001b[0;34m\u001b[0m    \u001b[0mproject_start\u001b[0m\u001b[0;34m=\u001b[0m\u001b[0;32mNone\u001b[0m\u001b[0;34m,\u001b[0m\u001b[0;34m\u001b[0m\n",
       "\u001b[0;34m\u001b[0m    \u001b[0mproject_end\u001b[0m\u001b[0;34m=\u001b[0m\u001b[0;32mNone\u001b[0m\u001b[0;34m,\u001b[0m\u001b[0;34m\u001b[0m\n",
       "\u001b[0;34m\u001b[0m    \u001b[0mdiscipline\u001b[0m\u001b[0;34m=\u001b[0m\u001b[0;32mNone\u001b[0m\u001b[0;34m,\u001b[0m\u001b[0;34m\u001b[0m\n",
       "\u001b[0;34m\u001b[0m    \u001b[0mparticipating_organizations\u001b[0m\u001b[0;34m=\u001b[0m\u001b[0;32mNone\u001b[0m\u001b[0;34m,\u001b[0m\u001b[0;34m\u001b[0m\n",
       "\u001b[0;34m\u001b[0m    \u001b[0mproject_keywords\u001b[0m\u001b[0;34m=\u001b[0m\u001b[0;32mNone\u001b[0m\u001b[0;34m,\u001b[0m\u001b[0;34m\u001b[0m\n",
       "\u001b[0;34m\u001b[0m    \u001b[0mmetadata_visibility\u001b[0m\u001b[0;34m=\u001b[0m\u001b[0;32mNone\u001b[0m\u001b[0;34m,\u001b[0m\u001b[0;34m\u001b[0m\n",
       "\u001b[0;34m\u001b[0m    \u001b[0mgrant_id\u001b[0m\u001b[0;34m=\u001b[0m\u001b[0;32mNone\u001b[0m\u001b[0;34m,\u001b[0m\u001b[0;34m\u001b[0m\n",
       "\u001b[0;34m\u001b[0m    \u001b[0mcopy_members\u001b[0m\u001b[0;34m=\u001b[0m\u001b[0;32mTrue\u001b[0m\u001b[0;34m,\u001b[0m\u001b[0;34m\u001b[0m\n",
       "\u001b[0;34m\u001b[0m\u001b[0;34m)\u001b[0m\u001b[0;34m\u001b[0m\u001b[0;34m\u001b[0m\u001b[0m\n",
       "\u001b[0;31mDocstring:\u001b[0m <no docstring>\n",
       "\u001b[0;31mFile:\u001b[0m      ~/pyiron/software/pyiron_contrib/pyiron_contrib/generic/coscineIo.py\n",
       "\u001b[0;31mType:\u001b[0m      method"
      ]
     },
     "metadata": {},
     "output_type": "display_data"
    }
   ],
   "source": [
    "test_co_pr.create_group?"
   ]
  },
  {
   "cell_type": "markdown",
   "id": "50b5162b-4b1f-49da-bac9-c000d6539ac3",
   "metadata": {
    "tags": []
   },
   "source": [
    "## Access storage <a name=\"access\"></a>\n",
    "\n",
    "Now, or also after a reload of the project, you may access the storage of the storage interface. It lists all storage locations known to it, their type and if they are connected or not:"
   ]
  },
  {
   "cell_type": "code",
   "execution_count": 14,
   "id": "2c65b395-9d43-4b21-bdb7-72d050c4834e",
   "metadata": {
    "tags": []
   },
   "outputs": [
    {
     "data": {
      "text/plain": [
       "Storage Access for ['my_name_for_the_storage(coscine, connected)']."
      ]
     },
     "execution_count": 14,
     "metadata": {},
     "output_type": "execute_result"
    }
   ],
   "source": [
    "pr.storage_interface.storage"
   ]
  },
  {
   "cell_type": "markdown",
   "id": "21b28d45-948a-458e-aab6-9a67f403ebbb",
   "metadata": {},
   "source": [
    "If you access a storage which is not connected, the connection will be established and you may be asked for the credentials."
   ]
  },
  {
   "cell_type": "code",
   "execution_count": 15,
   "id": "497bf7c2-1fb1-4676-b8db-58c5aeb101ad",
   "metadata": {
    "tags": []
   },
   "outputs": [],
   "source": [
    "a_res = pr.storage_interface.storage['my_name_for_the_storage']"
   ]
  },
  {
   "cell_type": "markdown",
   "id": "245c4b51-51ef-4c25-bc94-19035b5ca093",
   "metadata": {},
   "source": [
    "Through the storage, you can access all data inside this folder:"
   ]
  },
  {
   "cell_type": "code",
   "execution_count": 16,
   "id": "4056e0c7-affa-47f5-8398-e35609b97e54",
   "metadata": {
    "tags": []
   },
   "outputs": [
    {
     "data": {
      "text/plain": [
       "{'groups': [], 'nodes': ['MyFileName', 'changed_key.txt', 'empty2.txt', 'empty3.txt', 'some.txt', 'some2.txt', 'test.h5']}"
      ]
     },
     "execution_count": 16,
     "metadata": {},
     "output_type": "execute_result"
    }
   ],
   "source": [
    "a_res"
   ]
  },
  {
   "cell_type": "code",
   "execution_count": 17,
   "id": "8cbb7a8e-08a8-44d1-9880-3a644b7bf2ff",
   "metadata": {
    "tags": []
   },
   "outputs": [],
   "source": [
    "file = a_res['empty2.txt']"
   ]
  },
  {
   "cell_type": "code",
   "execution_count": 18,
   "id": "aeb7fc29-b648-46d9-8d85-81f25c382a37",
   "metadata": {
    "tags": []
   },
   "outputs": [
    {
     "data": {
      "text/html": [
       "<div>\n",
       "<style scoped>\n",
       "    .dataframe tbody tr th:only-of-type {\n",
       "        vertical-align: middle;\n",
       "    }\n",
       "\n",
       "    .dataframe tbody tr th {\n",
       "        vertical-align: top;\n",
       "    }\n",
       "\n",
       "    .dataframe thead th {\n",
       "        text-align: right;\n",
       "    }\n",
       "</style>\n",
       "<table border=\"1\" class=\"dataframe\">\n",
       "  <thead>\n",
       "    <tr style=\"text-align: right;\">\n",
       "      <th></th>\n",
       "      <th></th>\n",
       "    </tr>\n",
       "    <tr>\n",
       "      <th>Metadata</th>\n",
       "      <th></th>\n",
       "    </tr>\n",
       "  </thead>\n",
       "  <tbody>\n",
       "    <tr>\n",
       "      <th>ID</th>\n",
       "      <td>some_upload</td>\n",
       "    </tr>\n",
       "    <tr>\n",
       "      <th>User</th>\n",
       "      <td>Niklas</td>\n",
       "    </tr>\n",
       "    <tr>\n",
       "      <th>Date</th>\n",
       "      <td>20.10.2021</td>\n",
       "    </tr>\n",
       "  </tbody>\n",
       "</table>\n",
       "</div>"
      ],
      "text/plain": [
       "+---+----------+-------------------------+-------------+\n",
       "| C | Type     | Property                | Value       |\n",
       "+---+----------+-------------------------+-------------+\n",
       "|   | str      | ID*                     | some_upload |\n",
       "|   | str      | External/alias ID       |             |\n",
       "|   | str      | User*                   | Niklas      |\n",
       "|   | datetime | Date*                   | 20.10.2021  |\n",
       "|   | str      | Affiliation             |             |\n",
       "|   | str      | DOIs                    |             |\n",
       "| V | str      | Status                  |             |\n",
       "|   | datetime | Last status update      |             |\n",
       "|   | str      | Software IDs            |             |\n",
       "|   | str      | Software environment ID |             |\n",
       "|   | str      | Sample ID               |             |\n",
       "|   | str      | Simulation type         |             |\n",
       "|   | str      | Job submission commands |             |\n",
       "|   | str      | Computer name           |             |\n",
       "|   | str      | Node                    |             |\n",
       "|   | str      | CPU info                |             |\n",
       "|   | str      | GPU info                |             |\n",
       "|   | str      | Cores                   |             |\n",
       "|   | str      | Required RAM [GB]       |             |\n",
       "|   | str      | Runtime [h]             |             |\n",
       "|   | datetime | Submission time         |             |\n",
       "|   | datetime | Stop time               |             |\n",
       "|   | str      | Comments                |             |\n",
       "+---+----------+-------------------------+-------------+"
      ]
     },
     "execution_count": 18,
     "metadata": {},
     "output_type": "execute_result"
    }
   ],
   "source": [
    "file.metadata"
   ]
  },
  {
   "cell_type": "code",
   "execution_count": 19,
   "id": "fa1bbf51-3b26-4ec8-b510-ed978f558a7c",
   "metadata": {
    "tags": []
   },
   "outputs": [
    {
     "data": {
      "application/vnd.jupyter.widget-view+json": {
       "model_id": "32340b8ac7b84e4899bee3f69e0d6784",
       "version_major": 2,
       "version_minor": 0
      },
      "text/plain": [
       "VBox(children=(Output(),))"
      ]
     },
     "metadata": {},
     "output_type": "display_data"
    }
   ],
   "source": [
    "file"
   ]
  },
  {
   "cell_type": "markdown",
   "id": "3cd2db88-d392-4091-8ee8-ea7f9d5293cb",
   "metadata": {
    "tags": []
   },
   "source": [
    "##  Handle Metadata and upload a file <a name=\"fileup\"></a>\n",
    "This section provides information on how metadata is handled and regular files (like notebooks) are uploaded to coscine.\n",
    "\n",
    "The storage also provides you with a `metadata_template` which can/must be filled with metadata for the current folder."
   ]
  },
  {
   "cell_type": "code",
   "execution_count": 20,
   "id": "d019bae0-5011-4aff-840c-a696f3145043",
   "metadata": {
    "tags": []
   },
   "outputs": [],
   "source": [
    "# receive the metadata template for this resource\n",
    "mdf = a_res.metadata_template"
   ]
  },
  {
   "cell_type": "markdown",
   "id": "62e4870c-e159-4058-b3bf-ec25bc2186eb",
   "metadata": {},
   "source": [
    "If a metadata form is simply given to display, it does not show empty metadata fields. This is nice for viewing metadata of files, but lacks information to fill the form...\n"
   ]
  },
  {
   "cell_type": "code",
   "execution_count": 21,
   "id": "8c16ac59-99c9-4a2c-bb85-f9eb038532b6",
   "metadata": {
    "tags": []
   },
   "outputs": [
    {
     "data": {
      "text/html": [
       "<div>\n",
       "<style scoped>\n",
       "    .dataframe tbody tr th:only-of-type {\n",
       "        vertical-align: middle;\n",
       "    }\n",
       "\n",
       "    .dataframe tbody tr th {\n",
       "        vertical-align: top;\n",
       "    }\n",
       "\n",
       "    .dataframe thead th {\n",
       "        text-align: right;\n",
       "    }\n",
       "</style>\n",
       "<table border=\"1\" class=\"dataframe\">\n",
       "  <thead>\n",
       "    <tr style=\"text-align: right;\">\n",
       "      <th></th>\n",
       "      <th></th>\n",
       "    </tr>\n",
       "    <tr>\n",
       "      <th>Metadata</th>\n",
       "      <th></th>\n",
       "    </tr>\n",
       "  </thead>\n",
       "  <tbody>\n",
       "  </tbody>\n",
       "</table>\n",
       "</div>"
      ],
      "text/plain": [
       "+---+----------+-------------------------+-------+\n",
       "| C | Type     | Property                | Value |\n",
       "+---+----------+-------------------------+-------+\n",
       "|   | str      | ID*                     |       |\n",
       "|   | str      | External/alias ID       |       |\n",
       "|   | str      | User*                   |       |\n",
       "|   | datetime | Date*                   |       |\n",
       "|   | str      | Affiliation             |       |\n",
       "|   | str      | DOIs                    |       |\n",
       "| V | str      | Status                  |       |\n",
       "|   | datetime | Last status update      |       |\n",
       "|   | str      | Software IDs            |       |\n",
       "|   | str      | Software environment ID |       |\n",
       "|   | str      | Sample ID               |       |\n",
       "|   | str      | Simulation type         |       |\n",
       "|   | str      | Job submission commands |       |\n",
       "|   | str      | Computer name           |       |\n",
       "|   | str      | Node                    |       |\n",
       "|   | str      | CPU info                |       |\n",
       "|   | str      | GPU info                |       |\n",
       "|   | str      | Cores                   |       |\n",
       "|   | str      | Required RAM [GB]       |       |\n",
       "|   | str      | Runtime [h]             |       |\n",
       "|   | datetime | Submission time         |       |\n",
       "|   | datetime | Stop time               |       |\n",
       "|   | str      | Comments                |       |\n",
       "+---+----------+-------------------------+-------+"
      ]
     },
     "execution_count": 21,
     "metadata": {},
     "output_type": "execute_result"
    }
   ],
   "source": [
    "mdf"
   ]
  },
  {
   "cell_type": "markdown",
   "id": "ef296de3-48b7-4aa2-93d9-7500b2660a42",
   "metadata": {},
   "source": [
    "Printing the form will provide you with a full view of the scheme. The first column tells you if the specific property is 'Controlled', e.g. by restricting the entries to be one of a specific vocabulary ('V'). "
   ]
  },
  {
   "cell_type": "code",
   "execution_count": 22,
   "id": "cbe906d4-1dec-4f0c-b5ca-78057ebfbee7",
   "metadata": {
    "tags": []
   },
   "outputs": [
    {
     "name": "stdout",
     "output_type": "stream",
     "text": [
      "+---+----------+-------------------------+-------+\n",
      "| C | Type     | Property                | Value |\n",
      "+---+----------+-------------------------+-------+\n",
      "|   | str      | ID*                     |       |\n",
      "|   | str      | External/alias ID       |       |\n",
      "|   | str      | User*                   |       |\n",
      "|   | datetime | Date*                   |       |\n",
      "|   | str      | Affiliation             |       |\n",
      "|   | str      | DOIs                    |       |\n",
      "| V | str      | Status                  |       |\n",
      "|   | datetime | Last status update      |       |\n",
      "|   | str      | Software IDs            |       |\n",
      "|   | str      | Software environment ID |       |\n",
      "|   | str      | Sample ID               |       |\n",
      "|   | str      | Simulation type         |       |\n",
      "|   | str      | Job submission commands |       |\n",
      "|   | str      | Computer name           |       |\n",
      "|   | str      | Node                    |       |\n",
      "|   | str      | CPU info                |       |\n",
      "|   | str      | GPU info                |       |\n",
      "|   | str      | Cores                   |       |\n",
      "|   | str      | Required RAM [GB]       |       |\n",
      "|   | str      | Runtime [h]             |       |\n",
      "|   | datetime | Submission time         |       |\n",
      "|   | datetime | Stop time               |       |\n",
      "|   | str      | Comments                |       |\n",
      "+---+----------+-------------------------+-------+\n"
     ]
    }
   ],
   "source": [
    "print(mdf)"
   ]
  },
  {
   "cell_type": "markdown",
   "id": "2f758bbf-2742-411e-8699-52ccec2445e7",
   "metadata": {},
   "source": [
    "The possible values for a vocabulary controlled field can be seen by"
   ]
  },
  {
   "cell_type": "code",
   "execution_count": 23,
   "id": "67fd8c4f-f773-4875-b2eb-c1d782360a51",
   "metadata": {
    "tags": []
   },
   "outputs": [
    {
     "data": {
      "text/plain": [
       "['created',\n",
       " 'initialized',\n",
       " 'submitted',\n",
       " 'running',\n",
       " 'collect',\n",
       " 'finished',\n",
       " 'refresh',\n",
       " 'suspended']"
      ]
     },
     "execution_count": 23,
     "metadata": {},
     "output_type": "execute_result"
    }
   ],
   "source": [
    "mdf.vocabulary('Status').keys()"
   ]
  },
  {
   "cell_type": "markdown",
   "id": "821fb37d-31a9-4bdb-841c-269b08f72eb4",
   "metadata": {},
   "source": [
    "The form can be filled like a `dict` or with the fill method, which takes a dictionary."
   ]
  },
  {
   "cell_type": "code",
   "execution_count": 24,
   "id": "3e66c0de-61a3-4f02-92d9-dcaea5ddb681",
   "metadata": {
    "tags": []
   },
   "outputs": [],
   "source": [
    "mdf['ID'] = 'test'\n",
    "mdf['User'] = 'Niklas'\n",
    "mdf['Date'] = '11.04.2023'"
   ]
  },
  {
   "cell_type": "code",
   "execution_count": 25,
   "id": "392d6e21-ccb6-4b53-9390-edef4ab50e52",
   "metadata": {
    "tags": []
   },
   "outputs": [
    {
     "data": {
      "text/html": [
       "<div>\n",
       "<style scoped>\n",
       "    .dataframe tbody tr th:only-of-type {\n",
       "        vertical-align: middle;\n",
       "    }\n",
       "\n",
       "    .dataframe tbody tr th {\n",
       "        vertical-align: top;\n",
       "    }\n",
       "\n",
       "    .dataframe thead th {\n",
       "        text-align: right;\n",
       "    }\n",
       "</style>\n",
       "<table border=\"1\" class=\"dataframe\">\n",
       "  <thead>\n",
       "    <tr style=\"text-align: right;\">\n",
       "      <th></th>\n",
       "      <th></th>\n",
       "    </tr>\n",
       "    <tr>\n",
       "      <th>Metadata</th>\n",
       "      <th></th>\n",
       "    </tr>\n",
       "  </thead>\n",
       "  <tbody>\n",
       "    <tr>\n",
       "      <th>ID</th>\n",
       "      <td>test</td>\n",
       "    </tr>\n",
       "    <tr>\n",
       "      <th>User</th>\n",
       "      <td>Niklas</td>\n",
       "    </tr>\n",
       "    <tr>\n",
       "      <th>Date</th>\n",
       "      <td>2023-11-04</td>\n",
       "    </tr>\n",
       "  </tbody>\n",
       "</table>\n",
       "</div>"
      ],
      "text/plain": [
       "+---+----------+-------------------------+------------+\n",
       "| C | Type     | Property                | Value      |\n",
       "+---+----------+-------------------------+------------+\n",
       "|   | str      | ID*                     | test       |\n",
       "|   | str      | External/alias ID       |            |\n",
       "|   | str      | User*                   | Niklas     |\n",
       "|   | datetime | Date*                   | 2023-11-04 |\n",
       "|   | str      | Affiliation             |            |\n",
       "|   | str      | DOIs                    |            |\n",
       "| V | str      | Status                  |            |\n",
       "|   | datetime | Last status update      |            |\n",
       "|   | str      | Software IDs            |            |\n",
       "|   | str      | Software environment ID |            |\n",
       "|   | str      | Sample ID               |            |\n",
       "|   | str      | Simulation type         |            |\n",
       "|   | str      | Job submission commands |            |\n",
       "|   | str      | Computer name           |            |\n",
       "|   | str      | Node                    |            |\n",
       "|   | str      | CPU info                |            |\n",
       "|   | str      | GPU info                |            |\n",
       "|   | str      | Cores                   |            |\n",
       "|   | str      | Required RAM [GB]       |            |\n",
       "|   | str      | Runtime [h]             |            |\n",
       "|   | datetime | Submission time         |            |\n",
       "|   | datetime | Stop time               |            |\n",
       "|   | str      | Comments                |            |\n",
       "+---+----------+-------------------------+------------+"
      ]
     },
     "execution_count": 25,
     "metadata": {},
     "output_type": "execute_result"
    }
   ],
   "source": [
    "mdf"
   ]
  },
  {
   "cell_type": "code",
   "execution_count": 26,
   "id": "08bd49c9-8ac6-4474-8860-d79a53ab5b58",
   "metadata": {
    "tags": []
   },
   "outputs": [],
   "source": [
    "# just a dummy file that can be uploaded\n",
    "with open('some.txt', 'w') as f:\n",
    "    f.write('stuff')"
   ]
  },
  {
   "cell_type": "markdown",
   "id": "30454c8a-f00b-4c2e-9bcd-dd2b97aa65b7",
   "metadata": {},
   "source": [
    "Finally, the data file can be uploaded (will throw an exception if fields in the metadata are wrong/missing)"
   ]
  },
  {
   "cell_type": "code",
   "execution_count": 27,
   "id": "6f1565ca-9f39-416e-9442-1f627bb7fad2",
   "metadata": {
    "tags": []
   },
   "outputs": [
    {
     "data": {
      "application/vnd.jupyter.widget-view+json": {
       "model_id": "7a770d26d9a3475b8424e98c7f3f1718",
       "version_major": 2,
       "version_minor": 0
      },
      "text/plain": [
       "some.txt:   0%|          | 0.00/191 [00:00<?, ?B/s]"
      ]
     },
     "metadata": {},
     "output_type": "display_data"
    }
   ],
   "source": [
    "a_res.upload_file(file='some.txt', metadata=mdf)"
   ]
  },
  {
   "cell_type": "code",
   "execution_count": 28,
   "id": "1b696de9-6b9e-4079-a45b-9cab758d62db",
   "metadata": {
    "tags": []
   },
   "outputs": [
    {
     "data": {
      "text/plain": [
       "\u001b[0;31mSignature:\u001b[0m\n",
       "\u001b[0ma_res\u001b[0m\u001b[0;34m.\u001b[0m\u001b[0mupload_file\u001b[0m\u001b[0;34m(\u001b[0m\u001b[0;34m\u001b[0m\n",
       "\u001b[0;34m\u001b[0m    \u001b[0mfile\u001b[0m\u001b[0;34m,\u001b[0m\u001b[0;34m\u001b[0m\n",
       "\u001b[0;34m\u001b[0m    \u001b[0mmetadata\u001b[0m\u001b[0;34m:\u001b[0m \u001b[0mcoscine\u001b[0m\u001b[0;34m.\u001b[0m\u001b[0mobject\u001b[0m\u001b[0;34m.\u001b[0m\u001b[0mMetadataForm\u001b[0m \u001b[0;34m=\u001b[0m \u001b[0;32mNone\u001b[0m\u001b[0;34m,\u001b[0m\u001b[0;34m\u001b[0m\n",
       "\u001b[0;34m\u001b[0m    \u001b[0mfilename\u001b[0m\u001b[0;34m=\u001b[0m\u001b[0;32mNone\u001b[0m\u001b[0;34m,\u001b[0m\u001b[0;34m\u001b[0m\n",
       "\u001b[0;34m\u001b[0m\u001b[0;34m)\u001b[0m\u001b[0;34m\u001b[0m\u001b[0;34m\u001b[0m\u001b[0m\n",
       "\u001b[0;31mDocstring:\u001b[0m Upload the provided files to the storage\n",
       "\u001b[0;31mFile:\u001b[0m      ~/pyiron/software/pyiron_contrib/pyiron_contrib/generic/coscineIo.py\n",
       "\u001b[0;31mType:\u001b[0m      method"
      ]
     },
     "metadata": {},
     "output_type": "display_data"
    }
   ],
   "source": [
    "a_res.upload_file?"
   ]
  },
  {
   "cell_type": "markdown",
   "id": "48b75a00-74ee-4ce5-8ac4-6b830c7d29aa",
   "metadata": {
    "tags": []
   },
   "source": [
    "## Upload a job <a name=\"jobup\"></a>\n",
    "\n",
    "A job, which is uploaded to a 'sfb1394/AtomisticSimulation' folder should be parsed for metadata automatically. Thus for a job it should be sufficient to run:"
   ]
  },
  {
   "cell_type": "code",
   "execution_count": 29,
   "id": "c2274f00-4f64-4411-8b36-c13490595d09",
   "metadata": {
    "tags": []
   },
   "outputs": [],
   "source": [
    "job = pr['test']"
   ]
  },
  {
   "cell_type": "code",
   "execution_count": 30,
   "id": "5099b229-e641-43b9-86d1-33d5d01d9be0",
   "metadata": {
    "tags": []
   },
   "outputs": [
    {
     "data": {
      "text/plain": [
       "{'groups': ['executable', 'input', 'output'], 'nodes': ['HDF_VERSION', 'NAME', 'TYPE', 'VERSION', 'job_id', 'server', 'status']}"
      ]
     },
     "execution_count": 30,
     "metadata": {},
     "output_type": "execute_result"
    }
   ],
   "source": [
    "job"
   ]
  },
  {
   "cell_type": "code",
   "execution_count": 31,
   "id": "9f69b2d6-095e-49bf-ae8f-91d5f94992e1",
   "metadata": {
    "tags": []
   },
   "outputs": [
    {
     "data": {
      "application/vnd.jupyter.widget-view+json": {
       "model_id": "de494b84b6de4fdf92e5441efe761703",
       "version_major": 2,
       "version_minor": 0
      },
      "text/plain": [
       "test.h5:   0%|          | 0.00/508k [00:00<?, ?B/s]"
      ]
     },
     "metadata": {},
     "output_type": "display_data"
    }
   ],
   "source": [
    "a_res.upload_job(job)"
   ]
  },
  {
   "cell_type": "code",
   "execution_count": 32,
   "id": "5bf2a4e8-c99d-427c-8d0a-4868c81cd93b",
   "metadata": {
    "tags": []
   },
   "outputs": [
    {
     "data": {
      "text/plain": [
       "{'groups': [], 'nodes': ['MyFileName', 'changed_key.txt', 'empty2.txt', 'empty3.txt', 'some.txt', 'some2.txt', 'test.h5']}"
      ]
     },
     "execution_count": 32,
     "metadata": {},
     "output_type": "execute_result"
    }
   ],
   "source": [
    "a_res"
   ]
  },
  {
   "cell_type": "markdown",
   "id": "f338cd06-e7c9-42ad-aea3-a75fbc8752a4",
   "metadata": {},
   "source": [
    "The upload job also accepts a form, which would be used instead, or updated depending on the choice of the user. In addition, `upload_job` accepts a `dois` keyword to specify a paper as a result of this data:"
   ]
  },
  {
   "cell_type": "code",
   "execution_count": 33,
   "id": "6f3e3d2f-9388-4f60-bbba-236f47e9470d",
   "metadata": {
    "tags": []
   },
   "outputs": [
    {
     "data": {
      "text/plain": [
       "\u001b[0;31mSignature:\u001b[0m\n",
       "\u001b[0ma_res\u001b[0m\u001b[0;34m.\u001b[0m\u001b[0mupload_job\u001b[0m\u001b[0;34m(\u001b[0m\u001b[0;34m\u001b[0m\n",
       "\u001b[0;34m\u001b[0m    \u001b[0mjob\u001b[0m\u001b[0;34m:\u001b[0m \u001b[0mpyiron_base\u001b[0m\u001b[0;34m.\u001b[0m\u001b[0mjobs\u001b[0m\u001b[0;34m.\u001b[0m\u001b[0mjob\u001b[0m\u001b[0;34m.\u001b[0m\u001b[0mgeneric\u001b[0m\u001b[0;34m.\u001b[0m\u001b[0mGenericJob\u001b[0m\u001b[0;34m,\u001b[0m\u001b[0;34m\u001b[0m\n",
       "\u001b[0;34m\u001b[0m    \u001b[0mform\u001b[0m\u001b[0;34m=\u001b[0m\u001b[0;32mNone\u001b[0m\u001b[0;34m,\u001b[0m\u001b[0;34m\u001b[0m\n",
       "\u001b[0;34m\u001b[0m    \u001b[0mupdate_form\u001b[0m\u001b[0;34m=\u001b[0m\u001b[0;32mFalse\u001b[0m\u001b[0;34m,\u001b[0m\u001b[0;34m\u001b[0m\n",
       "\u001b[0;34m\u001b[0m    \u001b[0mdois\u001b[0m\u001b[0;34m=\u001b[0m\u001b[0;32mNone\u001b[0m\u001b[0;34m,\u001b[0m\u001b[0;34m\u001b[0m\n",
       "\u001b[0;34m\u001b[0m\u001b[0;34m)\u001b[0m\u001b[0;34m\u001b[0m\u001b[0;34m\u001b[0m\u001b[0m\n",
       "\u001b[0;31mDocstring:\u001b[0m\n",
       "Upload a pyiron job to this CoScInE resource\n",
       "\n",
       "Args:\n",
       "    job: job object from pyiron\n",
       "    form: optional metadata form, required if the metadata mapping between job and resource type is unknown.\n",
       "    update_form(bool): If true update given form, else use as is.\n",
       "    dois(str): Optional DOI of papers from this data, overwrites doi in form!\n",
       "\u001b[0;31mFile:\u001b[0m      ~/pyiron/software/pyiron_contrib/pyiron_contrib/generic/coscineIo.py\n",
       "\u001b[0;31mType:\u001b[0m      method"
      ]
     },
     "metadata": {},
     "output_type": "display_data"
    }
   ],
   "source": [
    "a_res.upload_job?"
   ]
  },
  {
   "cell_type": "markdown",
   "id": "9d1f7f66-1330-4b8f-a1cf-efc4490e079e",
   "metadata": {},
   "source": [
    "Therefore, I am not sure what kind of side effectc could arise!"
   ]
  },
  {
   "cell_type": "markdown",
   "id": "fbc5734c-1b8d-49e8-9e79-f4937ca06d4d",
   "metadata": {
    "tags": []
   },
   "source": [
    "# coscine package <a name=\"coscine\"></a>\n",
    "\n",
    "To have the full flexibility of what can be done on coscine from a notebook, you might want to have a look at the [coscine](https://git.rwth-aachen.de/coscine/community-features/coscine-python-sdk) package itself. Here, I just show a few commands to get projects, resources, and on how to upload a file. Consult the coscine documentation for more."
   ]
  },
  {
   "cell_type": "code",
   "execution_count": 45,
   "id": "7c96a334-c581-4ab9-8539-4107b840c0a3",
   "metadata": {
    "tags": []
   },
   "outputs": [],
   "source": [
    "from getpass import getpass\n",
    "import coscine\n",
    "from datetime import datetime"
   ]
  },
  {
   "cell_type": "code",
   "execution_count": 49,
   "id": "58cd66cc-7078-4919-8aab-272596eb787a",
   "metadata": {
    "tags": []
   },
   "outputs": [
    {
     "name": "stdin",
     "output_type": "stream",
     "text": [
      " ········\n"
     ]
    }
   ],
   "source": [
    "client=coscine.Client(token=getpass())"
   ]
  },
  {
   "cell_type": "code",
   "execution_count": 50,
   "id": "dd6346c9-ff0e-41d6-ad9c-9e447e7b63fd",
   "metadata": {
    "tags": []
   },
   "outputs": [
    {
     "data": {
      "text/plain": [
       "{'displayName': None,\n",
       " 'url': None,\n",
       " 'type': None,\n",
       " 'body': None,\n",
       " 'startsDate': None,\n",
       " 'endsDate': None}"
      ]
     },
     "execution_count": 50,
     "metadata": {},
     "output_type": "execute_result"
    }
   ],
   "source": [
    "client.get_maintenance()"
   ]
  },
  {
   "cell_type": "code",
   "execution_count": 51,
   "id": "979dc23c-b577-421f-93cb-cb34f2b53922",
   "metadata": {
    "tags": []
   },
   "outputs": [
    {
     "data": {
      "text/plain": [
       "'0.9.2'"
      ]
     },
     "execution_count": 51,
     "metadata": {},
     "output_type": "execute_result"
    }
   ],
   "source": [
    "client.version"
   ]
  },
  {
   "cell_type": "code",
   "execution_count": 52,
   "id": "608bd5d7-2778-4ed7-9788-7c7bc5616447",
   "metadata": {
    "tags": []
   },
   "outputs": [
    {
     "data": {
      "text/plain": [
       "[<coscine.project.Project at 0x150aade45430>,\n",
       " <coscine.project.Project at 0x150aaddb94f0>,\n",
       " <coscine.project.Project at 0x150aaddb9730>]"
      ]
     },
     "execution_count": 52,
     "metadata": {},
     "output_type": "execute_result"
    }
   ],
   "source": [
    "# get list of projects\n",
    "client.projects()"
   ]
  },
  {
   "cell_type": "code",
   "execution_count": 53,
   "id": "f80eced2-636b-462a-809a-6037c422e801",
   "metadata": {
    "tags": []
   },
   "outputs": [],
   "source": [
    "# get specific project\n",
    "test_pr = client.project('TestProject')"
   ]
  },
  {
   "cell_type": "code",
   "execution_count": 54,
   "id": "d9338d35-827f-4c88-9dfa-96410716e864",
   "metadata": {
    "tags": []
   },
   "outputs": [
    {
     "name": "stdout",
     "output_type": "stream",
     "text": [
      "+-------------------------------------------------------------------------+\n",
      "|                           Project TestProject                           |\n",
      "+-------------------------+-----------------------------------------------+\n",
      "|         Property        |                     Value                     |\n",
      "+-------------------------+-----------------------------------------------+\n",
      "|            ID           |      e1983a56-ee35-413e-9a66-771196c0a089     |\n",
      "|           Name          |                  TestProject                  |\n",
      "|       Display Name      |                  TestProject                  |\n",
      "|       Description       |                  TestProject                  |\n",
      "| Principle Investigators |                 Niklas Siemer                 |\n",
      "|       Disciplines       |             Materials Science 406             |\n",
      "|                         |     Physical and Theoretical Chemistry 303    |\n",
      "|                         | Chemical Solid State and Surface Research 302 |\n",
      "|                         |          Condensed Matter Physics 307         |\n",
      "|      Organizations      |           https://ror.org/01ngpvg12           |\n",
      "|        Start Date       |           2020-09-24 06:46:58.497000          |\n",
      "|         End Date        |              2020-10-31 07:46:00              |\n",
      "|        Visibility       |                Project Members                |\n",
      "+-------------------------+-----------------------------------------------+\n"
     ]
    }
   ],
   "source": [
    "print(test_pr)"
   ]
  },
  {
   "cell_type": "code",
   "execution_count": 55,
   "id": "7e415413-30fb-458b-97db-1adc371aeec8",
   "metadata": {
    "tags": []
   },
   "outputs": [
    {
     "name": "stdout",
     "output_type": "stream",
     "text": [
      "+-----------------------------------------------------------------------+\n",
      "|                             Resource aRes                             |\n",
      "+---------------------+-------------------------------------------------+\n",
      "|       Property      |                      Value                      |\n",
      "+---------------------+-------------------------------------------------+\n",
      "|          ID         |       44349a11-9351-4287-994b-1187150c4955      |\n",
      "|    Resource Name    |                       aRes                      |\n",
      "|     Display Name    |                       aRes                      |\n",
      "|     Description     |                 additional stuff                |\n",
      "|         PID         |  21.11102/44349a11-9351-4287-994b-1187150c4955  |\n",
      "|         Type        |                     rdsrwth                     |\n",
      "|     Disciplines     |              Materials Science 406              |\n",
      "|                     |      Physical and Theoretical Chemistry 303     |\n",
      "|                     |  Chemical Solid State and Surface Research 302  |\n",
      "|                     |           Condensed Matter Physics 307          |\n",
      "|       License       |                                                 |\n",
      "| Application Profile | https://purl.org/coscine/ap/sfb1394/tomography/ |\n",
      "|       Archived      |                      False                      |\n",
      "|       Creator       |       0f0b39a0-2b60-446e-8eb4-89cc164c7bc3      |\n",
      "|       Project       |                   TestProject                   |\n",
      "|      Project ID     |       e1983a56-ee35-413e-9a66-771196c0a089      |\n",
      "+---------------------+-------------------------------------------------+\n"
     ]
    }
   ],
   "source": [
    "res = test_pr.resource('aRes')\n",
    "print(res)"
   ]
  },
  {
   "cell_type": "code",
   "execution_count": 56,
   "id": "d1ad9cf2-55aa-400a-91a8-078858fc2c79",
   "metadata": {
    "tags": []
   },
   "outputs": [],
   "source": [
    "form = res.metadata_form()"
   ]
  },
  {
   "cell_type": "code",
   "execution_count": 57,
   "id": "1cdb4df0-6fee-4c53-a606-e44bb7f0977d",
   "metadata": {
    "tags": []
   },
   "outputs": [
    {
     "name": "stdout",
     "output_type": "stream",
     "text": [
      "+---+----------+---------------------------------------------------+-------+\n",
      "| C | Type     | Property                                          | Value |\n",
      "+---+----------+---------------------------------------------------+-------+\n",
      "|   | str      | ID*                                               |       |\n",
      "|   | str      | External/alias ID                                 |       |\n",
      "|   | str      | User*                                             |       |\n",
      "|   | datetime | Date*                                             |       |\n",
      "|   | str      | Affiliation                                       |       |\n",
      "|   | str      | DOIs                                              |       |\n",
      "|   | str      | Temperature [°C]                                  |       |\n",
      "|   | str      | Relative humidity [%]                             |       |\n",
      "|   | str      | Environmental gas                                 |       |\n",
      "|   | str      | Operator                                          |       |\n",
      "|   | str      | Instrument ID                                     |       |\n",
      "|   | str      | Sample ID                                         |       |\n",
      "|   | str      | Parent sample ID                                  |       |\n",
      "|   | str      | Any data set to be linked with this experiment    |       |\n",
      "|   | str      | Environmental protection during sample processing |       |\n",
      "|   | str      | Pre-treatment                                     |       |\n",
      "|   | str      | Lift-out region                                   |       |\n",
      "|   | str      | Annular milling parameters                        |       |\n",
      "|   | str      | Low voltage cleaning                              |       |\n",
      "|   | str      | Specimen apex radius [nm]                         |       |\n",
      "|   | str      | Shank angle [°]                                   |       |\n",
      "|   | str      | Mode                                              |       |\n",
      "|   | str      | Pulse fraction [%]                                |       |\n",
      "|   | str      | Laser pulse energy [pJ]                           |       |\n",
      "|   | str      | Pulse frequency [kHz]                             |       |\n",
      "|   | str      | Base temperature [K]                              |       |\n",
      "|   | str      | Detection rate [%]                                |       |\n",
      "|   | str      | Start voltage [kV]                                |       |\n",
      "|   | str      | Run time [min]                                    |       |\n",
      "|   | str      | Stop voltage [kV]                                 |       |\n",
      "|   | str      | Acquired ions [10^6]                              |       |\n",
      "|   | datetime | Measurement date                                  |       |\n",
      "|   | str      | Comments                                          |       |\n",
      "+---+----------+---------------------------------------------------+-------+\n"
     ]
    }
   ],
   "source": [
    "print(form)"
   ]
  },
  {
   "cell_type": "code",
   "execution_count": 58,
   "id": "d58fe32a-8f51-4eea-bcb6-d44cd5a68249",
   "metadata": {
    "tags": []
   },
   "outputs": [],
   "source": [
    "form['ID'] = 'any name'\n",
    "form['User'] = 'Niklas'\n",
    "form['Date'] = datetime.now()"
   ]
  },
  {
   "cell_type": "code",
   "execution_count": 59,
   "id": "487a0911-b622-4bc8-a27b-8ff3472f4933",
   "metadata": {
    "tags": []
   },
   "outputs": [
    {
     "name": "stdout",
     "output_type": "stream",
     "text": [
      "+---+----------+---------------------------------------------------+------------+\n",
      "| C | Type     | Property                                          | Value      |\n",
      "+---+----------+---------------------------------------------------+------------+\n",
      "|   | str      | ID*                                               | any name   |\n",
      "|   | str      | External/alias ID                                 |            |\n",
      "|   | str      | User*                                             | Niklas     |\n",
      "|   | datetime | Date*                                             | 2023-04-14 |\n",
      "|   | str      | Affiliation                                       |            |\n",
      "|   | str      | DOIs                                              |            |\n",
      "|   | str      | Temperature [°C]                                  |            |\n",
      "|   | str      | Relative humidity [%]                             |            |\n",
      "|   | str      | Environmental gas                                 |            |\n",
      "|   | str      | Operator                                          |            |\n",
      "|   | str      | Instrument ID                                     |            |\n",
      "|   | str      | Sample ID                                         |            |\n",
      "|   | str      | Parent sample ID                                  |            |\n",
      "|   | str      | Any data set to be linked with this experiment    |            |\n",
      "|   | str      | Environmental protection during sample processing |            |\n",
      "|   | str      | Pre-treatment                                     |            |\n",
      "|   | str      | Lift-out region                                   |            |\n",
      "|   | str      | Annular milling parameters                        |            |\n",
      "|   | str      | Low voltage cleaning                              |            |\n",
      "|   | str      | Specimen apex radius [nm]                         |            |\n",
      "|   | str      | Shank angle [°]                                   |            |\n",
      "|   | str      | Mode                                              |            |\n",
      "|   | str      | Pulse fraction [%]                                |            |\n",
      "|   | str      | Laser pulse energy [pJ]                           |            |\n",
      "|   | str      | Pulse frequency [kHz]                             |            |\n",
      "|   | str      | Base temperature [K]                              |            |\n",
      "|   | str      | Detection rate [%]                                |            |\n",
      "|   | str      | Start voltage [kV]                                |            |\n",
      "|   | str      | Run time [min]                                    |            |\n",
      "|   | str      | Stop voltage [kV]                                 |            |\n",
      "|   | str      | Acquired ions [10^6]                              |            |\n",
      "|   | datetime | Measurement date                                  |            |\n",
      "|   | str      | Comments                                          |            |\n",
      "+---+----------+---------------------------------------------------+------------+\n"
     ]
    }
   ],
   "source": [
    "print(form)"
   ]
  },
  {
   "cell_type": "code",
   "execution_count": null,
   "id": "777011b6-c2fd-4f0c-8008-4448d516a094",
   "metadata": {
    "tags": []
   },
   "outputs": [],
   "source": []
  },
  {
   "cell_type": "code",
   "execution_count": 60,
   "id": "fb8f9cf4-efd5-48c6-9ff9-82360834eea7",
   "metadata": {
    "tags": []
   },
   "outputs": [
    {
     "data": {
      "application/vnd.jupyter.widget-view+json": {
       "model_id": "c78763925d554c11b30491d7ded7abc5",
       "version_major": 2,
       "version_minor": 0
      },
      "text/plain": [
       "MyFileName:   0%|          | 0.00/193 [00:00<?, ?B/s]"
      ]
     },
     "metadata": {},
     "output_type": "display_data"
    }
   ],
   "source": [
    "res.upload('MyFileName', 'some.txt', form)"
   ]
  }
 ],
 "metadata": {
  "kernelspec": {
   "display_name": "Python 3 (ipykernel)",
   "language": "python",
   "name": "python3"
  },
  "language_info": {
   "codemirror_mode": {
    "name": "ipython",
    "version": 3
   },
   "file_extension": ".py",
   "mimetype": "text/x-python",
   "name": "python",
   "nbconvert_exporter": "python",
   "pygments_lexer": "ipython3",
   "version": "3.8.15"
  }
 },
 "nbformat": 4,
 "nbformat_minor": 5
}
