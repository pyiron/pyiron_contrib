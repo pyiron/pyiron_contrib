{
 "cells": [
  {
   "cell_type": "markdown",
   "metadata": {},
   "source": [
    "# Climbing image NEB example - Lammps"
   ]
  },
  {
   "cell_type": "code",
   "execution_count": 1,
   "metadata": {
    "ExecuteTime": {
     "end_time": "2020-11-13T10:18:10.402265Z",
     "start_time": "2020-11-13T10:18:08.415457Z"
    }
   },
   "outputs": [],
   "source": [
    "# headers\n",
    "\n",
    "# general modules\n",
    "import numpy as np\n",
    "import matplotlib.pyplot as plt\n",
    "\n",
    "# pyiron modules\n",
    "from pyiron_atomistics import Project\n",
    "import pyiron_contrib"
   ]
  },
  {
   "cell_type": "code",
   "execution_count": 2,
   "metadata": {
    "ExecuteTime": {
     "end_time": "2020-11-13T10:18:16.123161Z",
     "start_time": "2020-11-13T10:18:10.403690Z"
    }
   },
   "outputs": [],
   "source": [
    "# define project\n",
    "\n",
    "pr = Project('neb_example')\n",
    "pr.remove_jobs(recursive=True)"
   ]
  },
  {
   "cell_type": "code",
   "execution_count": 3,
   "metadata": {
    "ExecuteTime": {
     "end_time": "2020-11-13T10:18:18.645016Z",
     "start_time": "2020-11-13T10:18:18.496849Z"
    }
   },
   "outputs": [
    {
     "data": {
      "text/html": [
       "<div>\n",
       "<style scoped>\n",
       "    .dataframe tbody tr th:only-of-type {\n",
       "        vertical-align: middle;\n",
       "    }\n",
       "\n",
       "    .dataframe tbody tr th {\n",
       "        vertical-align: top;\n",
       "    }\n",
       "\n",
       "    .dataframe thead th {\n",
       "        text-align: right;\n",
       "    }\n",
       "</style>\n",
       "<table border=\"1\" class=\"dataframe\">\n",
       "  <thead>\n",
       "    <tr style=\"text-align: right;\">\n",
       "      <th></th>\n",
       "      <th>Module</th>\n",
       "      <th>Git head</th>\n",
       "    </tr>\n",
       "  </thead>\n",
       "  <tbody>\n",
       "    <tr>\n",
       "      <th>0</th>\n",
       "      <td>pyiron</td>\n",
       "      <td>1b8bc7ff9ead77daf3e0e65ded2eb22e16ac4b69</td>\n",
       "    </tr>\n",
       "    <tr>\n",
       "      <th>1</th>\n",
       "      <td>pyiron_mpie</td>\n",
       "      <td>d90b955fb16fefd70ccab9d69c7c177190c81fd7</td>\n",
       "    </tr>\n",
       "    <tr>\n",
       "      <th>2</th>\n",
       "      <td>pyiron_contrib</td>\n",
       "      <td>4c8aab96daa8bbbbb3daea4ebd763d5eaf91082b</td>\n",
       "    </tr>\n",
       "    <tr>\n",
       "      <th>3</th>\n",
       "      <td>pyiron_base</td>\n",
       "      <td>4f22b9f2f32294d4f9f6f45f1e53b275239d0aed</td>\n",
       "    </tr>\n",
       "  </tbody>\n",
       "</table>\n",
       "</div>"
      ],
      "text/plain": [
       "           Module                                  Git head\n",
       "0          pyiron  1b8bc7ff9ead77daf3e0e65ded2eb22e16ac4b69\n",
       "1     pyiron_mpie  d90b955fb16fefd70ccab9d69c7c177190c81fd7\n",
       "2  pyiron_contrib  4c8aab96daa8bbbbb3daea4ebd763d5eaf91082b\n",
       "3     pyiron_base  4f22b9f2f32294d4f9f6f45f1e53b275239d0aed"
      ]
     },
     "execution_count": 3,
     "metadata": {},
     "output_type": "execute_result"
    }
   ],
   "source": [
    "# check the git head of the repos that this notebook worked on when this notebook was written\n",
    "\n",
    "pr.get_repository_status()"
   ]
  },
  {
   "cell_type": "code",
   "execution_count": 4,
   "metadata": {
    "ExecuteTime": {
     "end_time": "2020-11-13T10:18:20.011188Z",
     "start_time": "2020-11-13T10:18:20.003833Z"
    }
   },
   "outputs": [],
   "source": [
    "# inputs \n",
    "\n",
    "# structure specific\n",
    "element = 'Al'\n",
    "supercell = 3\n",
    "vac_id_initial = 0\n",
    "vac_id_final = 1\n",
    "cubic = True\n",
    "\n",
    "# job specific\n",
    "potential = '2008--Mendelev-M-I--Al--LAMMPS--ipr1'\n",
    "\n",
    "# NEB specific\n",
    "n_images = 9\n",
    "neb_steps = 200\n",
    "gamma0 = 0.01\n",
    "climbing_image = True"
   ]
  },
  {
   "cell_type": "code",
   "execution_count": 5,
   "metadata": {
    "ExecuteTime": {
     "end_time": "2020-11-13T10:18:21.395755Z",
     "start_time": "2020-11-13T10:18:21.341883Z"
    }
   },
   "outputs": [],
   "source": [
    "# create base structure\n",
    "\n",
    "box = pr.create_ase_bulk(name=element, cubic=cubic).repeat(supercell)"
   ]
  },
  {
   "cell_type": "code",
   "execution_count": 6,
   "metadata": {
    "ExecuteTime": {
     "end_time": "2020-11-13T10:18:21.808987Z",
     "start_time": "2020-11-13T10:18:21.741957Z"
    }
   },
   "outputs": [],
   "source": [
    "# template minimization job\n",
    "\n",
    "template_job = pr.create_job(job_type=pr.job_type.Lammps, job_name='template')\n",
    "template_job.potential = potential"
   ]
  },
  {
   "cell_type": "code",
   "execution_count": 7,
   "metadata": {
    "ExecuteTime": {
     "end_time": "2020-11-13T10:18:26.620275Z",
     "start_time": "2020-11-13T10:18:22.191381Z"
    }
   },
   "outputs": [
    {
     "name": "stdout",
     "output_type": "stream",
     "text": [
      "The job vac_0 was saved and received the ID: 10136528\n",
      "The job vac_1 was saved and received the ID: 10136529\n"
     ]
    }
   ],
   "source": [
    "# vacancy @ atom id 0 minimization\n",
    "\n",
    "vac_0_struct = box.copy()  # copy box\n",
    "vac_0_struct.pop(vac_id_initial)  # create vacancy\n",
    "\n",
    "vac_0 = template_job.copy_template(project=pr, new_job_name='vac_0')\n",
    "vac_0.structure = vac_0_struct\n",
    "vac_0.calc_minimize(pressure=0.)\n",
    "vac_0.run()\n",
    "\n",
    "# vacancy @ atom id 1 minimization\n",
    "\n",
    "vac_1_struct = box.copy()  # copy box\n",
    "vac_1_struct.pop(vac_id_final)  # create vacancy\n",
    "\n",
    "vac_1 = template_job.copy_template(project=pr, new_job_name='vac_1')\n",
    "vac_1.structure = vac_1_struct\n",
    "vac_1.calc_minimize(pressure=0.)\n",
    "vac_1.run()"
   ]
  },
  {
   "cell_type": "code",
   "execution_count": 8,
   "metadata": {
    "ExecuteTime": {
     "end_time": "2020-11-13T10:18:59.975321Z",
     "start_time": "2020-11-13T10:18:26.664434Z"
    }
   },
   "outputs": [
    {
     "name": "stdout",
     "output_type": "stream",
     "text": [
      "The job ref_neb was saved and received the ID: 10136530\n",
      "The job neb_job was saved and received the ID: 10136531\n",
      "The job neb_job_initialize_jobs_0 was saved and received the ID: 10136532\n",
      "The job neb_job_initialize_jobs_1 was saved and received the ID: 10136533\n",
      "The job neb_job_initialize_jobs_2 was saved and received the ID: 10136534\n",
      "The job neb_job_initialize_jobs_3 was saved and received the ID: 10136535\n",
      "The job neb_job_initialize_jobs_4 was saved and received the ID: 10136536\n",
      "The job neb_job_initialize_jobs_5 was saved and received the ID: 10136537\n",
      "The job neb_job_initialize_jobs_6 was saved and received the ID: 10136538\n",
      "The job neb_job_initialize_jobs_7 was saved and received the ID: 10136539\n",
      "The job neb_job_initialize_jobs_8 was saved and received the ID: 10136540\n"
     ]
    },
    {
     "name": "stderr",
     "output_type": "stream",
     "text": [
      "/u/rads/pyiron_repos/pyiron_base/pyiron_base/generic/parameters.py:284: UserWarning: The input in GenericParameters changed, while the state of the job was already finished.\n",
      "  \"The input in GenericParameters changed, while the state of the job was already finished.\"\n"
     ]
    }
   ],
   "source": [
    "# create and run the NEB job\n",
    "\n",
    "pr_neb = pr.create_group('neb')  # create a new folder\n",
    "\n",
    "neb_ref = pr_neb.create_job(job_type=pr.job_type.Lammps, job_name='ref_neb')\n",
    "neb_ref.structure = vac_0.get_structure()\n",
    "neb_ref.potential = potential\n",
    "neb_ref.save()  # Don't forget this step!\n",
    "\n",
    "neb_job = pr_neb.create_job(job_type=pr.job_type.ProtoNEBSer, job_name='neb_job')\n",
    "neb_job.input.ref_job_full_path = neb_ref.path\n",
    "neb_job.input.structure_initial = vac_0.get_structure()\n",
    "neb_job.input.structure_final = vac_1.get_structure()\n",
    "neb_job.input.n_images = n_images\n",
    "neb_job.input.n_steps = neb_steps\n",
    "neb_job.input.gamma0 = gamma0\n",
    "neb_job.input.use_climbing_image = climbing_image\n",
    "\n",
    "# set_output_whitelist sets how often an output of a particular vertex is stored in the archive.\n",
    "# for example, here, the output 'energy_pot' of vertex 'calc_static' is saved every 20 steps in the archive.\n",
    "neb_job.set_output_whitelist(**{'calc_static': {'energy_pot': 20}})\n",
    "\n",
    "neb_job.run()"
   ]
  },
  {
   "cell_type": "code",
   "execution_count": 9,
   "metadata": {
    "ExecuteTime": {
     "end_time": "2020-11-13T10:19:00.059422Z",
     "start_time": "2020-11-13T10:19:00.025649Z"
    }
   },
   "outputs": [
    {
     "data": {
      "text/plain": [
       "{'groups': [], 'nodes': ['FULLNAME', 'TYPE', 't_0', 't_100', 't_120', 't_140', 't_160', 't_180', 't_20', 't_40', 't_60', 't_80']}"
      ]
     },
     "execution_count": 9,
     "metadata": {},
     "output_type": "execute_result"
    }
   ],
   "source": [
    "# lets check the archive for the output - 1\n",
    "\n",
    "neb_job['graph/vertices/calc_static/archive/output/energy_pot']\n",
    "# here we see in 'nodes' that the output is stored every 20 steps\n",
    "# note: unfortunately, this is the only way to access the archive quantitites at the moment!\n",
    "# note: all outputs of the other nodes will only be saved for the final step!"
   ]
  },
  {
   "cell_type": "code",
   "execution_count": 10,
   "metadata": {
    "ExecuteTime": {
     "end_time": "2020-11-13T10:19:00.088079Z",
     "start_time": "2020-11-13T10:19:00.060658Z"
    }
   },
   "outputs": [
    {
     "data": {
      "text/plain": [
       "array([-364.28366497, -364.17408894, -363.90675179, -363.70742462,\n",
       "       -363.62194441, -363.70742462, -363.90675179, -364.17408894,\n",
       "       -364.28366497])"
      ]
     },
     "execution_count": 10,
     "metadata": {},
     "output_type": "execute_result"
    }
   ],
   "source": [
    "# lets check the archive for the output - 2\n",
    "\n",
    "# the final image energies?\n",
    "neb_job['graph/vertices/calc_static/archive/output/energy_pot/t_80']"
   ]
  },
  {
   "cell_type": "code",
   "execution_count": 11,
   "metadata": {
    "ExecuteTime": {
     "end_time": "2020-11-13T10:19:00.211751Z",
     "start_time": "2020-11-13T10:19:00.089093Z"
    }
   },
   "outputs": [
    {
     "data": {
      "text/plain": [
       "<AxesSubplot:xlabel='Image', ylabel='Energy'>"
      ]
     },
     "execution_count": 11,
     "metadata": {},
     "output_type": "execute_result"
    },
    {
     "data": {
      "image/png": "[encoded data removed]",
      "text/plain": [
       "<Figure size 432x288 with 1 Axes>"
      ]
     },
     "metadata": {
      "needs_background": "light"
     },
     "output_type": "display_data"
    }
   ],
   "source": [
    "# lets plot the final barrier\n",
    "\n",
    "neb_job.plot_elastic_band(frame=-1)"
   ]
  },
  {
   "cell_type": "code",
   "execution_count": 12,
   "metadata": {
    "ExecuteTime": {
     "end_time": "2020-11-13T10:19:00.215872Z",
     "start_time": "2020-11-13T10:19:00.212951Z"
    }
   },
   "outputs": [
    {
     "name": "stdout",
     "output_type": "stream",
     "text": [
      "final migration barrier = 0.6524359464470422\n"
     ]
    }
   ],
   "source": [
    "# lets get the migration barrier over different archived iterations\n",
    "\n",
    "e_mig = [neb_job.get_barrier(frame=i) for i in range(int(neb_steps/20))]\n",
    "\n",
    "# final migration barrier after 200 steps\n",
    "print('final migration barrier = {}'.format(e_mig[-1]))"
   ]
  },
  {
   "cell_type": "markdown",
   "metadata": {},
   "source": [
    "Notes: At the moment, there is no convergence criterion implemented for this NEB protocol. So it runs for all of the steps that have been provided as an input."
   ]
  },
  {
   "cell_type": "code",
   "execution_count": 13,
   "metadata": {
    "ExecuteTime": {
     "end_time": "2020-11-13T10:19:00.315204Z",
     "start_time": "2020-11-13T10:19:00.216983Z"
    }
   },
   "outputs": [
    {
     "data": {
      "image/png": "[encoded data removed]",
      "text/plain": [
       "<Figure size 432x288 with 1 Axes>"
      ]
     },
     "metadata": {
      "needs_background": "light"
     },
     "output_type": "display_data"
    }
   ],
   "source": [
    "# plot the iterations\n",
    "\n",
    "plt.plot(e_mig, marker='o')\n",
    "plt.xlabel('archived iterations')\n",
    "plt.ylabel('migration_barrier [eV]')\n",
    "plt.show()"
   ]
  },
  {
   "cell_type": "code",
   "execution_count": 14,
   "metadata": {
    "ExecuteTime": {
     "end_time": "2020-11-13T10:19:00.319973Z",
     "start_time": "2020-11-13T10:19:00.316914Z"
    }
   },
   "outputs": [
    {
     "data": {
      "text/plain": [
       "dict_keys(['energy_pot', 'positions', 'forces'])"
      ]
     },
     "execution_count": 14,
     "metadata": {},
     "output_type": "execute_result"
    }
   ],
   "source": [
    "# other output saved by the job can be obtained only for the final step!\n",
    "\n",
    "neb_job.output.keys()"
   ]
  },
  {
   "cell_type": "code",
   "execution_count": null,
   "metadata": {},
   "outputs": [],
   "source": []
  }
 ],
 "metadata": {
  "kernelspec": {
   "display_name": "Python 3",
   "language": "python",
   "name": "python3"
  },
  "language_info": {
   "codemirror_mode": {
    "name": "ipython",
    "version": 3
   },
   "file_extension": ".py",
   "mimetype": "text/x-python",
   "name": "python",
   "nbconvert_exporter": "python",
   "pygments_lexer": "ipython3",
   "version": "3.7.8"
  }
 },
 "nbformat": 4,
 "nbformat_minor": 4
}