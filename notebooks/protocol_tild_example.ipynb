{
 "cells": [
  {
   "cell_type": "markdown",
   "metadata": {},
   "source": [
    "# TILD + FEP example - quasi-harmonic to fully interacting - Lammps\n",
    "\n",
    "### TILD - Thermodynamic Integration using Langevin Dynamics\n",
    "### FEP - Free Energy Perturbation"
   ]
  },
  {
   "cell_type": "code",
   "execution_count": 1,
   "metadata": {
    "ExecuteTime": {
     "end_time": "2021-04-26T10:52:43.082953Z",
     "start_time": "2021-04-26T10:52:40.575507Z"
    }
   },
   "outputs": [],
   "source": [
    "# imports\n",
    "\n",
    "import numpy as np\n",
    "import matplotlib.pyplot as plt\n",
    "\n",
    "from pyiron import Project\n",
    "import pyiron_contrib"
   ]
  },
  {
   "cell_type": "code",
   "execution_count": 2,
   "metadata": {
    "ExecuteTime": {
     "end_time": "2021-04-26T10:52:46.125414Z",
     "start_time": "2021-04-26T10:52:43.084923Z"
    }
   },
   "outputs": [],
   "source": [
    "# define project\n",
    "\n",
    "pr = Project('tild_example')\n",
    "pr.remove_jobs_silently(recursive=True)"
   ]
  },
  {
   "cell_type": "code",
   "execution_count": 3,
   "metadata": {
    "ExecuteTime": {
     "end_time": "2021-04-26T10:52:46.310349Z",
     "start_time": "2021-04-26T10:52:46.127086Z"
    }
   },
   "outputs": [
    {
     "data": {
      "text/html": [
       "<div>\n",
       "<style scoped>\n",
       "    .dataframe tbody tr th:only-of-type {\n",
       "        vertical-align: middle;\n",
       "    }\n",
       "\n",
       "    .dataframe tbody tr th {\n",
       "        vertical-align: top;\n",
       "    }\n",
       "\n",
       "    .dataframe thead th {\n",
       "        text-align: right;\n",
       "    }\n",
       "</style>\n",
       "<table border=\"1\" class=\"dataframe\">\n",
       "  <thead>\n",
       "    <tr style=\"text-align: right;\">\n",
       "      <th></th>\n",
       "      <th>Module</th>\n",
       "      <th>Git head</th>\n",
       "    </tr>\n",
       "  </thead>\n",
       "  <tbody>\n",
       "    <tr>\n",
       "      <th>0</th>\n",
       "      <td>pyiron</td>\n",
       "      <td>ef5db249200057abb0b96e9643c34de72ca6fdcf</td>\n",
       "    </tr>\n",
       "    <tr>\n",
       "      <th>1</th>\n",
       "      <td>pyiron_mpie</td>\n",
       "      <td>d90b955fb16fefd70ccab9d69c7c177190c81fd7</td>\n",
       "    </tr>\n",
       "    <tr>\n",
       "      <th>2</th>\n",
       "      <td>pyiron_contrib</td>\n",
       "      <td>0b3c052c3e7cd70cf10362057cf3d95670a6fb52</td>\n",
       "    </tr>\n",
       "    <tr>\n",
       "      <th>3</th>\n",
       "      <td>pyiron_atomistics</td>\n",
       "      <td>3d85c1cb5d16080dd63ade0dda17dc1564b10e36</td>\n",
       "    </tr>\n",
       "    <tr>\n",
       "      <th>4</th>\n",
       "      <td>pyiron_base</td>\n",
       "      <td>576da49c498209c3907b23195339241621249fd8</td>\n",
       "    </tr>\n",
       "    <tr>\n",
       "      <th>5</th>\n",
       "      <td>pyiron_continuum</td>\n",
       "      <td>Not a repo</td>\n",
       "    </tr>\n",
       "  </tbody>\n",
       "</table>\n",
       "</div>"
      ],
      "text/plain": [
       "              Module                                  Git head\n",
       "0             pyiron  ef5db249200057abb0b96e9643c34de72ca6fdcf\n",
       "1        pyiron_mpie  d90b955fb16fefd70ccab9d69c7c177190c81fd7\n",
       "2     pyiron_contrib  0b3c052c3e7cd70cf10362057cf3d95670a6fb52\n",
       "3  pyiron_atomistics  3d85c1cb5d16080dd63ade0dda17dc1564b10e36\n",
       "4        pyiron_base  576da49c498209c3907b23195339241621249fd8\n",
       "5   pyiron_continuum                                Not a repo"
      ]
     },
     "execution_count": 3,
     "metadata": {},
     "output_type": "execute_result"
    }
   ],
   "source": [
    "pr.get_repository_status()"
   ]
  },
  {
   "cell_type": "code",
   "execution_count": 4,
   "metadata": {
    "ExecuteTime": {
     "end_time": "2021-04-26T10:52:46.317580Z",
     "start_time": "2021-04-26T10:52:46.312887Z"
    }
   },
   "outputs": [],
   "source": [
    "# inputs\n",
    "\n",
    "# structure\n",
    "element = 'Al'\n",
    "crystal_structure = 'fcc'\n",
    "supercell = 3\n",
    "potential = '2008--Mendelev-M-I--Al--LAMMPS--ipr1'\n",
    "\n",
    "# MD specific\n",
    "a = 4.073603  # this I obtained from calc_md at 300K. \n",
    "temperature = 300.\n",
    "time_step = 1.  # MD timestep\n",
    "n_steps = 1000  # MD steps\n",
    "sampling_period = 10  # same as `n_print` from calc_md\n",
    "thermalization_steps = 200  # number of steps to equilibriate the system for\n",
    "temperature_damping_timescale = 100.  # same as the one from calc_md \n",
    "convergence_steps = 500  # number of steps after which to check for convergence\n",
    "fe_tol = 1e-3  # convergence criterion 1meV \n",
    "\n",
    "# integration specific\n",
    "n_lambdas = 7\n",
    "force_constants = None  # for this calculation, we input force constants from phonopy - re-assigned later.\n",
    "spring_constant = None  # if you do not want to specify the force constants, you can still specify a spring constant.\n",
    "# in this case, you will obtain the free energy between the atoms behaving as independent non-interacting harmonic \n",
    "# oscillators with a single spring constant (i.e., Einstein atoms), and the atoms having full interaction.\n",
    "\n",
    "# cluster specific\n",
    "phon_cores = 4\n",
    "phon_run_time = 1800  # in seconds\n",
    "tild_cores = 4  # if running on the headnode, use 1! Otherwise, set to n_lambdas\n",
    "queue = 'cmti'\n",
    "tild_run_time = 14400  # in seconds"
   ]
  },
  {
   "cell_type": "code",
   "execution_count": 5,
   "metadata": {
    "ExecuteTime": {
     "end_time": "2021-04-26T10:52:47.767228Z",
     "start_time": "2021-04-26T10:52:46.318800Z"
    }
   },
   "outputs": [
    {
     "name": "stderr",
     "output_type": "stream",
     "text": [
      "/u/rads/pyiron_repos/pyiron_base/pyiron_base/generic/hdfio.py:361: UserWarning: swmr=True only affects read ('r') mode. For swmr write mode, set f.swmr_mode = True after opening the file.\n",
      "  with h5py.File(self.file_name, mode=\"a\", libver=\"latest\", swmr=True) as h:\n"
     ]
    },
    {
     "name": "stdout",
     "output_type": "stream",
     "text": [
      "The job zero was saved and received the ID: 14607620\n"
     ]
    }
   ],
   "source": [
    "# structures with the expanded lattice\n",
    "\n",
    "pr_zero = pr.create_group('ionic_relaxation')\n",
    "\n",
    "zero = pr_zero.create_job(pr.job_type.Lammps, 'zero')\n",
    "zero.structure = pr.create_ase_bulk(name=element, crystalstructure=crystal_structure, cubic=True).repeat(supercell)\n",
    "n_atoms = len(zero.structure.positions)\n",
    "zero.potential = potential\n",
    "zero.calc_minimize(pressure=0.)\n",
    "zero.run()"
   ]
  },
  {
   "cell_type": "code",
   "execution_count": 6,
   "metadata": {
    "ExecuteTime": {
     "end_time": "2021-04-26T10:52:49.624433Z",
     "start_time": "2021-04-26T10:52:47.809486Z"
    }
   },
   "outputs": [
    {
     "name": "stderr",
     "output_type": "stream",
     "text": [
      "/u/rads/pyiron_repos/pyiron_base/pyiron_base/generic/hdfio.py:361: UserWarning: swmr=True only affects read ('r') mode. For swmr write mode, set f.swmr_mode = True after opening the file.\n",
      "  with h5py.File(self.file_name, mode=\"a\", libver=\"latest\", swmr=True) as h:\n"
     ]
    },
    {
     "name": "stdout",
     "output_type": "stream",
     "text": [
      "The job bulk was saved and received the ID: 14607621\n"
     ]
    }
   ],
   "source": [
    "# structures with the expanded lattice\n",
    "\n",
    "bulk = pr_zero.create_job(pr.job_type.Lammps, 'bulk')\n",
    "bulk.structure = pr.create_ase_bulk(name=element, crystalstructure=crystal_structure, a=a,\n",
    "                                    cubic=True).repeat(supercell)\n",
    "bulk.potential = potential\n",
    "bulk.calc_minimize(pressure=None)  # we keep the volume constant! (because we obtained the lattice constant from MD)\n",
    "bulk.run()\n",
    "\n",
    "eq_energy = bulk.output.energy_pot[-1]  # The potential energy of the frozen structure at the input temperature"
   ]
  },
  {
   "cell_type": "code",
   "execution_count": 7,
   "metadata": {
    "ExecuteTime": {
     "end_time": "2021-04-26T10:52:49.672462Z",
     "start_time": "2021-04-26T10:52:49.668209Z"
    }
   },
   "outputs": [],
   "source": [
    "# generate lambdas (integration_points)\n",
    "\n",
    "def generate_lambdas(N, bias=0.5):\n",
    "    \"\"\"\n",
    "    A function to generate N points between 0 and 1, with a left, equidistant and right bias.\n",
    "    bias = 0 makes the points fully left biased. The amount of left bias can be controlled by varying it between 0 and \n",
    "        0.49.\n",
    "    bias = 0.5 keeps the points equidistant.\n",
    "    bias = 1 makes the points fully right biased. The amount of right bias can be controlled by varying it between 0.51 \n",
    "        and 1.\n",
    "    \n",
    "    \"\"\"\n",
    "    factor = bias + 0.5\n",
    "    lambdas = [0, 1]\n",
    "    for n in np.arange(N - 2):\n",
    "        lambdas.append(lambdas[-1] + (lambdas[-1] - lambdas[-2]) / factor)\n",
    "    lambdas = np.asarray(lambdas)\n",
    "    lambdas /= lambdas[-1]\n",
    "    \n",
    "    return np.around(lambdas, decimals=4)"
   ]
  },
  {
   "cell_type": "code",
   "execution_count": 8,
   "metadata": {
    "ExecuteTime": {
     "end_time": "2021-04-26T10:52:49.885400Z",
     "start_time": "2021-04-26T10:52:49.674546Z"
    }
   },
   "outputs": [
    {
     "data": {
      "image/png": "[encoded data removed]",
      "text/plain": [
       "<Figure size 432x288 with 1 Axes>"
      ]
     },
     "metadata": {
      "needs_background": "light"
     },
     "output_type": "display_data"
    }
   ],
   "source": [
    "# plot lambdas\n",
    "\n",
    "# we use equidistant bias in new_generate_lambdas\n",
    "lambdas = generate_lambdas(n_lambdas, bias=0.5)\n",
    "\n",
    "plt.title('lambdas')\n",
    "plt.scatter(lambdas, np.zeros(n_lambdas))\n",
    "plt.xlabel('$\\lambda$')\n",
    "plt.show()"
   ]
  },
  {
   "cell_type": "code",
   "execution_count": 9,
   "metadata": {
    "ExecuteTime": {
     "end_time": "2021-04-26T10:53:06.354582Z",
     "start_time": "2021-04-26T10:52:49.886626Z"
    }
   },
   "outputs": [
    {
     "name": "stderr",
     "output_type": "stream",
     "text": [
      "/u/rads/pyiron_repos/pyiron_base/pyiron_base/generic/hdfio.py:361: UserWarning: swmr=True only affects read ('r') mode. For swmr write mode, set f.swmr_mode = True after opening the file.\n",
      "  with h5py.File(self.file_name, mode=\"a\", libver=\"latest\", swmr=True) as h:\n"
     ]
    },
    {
     "name": "stdout",
     "output_type": "stream",
     "text": [
      "The job phonopy_job was saved and received the ID: 14607622\n",
      "The job phon_ref_0 was saved and received the ID: 14607623\n"
     ]
    },
    {
     "name": "stderr",
     "output_type": "stream",
     "text": [
      "/u/rads/pyiron_repos/pyiron_base/pyiron_base/generic/hdfio.py:361: UserWarning: swmr=True only affects read ('r') mode. For swmr write mode, set f.swmr_mode = True after opening the file.\n",
      "  with h5py.File(self.file_name, mode=\"a\", libver=\"latest\", swmr=True) as h:\n"
     ]
    }
   ],
   "source": [
    "# setup phonopy jobs\n",
    "\n",
    "pr_phon = pr.create_group('phonons')\n",
    "\n",
    "phon_ref_job = pr_phon.create_job(pr.job_type.Lammps, 'phon_ref')\n",
    "phon_ref_job.structure = bulk.get_structure()\n",
    "phon_ref_job.potential = potential\n",
    "\n",
    "phonopy_job = phon_ref_job.create_job(pr.job_type.PhonopyJob,'phonopy_job')\n",
    "phonopy_job.server.cores = phon_cores\n",
    "# phonopy_job.server.queue = queue\n",
    "# phonopy_job.server.run_time = phon_run_time\n",
    "\n",
    "phonopy_job.run()"
   ]
  },
  {
   "cell_type": "code",
   "execution_count": 10,
   "metadata": {
    "ExecuteTime": {
     "end_time": "2021-04-26T10:53:06.414871Z",
     "start_time": "2021-04-26T10:53:06.396906Z"
    }
   },
   "outputs": [],
   "source": [
    "# load phonopy jobs, in case you ran this on the cluster    \n",
    "\n",
    "# phon_path = Project('qh_to_interacting_free energy/phonons/')\n",
    "# phonopy_job = phon_path.load('phonopy_job')\n",
    "\n",
    "# extract qh free energies\n",
    "therm_prop = phonopy_job.get_thermal_properties(temperatures=temperature)\n",
    "A_qh = therm_prop.free_energies[-1]  # A, because this is technically still the Helmholtz free energy\n",
    "\n",
    "# get force constants\n",
    "force_constants = phonopy_job.phonopy.force_constants"
   ]
  },
  {
   "cell_type": "code",
   "execution_count": 11,
   "metadata": {
    "ExecuteTime": {
     "end_time": "2021-04-26T10:53:06.421368Z",
     "start_time": "2021-04-26T10:53:06.416023Z"
    }
   },
   "outputs": [],
   "source": [
    "# # in case you want a calculated guess of the spring constant\n",
    "\n",
    "# # obtain a spring constant using 0K structure, by displacing a single atom\n",
    "# # a random spring constant can also be assumed, for example 1 or 5 eV/Ang^2\n",
    "\n",
    "# spring_folder = pr.create_group('spring_job')\n",
    "\n",
    "# # clear any existing spring_constant jobs\n",
    "# spring_folder.remove_jobs_silently(recursive=True)\n",
    "\n",
    "# spring_job = spring_folder.create_job(pr.job_type.Lammps, 'spring_job')\n",
    "# spring_job.structure = zero.get_structure()\n",
    "# spring_job.potential = potential\n",
    "\n",
    "# deviations = np.linspace(-0.5, 0.5, num=10)\n",
    "# restoring_forces = np.empty(deviations.shape)\n",
    "\n",
    "# spring_job.interactive_open()\n",
    "# for i, d in enumerate(deviations):\n",
    "#     spring_job.structure.positions[0, 0] = zero.get_structure().positions[0, 0] + d\n",
    "#     spring_job.calc_static()\n",
    "#     spring_job.run()\n",
    "#     restoring_forces[i] = spring_job.interactive_energy_pot_getter()\n",
    "# spring_job.interactive_close()\n",
    "\n",
    "# spring_constant = np.polyfit(deviations, restoring_forces, 2)[0]\n",
    "\n",
    "# print(\"A spring constant of {} eV/angstrom^2 was found\".format(spring_constant))"
   ]
  },
  {
   "cell_type": "code",
   "execution_count": 12,
   "metadata": {
    "ExecuteTime": {
     "end_time": "2021-04-26T10:53:47.160730Z",
     "start_time": "2021-04-26T10:53:06.422600Z"
    }
   },
   "outputs": [
    {
     "name": "stdout",
     "output_type": "stream",
     "text": [
      "The job ref_job was saved and received the ID: 14607624\n",
      "The job tild_job was saved and received the ID: 14607625\n",
      "The job tild_job_create_jobs_0 was saved and received the ID: 14607626\n",
      "The job tild_job_create_jobs_1 was saved and received the ID: 14607627\n",
      "The job tild_job_create_jobs_2 was saved and received the ID: 14607628\n",
      "The job tild_job_create_jobs_3 was saved and received the ID: 14607629\n",
      "The job tild_job_create_jobs_4 was saved and received the ID: 14607630\n",
      "The job tild_job_create_jobs_5 was saved and received the ID: 14607631\n",
      "The job tild_job_create_jobs_6 was saved and received the ID: 14607632\n"
     ]
    },
    {
     "name": "stderr",
     "output_type": "stream",
     "text": [
      "/u/rads/pyiron_repos/pyiron_base/pyiron_base/generic/parameters.py:283: UserWarning: The input in GenericParameters changed, while the state of the job was already finished.\n",
      "  \"The input in GenericParameters changed, while the state of the job was already finished.\"\n",
      "/u/rads/pyiron_repos/pyiron_base/pyiron_base/generic/parameters.py:283: UserWarning: The input in GenericParameters changed, while the state of the job was already finished.\n",
      "  \"The input in GenericParameters changed, while the state of the job was already finished.\"\n",
      "/u/rads/pyiron_repos/pyiron_base/pyiron_base/generic/parameters.py:283: UserWarning: The input in GenericParameters changed, while the state of the job was already finished.\n",
      "  \"The input in GenericParameters changed, while the state of the job was already finished.\"\n",
      "/u/rads/pyiron_repos/pyiron_base/pyiron_base/generic/parameters.py:283: UserWarning: The input in GenericParameters changed, while the state of the job was already finished.\n",
      "  \"The input in GenericParameters changed, while the state of the job was already finished.\"\n",
      "/u/rads/pyiron_repos/pyiron_base/pyiron_base/generic/parameters.py:283: UserWarning: The input in GenericParameters changed, while the state of the job was already finished.\n",
      "  \"The input in GenericParameters changed, while the state of the job was already finished.\"\n",
      "/u/rads/pyiron_repos/pyiron_base/pyiron_base/generic/parameters.py:283: UserWarning: The input in GenericParameters changed, while the state of the job was already finished.\n",
      "  \"The input in GenericParameters changed, while the state of the job was already finished.\"\n",
      "/u/rads/pyiron_repos/pyiron_base/pyiron_base/generic/parameters.py:283: UserWarning: The input in GenericParameters changed, while the state of the job was already finished.\n",
      "  \"The input in GenericParameters changed, while the state of the job was already finished.\"\n"
     ]
    },
    {
     "name": "stdout",
     "output_type": "stream",
     "text": [
      "[0, 1, 2, 3, 5, 4, 6]\n",
      "Time elapsed : 4.024688005447388\n",
      "The job tild_job_create_jobs_0 was saved and received the ID: 14607633\n",
      "The job tild_job_create_jobs_1 was saved and received the ID: 14607634\n",
      "The job tild_job_create_jobs_2 was saved and received the ID: 14607635\n",
      "The job tild_job_create_jobs_3 was saved and received the ID: 14607636\n",
      "The job tild_job_create_jobs_4 was saved and received the ID: 14607637\n",
      "The job tild_job_create_jobs_5 was saved and received the ID: 14607638\n",
      "The job tild_job_create_jobs_6 was saved and received the ID: 14607639\n"
     ]
    },
    {
     "name": "stderr",
     "output_type": "stream",
     "text": [
      "/u/rads/pyiron_repos/pyiron_base/pyiron_base/generic/parameters.py:283: UserWarning: The input in GenericParameters changed, while the state of the job was already finished.\n",
      "  \"The input in GenericParameters changed, while the state of the job was already finished.\"\n",
      "/u/rads/pyiron_repos/pyiron_base/pyiron_base/generic/parameters.py:283: UserWarning: The input in GenericParameters changed, while the state of the job was already finished.\n",
      "  \"The input in GenericParameters changed, while the state of the job was already finished.\"\n",
      "/u/rads/pyiron_repos/pyiron_base/pyiron_base/generic/parameters.py:283: UserWarning: The input in GenericParameters changed, while the state of the job was already finished.\n",
      "  \"The input in GenericParameters changed, while the state of the job was already finished.\"\n",
      "/u/rads/pyiron_repos/pyiron_base/pyiron_base/generic/parameters.py:283: UserWarning: The input in GenericParameters changed, while the state of the job was already finished.\n",
      "  \"The input in GenericParameters changed, while the state of the job was already finished.\"\n",
      "/u/rads/pyiron_repos/pyiron_base/pyiron_base/generic/parameters.py:283: UserWarning: The input in GenericParameters changed, while the state of the job was already finished.\n",
      "  \"The input in GenericParameters changed, while the state of the job was already finished.\"\n",
      "/u/rads/pyiron_repos/pyiron_base/pyiron_base/generic/parameters.py:283: UserWarning: The input in GenericParameters changed, while the state of the job was already finished.\n",
      "  \"The input in GenericParameters changed, while the state of the job was already finished.\"\n",
      "/u/rads/pyiron_repos/pyiron_base/pyiron_base/generic/parameters.py:283: UserWarning: The input in GenericParameters changed, while the state of the job was already finished.\n",
      "  \"The input in GenericParameters changed, while the state of the job was already finished.\"\n"
     ]
    },
    {
     "name": "stdout",
     "output_type": "stream",
     "text": [
      "[0, 1, 2, 3, 4, 5, 6]\n",
      "Time elapsed : 4.135098457336426\n",
      "Maximum steps reached\n"
     ]
    }
   ],
   "source": [
    "# run the TILD protocol\n",
    "\n",
    "pr_tild = pr.create_group('tild_jobs')\n",
    "\n",
    "tild_ref_job = pr_tild.create_job(pr.job_type.Lammps, 'ref_job')\n",
    "tild_ref_job.potential = potential\n",
    "tild_ref_job.structure = bulk.get_structure()\n",
    "tild_ref_job.save()\n",
    "\n",
    "tild_job = pr_tild.create_job(pr.job_type.ProtoHarmTILDPar, 'tild_job')\n",
    "tild_job.input.structure = bulk.get_structure()\n",
    "tild_job.input.temperature = temperature\n",
    "tild_job.input.ref_job_full_path = tild_ref_job.path\n",
    "tild_job.input.spring_constant = spring_constant\n",
    "tild_job.input.force_constants = force_constants\n",
    "tild_job.input.n_lambdas = n_lambdas\n",
    "tild_job.input.sampling_period = sampling_period\n",
    "tild_job.input.thermalization_steps = thermalization_steps\n",
    "tild_job.input.custom_lambdas = lambdas\n",
    "tild_job.input.n_steps = n_steps\n",
    "tild_job.input.convergence_check_steps = convergence_steps\n",
    "tild_job.input.fe_tol = 0.001\n",
    "tild_job.input.eq_energy = eq_energy\n",
    "\n",
    "# sleep-time, set this only if you're running this on your local PC\n",
    "tild_job.input.sleep_time = 0.05\n",
    "\n",
    "# cluster inputs\n",
    "tild_job.server.cores = tild_cores\n",
    "# tild_job.server.queue = queue\n",
    "tild_job.server.run_time = tild_run_time\n",
    "\n",
    "# run_job\n",
    "tild_job.run()"
   ]
  },
  {
   "cell_type": "code",
   "execution_count": 13,
   "metadata": {
    "ExecuteTime": {
     "end_time": "2021-04-26T10:53:47.205338Z",
     "start_time": "2021-04-26T10:53:47.203554Z"
    }
   },
   "outputs": [],
   "source": [
    "# # if you wat to run the job for more number of steps\n",
    "\n",
    "# tild_job.input.n_steps = 20000\n",
    "# tild_job.run(continue_run=True)"
   ]
  },
  {
   "cell_type": "code",
   "execution_count": 14,
   "metadata": {
    "ExecuteTime": {
     "end_time": "2021-04-26T10:53:47.530931Z",
     "start_time": "2021-04-26T10:53:47.206461Z"
    }
   },
   "outputs": [],
   "source": [
    "# load tild jobs, in case you ran this on the cluster   \n",
    "\n",
    "# path = Project('tild_example/tild_jobs/')\n",
    "# tild_job = path.inspect('tild_job')\n",
    "\n",
    "total_steps = tild_job['output/total_steps']\n",
    "temperature_mean = tild_job['output/temperature_mean/i_0']\n",
    "temperature_std = tild_job['output/temperature_std/i_0']\n",
    "integrands = tild_job['output/integrands/i_0']\n",
    "integrands_std = tild_job['output/integrands_std/i_0']\n",
    "integrands_n_samples = (tild_job['output/integrands_n_samples/i_0'])\n",
    "del_A_tild = tild_job['output/tild_free_energy_mean'][-1]  # A, because this is the Helmholtz free energy\n",
    "del_A_tild_std = tild_job['output/tild_free_energy_std'][-1]\n",
    "del_A_tild_se = tild_job['output/tild_free_energy_se'][-1]\n",
    "del_A_fep = tild_job['output/fep_free_energy_mean'][-1]  # we also get A from the free energy perturbation method\n",
    "del_A_fep_std = tild_job['output/fep_free_energy_std'][-1]\n",
    "del_A_fep_se = tild_job['output/fep_free_energy_se'][-1]"
   ]
  },
  {
   "cell_type": "code",
   "execution_count": 15,
   "metadata": {
    "ExecuteTime": {
     "end_time": "2021-04-26T10:53:47.534502Z",
     "start_time": "2021-04-26T10:53:47.532093Z"
    }
   },
   "outputs": [
    {
     "name": "stdout",
     "output_type": "stream",
     "text": [
      "mean temperature: 296.3235951187966 K\n"
     ]
    }
   ],
   "source": [
    "# Check temperature of each lambda point\n",
    "\n",
    "print('mean temperature: {} K'.format(np.mean(temperature_mean)))"
   ]
  },
  {
   "cell_type": "code",
   "execution_count": 16,
   "metadata": {
    "ExecuteTime": {
     "end_time": "2021-04-26T10:53:47.541610Z",
     "start_time": "2021-04-26T10:53:47.535692Z"
    }
   },
   "outputs": [
    {
     "name": "stdout",
     "output_type": "stream",
     "text": [
      "del_A_tild: 3.8145111255106054 meV/atom\n",
      "del_A_fep: 3.676479073002184 meV/atom\n"
     ]
    }
   ],
   "source": [
    "# Helmholtz free energy between the quasi-harmonic and fully interacting system using TILD and FEP\n",
    "\n",
    "print('del_A_tild: {} meV/atom'.format(del_A_tild * 1e3 / n_atoms))  # * 1e3 to convert it to meV\n",
    "print('del_A_fep: {} meV/atom'.format(del_A_fep * 1e3 / n_atoms))"
   ]
  },
  {
   "cell_type": "code",
   "execution_count": 17,
   "metadata": {
    "ExecuteTime": {
     "end_time": "2021-04-26T10:53:47.549125Z",
     "start_time": "2021-04-26T10:53:47.542734Z"
    }
   },
   "outputs": [
    {
     "name": "stdout",
     "output_type": "stream",
     "text": [
      "A_qh: -11.853591158735352 meV/atom\n"
     ]
    }
   ],
   "source": [
    "# qh approximated analytical free energy\n",
    "\n",
    "print('A_qh: {} meV/atom'.format(A_qh * 1e3 / n_atoms))"
   ]
  },
  {
   "cell_type": "code",
   "execution_count": 19,
   "metadata": {
    "ExecuteTime": {
     "end_time": "2021-04-26T10:54:12.945450Z",
     "start_time": "2021-04-26T10:54:12.942396Z"
    }
   },
   "outputs": [
    {
     "name": "stdout",
     "output_type": "stream",
     "text": [
      "A_tild: -3.416992470412391 eV/atom\n",
      "A_fep: -3.4171305024648997 eV/atom\n"
     ]
    }
   ],
   "source": [
    "# total free energy of the system at this temperature, including all parts\n",
    "\n",
    "A_tild = eq_energy + A_qh + del_A_tild\n",
    "A_fep = eq_energy + A_qh + del_A_fep\n",
    "print('A_tild: {} eV/atom'.format(A_tild / n_atoms))\n",
    "print('A_fep: {} eV/atom'.format(A_fep / n_atoms))"
   ]
  },
  {
   "cell_type": "code",
   "execution_count": null,
   "metadata": {},
   "outputs": [],
   "source": []
  }
 ],
 "metadata": {
  "kernelspec": {
   "display_name": "Python 3",
   "language": "python",
   "name": "python3"
  },
  "language_info": {
   "codemirror_mode": {
    "name": "ipython",
    "version": 3
   },
   "file_extension": ".py",
   "mimetype": "text/x-python",
   "name": "python",
   "nbconvert_exporter": "python",
   "pygments_lexer": "ipython3",
   "version": "3.7.9"
  }
 },
 "nbformat": 4,
 "nbformat_minor": 4
}