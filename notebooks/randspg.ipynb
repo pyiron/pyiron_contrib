{
 "cells": [
  {
   "cell_type": "code",
   "execution_count": null,
   "id": "collected-gardening",
   "metadata": {},
   "outputs": [],
   "source": [
    "from pyiron_contrib import Project"
   ]
  },
  {
   "cell_type": "code",
   "execution_count": null,
   "id": "compliant-assist",
   "metadata": {},
   "outputs": [],
   "source": [
    "pr = Project(\"demo\")"
   ]
  },
  {
   "cell_type": "code",
   "execution_count": null,
   "id": "wrong-disposition",
   "metadata": {},
   "outputs": [],
   "source": [
    "pr.remove_jobs_silently(recursive=True)"
   ]
  },
  {
   "cell_type": "code",
   "execution_count": null,
   "id": "occasional-parliament",
   "metadata": {},
   "outputs": [],
   "source": [
    "randspg = pr.create.job.RandSpg(\"test\")"
   ]
  },
  {
   "cell_type": "code",
   "execution_count": null,
   "id": "impressive-fifty",
   "metadata": {},
   "outputs": [],
   "source": [
    "randspg.input"
   ]
  },
  {
   "cell_type": "code",
   "execution_count": null,
   "id": "social-carol",
   "metadata": {},
   "outputs": [],
   "source": [
    "randspg.run()"
   ]
  },
  {
   "cell_type": "code",
   "execution_count": null,
   "id": "prospective-orlando",
   "metadata": {},
   "outputs": [],
   "source": [
    "pr.job_table()"
   ]
  },
  {
   "cell_type": "code",
   "execution_count": null,
   "id": "interested-empire",
   "metadata": {},
   "outputs": [],
   "source": []
  }
 ],
 "metadata": {
  "kernelspec": {
   "display_name": "Python 3",
   "language": "python",
   "name": "python3"
  },
  "language_info": {
   "codemirror_mode": {
    "name": "ipython",
    "version": 3
   },
   "file_extension": ".py",
   "mimetype": "text/x-python",
   "name": "python",
   "nbconvert_exporter": "python",
   "pygments_lexer": "ipython3",
   "version": "3.9.2"
  }
 },
 "nbformat": 4,
 "nbformat_minor": 5
}
