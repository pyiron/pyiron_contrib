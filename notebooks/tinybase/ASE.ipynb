{
 "cells": [
  {
   "cell_type": "markdown",
   "id": "32de9950-ae26-488d-92af-9784ab1c7598",
   "metadata": {},
   "source": [
    "# Imports"
   ]
  },
  {
   "cell_type": "code",
   "execution_count": 1,
   "id": "f9ecb713-99e6-4f34-b4c2-fe9f3d96c81e",
   "metadata": {
    "tags": []
   },
   "outputs": [],
   "source": [
    "from ase import Atoms"
   ]
  },
  {
   "cell_type": "code",
   "execution_count": 2,
   "id": "31dc7658-dcf0-41a4-9c62-ec92b02e47ea",
   "metadata": {
    "tags": []
   },
   "outputs": [],
   "source": [
    "from ase.build import bulk"
   ]
  },
  {
   "cell_type": "code",
   "execution_count": 3,
   "id": "e7cc88a5-8492-482e-8c6b-c17ff967fff5",
   "metadata": {
    "tags": []
   },
   "outputs": [],
   "source": [
    "from ase.calculators.morse import MorsePotential"
   ]
  },
  {
   "cell_type": "code",
   "execution_count": 4,
   "id": "1ff173d1-4bd5-4094-906b-3010dd38bf6b",
   "metadata": {},
   "outputs": [
    {
     "name": "stderr",
     "output_type": "stream",
     "text": [
      "/home/ponder/science/phd/dev/contrib/pyiron_contrib/__init__.py:9: UserWarning: pyiron module not found, importing Project from pyiron_base\n",
      "  warnings.warn(\"pyiron module not found, importing Project from pyiron_base\")\n"
     ]
    },
    {
     "data": {
      "application/vnd.jupyter.widget-view+json": {
       "model_id": "4585059f23074248b390928e085da7ef",
       "version_major": 2,
       "version_minor": 0
      },
      "text/plain": []
     },
     "metadata": {},
     "output_type": "display_data"
    }
   ],
   "source": [
    "from pyiron_contrib.tinybase.task import FunctionTask, SeriesTask"
   ]
  },
  {
   "cell_type": "code",
   "execution_count": 5,
   "id": "b3108213-1d94-4354-9537-84982e45683d",
   "metadata": {
    "tags": []
   },
   "outputs": [],
   "source": [
    "from pyiron_contrib.tinybase.ase import AseStaticTask, AseMDTask, AseMinimizeTask"
   ]
  },
  {
   "cell_type": "code",
   "execution_count": 6,
   "id": "7c9ae645-f2de-455c-8d69-017d1c7e0b9c",
   "metadata": {},
   "outputs": [],
   "source": [
    "import numpy as np"
   ]
  },
  {
   "cell_type": "code",
   "execution_count": 7,
   "id": "0029125a-55e6-4181-a59b-09f606a1b4dd",
   "metadata": {
    "tags": []
   },
   "outputs": [],
   "source": [
    "from pyiron_contrib.tinybase.murn import MurnaghanTask"
   ]
  },
  {
   "cell_type": "code",
   "execution_count": 8,
   "id": "dbf0218a-9c88-452d-bc1e-f93270185cfa",
   "metadata": {},
   "outputs": [],
   "source": [
    "from pyiron_contrib.tinybase.executor import FuturesSubmitter, Submitter"
   ]
  },
  {
   "cell_type": "code",
   "execution_count": 9,
   "id": "021275a0-ec78-4779-b828-2465a695b318",
   "metadata": {},
   "outputs": [],
   "source": [
    "from concurrent.futures import ThreadPoolExecutor"
   ]
  },
  {
   "cell_type": "code",
   "execution_count": 10,
   "id": "8f060055-93c4-4917-9836-0f70d165b6c7",
   "metadata": {},
   "outputs": [],
   "source": [
    "from concurrent.futures import ProcessPoolExecutor"
   ]
  },
  {
   "cell_type": "code",
   "execution_count": 11,
   "id": "5b792cf3-1db6-4945-bad9-60fd1d16801a",
   "metadata": {},
   "outputs": [],
   "source": [
    "make_process = lambda n: FuturesSubmitter(ProcessPoolExecutor(max_workers=n))"
   ]
  },
  {
   "cell_type": "code",
   "execution_count": 12,
   "id": "f1bfdf31-84ee-42bd-a230-d990f2cc6116",
   "metadata": {},
   "outputs": [],
   "source": [
    "from pympipool import PoolExecutor"
   ]
  },
  {
   "cell_type": "code",
   "execution_count": 13,
   "id": "54df86b3-1986-4395-bd06-ee89d88f5213",
   "metadata": {},
   "outputs": [],
   "source": [
    "process = make_process(4)\n",
    "thread = FuturesSubmitter(ThreadPoolExecutor(max_workers=4))"
   ]
  },
  {
   "cell_type": "code",
   "execution_count": 14,
   "id": "ea7fe786-3c55-40b0-a309-4428e06fa3d7",
   "metadata": {},
   "outputs": [],
   "source": [
    "process = FuturesSubmitter(PoolExecutor(4))"
   ]
  },
  {
   "cell_type": "code",
   "execution_count": 15,
   "id": "c6630920-6ab7-4273-883e-999020b1fe5a",
   "metadata": {
    "tags": []
   },
   "outputs": [],
   "source": [
    "import logging\n",
    "logging.getLogger().setLevel(20)"
   ]
  },
  {
   "cell_type": "markdown",
   "id": "4d6f4eab-7660-4e66-b85b-8d9969512c00",
   "metadata": {},
   "source": [
    "# Simple ASE Static Calculation"
   ]
  },
  {
   "cell_type": "code",
   "execution_count": 16,
   "id": "a6af72cb-989b-46c3-a2b5-4d2b9c5fd1eb",
   "metadata": {
    "tags": []
   },
   "outputs": [],
   "source": [
    "a = AseStaticTask()"
   ]
  },
  {
   "cell_type": "code",
   "execution_count": 17,
   "id": "5b2a9d62-3f74-4acf-acb6-e72dcd984704",
   "metadata": {
    "tags": []
   },
   "outputs": [],
   "source": [
    "a.input.structure = bulk(\"Fe\")"
   ]
  },
  {
   "cell_type": "code",
   "execution_count": 18,
   "id": "1af70322-897e-487d-ba18-239ba5bfb7ba",
   "metadata": {
    "tags": []
   },
   "outputs": [],
   "source": [
    "a.input.calculator = MorsePotential()"
   ]
  },
  {
   "cell_type": "code",
   "execution_count": 19,
   "id": "273902ef-03f3-4f68-8668-4e6c6055a302",
   "metadata": {
    "tags": []
   },
   "outputs": [
    {
     "data": {
      "text/plain": [
       "(ReturnStatus(Code.DONE, None),\n",
       " EnergyPotOutput(energy_pot=-0.00013307075712109978))"
      ]
     },
     "execution_count": 19,
     "metadata": {},
     "output_type": "execute_result"
    }
   ],
   "source": [
    "ret, output = a.execute(); ret, output"
   ]
  },
  {
   "cell_type": "markdown",
   "id": "8a102a81-df04-4527-8739-7fe542f0c1fc",
   "metadata": {},
   "source": [
    "# ASE MD"
   ]
  },
  {
   "cell_type": "code",
   "execution_count": 20,
   "id": "02cfe01b-0b24-4723-a79b-d41ffb146bf9",
   "metadata": {
    "tags": []
   },
   "outputs": [],
   "source": [
    "md = AseMDTask(capture_exceptions=False)"
   ]
  },
  {
   "cell_type": "code",
   "execution_count": 21,
   "id": "466d1f9a-b707-4c05-a8af-5414d76bd8eb",
   "metadata": {
    "tags": []
   },
   "outputs": [],
   "source": [
    "md.input.structure = bulk(\"Fe\", a=1.2, cubic=True).repeat(3)\n",
    "md.input.calculator = MorsePotential()"
   ]
  },
  {
   "cell_type": "code",
   "execution_count": 22,
   "id": "dfdfc027-1608-43ad-9d15-0c649986eb73",
   "metadata": {
    "tags": []
   },
   "outputs": [],
   "source": [
    "md.input.steps = 100\n",
    "md.input.timestep = 3.0\n",
    "md.input.temperature = 600.0\n",
    "md.input.output_steps = 20"
   ]
  },
  {
   "cell_type": "code",
   "execution_count": 23,
   "id": "57192a54-cd0f-4d2d-a675-33c3248738ad",
   "metadata": {},
   "outputs": [
    {
     "name": "stdout",
     "output_type": "stream",
     "text": [
      "CPU times: user 30.4 s, sys: 1min 34s, total: 2min 4s\n",
      "Wall time: 8.37 s\n"
     ]
    }
   ],
   "source": [
    "%%time\n",
    "status, output = md.execute()"
   ]
  },
  {
   "cell_type": "code",
   "execution_count": 24,
   "id": "412aed30-6adf-4a54-8496-bea647bb520e",
   "metadata": {
    "tags": []
   },
   "outputs": [
    {
     "data": {
      "text/plain": [
       "array([-303.20813268, -303.20813268, -299.50417176, -300.69291846,\n",
       "       -300.88356067, -299.87440092, -300.56706777, -300.41201114,\n",
       "       -300.53923815, -300.01925116, -300.52098807, -300.26017925,\n",
       "       -299.78016937, -300.92936235, -300.34657506, -300.3104632 ,\n",
       "       -300.78479057, -300.66513799, -301.17922564, -300.44390943,\n",
       "       -300.40110099, -300.76322532])"
      ]
     },
     "execution_count": 24,
     "metadata": {},
     "output_type": "execute_result"
    }
   ],
   "source": [
    "output.pot_energies"
   ]
  },
  {
   "cell_type": "code",
   "execution_count": 25,
   "id": "9e06cd6d-e0f7-40dd-93f2-777f86ffe2eb",
   "metadata": {
    "tags": []
   },
   "outputs": [
    {
     "data": {
      "image/png": "[encoded data removed]",
      "text/plain": [
       "<Figure size 640x480 with 1 Axes>"
      ]
     },
     "metadata": {},
     "output_type": "display_data"
    }
   ],
   "source": [
    "output.plot_energies()"
   ]
  },
  {
   "cell_type": "code",
   "execution_count": 26,
   "id": "bb70a653-6231-4f4e-9bbe-279811acc895",
   "metadata": {
    "tags": []
   },
   "outputs": [
    {
     "data": {
      "application/vnd.jupyter.widget-view+json": {
       "model_id": "fed07636a64848c6abeb00752bbf5123",
       "version_major": 2,
       "version_minor": 0
      },
      "text/plain": [
       "NGLWidget(max_frame=21)"
      ]
     },
     "metadata": {},
     "output_type": "display_data"
    }
   ],
   "source": [
    "output.animate_structures()"
   ]
  },
  {
   "cell_type": "markdown",
   "id": "c7844b5f-1f9b-4770-8608-144c8b84fb87",
   "metadata": {},
   "source": [
    "# ASE Minimize"
   ]
  },
  {
   "cell_type": "code",
   "execution_count": 27,
   "id": "f816e2af-0455-4e05-9c39-2e9f615d8f34",
   "metadata": {
    "tags": []
   },
   "outputs": [],
   "source": [
    "from pyiron_atomistics import ase_to_pyiron"
   ]
  },
  {
   "cell_type": "code",
   "execution_count": 28,
   "id": "22314020-8f48-487b-a765-229a77d79a2f",
   "metadata": {
    "tags": []
   },
   "outputs": [],
   "source": [
    "mi = AseMinimizeTask()"
   ]
  },
  {
   "cell_type": "code",
   "execution_count": 29,
   "id": "ff411a05-82e1-4581-b06e-ab2fd7e0be3b",
   "metadata": {
    "tags": []
   },
   "outputs": [],
   "source": [
    "dimer = Atoms(symbols=['Fe', 'Fe'], positions=[[0,0,0], [0,0, 1.2]], cell=[10,10,10])"
   ]
  },
  {
   "cell_type": "code",
   "execution_count": 30,
   "id": "5574f0d5-d800-472a-9418-8c6ccc1e555b",
   "metadata": {
    "tags": []
   },
   "outputs": [],
   "source": [
    "mi.input.structure = dimer\n",
    "mi.input.calculator = MorsePotential(rcut1=6,rcut2=10)"
   ]
  },
  {
   "cell_type": "code",
   "execution_count": 31,
   "id": "9e02d6dd-0fa6-4dd6-a7ab-3e648958eb20",
   "metadata": {
    "tags": []
   },
   "outputs": [
    {
     "data": {
      "application/vnd.jupyter.widget-view+json": {
       "model_id": "e55ea3654a284592b217e1abb8293151",
       "version_major": 2,
       "version_minor": 0
      },
      "text/plain": [
       "NGLWidget()"
      ]
     },
     "metadata": {},
     "output_type": "display_data"
    }
   ],
   "source": [
    "ase_to_pyiron(mi.input.structure).plot3d()"
   ]
  },
  {
   "cell_type": "code",
   "execution_count": 32,
   "id": "663e4435-1cd0-4ce2-9593-85453f4c846a",
   "metadata": {
    "tags": []
   },
   "outputs": [],
   "source": [
    "mi.input.max_steps = 100\n",
    "mi.input.output_steps = 1\n",
    "mi.input.ionic_force_tolerance = 1e-6"
   ]
  },
  {
   "cell_type": "code",
   "execution_count": 33,
   "id": "37440e5a-75ff-4601-813a-f5c8df9413ad",
   "metadata": {
    "tags": []
   },
   "outputs": [],
   "source": [
    "mi.input.lbfgs()"
   ]
  },
  {
   "cell_type": "code",
   "execution_count": 34,
   "id": "91e4fcdb-5a4b-4499-9ed7-742dae88b2ad",
   "metadata": {},
   "outputs": [
    {
     "name": "stdout",
     "output_type": "stream",
     "text": [
      "       Step     Time          Energy         fmax\n",
      "LBFGS:    0 00:07:16       -0.511670        2.5257\n",
      "LBFGS:    1 00:07:16       -0.713127        2.9848\n",
      "LBFGS:    2 00:07:16       -0.082483        0.4842\n",
      "LBFGS:    3 00:07:16       -0.052236        0.3092\n",
      "LBFGS:    4 00:07:16       -0.023154        0.1381\n",
      "LBFGS:    5 00:07:16       -0.011968        0.0716\n",
      "LBFGS:    6 00:07:16       -0.005874        0.0352\n",
      "LBFGS:    7 00:07:16       -0.002950        0.0177\n",
      "LBFGS:    8 00:07:16       -0.001470        0.0088\n",
      "LBFGS:    9 00:07:16       -0.000735        0.0044\n",
      "LBFGS:   10 00:07:16       -0.000368        0.0022\n",
      "LBFGS:   11 00:07:16       -0.000184        0.0011\n",
      "LBFGS:   12 00:07:16       -0.000092        0.0006\n",
      "LBFGS:   13 00:07:16       -0.000046        0.0003\n",
      "LBFGS:   14 00:07:16       -0.000023        0.0001\n",
      "LBFGS:   15 00:07:16       -0.000011        0.0001\n",
      "LBFGS:   16 00:07:16       -0.000006        0.0000\n",
      "LBFGS:   17 00:07:16       -0.000003        0.0000\n",
      "LBFGS:   18 00:07:16       -0.000001        0.0000\n",
      "LBFGS:   19 00:07:16       -0.000001        0.0000\n",
      "LBFGS:   20 00:07:16       -0.000000        0.0000\n",
      "LBFGS:   21 00:07:16       -0.000000        0.0000\n",
      "LBFGS:   22 00:07:16       -0.000000        0.0000\n"
     ]
    }
   ],
   "source": [
    "_, output = mi.execute()"
   ]
  },
  {
   "cell_type": "code",
   "execution_count": 35,
   "id": "e74b7e76-2078-42fd-96a2-89ae04d551a7",
   "metadata": {},
   "outputs": [
    {
     "data": {
      "text/plain": [
       "StaticOutput(energy_kin=0.0, energy_pot=-8.972451867356014e-08)"
      ]
     },
     "execution_count": 35,
     "metadata": {},
     "output_type": "execute_result"
    }
   ],
   "source": [
    "output.static_output()"
   ]
  },
  {
   "cell_type": "code",
   "execution_count": 36,
   "id": "d36a445c-eee6-4189-a376-4a6ba7446740",
   "metadata": {},
   "outputs": [
    {
     "data": {
      "image/png": "[encoded data removed]",
      "text/plain": [
       "<Figure size 640x480 with 1 Axes>"
      ]
     },
     "metadata": {},
     "output_type": "display_data"
    }
   ],
   "source": [
    "output.plot_energies()"
   ]
  },
  {
   "cell_type": "code",
   "execution_count": 37,
   "id": "dd164778-634c-4785-903a-08a5243999ce",
   "metadata": {
    "tags": []
   },
   "outputs": [
    {
     "data": {
      "text/plain": [
       "5.383470999656264e-07"
      ]
     },
     "execution_count": 37,
     "metadata": {},
     "output_type": "execute_result"
    }
   ],
   "source": [
    "abs(output.forces[-1]).max()"
   ]
  },
  {
   "cell_type": "code",
   "execution_count": 38,
   "id": "d2cc3b3a-5daa-49bb-9d6d-2994ebc74273",
   "metadata": {
    "tags": []
   },
   "outputs": [
    {
     "data": {
      "application/vnd.jupyter.widget-view+json": {
       "model_id": "9c99afded50e4b3ea8654240ad965b50",
       "version_major": 2,
       "version_minor": 0
      },
      "text/plain": [
       "NGLWidget(max_frame=23)"
      ]
     },
     "metadata": {},
     "output_type": "display_data"
    }
   ],
   "source": [
    "output.animate_structures()"
   ]
  },
  {
   "cell_type": "markdown",
   "id": "32c15731-fd88-40d1-9045-beb9c53de501",
   "metadata": {
    "tags": []
   },
   "source": [
    "# Murnaghan"
   ]
  },
  {
   "cell_type": "markdown",
   "id": "aa535698-ddaa-4d60-862c-d6d6d5ecb6c8",
   "metadata": {},
   "source": [
    "## Basic"
   ]
  },
  {
   "cell_type": "code",
   "execution_count": 39,
   "id": "4acdeafc-90b5-4b3f-9559-c74b9fa221ab",
   "metadata": {
    "tags": []
   },
   "outputs": [],
   "source": [
    "m = MurnaghanTask(capture_exceptions=False)"
   ]
  },
  {
   "cell_type": "code",
   "execution_count": 40,
   "id": "f8cf3136-9b7c-4f1e-b630-962795527946",
   "metadata": {
    "tags": []
   },
   "outputs": [],
   "source": [
    "m.input.task = AseStaticTask(capture_exceptions=False)\n",
    "m.input.task.input.calculator = MorsePotential()\n",
    "m.input.structure = bulk(\"Fe\", a=1.2)"
   ]
  },
  {
   "cell_type": "code",
   "execution_count": 41,
   "id": "fef21aa4-d9f1-4d4a-8761-af1bc3121e5b",
   "metadata": {
    "tags": []
   },
   "outputs": [
    {
     "data": {
      "text/plain": [
       "AseStaticInput(structure=Sentinel(USERINPUT), calculator=<ase.calculators.morse.MorsePotential object at 0x7f44b02dd050>)"
      ]
     },
     "execution_count": 41,
     "metadata": {},
     "output_type": "execute_result"
    }
   ],
   "source": [
    "m.input.task.input"
   ]
  },
  {
   "cell_type": "code",
   "execution_count": 42,
   "id": "41a68b17-c7c4-4a5f-8f04-11bee18fe55a",
   "metadata": {
    "tags": []
   },
   "outputs": [],
   "source": [
    "m.input.set_strain_range(.5, 15)"
   ]
  },
  {
   "cell_type": "code",
   "execution_count": 43,
   "id": "fd107556-99b6-4042-9209-9412b4bbff94",
   "metadata": {
    "tags": []
   },
   "outputs": [
    {
     "data": {
      "text/plain": [
       "array([0.79370053, 0.82982653, 0.86305437, 0.89390354, 0.92275884,\n",
       "       0.94991425, 0.97559996, 1.        , 1.02326411, 1.04551592,\n",
       "       1.06685884, 1.08738037, 1.10715524, 1.12624788, 1.14471424])"
      ]
     },
     "execution_count": 43,
     "metadata": {},
     "output_type": "execute_result"
    }
   ],
   "source": [
    "m.input.strains"
   ]
  },
  {
   "cell_type": "code",
   "execution_count": 44,
   "id": "9820e859-f1c2-4b25-b121-feea7843a9c5",
   "metadata": {
    "tags": []
   },
   "outputs": [],
   "source": [
    "_, output = m.execute()"
   ]
  },
  {
   "cell_type": "code",
   "execution_count": 45,
   "id": "aa6720b1-f59c-48c9-85da-ae0cff8f856a",
   "metadata": {},
   "outputs": [
    {
     "data": {
      "text/plain": [
       "MurnaghanOutput(base_structure=Atoms(symbols='Fe', pbc=True, cell=[[-0.6, 0.6, 0.6], [0.6, -0.6, 0.6], [0.6, 0.6, -0.6]]), volumes=array([0.432     , 0.49371429, 0.55542857, 0.61714286, 0.67885714,\n",
       "       0.74057143, 0.80228571, 0.864     , 0.92571429, 0.98742857,\n",
       "       1.04914286, 1.11085714, 1.17257143, 1.23428571, 1.296     ]), energies=array([ 4.78924238, -2.02281605, -5.08315968, -6.30258662, -6.60273036,\n",
       "       -6.44718724, -6.07592945, -5.61496542, -5.13100331, -4.65872214,\n",
       "       -4.21510997, -3.8073844 , -3.43743364, -3.10432631, -2.80567942]))"
      ]
     },
     "execution_count": 45,
     "metadata": {},
     "output_type": "execute_result"
    }
   ],
   "source": [
    "output"
   ]
  },
  {
   "cell_type": "code",
   "execution_count": 46,
   "id": "98c712a2-ee74-4c28-bce0-cb4824a930e6",
   "metadata": {
    "tags": []
   },
   "outputs": [
    {
     "data": {
      "image/png": "[encoded data removed]",
      "text/plain": [
       "<Figure size 640x480 with 1 Axes>"
      ]
     },
     "metadata": {},
     "output_type": "display_data"
    }
   ],
   "source": [
    "output.plot()"
   ]
  },
  {
   "cell_type": "code",
   "execution_count": 47,
   "id": "14162f5b-1318-4595-8c8c-d6346a21721d",
   "metadata": {},
   "outputs": [
    {
     "data": {
      "text/plain": [
       "0.6788605670604869"
      ]
     },
     "execution_count": 47,
     "metadata": {},
     "output_type": "execute_result"
    }
   ],
   "source": [
    "output.equilibrium_volume"
   ]
  },
  {
   "cell_type": "code",
   "execution_count": 48,
   "id": "0f5ff296-df33-40d2-851b-02d6ded72dd6",
   "metadata": {},
   "outputs": [
    {
     "data": {
      "text/plain": [
       "0.6788605670604871"
      ]
     },
     "execution_count": 48,
     "metadata": {},
     "output_type": "execute_result"
    }
   ],
   "source": [
    "output.get_structure().get_volume()"
   ]
  },
  {
   "cell_type": "code",
   "execution_count": 49,
   "id": "92b06330-b1fc-41d0-8bd8-bf1b11bf448c",
   "metadata": {},
   "outputs": [
    {
     "data": {
      "text/plain": [
       "Atoms(symbols='Fe', pbc=True, cell=[[-0.553656237540387, 0.553656237540387, 0.553656237540387], [0.553656237540387, -0.553656237540387, 0.553656237540387], [0.553656237540387, 0.553656237540387, -0.553656237540387]])"
      ]
     },
     "execution_count": 49,
     "metadata": {},
     "output_type": "execute_result"
    }
   ],
   "source": [
    "output.get_structure()"
   ]
  },
  {
   "cell_type": "markdown",
   "id": "26bade63-559f-4c93-be24-5561f5c8190f",
   "metadata": {},
   "source": [
    "## With an Executor"
   ]
  },
  {
   "cell_type": "code",
   "execution_count": 50,
   "id": "89169376-be36-4ceb-9f4e-6e1f3247bc62",
   "metadata": {},
   "outputs": [],
   "source": [
    "m = MurnaghanTask()"
   ]
  },
  {
   "cell_type": "code",
   "execution_count": 51,
   "id": "2ee9f1d4-5b14-4340-98d4-4bd293af89a4",
   "metadata": {},
   "outputs": [],
   "source": [
    "m.input.task = AseStaticTask()\n",
    "m.input.task.input.calculator = MorsePotential()\n",
    "m.input.structure = bulk(\"Fe\", a=1.2)"
   ]
  },
  {
   "cell_type": "code",
   "execution_count": 52,
   "id": "3d73a9de-7b4e-476a-b50a-ac6a3957a7ab",
   "metadata": {},
   "outputs": [
    {
     "data": {
      "text/plain": [
       "AseStaticInput(structure=Sentinel(USERINPUT), calculator=<ase.calculators.morse.MorsePotential object at 0x7f44b032b910>)"
      ]
     },
     "execution_count": 52,
     "metadata": {},
     "output_type": "execute_result"
    }
   ],
   "source": [
    "m.input.task.input"
   ]
  },
  {
   "cell_type": "code",
   "execution_count": 53,
   "id": "0f075d90-e636-49be-b1a6-741a56363f54",
   "metadata": {},
   "outputs": [],
   "source": [
    "m.input.set_strain_range(.6, 250)"
   ]
  },
  {
   "cell_type": "code",
   "execution_count": 54,
   "id": "79c89012-5b28-4124-9681-2507e0690b49",
   "metadata": {
    "scrolled": true,
    "tags": []
   },
   "outputs": [
    {
     "name": "stdout",
     "output_type": "stream",
     "text": [
      "CPU times: user 335 ms, sys: 257 ms, total: 591 ms\n",
      "Wall time: 30.6 s\n"
     ]
    }
   ],
   "source": [
    "%%time\n",
    "exe = process.submit([m])\n",
    "exe.run()\n",
    "exe.wait()"
   ]
  },
  {
   "cell_type": "code",
   "execution_count": 55,
   "id": "d8244dd3-f388-43c2-94de-0862ae3b0c7a",
   "metadata": {},
   "outputs": [
    {
     "data": {
      "image/png": "[encoded data removed]",
      "text/plain": [
       "<Figure size 640x480 with 1 Axes>"
      ]
     },
     "metadata": {},
     "output_type": "display_data"
    }
   ],
   "source": [
    "exe.output[0].plot()"
   ]
  },
  {
   "cell_type": "markdown",
   "id": "e21f6582-e7ec-43be-80ec-e9ad53aabc43",
   "metadata": {},
   "source": [
    "# Combine Minimize and Murnaghan"
   ]
  },
  {
   "cell_type": "code",
   "execution_count": 56,
   "id": "149c52b5-a0ce-4e6b-ba55-d94d33aa2f8a",
   "metadata": {
    "tags": []
   },
   "outputs": [],
   "source": [
    "m = MurnaghanTask(capture_exceptions=False)"
   ]
  },
  {
   "cell_type": "code",
   "execution_count": 57,
   "id": "5a965b5b-40e6-4689-aab0-06b3e658cf65",
   "metadata": {},
   "outputs": [],
   "source": [
    "mint = AseMinimizeTask(capture_exceptions=False)\n",
    "mint.input.calculator = MorsePotential()\n",
    "mint.input.max_steps = 100\n",
    "mint.input.output_steps = 10\n",
    "mint.input.ionic_force_tolerance = 1e-6\n",
    "mint.input.lbfgs()"
   ]
  },
  {
   "cell_type": "code",
   "execution_count": 58,
   "id": "2f3d4e7c-fda3-4acc-89b6-74fa561681da",
   "metadata": {},
   "outputs": [],
   "source": [
    "ser = mint.then(lambda output: output.static_output())"
   ]
  },
  {
   "cell_type": "code",
   "execution_count": 59,
   "id": "918c79ee-401c-43a3-9dfc-8c7d51ffac85",
   "metadata": {},
   "outputs": [],
   "source": [
    "# ser.execute()"
   ]
  },
  {
   "cell_type": "code",
   "execution_count": 60,
   "id": "aca24005-ea49-4389-bc26-f292fd0a75a2",
   "metadata": {
    "tags": []
   },
   "outputs": [],
   "source": [
    "m.input.task = ser\n",
    "m.input.structure = bulk(\"Fe\", a=1.2)"
   ]
  },
  {
   "cell_type": "code",
   "execution_count": 61,
   "id": "2c835700-7ece-4818-9b03-c60bf8fb0b04",
   "metadata": {
    "tags": []
   },
   "outputs": [],
   "source": [
    "m.input.set_strain_range(.5, 50)"
   ]
  },
  {
   "cell_type": "code",
   "execution_count": 62,
   "id": "0925864e-4dd1-4f4e-ace4-aac09c55e787",
   "metadata": {
    "scrolled": true,
    "tags": []
   },
   "outputs": [
    {
     "name": "stdout",
     "output_type": "stream",
     "text": [
      "CPU times: user 1.64 s, sys: 618 ms, total: 2.25 s\n",
      "Wall time: 1min 43s\n"
     ]
    }
   ],
   "source": [
    "%%time\n",
    "exe = process.submit([m])\n",
    "exe.run()\n",
    "exe.wait()\n",
    "output = exe.output[0]\n",
    "ret = exe.status[0]"
   ]
  },
  {
   "cell_type": "code",
   "execution_count": 63,
   "id": "4bf2df15-31dc-474c-b3df-f7c32b0fdaf2",
   "metadata": {
    "tags": []
   },
   "outputs": [
    {
     "data": {
      "text/plain": [
       "array([4.78924238, 4.51769267, 4.25194477, 3.99187529, 3.7373637 ,\n",
       "       3.48829227, 3.244546  , 3.00601254, 2.77258214, 2.54414756])"
      ]
     },
     "execution_count": 63,
     "metadata": {},
     "output_type": "execute_result"
    }
   ],
   "source": [
    "output.energies[:10]"
   ]
  },
  {
   "cell_type": "code",
   "execution_count": 64,
   "id": "eb0a2daf-9dab-4174-bfee-0cd1ef8c474e",
   "metadata": {},
   "outputs": [
    {
     "data": {
      "image/png": "[encoded data removed]",
      "text/plain": [
       "<Figure size 640x480 with 1 Axes>"
      ]
     },
     "metadata": {},
     "output_type": "display_data"
    }
   ],
   "source": [
    "output.plot()"
   ]
  },
  {
   "cell_type": "markdown",
   "id": "04d5b556-70e8-4023-8033-963ca066cb18",
   "metadata": {},
   "source": [
    "# Combine MD and Murnaghan"
   ]
  },
  {
   "cell_type": "code",
   "execution_count": 65,
   "id": "7196bbf5-dcab-41d2-87e4-b3bc292a24e7",
   "metadata": {
    "tags": []
   },
   "outputs": [],
   "source": [
    "m = MurnaghanTask(capture_exceptions=False)"
   ]
  },
  {
   "cell_type": "code",
   "execution_count": 99,
   "id": "e5141a6b-a0e7-4534-a59f-46cac32e7e60",
   "metadata": {},
   "outputs": [],
   "source": [
    "md = AseMDTask(capture_exceptions=False)\n",
    "md.input.calculator = MorsePotential()\n",
    "md.input.steps = 500\n",
    "md.input.output_steps = 100\n",
    "md.input.temperature = 300\n",
    "md.input.timestep = 3"
   ]
  },
  {
   "cell_type": "code",
   "execution_count": 102,
   "id": "d21ee69e-056b-400d-932f-8f89917405dd",
   "metadata": {},
   "outputs": [],
   "source": [
    "m.input.task = md.then(lambda output: output.static_output(how=output.Mean(0.5, 1.0)))"
   ]
  },
  {
   "cell_type": "code",
   "execution_count": 103,
   "id": "132a228b-2703-4e23-a2a4-987ba5411872",
   "metadata": {
    "tags": []
   },
   "outputs": [],
   "source": [
    "m.input.structure = bulk(\"Fe\", cubic=True, a=1.2)"
   ]
  },
  {
   "cell_type": "code",
   "execution_count": 108,
   "id": "af1e3dba-a377-4403-8b61-4a5404ea1715",
   "metadata": {
    "tags": []
   },
   "outputs": [],
   "source": [
    "m.input.set_strain_range(.5, 50)"
   ]
  },
  {
   "cell_type": "code",
   "execution_count": 109,
   "id": "05710eb5-3140-4cc7-a2d6-0e99f57b9cc3",
   "metadata": {
    "scrolled": true,
    "tags": []
   },
   "outputs": [
    {
     "ename": "KeyboardInterrupt",
     "evalue": "",
     "output_type": "error",
     "traceback": [
      "\u001b[0;31m---------------------------------------------------------------------------\u001b[0m",
      "\u001b[0;31mKeyboardInterrupt\u001b[0m                         Traceback (most recent call last)",
      "File \u001b[0;32m<timed exec>:3\u001b[0m\n",
      "File \u001b[0;32m~/science/phd/dev/contrib/pyiron_contrib/tinybase/executor.py:141\u001b[0m, in \u001b[0;36mExecutionContext.wait\u001b[0;34m(self, until, timeout, sleep)\u001b[0m\n\u001b[1;32m    139\u001b[0m start \u001b[38;5;241m=\u001b[39m time\u001b[38;5;241m.\u001b[39mmonotonic()\n\u001b[1;32m    140\u001b[0m \u001b[38;5;28;01mwhile\u001b[39;00m until \u001b[38;5;241m!=\u001b[39m \u001b[38;5;28mself\u001b[39m\u001b[38;5;241m.\u001b[39m_run_machine\u001b[38;5;241m.\u001b[39mstate \u001b[38;5;129;01mand\u001b[39;00m time\u001b[38;5;241m.\u001b[39mmonotonic() \u001b[38;5;241m-\u001b[39m start \u001b[38;5;241m<\u001b[39m timeout:\n\u001b[0;32m--> 141\u001b[0m     \u001b[43mtime\u001b[49m\u001b[38;5;241;43m.\u001b[39;49m\u001b[43msleep\u001b[49m\u001b[43m(\u001b[49m\u001b[43msleep\u001b[49m\u001b[43m)\u001b[49m\n",
      "\u001b[0;31mKeyboardInterrupt\u001b[0m: "
     ]
    }
   ],
   "source": [
    "%%time\n",
    "exe = process.submit([m])\n",
    "exe.run()\n",
    "exe.wait()\n",
    "output = exe.output[0]\n",
    "ret = exe.status[0]"
   ]
  },
  {
   "cell_type": "code",
   "execution_count": null,
   "id": "a7602323-bb99-4245-8ce7-a52e670daafd",
   "metadata": {
    "tags": []
   },
   "outputs": [],
   "source": [
    "output.energies[:10]"
   ]
  },
  {
   "cell_type": "code",
   "execution_count": null,
   "id": "a3940d36-f4c1-460e-9544-079e6a4f71c9",
   "metadata": {},
   "outputs": [],
   "source": [
    "output.plot()"
   ]
  }
 ],
 "metadata": {
  "kernelspec": {
   "display_name": "Python 3 (ipykernel)",
   "language": "python",
   "name": "python3"
  },
  "language_info": {
   "codemirror_mode": {
    "name": "ipython",
    "version": 3
   },
   "file_extension": ".py",
   "mimetype": "text/x-python",
   "name": "python",
   "nbconvert_exporter": "python",
   "pygments_lexer": "ipython3",
   "version": "3.11.0"
  },
  "widgets": {
   "application/vnd.jupyter.widget-state+json": {
    "state": {},
    "version_major": 2,
    "version_minor": 0
   }
  }
 },
 "nbformat": 4,
 "nbformat_minor": 5
}
