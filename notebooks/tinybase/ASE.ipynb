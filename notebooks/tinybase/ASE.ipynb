{
 "cells": [
  {
   "cell_type": "markdown",
   "id": "32de9950-ae26-488d-92af-9784ab1c7598",
   "metadata": {},
   "source": [
    "# Imports"
   ]
  },
  {
   "cell_type": "code",
   "execution_count": 1,
   "id": "f9ecb713-99e6-4f34-b4c2-fe9f3d96c81e",
   "metadata": {
    "tags": []
   },
   "outputs": [],
   "source": [
    "from ase import Atoms"
   ]
  },
  {
   "cell_type": "code",
   "execution_count": 2,
   "id": "31dc7658-dcf0-41a4-9c62-ec92b02e47ea",
   "metadata": {
    "tags": []
   },
   "outputs": [],
   "source": [
    "from ase.build import bulk"
   ]
  },
  {
   "cell_type": "code",
   "execution_count": 3,
   "id": "e7cc88a5-8492-482e-8c6b-c17ff967fff5",
   "metadata": {
    "tags": []
   },
   "outputs": [],
   "source": [
    "from ase.calculators.morse import MorsePotential"
   ]
  },
  {
   "cell_type": "code",
   "execution_count": 4,
   "id": "1ff173d1-4bd5-4094-906b-3010dd38bf6b",
   "metadata": {},
   "outputs": [
    {
     "name": "stderr",
     "output_type": "stream",
     "text": [
      "/home/poul/pyiron/contrib/pyiron_contrib/__init__.py:9: UserWarning: pyiron module not found, importing Project from pyiron_base\n",
      "  warnings.warn(\"pyiron module not found, importing Project from pyiron_base\")\n"
     ]
    },
    {
     "data": {
      "application/vnd.jupyter.widget-view+json": {
       "model_id": "f90c051f147d49c3a76fc04641c031ff",
       "version_major": 2,
       "version_minor": 0
      },
      "text/plain": []
     },
     "metadata": {},
     "output_type": "display_data"
    }
   ],
   "source": [
    "from pyiron_contrib.tinybase.task import FunctionTask, SeriesTask"
   ]
  },
  {
   "cell_type": "code",
   "execution_count": 5,
   "id": "b3108213-1d94-4354-9537-84982e45683d",
   "metadata": {
    "tags": []
   },
   "outputs": [],
   "source": [
    "from pyiron_contrib.tinybase.ase import AseStaticTask, AseMDTask, AseMinimizeTask"
   ]
  },
  {
   "cell_type": "code",
   "execution_count": 6,
   "id": "7c9ae645-f2de-455c-8d69-017d1c7e0b9c",
   "metadata": {},
   "outputs": [],
   "source": [
    "import numpy as np"
   ]
  },
  {
   "cell_type": "code",
   "execution_count": 7,
   "id": "0029125a-55e6-4181-a59b-09f606a1b4dd",
   "metadata": {
    "tags": []
   },
   "outputs": [],
   "source": [
    "from pyiron_contrib.tinybase.murn import MurnaghanTask"
   ]
  },
  {
   "cell_type": "code",
   "execution_count": 8,
   "id": "dbf0218a-9c88-452d-bc1e-f93270185cfa",
   "metadata": {},
   "outputs": [],
   "source": [
    "from pyiron_contrib.tinybase.executor import FuturesSubmitter, Submitter"
   ]
  },
  {
   "cell_type": "code",
   "execution_count": 9,
   "id": "021275a0-ec78-4779-b828-2465a695b318",
   "metadata": {},
   "outputs": [],
   "source": [
    "from concurrent.futures import ThreadPoolExecutor"
   ]
  },
  {
   "cell_type": "code",
   "execution_count": 10,
   "id": "8f060055-93c4-4917-9836-0f70d165b6c7",
   "metadata": {},
   "outputs": [],
   "source": [
    "from concurrent.futures import ProcessPoolExecutor"
   ]
  },
  {
   "cell_type": "code",
   "execution_count": 11,
   "id": "5b792cf3-1db6-4945-bad9-60fd1d16801a",
   "metadata": {},
   "outputs": [],
   "source": [
    "make_process = lambda n: FuturesSubmitter(ProcessPoolExecutor(max_workers=n))"
   ]
  },
  {
   "cell_type": "code",
   "execution_count": 12,
   "id": "54df86b3-1986-4395-bd06-ee89d88f5213",
   "metadata": {},
   "outputs": [],
   "source": [
    "process = make_process(4)\n",
    "thread = FuturesSubmitter(ThreadPoolExecutor(max_workers=4))"
   ]
  },
  {
   "cell_type": "code",
   "execution_count": 13,
   "id": "c6630920-6ab7-4273-883e-999020b1fe5a",
   "metadata": {
    "tags": []
   },
   "outputs": [],
   "source": [
    "import logging\n",
    "logging.getLogger().setLevel(20)"
   ]
  },
  {
   "cell_type": "markdown",
   "id": "4d6f4eab-7660-4e66-b85b-8d9969512c00",
   "metadata": {},
   "source": [
    "# Simple ASE Static Calculation"
   ]
  },
  {
   "cell_type": "code",
   "execution_count": 14,
   "id": "a6af72cb-989b-46c3-a2b5-4d2b9c5fd1eb",
   "metadata": {
    "tags": []
   },
   "outputs": [],
   "source": [
    "a = AseStaticTask()"
   ]
  },
  {
   "cell_type": "code",
   "execution_count": 15,
   "id": "5b2a9d62-3f74-4acf-acb6-e72dcd984704",
   "metadata": {
    "tags": []
   },
   "outputs": [],
   "source": [
    "a.input.structure = bulk(\"Fe\")"
   ]
  },
  {
   "cell_type": "code",
   "execution_count": 16,
   "id": "1af70322-897e-487d-ba18-239ba5bfb7ba",
   "metadata": {
    "tags": []
   },
   "outputs": [],
   "source": [
    "a.input.calculator = MorsePotential()"
   ]
  },
  {
   "cell_type": "code",
   "execution_count": 17,
   "id": "273902ef-03f3-4f68-8668-4e6c6055a302",
   "metadata": {
    "tags": []
   },
   "outputs": [
    {
     "data": {
      "text/plain": [
       "(ReturnStatus(Code.DONE, None),\n",
       " EnergyPotOutput(energy_pot=-0.00013307075712109978))"
      ]
     },
     "execution_count": 17,
     "metadata": {},
     "output_type": "execute_result"
    }
   ],
   "source": [
    "ret, output = a.execute(); ret, output"
   ]
  },
  {
   "cell_type": "markdown",
   "id": "8a102a81-df04-4527-8739-7fe542f0c1fc",
   "metadata": {},
   "source": [
    "# ASE MD"
   ]
  },
  {
   "cell_type": "code",
   "execution_count": 18,
   "id": "02cfe01b-0b24-4723-a79b-d41ffb146bf9",
   "metadata": {
    "tags": []
   },
   "outputs": [],
   "source": [
    "md = AseMDTask(capture_exceptions=False)"
   ]
  },
  {
   "cell_type": "code",
   "execution_count": 19,
   "id": "466d1f9a-b707-4c05-a8af-5414d76bd8eb",
   "metadata": {
    "tags": []
   },
   "outputs": [],
   "source": [
    "md.input.structure = bulk(\"Fe\", a=1.2, cubic=True).repeat(3)\n",
    "md.input.calculator = MorsePotential()"
   ]
  },
  {
   "cell_type": "code",
   "execution_count": 20,
   "id": "dfdfc027-1608-43ad-9d15-0c649986eb73",
   "metadata": {
    "tags": []
   },
   "outputs": [],
   "source": [
    "md.input.steps = 100\n",
    "md.input.timestep = 3.0\n",
    "md.input.temperature = 600.0\n",
    "md.input.output_steps = 20"
   ]
  },
  {
   "cell_type": "code",
   "execution_count": 21,
   "id": "57192a54-cd0f-4d2d-a675-33c3248738ad",
   "metadata": {},
   "outputs": [
    {
     "name": "stdout",
     "output_type": "stream",
     "text": [
      "CPU times: user 49.1 s, sys: 1min 36s, total: 2min 25s\n",
      "Wall time: 16.3 s\n"
     ]
    }
   ],
   "source": [
    "%%time\n",
    "status, output = md.execute()"
   ]
  },
  {
   "cell_type": "code",
   "execution_count": 22,
   "id": "412aed30-6adf-4a54-8496-bea647bb520e",
   "metadata": {
    "tags": []
   },
   "outputs": [
    {
     "data": {
      "text/plain": [
       "array([-303.20813268, -303.20813268, -298.86792333, -300.15096402,\n",
       "       -300.7462843 , -300.16608615, -300.56006011, -300.59147484,\n",
       "       -299.96928271, -300.51674144, -299.51395339, -301.08170514,\n",
       "       -299.82074548, -299.6503962 , -300.20371318, -299.40176248,\n",
       "       -300.27585337, -299.45772029, -300.95343737, -299.51643985,\n",
       "       -300.44682088, -300.55408998])"
      ]
     },
     "execution_count": 22,
     "metadata": {},
     "output_type": "execute_result"
    }
   ],
   "source": [
    "output.pot_energies"
   ]
  },
  {
   "cell_type": "code",
   "execution_count": 23,
   "id": "9e06cd6d-e0f7-40dd-93f2-777f86ffe2eb",
   "metadata": {
    "tags": []
   },
   "outputs": [
    {
     "data": {
      "image/png": "[encoded data removed]",
      "text/plain": [
       "<Figure size 640x480 with 1 Axes>"
      ]
     },
     "metadata": {},
     "output_type": "display_data"
    }
   ],
   "source": [
    "output.plot_energies()"
   ]
  },
  {
   "cell_type": "code",
   "execution_count": 24,
   "id": "bb70a653-6231-4f4e-9bbe-279811acc895",
   "metadata": {
    "tags": []
   },
   "outputs": [
    {
     "data": {
      "application/vnd.jupyter.widget-view+json": {
       "model_id": "33fe01503fee40398dc8655596481702",
       "version_major": 2,
       "version_minor": 0
      },
      "text/plain": [
       "NGLWidget(max_frame=21)"
      ]
     },
     "metadata": {},
     "output_type": "display_data"
    }
   ],
   "source": [
    "output.animate_structures()"
   ]
  },
  {
   "cell_type": "markdown",
   "id": "c7844b5f-1f9b-4770-8608-144c8b84fb87",
   "metadata": {},
   "source": [
    "# ASE Minimize"
   ]
  },
  {
   "cell_type": "code",
   "execution_count": 25,
   "id": "f816e2af-0455-4e05-9c39-2e9f615d8f34",
   "metadata": {
    "tags": []
   },
   "outputs": [],
   "source": [
    "from pyiron_atomistics import ase_to_pyiron"
   ]
  },
  {
   "cell_type": "code",
   "execution_count": 26,
   "id": "22314020-8f48-487b-a765-229a77d79a2f",
   "metadata": {
    "tags": []
   },
   "outputs": [],
   "source": [
    "mi = AseMinimizeTask()"
   ]
  },
  {
   "cell_type": "code",
   "execution_count": 27,
   "id": "ff411a05-82e1-4581-b06e-ab2fd7e0be3b",
   "metadata": {
    "tags": []
   },
   "outputs": [],
   "source": [
    "dimer = Atoms(symbols=['Fe', 'Fe'], positions=[[0,0,0], [0,0, 1.2]], cell=[10,10,10])"
   ]
  },
  {
   "cell_type": "code",
   "execution_count": 28,
   "id": "5574f0d5-d800-472a-9418-8c6ccc1e555b",
   "metadata": {
    "tags": []
   },
   "outputs": [],
   "source": [
    "mi.input.structure = dimer\n",
    "mi.input.calculator = MorsePotential(rcut1=6,rcut2=10)"
   ]
  },
  {
   "cell_type": "code",
   "execution_count": 29,
   "id": "9e02d6dd-0fa6-4dd6-a7ab-3e648958eb20",
   "metadata": {
    "tags": []
   },
   "outputs": [
    {
     "data": {
      "application/vnd.jupyter.widget-view+json": {
       "model_id": "b5353e0d70e84bf8a727bf697bbeff22",
       "version_major": 2,
       "version_minor": 0
      },
      "text/plain": [
       "NGLWidget()"
      ]
     },
     "metadata": {},
     "output_type": "display_data"
    }
   ],
   "source": [
    "ase_to_pyiron(mi.input.structure).plot3d()"
   ]
  },
  {
   "cell_type": "code",
   "execution_count": 30,
   "id": "663e4435-1cd0-4ce2-9593-85453f4c846a",
   "metadata": {
    "tags": []
   },
   "outputs": [],
   "source": [
    "mi.input.max_steps = 100\n",
    "mi.input.output_steps = 1\n",
    "mi.input.ionic_force_tolerance = 1e-6"
   ]
  },
  {
   "cell_type": "code",
   "execution_count": 31,
   "id": "37440e5a-75ff-4601-813a-f5c8df9413ad",
   "metadata": {
    "tags": []
   },
   "outputs": [],
   "source": [
    "mi.input.lbfgs()"
   ]
  },
  {
   "cell_type": "code",
   "execution_count": 32,
   "id": "91e4fcdb-5a4b-4499-9ed7-742dae88b2ad",
   "metadata": {},
   "outputs": [
    {
     "name": "stdout",
     "output_type": "stream",
     "text": [
      "       Step     Time          Energy         fmax\n",
      "LBFGS:    0 18:22:26       -0.511670        2.5257\n",
      "LBFGS:    1 18:22:26       -0.713127        2.9848\n",
      "LBFGS:    2 18:22:26       -0.082483        0.4842\n",
      "LBFGS:    3 18:22:26       -0.052236        0.3092\n",
      "LBFGS:    4 18:22:26       -0.023154        0.1381\n",
      "LBFGS:    5 18:22:26       -0.011968        0.0716\n",
      "LBFGS:    6 18:22:26       -0.005874        0.0352\n",
      "LBFGS:    7 18:22:26       -0.002950        0.0177\n",
      "LBFGS:    8 18:22:26       -0.001470        0.0088\n",
      "LBFGS:    9 18:22:26       -0.000735        0.0044\n",
      "LBFGS:   10 18:22:26       -0.000368        0.0022\n",
      "LBFGS:   11 18:22:26       -0.000184        0.0011\n",
      "LBFGS:   12 18:22:26       -0.000092        0.0006\n",
      "LBFGS:   13 18:22:26       -0.000046        0.0003\n",
      "LBFGS:   14 18:22:26       -0.000023        0.0001\n",
      "LBFGS:   15 18:22:26       -0.000011        0.0001\n",
      "LBFGS:   16 18:22:26       -0.000006        0.0000\n",
      "LBFGS:   17 18:22:26       -0.000003        0.0000\n",
      "LBFGS:   18 18:22:26       -0.000001        0.0000\n",
      "LBFGS:   19 18:22:26       -0.000001        0.0000\n",
      "LBFGS:   20 18:22:26       -0.000000        0.0000\n",
      "LBFGS:   21 18:22:26       -0.000000        0.0000\n",
      "LBFGS:   22 18:22:26       -0.000000        0.0000\n"
     ]
    }
   ],
   "source": [
    "_, output = mi.execute()"
   ]
  },
  {
   "cell_type": "code",
   "execution_count": 33,
   "id": "e74b7e76-2078-42fd-96a2-89ae04d551a7",
   "metadata": {},
   "outputs": [
    {
     "data": {
      "text/plain": [
       "StaticOutput(energy_kin=0.0, energy_pot=-8.972451867356014e-08)"
      ]
     },
     "execution_count": 33,
     "metadata": {},
     "output_type": "execute_result"
    }
   ],
   "source": [
    "output.static_output()"
   ]
  },
  {
   "cell_type": "code",
   "execution_count": 34,
   "id": "d36a445c-eee6-4189-a376-4a6ba7446740",
   "metadata": {},
   "outputs": [
    {
     "data": {
      "image/png": "[encoded data removed]",
      "text/plain": [
       "<Figure size 640x480 with 1 Axes>"
      ]
     },
     "metadata": {},
     "output_type": "display_data"
    }
   ],
   "source": [
    "output.plot_energies()"
   ]
  },
  {
   "cell_type": "code",
   "execution_count": 35,
   "id": "dd164778-634c-4785-903a-08a5243999ce",
   "metadata": {
    "tags": []
   },
   "outputs": [
    {
     "data": {
      "text/plain": [
       "5.383470999656264e-07"
      ]
     },
     "execution_count": 35,
     "metadata": {},
     "output_type": "execute_result"
    }
   ],
   "source": [
    "abs(output.forces[-1]).max()"
   ]
  },
  {
   "cell_type": "code",
   "execution_count": 36,
   "id": "d2cc3b3a-5daa-49bb-9d6d-2994ebc74273",
   "metadata": {
    "tags": []
   },
   "outputs": [
    {
     "data": {
      "application/vnd.jupyter.widget-view+json": {
       "model_id": "a415a54de0d04274b7f1fe5e5632c08e",
       "version_major": 2,
       "version_minor": 0
      },
      "text/plain": [
       "NGLWidget(max_frame=23)"
      ]
     },
     "metadata": {},
     "output_type": "display_data"
    }
   ],
   "source": [
    "output.animate_structures()"
   ]
  },
  {
   "cell_type": "markdown",
   "id": "32c15731-fd88-40d1-9045-beb9c53de501",
   "metadata": {
    "tags": []
   },
   "source": [
    "# Murnaghan"
   ]
  },
  {
   "cell_type": "markdown",
   "id": "aa535698-ddaa-4d60-862c-d6d6d5ecb6c8",
   "metadata": {},
   "source": [
    "## Basic"
   ]
  },
  {
   "cell_type": "code",
   "execution_count": 37,
   "id": "4acdeafc-90b5-4b3f-9559-c74b9fa221ab",
   "metadata": {
    "tags": []
   },
   "outputs": [],
   "source": [
    "m = MurnaghanTask(capture_exceptions=False)"
   ]
  },
  {
   "cell_type": "code",
   "execution_count": 38,
   "id": "f8cf3136-9b7c-4f1e-b630-962795527946",
   "metadata": {
    "tags": []
   },
   "outputs": [],
   "source": [
    "m.input.task = AseStaticTask(capture_exceptions=False)\n",
    "m.input.task.input.calculator = MorsePotential()\n",
    "m.input.structure = bulk(\"Fe\", a=1.2)"
   ]
  },
  {
   "cell_type": "code",
   "execution_count": 39,
   "id": "fef21aa4-d9f1-4d4a-8761-af1bc3121e5b",
   "metadata": {
    "tags": []
   },
   "outputs": [
    {
     "data": {
      "text/plain": [
       "AseStaticInput(structure=Sentinel(USERINPUT), calculator=<ase.calculators.morse.MorsePotential object at 0x7fbe4ef83cd0>)"
      ]
     },
     "execution_count": 39,
     "metadata": {},
     "output_type": "execute_result"
    }
   ],
   "source": [
    "m.input.task.input"
   ]
  },
  {
   "cell_type": "code",
   "execution_count": 40,
   "id": "41a68b17-c7c4-4a5f-8f04-11bee18fe55a",
   "metadata": {
    "tags": []
   },
   "outputs": [],
   "source": [
    "m.input.set_strain_range(.5, 15)"
   ]
  },
  {
   "cell_type": "code",
   "execution_count": 41,
   "id": "fd107556-99b6-4042-9209-9412b4bbff94",
   "metadata": {
    "tags": []
   },
   "outputs": [
    {
     "data": {
      "text/plain": [
       "array([0.79370053, 0.82982653, 0.86305437, 0.89390354, 0.92275884,\n",
       "       0.94991425, 0.97559996, 1.        , 1.02326411, 1.04551592,\n",
       "       1.06685884, 1.08738037, 1.10715524, 1.12624788, 1.14471424])"
      ]
     },
     "execution_count": 41,
     "metadata": {},
     "output_type": "execute_result"
    }
   ],
   "source": [
    "m.input.strains"
   ]
  },
  {
   "cell_type": "code",
   "execution_count": 42,
   "id": "9820e859-f1c2-4b25-b121-feea7843a9c5",
   "metadata": {
    "tags": []
   },
   "outputs": [],
   "source": [
    "_, output = m.execute()"
   ]
  },
  {
   "cell_type": "code",
   "execution_count": 43,
   "id": "aa6720b1-f59c-48c9-85da-ae0cff8f856a",
   "metadata": {},
   "outputs": [
    {
     "data": {
      "text/plain": [
       "MurnaghanOutput(base_structure=Atoms(symbols='Fe', pbc=True, cell=[[-0.6, 0.6, 0.6], [0.6, -0.6, 0.6], [0.6, 0.6, -0.6]]), volumes=array([0.432     , 0.49371429, 0.55542857, 0.61714286, 0.67885714,\n",
       "       0.74057143, 0.80228571, 0.864     , 0.92571429, 0.98742857,\n",
       "       1.04914286, 1.11085714, 1.17257143, 1.23428571, 1.296     ]), energies=array([ 4.78924238, -2.02281605, -5.08315968, -6.30258662, -6.60273036,\n",
       "       -6.44718724, -6.07592945, -5.61496542, -5.13100331, -4.65872214,\n",
       "       -4.21510997, -3.8073844 , -3.43743364, -3.10432631, -2.80567942]))"
      ]
     },
     "execution_count": 43,
     "metadata": {},
     "output_type": "execute_result"
    }
   ],
   "source": [
    "output"
   ]
  },
  {
   "cell_type": "code",
   "execution_count": 44,
   "id": "98c712a2-ee74-4c28-bce0-cb4824a930e6",
   "metadata": {
    "tags": []
   },
   "outputs": [
    {
     "data": {
      "image/png": "[encoded data removed]",
      "text/plain": [
       "<Figure size 640x480 with 1 Axes>"
      ]
     },
     "metadata": {},
     "output_type": "display_data"
    }
   ],
   "source": [
    "output.plot()"
   ]
  },
  {
   "cell_type": "code",
   "execution_count": 45,
   "id": "14162f5b-1318-4595-8c8c-d6346a21721d",
   "metadata": {},
   "outputs": [
    {
     "data": {
      "text/plain": [
       "0.6788605670604869"
      ]
     },
     "execution_count": 45,
     "metadata": {},
     "output_type": "execute_result"
    }
   ],
   "source": [
    "output.equilibrium_volume"
   ]
  },
  {
   "cell_type": "code",
   "execution_count": 46,
   "id": "0f5ff296-df33-40d2-851b-02d6ded72dd6",
   "metadata": {},
   "outputs": [
    {
     "data": {
      "text/plain": [
       "0.6788605670604871"
      ]
     },
     "execution_count": 46,
     "metadata": {},
     "output_type": "execute_result"
    }
   ],
   "source": [
    "output.get_structure().get_volume()"
   ]
  },
  {
   "cell_type": "code",
   "execution_count": 47,
   "id": "92b06330-b1fc-41d0-8bd8-bf1b11bf448c",
   "metadata": {},
   "outputs": [
    {
     "data": {
      "text/plain": [
       "Atoms(symbols='Fe', pbc=True, cell=[[-0.553656237540387, 0.553656237540387, 0.553656237540387], [0.553656237540387, -0.553656237540387, 0.553656237540387], [0.553656237540387, 0.553656237540387, -0.553656237540387]])"
      ]
     },
     "execution_count": 47,
     "metadata": {},
     "output_type": "execute_result"
    }
   ],
   "source": [
    "output.get_structure()"
   ]
  },
  {
   "cell_type": "markdown",
   "id": "26bade63-559f-4c93-be24-5561f5c8190f",
   "metadata": {},
   "source": [
    "## With an Executor"
   ]
  },
  {
   "cell_type": "code",
   "execution_count": 48,
   "id": "89169376-be36-4ceb-9f4e-6e1f3247bc62",
   "metadata": {},
   "outputs": [],
   "source": [
    "m = MurnaghanTask()"
   ]
  },
  {
   "cell_type": "code",
   "execution_count": 49,
   "id": "2ee9f1d4-5b14-4340-98d4-4bd293af89a4",
   "metadata": {},
   "outputs": [],
   "source": [
    "m.input.task = AseStaticTask()\n",
    "m.input.task.input.calculator = MorsePotential()\n",
    "m.input.structure = bulk(\"Fe\", a=1.2)"
   ]
  },
  {
   "cell_type": "code",
   "execution_count": 50,
   "id": "3d73a9de-7b4e-476a-b50a-ac6a3957a7ab",
   "metadata": {},
   "outputs": [
    {
     "data": {
      "text/plain": [
       "AseStaticInput(structure=Sentinel(USERINPUT), calculator=<ase.calculators.morse.MorsePotential object at 0x7fbe4efe7810>)"
      ]
     },
     "execution_count": 50,
     "metadata": {},
     "output_type": "execute_result"
    }
   ],
   "source": [
    "m.input.task.input"
   ]
  },
  {
   "cell_type": "code",
   "execution_count": 51,
   "id": "0f075d90-e636-49be-b1a6-741a56363f54",
   "metadata": {},
   "outputs": [],
   "source": [
    "m.input.set_strain_range(.6, 250)"
   ]
  },
  {
   "cell_type": "code",
   "execution_count": 52,
   "id": "79c89012-5b28-4124-9681-2507e0690b49",
   "metadata": {
    "scrolled": true,
    "tags": []
   },
   "outputs": [
    {
     "name": "stdout",
     "output_type": "stream",
     "text": [
      "CPU times: user 282 ms, sys: 310 ms, total: 592 ms\n",
      "Wall time: 4.82 s\n",
      "       Step     Time          Energy         fmax\n",
      "LBFGS:    0 18:22:33       -1.343424        0.0000\n",
      "       Step     Time          Energy         fmax\n",
      "LBFGS:    0 18:22:33        2.280069        0.0000\n",
      "       Step     Time          Energy         fmax\n",
      "LBFGS:    0 18:22:33        0.267656        0.0000\n",
      "       Step     Time          Energy         fmax\n",
      "LBFGS:    0 18:22:33        4.789242        0.0000\n",
      "       Step     Time          Energy         fmax\n",
      "LBFGS:    0 18:22:33       -2.629060        0.0000\n",
      "       Step     Time          Energy         fmax\n",
      "LBFGS:    0 18:22:33       -3.649939        0.0000\n",
      "       Step     Time          Energy         fmax\n",
      "LBFGS:    0 18:22:33       -4.454841        0.0000\n",
      "       Step     Time          Energy         fmax\n",
      "LBFGS:    0 18:22:33       -5.083160        0.0000\n",
      "       Step     Time          Energy         fmax\n",
      "LBFGS:    0 18:22:33       -5.566847        0.0000\n",
      "       Step     Time          Energy         fmax\n",
      "       Step     Time          Energy         fmax\n",
      "LBFGS:    0 18:22:33       -6.387468        0.0000\n",
      "LBFGS:    0 18:22:33       -6.199650        0.0000\n",
      "       Step     Time          Energy         fmax\n",
      "LBFGS:    0 18:22:33       -5.931922        0.0000\n",
      "       Step     Time          Energy         fmax\n",
      "LBFGS:    0 18:22:33       -6.509714        0.0000\n",
      "       Step     Time          Energy         fmax\n",
      "LBFGS:    0 18:22:33       -6.602730        0.0000\n",
      "       Step     Time          Energy         fmax\n",
      "LBFGS:    0 18:22:33       -6.578212        0.0000\n",
      "       Step     Time          Energy         fmax\n",
      "LBFGS:    0 18:22:33       -6.591354        0.0000\n",
      "       Step     Time          Energy         fmax\n",
      "       Step     Time          Energy         fmax\n",
      "LBFGS:    0 18:22:33       -6.486634        0.0000\n",
      "LBFGS:    0 18:22:33       -6.550795        0.0000\n",
      "       Step     Time          Energy         fmax\n",
      "LBFGS:    0 18:22:33       -6.403518        0.0000\n",
      "       Step     Time          Energy         fmax\n",
      "LBFGS:    0 18:22:33       -6.305315        0.0000\n",
      "       Step     Time          Energy         fmax\n",
      "LBFGS:    0 18:22:33       -5.818275        0.0000\n",
      "       Step     Time          Energy         fmax\n",
      "LBFGS:    0 18:22:33       -6.195227        0.0000\n",
      "       Step     Time          Energy         fmax\n",
      "LBFGS:    0 18:22:33       -6.075929        0.0000\n",
      "       Step     Time          Energy         fmax\n",
      "LBFGS:    0 18:22:33       -5.949656        0.0000\n",
      "       Step     Time          Energy         fmax\n",
      "LBFGS:    0 18:22:33       -5.683346        0.0000\n",
      "       Step     Time          Energy         fmax\n",
      "LBFGS:    0 18:22:34       -5.407813        0.0000\n",
      "       Step     Time          Energy         fmax\n",
      "LBFGS:    0 18:22:34       -5.546166        0.0000\n",
      "       Step     Time          Energy         fmax\n",
      "LBFGS:    0 18:22:34       -5.131003        0.0000\n",
      "       Step     Time          Energy         fmax\n",
      "LBFGS:    0 18:22:34       -5.269181        0.0000\n",
      "       Step     Time          Energy         fmax\n",
      "LBFGS:    0 18:22:34       -4.993885        0.0000\n",
      "       Step     Time          Energy         fmax\n",
      "LBFGS:    0 18:22:34       -4.724699        0.0000\n",
      "       Step     Time          Energy         fmax\n",
      "       Step     Time          Energy         fmax\n",
      "LBFGS:    0 18:22:34       -4.858318        0.0000\n",
      "LBFGS:    0 18:22:34       -4.593346        0.0000\n",
      "       Step     Time          Energy         fmax\n",
      "LBFGS:    0 18:22:34       -4.338382        0.0000\n",
      "       Step     Time          Energy         fmax\n",
      "LBFGS:    0 18:22:34       -4.464509        0.0000\n",
      "       Step     Time          Energy         fmax\n",
      "LBFGS:    0 18:22:34       -4.215110        0.0000\n",
      "       Step     Time          Energy         fmax\n",
      "LBFGS:    0 18:22:34       -4.094800        0.0000\n",
      "       Step     Time          Energy         fmax\n",
      "LBFGS:    0 18:22:34       -3.863323        0.0000\n",
      "       Step     Time          Energy         fmax\n",
      "LBFGS:    0 18:22:34       -3.752221        0.0000\n",
      "       Step     Time          Energy         fmax\n",
      "LBFGS:    0 18:22:34       -3.644218        0.0000\n",
      "       Step     Time          Energy         fmax\n",
      "LBFGS:    0 18:22:34       -3.977523        0.0000\n",
      "       Step     Time          Energy         fmax\n",
      "LBFGS:    0 18:22:34       -3.539298        0.0000\n",
      "       Step     Time          Energy         fmax\n",
      "LBFGS:    0 18:22:34       -3.437434        0.0000\n",
      "       Step     Time          Energy         fmax\n",
      "LBFGS:    0 18:22:34       -3.242705        0.0000\n",
      "       Step     Time          Energy         fmax\n",
      "LBFGS:    0 18:22:34       -3.338585        0.0000\n",
      "       Step     Time          Energy         fmax\n",
      "LBFGS:    0 18:22:34       -3.059620        0.0000\n",
      "       Step     Time          Energy         fmax\n",
      "LBFGS:    0 18:22:34       -2.887661        0.0000\n",
      "       Step     Time          Energy         fmax\n",
      "LBFGS:    0 18:22:34       -3.149737        0.0000\n",
      "       Step     Time          Energy         fmax\n",
      "LBFGS:    0 18:22:34       -2.972284        0.0000\n",
      "       Step     Time          Energy         fmax\n",
      "LBFGS:    0 18:22:34       -2.805679        0.0000\n"
     ]
    }
   ],
   "source": [
    "%%time\n",
    "exe = process.submit([m])\n",
    "exe.run()\n",
    "exe.wait()"
   ]
  },
  {
   "cell_type": "code",
   "execution_count": 53,
   "id": "d8244dd3-f388-43c2-94de-0862ae3b0c7a",
   "metadata": {},
   "outputs": [
    {
     "data": {
      "image/png": "[encoded data removed]",
      "text/plain": [
       "<Figure size 640x480 with 1 Axes>"
      ]
     },
     "metadata": {},
     "output_type": "display_data"
    }
   ],
   "source": [
    "exe.output[0].plot()"
   ]
  },
  {
   "cell_type": "markdown",
   "id": "e21f6582-e7ec-43be-80ec-e9ad53aabc43",
   "metadata": {},
   "source": [
    "# Combine Minimize and Murnaghan"
   ]
  },
  {
   "cell_type": "code",
   "execution_count": 54,
   "id": "149c52b5-a0ce-4e6b-ba55-d94d33aa2f8a",
   "metadata": {
    "tags": []
   },
   "outputs": [],
   "source": [
    "m = MurnaghanTask(capture_exceptions=False)"
   ]
  },
  {
   "cell_type": "code",
   "execution_count": 55,
   "id": "5a965b5b-40e6-4689-aab0-06b3e658cf65",
   "metadata": {},
   "outputs": [],
   "source": [
    "mint = AseMinimizeTask(capture_exceptions=False)\n",
    "mint.input.calculator = MorsePotential()\n",
    "mint.input.max_steps = 100\n",
    "mint.input.output_steps = 10\n",
    "mint.input.ionic_force_tolerance = 1e-6\n",
    "mint.input.lbfgs()"
   ]
  },
  {
   "cell_type": "code",
   "execution_count": 56,
   "id": "331821d7-1d65-4f69-8a76-7bd7f5b33a3c",
   "metadata": {},
   "outputs": [],
   "source": [
    "from operator import methodcaller\n",
    "# ser = mint.then(lambda output: output.static_output())\n",
    "# same as above, but can be pickled, where as lambda cannot\n",
    "ser = mint.then(methodcaller('static_output'))"
   ]
  },
  {
   "cell_type": "code",
   "execution_count": 57,
   "id": "55ec9373-9939-42b6-b628-14ecc976d468",
   "metadata": {},
   "outputs": [],
   "source": [
    "ser._capture_exceptions = False"
   ]
  },
  {
   "cell_type": "code",
   "execution_count": 58,
   "id": "918c79ee-401c-43a3-9dfc-8c7d51ffac85",
   "metadata": {},
   "outputs": [],
   "source": [
    "# ser.execute()"
   ]
  },
  {
   "cell_type": "code",
   "execution_count": 59,
   "id": "aca24005-ea49-4389-bc26-f292fd0a75a2",
   "metadata": {
    "tags": []
   },
   "outputs": [],
   "source": [
    "m.input.task = ser\n",
    "m.input.structure = bulk(\"Fe\", a=1.2)"
   ]
  },
  {
   "cell_type": "code",
   "execution_count": 60,
   "id": "2c835700-7ece-4818-9b03-c60bf8fb0b04",
   "metadata": {
    "tags": []
   },
   "outputs": [],
   "source": [
    "m.input.set_strain_range(.5, 50)"
   ]
  },
  {
   "cell_type": "code",
   "execution_count": 61,
   "id": "0925864e-4dd1-4f4e-ace4-aac09c55e787",
   "metadata": {
    "scrolled": true,
    "tags": []
   },
   "outputs": [
    {
     "name": "stdout",
     "output_type": "stream",
     "text": [
      "CPU times: user 310 ms, sys: 327 ms, total: 638 ms\n",
      "Wall time: 1.36 s\n"
     ]
    }
   ],
   "source": [
    "%%time\n",
    "exe = process.submit([m])\n",
    "exe.run()\n",
    "exe.wait()\n",
    "output = exe.output[0]\n",
    "ret = exe.status[0]"
   ]
  },
  {
   "cell_type": "code",
   "execution_count": 62,
   "id": "7d6e4d20-7cca-41ef-85e3-5f24895bd876",
   "metadata": {},
   "outputs": [
    {
     "data": {
      "text/plain": [
       "[ReturnStatus(Code.DONE, None)]"
      ]
     },
     "execution_count": 62,
     "metadata": {},
     "output_type": "execute_result"
    }
   ],
   "source": [
    "exe.status"
   ]
  },
  {
   "cell_type": "code",
   "execution_count": 63,
   "id": "10650ff2-d8f1-40c2-a3f5-30c267188c21",
   "metadata": {},
   "outputs": [
    {
     "data": {
      "text/plain": [
       "[MurnaghanOutput(base_structure=Atoms(symbols='Fe', pbc=True, cell=[[-0.6, 0.6, 0.6], [0.6, -0.6, 0.6], [0.6, 0.6, -0.6]]), volumes=array([0.432     , 0.44963265, 0.46726531, 0.48489796, 0.50253061,\n",
       "        0.52016327, 0.53779592, 0.55542857, 0.57306122, 0.59069388,\n",
       "        0.60832653, 0.62595918, 0.64359184, 0.66122449, 0.67885714,\n",
       "        0.6964898 , 0.71412245, 0.7317551 , 0.74938776, 0.76702041,\n",
       "        0.78465306, 0.80228571, 0.81991837, 0.83755102, 0.85518367,\n",
       "        0.87281633, 0.89044898, 0.90808163, 0.92571429, 0.94334694,\n",
       "        0.96097959, 0.97861224, 0.9962449 , 1.01387755, 1.0315102 ,\n",
       "        1.04914286, 1.06677551, 1.08440816, 1.10204082, 1.11967347,\n",
       "        1.13730612, 1.15493878, 1.17257143, 1.19020408, 1.20783673,\n",
       "        1.22546939, 1.24310204, 1.26073469, 1.27836735, 1.296     ]), energies=array([ 4.78924238,  2.28006854,  0.26765599, -1.34342385, -2.62905986,\n",
       "        -3.64993906, -4.4548411 , -5.08315968, -5.56684658, -5.93192168,\n",
       "        -6.19965019, -6.38746798, -6.50971391, -6.57821157, -6.60273036,\n",
       "        -6.5913544 , -6.55079527, -6.48663436, -6.40351826, -6.3053145 ,\n",
       "        -6.19522745, -6.07592945, -5.94965606, -5.81827541, -5.68334616,\n",
       "        -5.54616619, -5.40781345, -5.26918051, -5.13100331, -4.99388532,\n",
       "        -4.85831813, -4.72469907, -4.59334586, -4.46450884, -4.3383816 ,\n",
       "        -4.21510997, -4.09479966, -3.97752272, -3.86332306, -3.75222112,\n",
       "        -3.64421787, -3.53929817, -3.43743364, -3.33858511, -3.24270468,\n",
       "        -3.1497372 , -3.05961953, -2.97228403, -2.88766101, -2.80567942]))]"
      ]
     },
     "execution_count": 63,
     "metadata": {},
     "output_type": "execute_result"
    }
   ],
   "source": [
    "exe.output"
   ]
  },
  {
   "cell_type": "code",
   "execution_count": 64,
   "id": "4bf2df15-31dc-474c-b3df-f7c32b0fdaf2",
   "metadata": {
    "tags": []
   },
   "outputs": [
    {
     "data": {
      "text/plain": [
       "array([ 4.78924238,  2.28006854,  0.26765599, -1.34342385, -2.62905986,\n",
       "       -3.64993906, -4.4548411 , -5.08315968, -5.56684658, -5.93192168])"
      ]
     },
     "execution_count": 64,
     "metadata": {},
     "output_type": "execute_result"
    }
   ],
   "source": [
    "output.energies[:10]"
   ]
  },
  {
   "cell_type": "code",
   "execution_count": 65,
   "id": "eb0a2daf-9dab-4174-bfee-0cd1ef8c474e",
   "metadata": {},
   "outputs": [
    {
     "data": {
      "image/png": "[encoded data removed]",
      "text/plain": [
       "<Figure size 640x480 with 1 Axes>"
      ]
     },
     "metadata": {},
     "output_type": "display_data"
    }
   ],
   "source": [
    "output.plot()"
   ]
  },
  {
   "cell_type": "markdown",
   "id": "04d5b556-70e8-4023-8033-963ca066cb18",
   "metadata": {},
   "source": [
    "# Combine MD and Murnaghan\n",
    "\n",
    "Obviously the one would need to increase sampling size to obtain reasonable values."
   ]
  },
  {
   "cell_type": "code",
   "execution_count": 66,
   "id": "7196bbf5-dcab-41d2-87e4-b3bc292a24e7",
   "metadata": {
    "tags": []
   },
   "outputs": [],
   "source": [
    "m = MurnaghanTask()"
   ]
  },
  {
   "cell_type": "code",
   "execution_count": 67,
   "id": "e5141a6b-a0e7-4534-a59f-46cac32e7e60",
   "metadata": {},
   "outputs": [],
   "source": [
    "md = AseMDTask()\n",
    "md.input.calculator = MorsePotential()\n",
    "md.input.steps = 100\n",
    "md.input.output_steps = 100\n",
    "md.input.temperature = 100\n",
    "md.input.timestep = 3"
   ]
  },
  {
   "cell_type": "code",
   "execution_count": 68,
   "id": "d21ee69e-056b-400d-932f-8f89917405dd",
   "metadata": {},
   "outputs": [],
   "source": [
    "#m.input.task = md.then(lambda output: output.static_output(how=output.Mean(0.25, 1.0)))\n",
    "# Same problem with pickling as above\n",
    "from pyiron_contrib.tinybase.container import MDOutput\n",
    "m.input.task = md.then(methodcaller('static_output', how=MDOutput.Mean(start=0.25, stop=1.0)))"
   ]
  },
  {
   "cell_type": "code",
   "execution_count": 69,
   "id": "132a228b-2703-4e23-a2a4-987ba5411872",
   "metadata": {
    "tags": []
   },
   "outputs": [],
   "source": [
    "m.input.structure = bulk(\"Fe\", cubic=True, crystalstructure='fcc', a=1.385)"
   ]
  },
  {
   "cell_type": "code",
   "execution_count": 70,
   "id": "af1e3dba-a377-4403-8b61-4a5404ea1715",
   "metadata": {
    "tags": []
   },
   "outputs": [],
   "source": [
    "m.input.set_strain_range(.05, 5)"
   ]
  },
  {
   "cell_type": "code",
   "execution_count": 71,
   "id": "8a87284b-84ca-4f1d-ab81-37bfb9bf83e0",
   "metadata": {
    "scrolled": true,
    "tags": []
   },
   "outputs": [
    {
     "name": "stdout",
     "output_type": "stream",
     "text": [
      "CPU times: user 369 ms, sys: 292 ms, total: 661 ms\n",
      "Wall time: 2min 4s\n"
     ]
    }
   ],
   "source": [
    "%%time\n",
    "exe = make_process(5).submit([m])\n",
    "exe.run()\n",
    "\n",
    "exe.wait()\n",
    "output = exe.output[0]\n",
    "ret = exe.status[0]"
   ]
  },
  {
   "cell_type": "code",
   "execution_count": 72,
   "id": "a3940d36-f4c1-460e-9544-079e6a4f71c9",
   "metadata": {},
   "outputs": [
    {
     "data": {
      "image/png": "[encoded data removed]",
      "text/plain": [
       "<Figure size 640x480 with 1 Axes>"
      ]
     },
     "metadata": {},
     "output_type": "display_data"
    }
   ],
   "source": [
    "output.plot()"
   ]
  },
  {
   "cell_type": "code",
   "execution_count": 73,
   "id": "0cf9e04e-8a57-4dd0-8d5e-dcd05142befa",
   "metadata": {},
   "outputs": [
    {
     "data": {
      "text/plain": [
       "MurnaghanOutput(base_structure=Atoms(symbols='Fe4', pbc=True, cell=[1.385, 1.385, 1.385]), volumes=array([2.52390454, 2.59032308, 2.65674163, 2.72316017, 2.78957871]), energies=array([-26.99473018, -27.31430624, -27.44231513, -27.42907923,\n",
       "       -27.29935109]))"
      ]
     },
     "execution_count": 73,
     "metadata": {},
     "output_type": "execute_result"
    }
   ],
   "source": [
    "output"
   ]
  },
  {
   "cell_type": "code",
   "execution_count": 74,
   "id": "dcbfb0da-3db5-4d57-b36d-4a4a48703c67",
   "metadata": {},
   "outputs": [
    {
     "data": {
      "text/plain": [
       "2.656743103964501"
      ]
     },
     "execution_count": 74,
     "metadata": {},
     "output_type": "execute_result"
    }
   ],
   "source": [
    "output.equilibrium_volume"
   ]
  },
  {
   "cell_type": "markdown",
   "id": "c80f8200-af0d-4d50-a049-a800f7c1941e",
   "metadata": {},
   "source": [
    "## Thermal Expansion"
   ]
  },
  {
   "cell_type": "code",
   "execution_count": 75,
   "id": "d8ebffdc-f5d4-4e45-90cc-1350608d65f8",
   "metadata": {},
   "outputs": [],
   "source": [
    "from copy import deepcopy"
   ]
  },
  {
   "cell_type": "code",
   "execution_count": 76,
   "id": "87b3bd35-e8bd-460f-822c-6452139648e0",
   "metadata": {},
   "outputs": [],
   "source": [
    "import matplotlib.pyplot as plt"
   ]
  },
  {
   "cell_type": "code",
   "execution_count": 77,
   "id": "93d6721c-d82f-451d-954b-fc495b7bc103",
   "metadata": {},
   "outputs": [],
   "source": [
    "Ts = np.linspace(50, 450, 5)\n",
    "ms = []\n",
    "for T in Ts:\n",
    "    ms.append(deepcopy(m))\n",
    "    ms[-1].input.temperature = T"
   ]
  },
  {
   "cell_type": "code",
   "execution_count": 78,
   "id": "f58f7c3f-c6e1-40c5-afc5-cbffde66d8a9",
   "metadata": {},
   "outputs": [
    {
     "data": {
      "text/plain": [
       "array([ 50., 150., 250., 350., 450.])"
      ]
     },
     "execution_count": 78,
     "metadata": {},
     "output_type": "execute_result"
    }
   ],
   "source": [
    "Ts"
   ]
  },
  {
   "cell_type": "code",
   "execution_count": 79,
   "id": "1fb4362c-0b33-48dd-be85-60bbf4d3130a",
   "metadata": {},
   "outputs": [],
   "source": [
    "exe = make_process(8).submit(ms)\n",
    "exe.run()\n",
    "exe.wait()"
   ]
  },
  {
   "cell_type": "code",
   "execution_count": 80,
   "id": "7d3f992b-4c23-4ec5-8760-559013144647",
   "metadata": {},
   "outputs": [
    {
     "data": {
      "text/plain": [
       "<matplotlib.legend.Legend at 0x7fbed83cff50>"
      ]
     },
     "execution_count": 80,
     "metadata": {},
     "output_type": "execute_result"
    },
    {
     "data": {
      "image/png": "[encoded data removed]",
      "text/plain": [
       "<Figure size 640x480 with 1 Axes>"
      ]
     },
     "metadata": {},
     "output_type": "display_data"
    }
   ],
   "source": [
    "for T, o in zip(Ts, exe.output):\n",
    "    plt.plot(o.volumes, o.energies, label=T)\n",
    "plt.legend()"
   ]
  },
  {
   "cell_type": "code",
   "execution_count": 84,
   "id": "d684e7f0-b2cb-4edf-8130-3658454ddb4c",
   "metadata": {},
   "outputs": [
    {
     "data": {
      "text/plain": [
       "[<matplotlib.lines.Line2D at 0x7fbe4f006d90>]"
      ]
     },
     "execution_count": 84,
     "metadata": {},
     "output_type": "execute_result"
    },
    {
     "data": {
      "image/png": "[encoded data removed]",
      "text/plain": [
       "<Figure size 640x480 with 1 Axes>"
      ]
     },
     "metadata": {},
     "output_type": "display_data"
    }
   ],
   "source": [
    "plt.plot(Ts, [o.equilibrium_volume for o in exe.output])"
   ]
  }
 ],
 "metadata": {
  "kernelspec": {
   "display_name": "Python 3 (ipykernel)",
   "language": "python",
   "name": "python3"
  },
  "language_info": {
   "codemirror_mode": {
    "name": "ipython",
    "version": 3
   },
   "file_extension": ".py",
   "mimetype": "text/x-python",
   "name": "python",
   "nbconvert_exporter": "python",
   "pygments_lexer": "ipython3",
   "version": "3.11.7"
  },
  "widgets": {
   "application/vnd.jupyter.widget-state+json": {
    "state": {},
    "version_major": 2,
    "version_minor": 0
   }
  }
 },
 "nbformat": 4,
 "nbformat_minor": 5
}
