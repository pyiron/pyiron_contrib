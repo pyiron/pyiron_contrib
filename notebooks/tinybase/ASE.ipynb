{
 "cells": [
  {
   "cell_type": "markdown",
   "id": "32de9950-ae26-488d-92af-9784ab1c7598",
   "metadata": {},
   "source": [
    "# Imports"
   ]
  },
  {
   "cell_type": "code",
   "execution_count": 1,
   "id": "f9ecb713-99e6-4f34-b4c2-fe9f3d96c81e",
   "metadata": {
    "tags": []
   },
   "outputs": [],
   "source": [
    "from ase import Atoms"
   ]
  },
  {
   "cell_type": "code",
   "execution_count": 2,
   "id": "31dc7658-dcf0-41a4-9c62-ec92b02e47ea",
   "metadata": {
    "tags": []
   },
   "outputs": [],
   "source": [
    "from ase.build import bulk"
   ]
  },
  {
   "cell_type": "code",
   "execution_count": 3,
   "id": "e7cc88a5-8492-482e-8c6b-c17ff967fff5",
   "metadata": {
    "tags": []
   },
   "outputs": [],
   "source": [
    "from ase.calculators.morse import MorsePotential"
   ]
  },
  {
   "cell_type": "code",
   "execution_count": 4,
   "id": "b3108213-1d94-4354-9537-84982e45683d",
   "metadata": {
    "tags": []
   },
   "outputs": [
    {
     "name": "stderr",
     "output_type": "stream",
     "text": [
      "/home/poul/pyiron/contrib/pyiron_contrib/__init__.py:9: UserWarning: pyiron module not found, importing Project from pyiron_base\n",
      "  warnings.warn(\"pyiron module not found, importing Project from pyiron_base\")\n"
     ]
    },
    {
     "data": {
      "text/html": [
       "<pre style=\"white-space:pre;overflow-x:auto;line-height:normal;font-family:Menlo,'DejaVu Sans Mono',consolas,'Courier New',monospace\"></pre>\n"
      ],
      "text/plain": []
     },
     "metadata": {},
     "output_type": "display_data"
    },
    {
     "data": {
      "text/html": [
       "<pre style=\"white-space:pre;overflow-x:auto;line-height:normal;font-family:Menlo,'DejaVu Sans Mono',consolas,'Courier New',monospace\"></pre>\n"
      ],
      "text/plain": []
     },
     "metadata": {},
     "output_type": "display_data"
    },
    {
     "data": {
      "application/vnd.jupyter.widget-view+json": {
       "model_id": "d27ff0773fea4e2eb6c66ecab365bffb",
       "version_major": 2,
       "version_minor": 0
      },
      "text/plain": []
     },
     "metadata": {},
     "output_type": "display_data"
    }
   ],
   "source": [
    "from pyiron_contrib.tinybase.ase import AseStaticTask, AseMDTask, AseMinimizeTask"
   ]
  },
  {
   "cell_type": "code",
   "execution_count": 5,
   "id": "0029125a-55e6-4181-a59b-09f606a1b4dd",
   "metadata": {
    "tags": []
   },
   "outputs": [],
   "source": [
    "from pyiron_contrib.tinybase.murn import MurnaghanTask"
   ]
  },
  {
   "cell_type": "code",
   "execution_count": 6,
   "id": "c7c74920-c6b3-4577-a60f-951a0d3276ec",
   "metadata": {
    "tags": []
   },
   "outputs": [],
   "source": [
    "from pyiron_contrib.tinybase.executor import ProcessExecutor, BackgroundExecutor, Executor"
   ]
  },
  {
   "cell_type": "code",
   "execution_count": 7,
   "id": "c6630920-6ab7-4273-883e-999020b1fe5a",
   "metadata": {
    "tags": []
   },
   "outputs": [],
   "source": [
    "import logging\n",
    "logging.getLogger().setLevel(20)"
   ]
  },
  {
   "cell_type": "markdown",
   "id": "4d6f4eab-7660-4e66-b85b-8d9969512c00",
   "metadata": {},
   "source": [
    "# Simple ASE Static Calculation"
   ]
  },
  {
   "cell_type": "code",
   "execution_count": 8,
   "id": "a6af72cb-989b-46c3-a2b5-4d2b9c5fd1eb",
   "metadata": {
    "tags": []
   },
   "outputs": [],
   "source": [
    "a = AseStaticTask()"
   ]
  },
  {
   "cell_type": "code",
   "execution_count": 9,
   "id": "5b2a9d62-3f74-4acf-acb6-e72dcd984704",
   "metadata": {
    "tags": []
   },
   "outputs": [],
   "source": [
    "a.input.structure = bulk(\"Fe\")"
   ]
  },
  {
   "cell_type": "code",
   "execution_count": 10,
   "id": "1af70322-897e-487d-ba18-239ba5bfb7ba",
   "metadata": {
    "tags": []
   },
   "outputs": [],
   "source": [
    "a.input.calculator = MorsePotential()"
   ]
  },
  {
   "cell_type": "code",
   "execution_count": 11,
   "id": "273902ef-03f3-4f68-8668-4e6c6055a302",
   "metadata": {
    "tags": []
   },
   "outputs": [
    {
     "data": {
      "text/plain": [
       "(ReturnStatus(Code.DONE, None),\n",
       " <pyiron_contrib.tinybase.container.EnergyPotOutput at 0x7f3dddc33a90>)"
      ]
     },
     "execution_count": 11,
     "metadata": {},
     "output_type": "execute_result"
    }
   ],
   "source": [
    "ret, output = a.execute(); ret, output"
   ]
  },
  {
   "cell_type": "code",
   "execution_count": 12,
   "id": "497de0b9-5e11-4d6c-8c19-664d0e759ac4",
   "metadata": {
    "tags": []
   },
   "outputs": [
    {
     "data": {
      "text/plain": [
       "-0.00013307075712109978"
      ]
     },
     "execution_count": 12,
     "metadata": {},
     "output_type": "execute_result"
    }
   ],
   "source": [
    "output.energy_pot"
   ]
  },
  {
   "cell_type": "markdown",
   "id": "8a102a81-df04-4527-8739-7fe542f0c1fc",
   "metadata": {},
   "source": [
    "# ASE MD"
   ]
  },
  {
   "cell_type": "code",
   "execution_count": 13,
   "id": "02cfe01b-0b24-4723-a79b-d41ffb146bf9",
   "metadata": {
    "tags": []
   },
   "outputs": [],
   "source": [
    "md = AseMDTask()"
   ]
  },
  {
   "cell_type": "code",
   "execution_count": 14,
   "id": "466d1f9a-b707-4c05-a8af-5414d76bd8eb",
   "metadata": {
    "tags": []
   },
   "outputs": [],
   "source": [
    "md.input.structure = bulk(\"Fe\", a=1.2, cubic=True).repeat(3)\n",
    "md.input.calculator = MorsePotential()"
   ]
  },
  {
   "cell_type": "code",
   "execution_count": 15,
   "id": "dfdfc027-1608-43ad-9d15-0c649986eb73",
   "metadata": {
    "tags": []
   },
   "outputs": [],
   "source": [
    "md.input.steps = 100\n",
    "md.input.timestep = 3.0\n",
    "md.input.temperature = 600.0\n",
    "md.input.output_steps = 20"
   ]
  },
  {
   "cell_type": "code",
   "execution_count": 16,
   "id": "a91f71b6-25f9-4977-b5b7-563a34f30016",
   "metadata": {
    "tags": []
   },
   "outputs": [],
   "source": [
    "exe = ProcessExecutor(max_processes=4).submit([md])\n",
    "exe.run()"
   ]
  },
  {
   "cell_type": "code",
   "execution_count": 17,
   "id": "80155255-4dcf-48cb-9825-015da13d6ac0",
   "metadata": {
    "tags": []
   },
   "outputs": [],
   "source": [
    "exe.wait()"
   ]
  },
  {
   "cell_type": "code",
   "execution_count": 18,
   "id": "6f7aff4e-9e89-459b-843f-46a4d4139bcf",
   "metadata": {
    "tags": []
   },
   "outputs": [
    {
     "data": {
      "text/plain": [
       "{'status': [ReturnStatus(Code.DONE, None)],\n",
       " 'output': [<pyiron_contrib.tinybase.container.MDOutput at 0x7f3dddc7c0d0>]}"
      ]
     },
     "execution_count": 18,
     "metadata": {},
     "output_type": "execute_result"
    }
   ],
   "source": [
    "exe._run_machine._data"
   ]
  },
  {
   "cell_type": "code",
   "execution_count": 19,
   "id": "62ce8439-bf95-4818-b35c-b4e2ef649bd2",
   "metadata": {
    "tags": []
   },
   "outputs": [
    {
     "data": {
      "text/plain": [
       "<Code.FINISHED: 'finished'>"
      ]
     },
     "execution_count": 19,
     "metadata": {},
     "output_type": "execute_result"
    }
   ],
   "source": [
    "exe._run_machine.state"
   ]
  },
  {
   "cell_type": "code",
   "execution_count": 20,
   "id": "5bcd1b68-6a48-4a08-92d4-143419071618",
   "metadata": {
    "tags": []
   },
   "outputs": [
    {
     "data": {
      "text/plain": [
       "11.99578764900798"
      ]
     },
     "execution_count": 20,
     "metadata": {},
     "output_type": "execute_result"
    }
   ],
   "source": [
    "exe._run_time"
   ]
  },
  {
   "cell_type": "code",
   "execution_count": 21,
   "id": "d21371e0-fa36-44bd-b7bf-a0092177ba17",
   "metadata": {
    "tags": []
   },
   "outputs": [
    {
     "data": {
      "text/plain": [
       "2.5072979042306542e-05"
      ]
     },
     "execution_count": 21,
     "metadata": {},
     "output_type": "execute_result"
    }
   ],
   "source": [
    "exe._collect_time"
   ]
  },
  {
   "cell_type": "code",
   "execution_count": 22,
   "id": "412aed30-6adf-4a54-8496-bea647bb520e",
   "metadata": {
    "tags": []
   },
   "outputs": [
    {
     "data": {
      "text/plain": [
       "[-303.20813267693006,\n",
       " -303.20813267693006,\n",
       " -299.50793416220245,\n",
       " -300.5497430006916,\n",
       " -300.2227526899692,\n",
       " -299.9803776735141,\n",
       " -300.4174233564278,\n",
       " -300.47761929956704,\n",
       " -300.9284829694475,\n",
       " -300.7290011651538,\n",
       " -300.13461682002395,\n",
       " -299.6448595164918,\n",
       " -300.7999265006333,\n",
       " -300.61980282686807,\n",
       " -299.87975459727386,\n",
       " -300.00429868718913,\n",
       " -300.03868103245054,\n",
       " -300.10316958162093,\n",
       " -300.94069501802824,\n",
       " -300.33250647975046,\n",
       " -300.6353629828311,\n",
       " -300.6098904517182]"
      ]
     },
     "execution_count": 22,
     "metadata": {},
     "output_type": "execute_result"
    }
   ],
   "source": [
    "exe.output[0].pot_energies"
   ]
  },
  {
   "cell_type": "code",
   "execution_count": 23,
   "id": "9e06cd6d-e0f7-40dd-93f2-777f86ffe2eb",
   "metadata": {
    "tags": []
   },
   "outputs": [
    {
     "data": {
      "image/png": "[encoded data removed]",
      "text/plain": [
       "<Figure size 640x480 with 1 Axes>"
      ]
     },
     "metadata": {},
     "output_type": "display_data"
    }
   ],
   "source": [
    "exe.output[0].plot_energies()"
   ]
  },
  {
   "cell_type": "code",
   "execution_count": 24,
   "id": "bb70a653-6231-4f4e-9bbe-279811acc895",
   "metadata": {
    "tags": []
   },
   "outputs": [],
   "source": [
    "# Testing env doesn't have nglview\n",
    "# exe.output[0].animate_structures()"
   ]
  },
  {
   "cell_type": "markdown",
   "id": "c7844b5f-1f9b-4770-8608-144c8b84fb87",
   "metadata": {},
   "source": [
    "# ASE Minimize"
   ]
  },
  {
   "cell_type": "code",
   "execution_count": 25,
   "id": "f816e2af-0455-4e05-9c39-2e9f615d8f34",
   "metadata": {
    "tags": []
   },
   "outputs": [],
   "source": [
    "from pyiron_atomistics import ase_to_pyiron"
   ]
  },
  {
   "cell_type": "code",
   "execution_count": 26,
   "id": "22314020-8f48-487b-a765-229a77d79a2f",
   "metadata": {
    "tags": []
   },
   "outputs": [],
   "source": [
    "mi = AseMinimizeTask()"
   ]
  },
  {
   "cell_type": "code",
   "execution_count": 27,
   "id": "ff411a05-82e1-4581-b06e-ab2fd7e0be3b",
   "metadata": {
    "tags": []
   },
   "outputs": [],
   "source": [
    "dimer = Atoms(symbols=['Fe', 'Fe'], positions=[[0,0,0], [0,0, .75]], cell=[10,10,10])"
   ]
  },
  {
   "cell_type": "code",
   "execution_count": 28,
   "id": "5574f0d5-d800-472a-9418-8c6ccc1e555b",
   "metadata": {
    "tags": []
   },
   "outputs": [],
   "source": [
    "mi.input.structure = dimer\n",
    "mi.input.calculator = MorsePotential(rcut1=6,rcut2=10)"
   ]
  },
  {
   "cell_type": "code",
   "execution_count": 29,
   "id": "9e02d6dd-0fa6-4dd6-a7ab-3e648958eb20",
   "metadata": {
    "tags": []
   },
   "outputs": [
    {
     "data": {
      "application/vnd.jupyter.widget-view+json": {
       "model_id": "b5a8f7fe55124036a47dc318938cbc7d",
       "version_major": 2,
       "version_minor": 0
      },
      "text/plain": [
       "NGLWidget()"
      ]
     },
     "metadata": {},
     "output_type": "display_data"
    }
   ],
   "source": [
    "# Testing env doesn't have nglview\n",
    "# ase_to_pyiron(mi.input.structure).plot3d()"
   ]
  },
  {
   "cell_type": "code",
   "execution_count": 30,
   "id": "663e4435-1cd0-4ce2-9593-85453f4c846a",
   "metadata": {
    "tags": []
   },
   "outputs": [],
   "source": [
    "mi.input.max_steps = 100\n",
    "mi.input.output_steps = 1\n",
    "mi.input.ionic_force_tolerance = 1e-6"
   ]
  },
  {
   "cell_type": "code",
   "execution_count": 31,
   "id": "37440e5a-75ff-4601-813a-f5c8df9413ad",
   "metadata": {
    "tags": []
   },
   "outputs": [],
   "source": [
    "mi.input.gpmin()"
   ]
  },
  {
   "cell_type": "code",
   "execution_count": 32,
   "id": "00fbac35-11cd-468b-990e-0b97c3f4dec1",
   "metadata": {
    "tags": []
   },
   "outputs": [],
   "source": [
    "exe = Executor().submit([mi])"
   ]
  },
  {
   "cell_type": "code",
   "execution_count": 33,
   "id": "8506cba9-b045-40f9-8514-2982db2470ca",
   "metadata": {
    "tags": []
   },
   "outputs": [
    {
     "name": "stdout",
     "output_type": "stream",
     "text": [
      "       Step     Time          Energy         fmax\n",
      "GPMin:    0 12:25:12       11.122159      187.2462\n",
      "GPMin:    1 12:25:12       -0.278268        1.5338\n",
      "GPMin:    2 12:25:12       -0.996055        0.8010\n",
      "GPMin:    3 12:25:12       -0.000000        0.0000\n"
     ]
    }
   ],
   "source": [
    "exe.run()"
   ]
  },
  {
   "cell_type": "code",
   "execution_count": 34,
   "id": "5977dd10-c4cf-40c9-944e-5aa52cfa263d",
   "metadata": {
    "tags": []
   },
   "outputs": [
    {
     "data": {
      "text/plain": [
       "(ReturnStatus(Code.DONE, None),)"
      ]
     },
     "execution_count": 34,
     "metadata": {},
     "output_type": "execute_result"
    }
   ],
   "source": [
    "exe.status"
   ]
  },
  {
   "cell_type": "code",
   "execution_count": 35,
   "id": "dd164778-634c-4785-903a-08a5243999ce",
   "metadata": {
    "tags": []
   },
   "outputs": [
    {
     "data": {
      "text/plain": [
       "2.136147842601888e-07"
      ]
     },
     "execution_count": 35,
     "metadata": {},
     "output_type": "execute_result"
    }
   ],
   "source": [
    "abs(exe.output[0].forces[-1]).max()"
   ]
  },
  {
   "cell_type": "code",
   "execution_count": 36,
   "id": "515ea06d-9026-4d9e-9df0-b9c249f0758a",
   "metadata": {
    "tags": []
   },
   "outputs": [
    {
     "data": {
      "text/plain": [
       "<Code.FINISHED: 'finished'>"
      ]
     },
     "execution_count": 36,
     "metadata": {},
     "output_type": "execute_result"
    }
   ],
   "source": [
    "exe._run_machine.state"
   ]
  },
  {
   "cell_type": "code",
   "execution_count": 37,
   "id": "52b7231f-8978-46ec-b698-ea8724a6fea3",
   "metadata": {
    "tags": []
   },
   "outputs": [
    {
     "data": {
      "text/plain": [
       "0.04363919500610791"
      ]
     },
     "execution_count": 37,
     "metadata": {},
     "output_type": "execute_result"
    }
   ],
   "source": [
    "exe._run_time"
   ]
  },
  {
   "cell_type": "code",
   "execution_count": 38,
   "id": "c845430c-119d-4566-88e1-8465e378fde1",
   "metadata": {
    "tags": []
   },
   "outputs": [
    {
     "data": {
      "text/plain": [
       "1.127301948145032e-05"
      ]
     },
     "execution_count": 38,
     "metadata": {},
     "output_type": "execute_result"
    }
   ],
   "source": [
    "exe._collect_time"
   ]
  },
  {
   "cell_type": "code",
   "execution_count": 39,
   "id": "35291d7f-33a9-41ab-9b80-f052c5eb2e55",
   "metadata": {
    "tags": []
   },
   "outputs": [
    {
     "data": {
      "image/png": "[encoded data removed]",
      "text/plain": [
       "<Figure size 640x480 with 1 Axes>"
      ]
     },
     "metadata": {},
     "output_type": "display_data"
    }
   ],
   "source": [
    "exe.output[0].plot_energies()"
   ]
  },
  {
   "cell_type": "code",
   "execution_count": 40,
   "id": "1d5b5203-d07f-485b-9553-9150f4a674e7",
   "metadata": {
    "tags": []
   },
   "outputs": [
    {
     "data": {
      "text/plain": [
       "[11.122158782511535,\n",
       " -0.2782678462106827,\n",
       " -0.9960554302957411,\n",
       " -3.560246436024868e-08,\n",
       " -3.560246436024868e-08]"
      ]
     },
     "execution_count": 40,
     "metadata": {},
     "output_type": "execute_result"
    }
   ],
   "source": [
    "exe.output[0].pot_energies"
   ]
  },
  {
   "cell_type": "code",
   "execution_count": 41,
   "id": "d2cc3b3a-5daa-49bb-9d6d-2994ebc74273",
   "metadata": {
    "tags": []
   },
   "outputs": [
    {
     "data": {
      "application/vnd.jupyter.widget-view+json": {
       "model_id": "c3200a77ee174a69be92ace9fb8e5993",
       "version_major": 2,
       "version_minor": 0
      },
      "text/plain": [
       "NGLWidget(max_frame=4)"
      ]
     },
     "metadata": {},
     "output_type": "display_data"
    }
   ],
   "source": [
    "exe.output[0].animate_structures()"
   ]
  },
  {
   "cell_type": "markdown",
   "id": "32c15731-fd88-40d1-9045-beb9c53de501",
   "metadata": {
    "tags": []
   },
   "source": [
    "# Murnaghan"
   ]
  },
  {
   "cell_type": "markdown",
   "id": "aa535698-ddaa-4d60-862c-d6d6d5ecb6c8",
   "metadata": {},
   "source": [
    "## Basic"
   ]
  },
  {
   "cell_type": "code",
   "execution_count": 42,
   "id": "4acdeafc-90b5-4b3f-9559-c74b9fa221ab",
   "metadata": {
    "tags": []
   },
   "outputs": [],
   "source": [
    "m = MurnaghanTask(capture_exceptions=False)"
   ]
  },
  {
   "cell_type": "code",
   "execution_count": 43,
   "id": "f8cf3136-9b7c-4f1e-b630-962795527946",
   "metadata": {
    "tags": []
   },
   "outputs": [],
   "source": [
    "m.input.task = AseStaticTask(capture_exceptions=False)\n",
    "m.input.task.input.calculator = MorsePotential()\n",
    "m.input.structure = bulk(\"Fe\", a=1.2)"
   ]
  },
  {
   "cell_type": "code",
   "execution_count": 44,
   "id": "fef21aa4-d9f1-4d4a-8761-af1bc3121e5b",
   "metadata": {
    "tags": []
   },
   "outputs": [
    {
     "data": {
      "text/plain": [
       "<pyiron_contrib.tinybase.ase.AseStaticInput at 0x7f3e80539ab0>"
      ]
     },
     "execution_count": 44,
     "metadata": {},
     "output_type": "execute_result"
    }
   ],
   "source": [
    "m.input.task.input"
   ]
  },
  {
   "cell_type": "code",
   "execution_count": 45,
   "id": "41a68b17-c7c4-4a5f-8f04-11bee18fe55a",
   "metadata": {
    "tags": []
   },
   "outputs": [],
   "source": [
    "m.input.set_strain_range(.5, 50)"
   ]
  },
  {
   "cell_type": "code",
   "execution_count": 46,
   "id": "fd107556-99b6-4042-9209-9412b4bbff94",
   "metadata": {
    "tags": []
   },
   "outputs": [
    {
     "data": {
      "text/plain": [
       "array([0.79370053, 0.8043555 , 0.81473542, 0.82485739, 0.83473686,\n",
       "       0.84438786, 0.85382314, 0.86305437, 0.87209225, 0.88094658,\n",
       "       0.88962642, 0.89814011, 0.90649538, 0.9146994 , 0.92275884,\n",
       "       0.93067991, 0.93846839, 0.94612969, 0.95366889, 0.96109074,\n",
       "       0.96839969, 0.97559996, 0.98269548, 0.98968999, 0.996587  ,\n",
       "       1.00338986, 1.01010169, 1.0167255 , 1.02326411, 1.0297202 ,\n",
       "       1.03609634, 1.04239496, 1.04861836, 1.05476875, 1.06084824,\n",
       "       1.06685884, 1.07280247, 1.07868096, 1.08449606, 1.09024946,\n",
       "       1.09594278, 1.10157754, 1.10715524, 1.11267731, 1.1181451 ,\n",
       "       1.12355993, 1.12892306, 1.13423572, 1.13949907, 1.14471424])"
      ]
     },
     "execution_count": 46,
     "metadata": {},
     "output_type": "execute_result"
    }
   ],
   "source": [
    "m.input.strains"
   ]
  },
  {
   "cell_type": "code",
   "execution_count": 47,
   "id": "0715614a-7284-4388-ac6b-c97bfedf7184",
   "metadata": {
    "tags": []
   },
   "outputs": [
    {
     "data": {
      "text/plain": [
       "True"
      ]
     },
     "execution_count": 47,
     "metadata": {},
     "output_type": "execute_result"
    }
   ],
   "source": [
    "m.input.check_ready()"
   ]
  },
  {
   "cell_type": "code",
   "execution_count": 48,
   "id": "9820e859-f1c2-4b25-b121-feea7843a9c5",
   "metadata": {
    "tags": []
   },
   "outputs": [],
   "source": [
    "_, output = m.execute()"
   ]
  },
  {
   "cell_type": "code",
   "execution_count": 49,
   "id": "47c6edf6-1ecf-484e-b352-0b2e070e70a3",
   "metadata": {
    "tags": []
   },
   "outputs": [
    {
     "data": {
      "text/plain": [
       "ReturnStatus(Code.DONE, None)"
      ]
     },
     "execution_count": 49,
     "metadata": {},
     "output_type": "execute_result"
    }
   ],
   "source": [
    "_"
   ]
  },
  {
   "cell_type": "code",
   "execution_count": 50,
   "id": "98c712a2-ee74-4c28-bce0-cb4824a930e6",
   "metadata": {
    "tags": []
   },
   "outputs": [
    {
     "data": {
      "image/png": "[encoded data removed]",
      "text/plain": [
       "<Figure size 640x480 with 1 Axes>"
      ]
     },
     "metadata": {},
     "output_type": "display_data"
    }
   ],
   "source": [
    "output.plot()"
   ]
  },
  {
   "cell_type": "code",
   "execution_count": 51,
   "id": "14162f5b-1318-4595-8c8c-d6346a21721d",
   "metadata": {},
   "outputs": [
    {
     "data": {
      "text/plain": [
       "0.6788586373205143"
      ]
     },
     "execution_count": 51,
     "metadata": {},
     "output_type": "execute_result"
    }
   ],
   "source": [
    "output.equilibrium_volume"
   ]
  },
  {
   "cell_type": "code",
   "execution_count": 52,
   "id": "0f5ff296-df33-40d2-851b-02d6ded72dd6",
   "metadata": {},
   "outputs": [
    {
     "data": {
      "text/plain": [
       "0.6788586373205143"
      ]
     },
     "execution_count": 52,
     "metadata": {},
     "output_type": "execute_result"
    }
   ],
   "source": [
    "output.get_structure().get_volume()"
   ]
  },
  {
   "cell_type": "code",
   "execution_count": 53,
   "id": "92b06330-b1fc-41d0-8bd8-bf1b11bf448c",
   "metadata": {},
   "outputs": [
    {
     "data": {
      "text/plain": [
       "Atoms(symbols='Fe', pbc=True, cell=[[-0.5536557129291797, 0.5536557129291797, 0.5536557129291797], [0.5536557129291797, -0.5536557129291797, 0.5536557129291797], [0.5536557129291797, 0.5536557129291797, -0.5536557129291797]])"
      ]
     },
     "execution_count": 53,
     "metadata": {},
     "output_type": "execute_result"
    }
   ],
   "source": [
    "output.get_structure()"
   ]
  },
  {
   "cell_type": "markdown",
   "id": "26bade63-559f-4c93-be24-5561f5c8190f",
   "metadata": {},
   "source": [
    "## With an Executor"
   ]
  },
  {
   "cell_type": "code",
   "execution_count": 54,
   "id": "89169376-be36-4ceb-9f4e-6e1f3247bc62",
   "metadata": {},
   "outputs": [],
   "source": [
    "m = MurnaghanTask()"
   ]
  },
  {
   "cell_type": "code",
   "execution_count": 55,
   "id": "2ee9f1d4-5b14-4340-98d4-4bd293af89a4",
   "metadata": {},
   "outputs": [],
   "source": [
    "m.input.task = AseStaticTask()\n",
    "m.input.task.input.calculator = MorsePotential()\n",
    "m.input.structure = bulk(\"Fe\", a=1.2)"
   ]
  },
  {
   "cell_type": "code",
   "execution_count": 56,
   "id": "3d73a9de-7b4e-476a-b50a-ac6a3957a7ab",
   "metadata": {},
   "outputs": [
    {
     "data": {
      "text/plain": [
       "<pyiron_contrib.tinybase.ase.AseStaticInput at 0x7f3e803cdb40>"
      ]
     },
     "execution_count": 56,
     "metadata": {},
     "output_type": "execute_result"
    }
   ],
   "source": [
    "m.input.task.input"
   ]
  },
  {
   "cell_type": "code",
   "execution_count": 57,
   "id": "0f075d90-e636-49be-b1a6-741a56363f54",
   "metadata": {},
   "outputs": [],
   "source": [
    "m.input.set_strain_range(.6, 250)"
   ]
  },
  {
   "cell_type": "code",
   "execution_count": 58,
   "id": "79c89012-5b28-4124-9681-2507e0690b49",
   "metadata": {
    "tags": []
   },
   "outputs": [
    {
     "name": "stdout",
     "output_type": "stream",
     "text": [
      "CPU times: user 490 ms, sys: 280 ms, total: 770 ms\n",
      "Wall time: 3.56 s\n"
     ]
    }
   ],
   "source": [
    "%%time\n",
    "exe = ProcessExecutor(max_processes=8).submit([m])\n",
    "exe.run()\n",
    "exe.wait()"
   ]
  },
  {
   "cell_type": "code",
   "execution_count": 59,
   "id": "004502ce-2022-476a-b634-4237a6009f43",
   "metadata": {
    "tags": []
   },
   "outputs": [],
   "source": [
    "from pyiron_contrib.tinybase.executor import DaskExecutor"
   ]
  },
  {
   "cell_type": "code",
   "execution_count": null,
   "id": "4c55e74b-5e7a-4c46-9eb1-1acf5dff2322",
   "metadata": {
    "tags": []
   },
   "outputs": [
    {
     "name": "stderr",
     "output_type": "stream",
     "text": [
      "/home/poul/pyiron/contrib/pyiron_contrib/__init__.py:9: UserWarning: pyiron module not found, importing Project from pyiron_base\n",
      "  warnings.warn(\"pyiron module not found, importing Project from pyiron_base\")\n",
      "/home/poul/pyiron/contrib/pyiron_contrib/__init__.py:9: UserWarning: pyiron module not found, importing Project from pyiron_base\n",
      "  warnings.warn(\"pyiron module not found, importing Project from pyiron_base\")\n"
     ]
    }
   ],
   "source": [
    "%%time\n",
    "exe = DaskExecutor.from_localcluster(2).submit([m])\n",
    "exe.run()\n",
    "exe.wait()"
   ]
  },
  {
   "cell_type": "code",
   "execution_count": null,
   "id": "7fe57ead-1175-4a29-a398-9e0adf52973a",
   "metadata": {
    "tags": []
   },
   "outputs": [],
   "source": [
    "exe.status"
   ]
  },
  {
   "cell_type": "code",
   "execution_count": null,
   "id": "0d999302-6f1d-48b6-865e-4af578d35cf7",
   "metadata": {
    "tags": []
   },
   "outputs": [],
   "source": [
    "exe.output[0].plot()"
   ]
  },
  {
   "cell_type": "markdown",
   "id": "e21f6582-e7ec-43be-80ec-e9ad53aabc43",
   "metadata": {},
   "source": [
    "# Combine Minimize and Murnaghan"
   ]
  },
  {
   "cell_type": "code",
   "execution_count": null,
   "id": "149c52b5-a0ce-4e6b-ba55-d94d33aa2f8a",
   "metadata": {
    "tags": []
   },
   "outputs": [],
   "source": [
    "m = MurnaghanTask()"
   ]
  },
  {
   "cell_type": "code",
   "execution_count": null,
   "id": "aca24005-ea49-4389-bc26-f292fd0a75a2",
   "metadata": {
    "tags": []
   },
   "outputs": [],
   "source": [
    "m.input.task = AseMinimizeTask()\n",
    "m.input.task.input.calculator = MorsePotential()\n",
    "m.input.task.input.max_steps = 100\n",
    "m.input.task.input.output_steps = 10\n",
    "m.input.task.input.ionic_force_tolerance = 1e-6\n",
    "m.input.task.input.lbfgs()\n",
    "\n",
    "m.input.structure = bulk(\"Fe\", a=1.2)"
   ]
  },
  {
   "cell_type": "code",
   "execution_count": null,
   "id": "4ae990bd-af18-4dae-8500-779c9509f3f6",
   "metadata": {
    "tags": []
   },
   "outputs": [],
   "source": [
    "\n",
    "m.input.set_strain_range(.5, 500)"
   ]
  },
  {
   "cell_type": "code",
   "execution_count": null,
   "id": "0925864e-4dd1-4f4e-ace4-aac09c55e787",
   "metadata": {
    "scrolled": true,
    "tags": []
   },
   "outputs": [],
   "source": [
    "%%time\n",
    "exe = ProcessExecutor(max_processes=4).submit([m])\n",
    "exe.run()\n",
    "exe.wait()\n",
    "output = exe.output[0]\n",
    "ret = exe.status[0]"
   ]
  },
  {
   "cell_type": "code",
   "execution_count": null,
   "id": "71bbb913-7d7a-4bb6-b775-3fbc8e7e1f35",
   "metadata": {
    "tags": []
   },
   "outputs": [],
   "source": [
    "ret"
   ]
  },
  {
   "cell_type": "code",
   "execution_count": null,
   "id": "4bf2df15-31dc-474c-b3df-f7c32b0fdaf2",
   "metadata": {
    "tags": []
   },
   "outputs": [],
   "source": [
    "output.energies[:10]"
   ]
  },
  {
   "cell_type": "code",
   "execution_count": null,
   "id": "eb0a2daf-9dab-4174-bfee-0cd1ef8c474e",
   "metadata": {},
   "outputs": [],
   "source": [
    "output.plot()"
   ]
  }
 ],
 "metadata": {
  "kernelspec": {
   "display_name": "Python 3 (ipykernel)",
   "language": "python",
   "name": "python3"
  },
  "language_info": {
   "codemirror_mode": {
    "name": "ipython",
    "version": 3
   },
   "file_extension": ".py",
   "mimetype": "text/x-python",
   "name": "python",
   "nbconvert_exporter": "python",
   "pygments_lexer": "ipython3",
   "version": "3.10.8"
  },
  "widgets": {
   "application/vnd.jupyter.widget-state+json": {
    "state": {
     "00a17ba0b124451cbde0fad3b84353ee": {
      "model_module": "@jupyter-widgets/controls",
      "model_module_version": "1.5.0",
      "model_name": "ButtonModel",
      "state": {
       "icon": "compress",
       "layout": "IPY_MODEL_06890714f26b4a38bc114f4555c24bfa",
       "style": "IPY_MODEL_910eb9e2748644ae844251d1462540df"
      }
     },
     "024eb52716ed4318b0626147bf790cf1": {
      "model_module": "@jupyter-widgets/controls",
      "model_module_version": "1.5.0",
      "model_name": "ButtonStyleModel",
      "state": {}
     },
     "0596ea65e79842aa8da3e12a4dd4c324": {
      "model_module": "@jupyter-widgets/base",
      "model_module_version": "1.2.0",
      "model_name": "LayoutModel",
      "state": {}
     },
     "06890714f26b4a38bc114f4555c24bfa": {
      "model_module": "@jupyter-widgets/base",
      "model_module_version": "1.2.0",
      "model_name": "LayoutModel",
      "state": {
       "width": "34px"
      }
     },
     "0a5483f8e9f14cb0a2c84098493c66e7": {
      "model_module": "@jupyter-widgets/controls",
      "model_module_version": "1.5.0",
      "model_name": "LinkModel",
      "state": {
       "source": [
        "IPY_MODEL_c70e261d6cf44f32bf2b6dae9c2030bc",
        "value"
       ],
       "target": [
        "IPY_MODEL_81ab0afcff0549fe9cdc34038bcb8065",
        "value"
       ]
      }
     },
     "0aa308d445ae4fa3a87e2d31352aaf75": {
      "model_module": "@jupyter-widgets/controls",
      "model_module_version": "1.5.0",
      "model_name": "LinkModel",
      "state": {
       "source": [
        "IPY_MODEL_a13a50d58406485cbfa71d192fdc504d",
        "max"
       ],
       "target": [
        "IPY_MODEL_72151a9d47704d1fb535afa54a44cdda",
        "max_frame"
       ]
      }
     },
     "0cb88e7cb2924370b51b3475a2ecedd3": {
      "model_module": "@jupyter-widgets/base",
      "model_module_version": "1.2.0",
      "model_name": "LayoutModel",
      "state": {}
     },
     "28677f6679f04d989db938d88030310a": {
      "model_module": "@jupyter-widgets/controls",
      "model_module_version": "1.5.0",
      "model_name": "ButtonStyleModel",
      "state": {}
     },
     "2964c4b4b96e47ed977a65d55c4c30f8": {
      "model_module": "@jupyter-widgets/controls",
      "model_module_version": "1.5.0",
      "model_name": "PlayModel",
      "state": {
       "layout": "IPY_MODEL_59c8fe8d50dc434d97ad407aa794ae9d",
       "max": 4,
       "style": "IPY_MODEL_c8b8572514b34b33aff97adc70ec50d6"
      }
     },
     "2bf88d342df54490a8d562803f726d8b": {
      "model_module": "@jupyter-widgets/base",
      "model_module_version": "1.2.0",
      "model_name": "LayoutModel",
      "state": {}
     },
     "2d621d97ad4840f08a792eef56349b30": {
      "model_module": "@jupyter-widgets/controls",
      "model_module_version": "1.5.0",
      "model_name": "SliderStyleModel",
      "state": {
       "description_width": ""
      }
     },
     "3006a5ee838c43d2aafb422a89033515": {
      "model_module": "@jupyter-widgets/controls",
      "model_module_version": "1.5.0",
      "model_name": "HBoxModel",
      "state": {
       "children": [
        "IPY_MODEL_2964c4b4b96e47ed977a65d55c4c30f8",
        "IPY_MODEL_f42dbefe1afa44ceac086275a099407a"
       ],
       "layout": "IPY_MODEL_0596ea65e79842aa8da3e12a4dd4c324"
      }
     },
     "31e5c0c3795a498d87c8a8b1d8327917": {
      "model_module": "@jupyter-widgets/base",
      "model_module_version": "1.2.0",
      "model_name": "LayoutModel",
      "state": {}
     },
     "331e65cb645e4261b0d521035d6f9fa8": {
      "model_module": "@jupyter-widgets/base",
      "model_module_version": "1.2.0",
      "model_name": "LayoutModel",
      "state": {}
     },
     "37d7c2ab2a74486fb7304bffbca48859": {
      "model_module": "@jupyter-widgets/base",
      "model_module_version": "1.2.0",
      "model_name": "LayoutModel",
      "state": {}
     },
     "3b60682933684f1ea5058a3211578972": {
      "model_module": "@jupyter-widgets/base",
      "model_module_version": "1.2.0",
      "model_name": "LayoutModel",
      "state": {}
     },
     "460d462ed7a64f8085e25f5d5c223ea9": {
      "model_module": "@jupyter-widgets/controls",
      "model_module_version": "1.5.0",
      "model_name": "ImageModel",
      "state": {
       "layout": "IPY_MODEL_9df118d922724f7f984c7a2a354672c4",
       "width": "900.0"
      }
     },
     "46480e766c6b4c43bcad9aef7493a9fc": {
      "model_module": "@jupyter-widgets/controls",
      "model_module_version": "1.5.0",
      "model_name": "LinkModel",
      "state": {
       "source": [
        "IPY_MODEL_78a1f9a2fe23401bb112cf028369300d",
        "max"
       ],
       "target": [
        "IPY_MODEL_72151a9d47704d1fb535afa54a44cdda",
        "max_frame"
       ]
      }
     },
     "47298cbae5234c2ba97fc00f30f32fbd": {
      "model_module": "@jupyter-widgets/base",
      "model_module_version": "1.2.0",
      "model_name": "LayoutModel",
      "state": {
       "width": "34px"
      }
     },
     "4d0edbaec6bb442e9d6618b698ced009": {
      "model_module": "@jupyter-widgets/base",
      "model_module_version": "1.2.0",
      "model_name": "LayoutModel",
      "state": {}
     },
     "537d9b3a42ff4c4b9069f347889c6a6c": {
      "model_module": "@jupyter-widgets/controls",
      "model_module_version": "1.5.0",
      "model_name": "LinkModel",
      "state": {
       "source": [
        "IPY_MODEL_c70e261d6cf44f32bf2b6dae9c2030bc",
        "max"
       ],
       "target": [
        "IPY_MODEL_cdde213a7a3445d08efacffc1c7b0581",
        "max_frame"
       ]
      }
     },
     "539b9bb00350429dac26a298efa0c127": {
      "model_module": "@jupyter-widgets/controls",
      "model_module_version": "1.5.0",
      "model_name": "ImageModel",
      "state": {
       "layout": "IPY_MODEL_4d0edbaec6bb442e9d6618b698ced009",
       "width": "900.0"
      }
     },
     "580fe06b91ad41eca7674506eb879c54": {
      "model_module": "@jupyter-widgets/base",
      "model_module_version": "1.2.0",
      "model_name": "LayoutModel",
      "state": {}
     },
     "59c8fe8d50dc434d97ad407aa794ae9d": {
      "model_module": "@jupyter-widgets/base",
      "model_module_version": "1.2.0",
      "model_name": "LayoutModel",
      "state": {}
     },
     "608e267572af412bab629eb7c94fa567": {
      "model_module": "@jupyter-widgets/controls",
      "model_module_version": "1.5.0",
      "model_name": "SliderStyleModel",
      "state": {
       "description_width": ""
      }
     },
     "62964029f705409193860678497ca49f": {
      "model_module": "@jupyter-widgets/controls",
      "model_module_version": "1.5.0",
      "model_name": "ImageModel",
      "state": {
       "layout": "IPY_MODEL_580fe06b91ad41eca7674506eb879c54",
       "width": "900.0"
      }
     },
     "63d6a4ee513142359ee6edc4754f18ab": {
      "model_module": "nglview-js-widgets",
      "model_module_version": "3.0.1",
      "model_name": "NGLModel",
      "state": {
       "_camera_orientation": [
        11.096625056567845,
        0,
        0,
        0,
        0,
        11.096625056567845,
        0,
        0,
        0,
        0,
        11.096625056567845,
        0,
        0,
        0,
        -0.375,
        1
       ],
       "_camera_str": "orthographic",
       "_gui_theme": null,
       "_ibtn_fullscreen": "IPY_MODEL_8cb24cb6978f4c998d27b645ea5757fd",
       "_igui": null,
       "_iplayer": "IPY_MODEL_3006a5ee838c43d2aafb422a89033515",
       "_ngl_color_dict": {},
       "_ngl_coordinate_resource": {},
       "_ngl_full_stage_parameters": {
        "ambientColor": 14540253,
        "ambientIntensity": 0.2,
        "backgroundColor": "white",
        "cameraEyeSep": 0.3,
        "cameraFov": 40,
        "cameraType": "orthographic",
        "clipDist": 10,
        "clipFar": 100,
        "clipNear": 0,
        "fogFar": 100,
        "fogNear": 50,
        "hoverTimeout": 0,
        "impostor": true,
        "lightColor": 14540253,
        "lightIntensity": 1,
        "mousePreset": "default",
        "panSpeed": 1,
        "quality": "medium",
        "rotateSpeed": 2,
        "sampleLevel": 0,
        "tooltip": true,
        "workerDefault": true,
        "zoomSpeed": 1.2
       },
       "_ngl_msg_archive": [
        {
         "args": [
          {
           "binary": false,
           "data": "MODEL     1\nATOM      1   Fe MOL     1       0.000   0.000   0.000  1.00  0.00          FE  \nATOM      2   Fe MOL     1       0.000   0.000   0.750  1.00  0.00          FE  \nENDMDL\n",
           "type": "blob"
          }
         ],
         "kwargs": {
          "defaultRepresentation": true,
          "ext": "pdb",
          "name": "nglview.adaptor.ASETrajectory"
         },
         "methodName": "loadFile",
         "reconstruc_color_scheme": false,
         "target": "Stage",
         "type": "call_method"
        },
        {
         "args": [
          "spacefill"
         ],
         "component_index": 0,
         "kwargs": {
          "radius": 0.5,
          "radiusType": "vdw",
          "scale": 0.5,
          "sele": "all"
         },
         "methodName": "addRepresentation",
         "reconstruc_color_scheme": false,
         "target": "compList",
         "type": "call_method"
        },
        {
         "args": [
          "ball+stick",
          0
         ],
         "kwargs": {},
         "methodName": "removeRepresentationsByName",
         "reconstruc_color_scheme": false,
         "target": "Widget",
         "type": "call_method"
        },
        {
         "args": [
          "unitcell"
         ],
         "component_index": 0,
         "kwargs": {
          "sele": "all"
         },
         "methodName": "addRepresentation",
         "reconstruc_color_scheme": false,
         "target": "compList",
         "type": "call_method"
        },
        {
         "args": [],
         "kwargs": {
          "cameraType": "orthographic"
         },
         "methodName": "setParameters",
         "reconstruc_color_scheme": false,
         "target": "Stage",
         "type": "call_method"
        }
       ],
       "_ngl_original_stage_parameters": {
        "ambientColor": 14540253,
        "ambientIntensity": 0.2,
        "backgroundColor": "white",
        "cameraEyeSep": 0.3,
        "cameraFov": 40,
        "cameraType": "perspective",
        "clipDist": 10,
        "clipFar": 100,
        "clipNear": 0,
        "fogFar": 100,
        "fogNear": 50,
        "hoverTimeout": 0,
        "impostor": true,
        "lightColor": 14540253,
        "lightIntensity": 1,
        "mousePreset": "default",
        "panSpeed": 1,
        "quality": "medium",
        "rotateSpeed": 2,
        "sampleLevel": 0,
        "tooltip": true,
        "workerDefault": true,
        "zoomSpeed": 1.2
       },
       "_ngl_repr_dict": {
        "0": {
         "0": {
          "params": {
           "assembly": "default",
           "clipCenter": {
            "x": 0,
            "y": 0,
            "z": 0
           },
           "clipNear": 0,
           "clipRadius": 0,
           "colorMode": "hcl",
           "colorReverse": false,
           "colorScale": "",
           "colorScheme": "element",
           "colorValue": 9474192,
           "defaultAssembly": "",
           "depthWrite": true,
           "diffuse": 16777215,
           "diffuseInterior": false,
           "disableImpostor": false,
           "disablePicking": false,
           "flatShaded": false,
           "interiorColor": 2236962,
           "interiorDarkening": 0,
           "lazy": false,
           "matrix": {
            "elements": [
             1,
             0,
             0,
             0,
             0,
             1,
             0,
             0,
             0,
             0,
             1,
             0,
             0,
             0,
             0,
             1
            ]
           },
           "metalness": 0,
           "opacity": 1,
           "quality": "medium",
           "radiusData": {},
           "radiusScale": 1,
           "radiusSize": 0.5,
           "radiusType": "size",
           "roughness": 0.4,
           "sele": "all",
           "side": "double",
           "sphereDetail": 1,
           "useInteriorColor": true,
           "visible": true,
           "wireframe": false
          },
          "type": "spacefill"
         },
         "1": {
          "params": {
           "clipCenter": {
            "x": 0,
            "y": 0,
            "z": 0
           },
           "clipNear": 0,
           "clipRadius": 0,
           "colorMode": "hcl",
           "colorReverse": false,
           "colorScale": "",
           "colorScheme": "element",
           "colorValue": "orange",
           "defaultAssembly": "",
           "depthWrite": true,
           "diffuse": 16777215,
           "diffuseInterior": false,
           "disableImpostor": false,
           "disablePicking": false,
           "flatShaded": false,
           "interiorColor": 2236962,
           "interiorDarkening": 0,
           "lazy": false,
           "matrix": {
            "elements": [
             1,
             0,
             0,
             0,
             0,
             1,
             0,
             0,
             0,
             0,
             1,
             0,
             0,
             0,
             0,
             1
            ]
           },
           "metalness": 0,
           "opacity": 1,
           "quality": "medium",
           "radialSegments": 10,
           "radiusData": {},
           "radiusScale": 1,
           "radiusSize": 0.5,
           "radiusType": "vdw",
           "roughness": 0.4,
           "sele": "all",
           "side": "double",
           "sphereDetail": 1,
           "useInteriorColor": true,
           "visible": true,
           "wireframe": false
          },
          "type": "unitcell"
         }
        }
       },
       "_ngl_serialize": false,
       "_ngl_version": "2.0.0-dev.36",
       "_ngl_view_id": [
        "28B9672B-4897-4070-9AC6-9C4B4F2AAC73"
       ],
       "_player_dict": {},
       "_scene_position": {},
       "_scene_rotation": {},
       "_synced_model_ids": [],
       "_synced_repr_model_ids": [],
       "_view_height": "",
       "_view_width": "",
       "background": "white",
       "frame": 0,
       "gui_style": null,
       "layout": "IPY_MODEL_0cb88e7cb2924370b51b3475a2ecedd3",
       "max_frame": 4,
       "n_components": 1,
       "picked": {}
      }
     },
     "68940526b8cf4c2997207324c7e7888b": {
      "model_module": "@jupyter-widgets/controls",
      "model_module_version": "1.5.0",
      "model_name": "SliderStyleModel",
      "state": {
       "description_width": ""
      }
     },
     "72151a9d47704d1fb535afa54a44cdda": {
      "model_module": "nglview-js-widgets",
      "model_module_version": "3.0.1",
      "model_name": "NGLModel",
      "state": {
       "_camera_orientation": [
        16.91904731270948,
        0,
        0,
        0,
        0,
        16.91904731270948,
        0,
        0,
        0,
        0,
        16.91904731270948,
        0,
        -1.5,
        -1.5,
        -1.5,
        1
       ],
       "_camera_str": "orthographic",
       "_gui_theme": null,
       "_ibtn_fullscreen": "IPY_MODEL_7970f82f392f44379408589deaaf3ff5",
       "_igui": null,
       "_iplayer": "IPY_MODEL_ba5a5d97828140d5bc2678f11310a4b5",
       "_ngl_color_dict": {},
       "_ngl_coordinate_resource": {},
       "_ngl_full_stage_parameters": {
        "ambientColor": 14540253,
        "ambientIntensity": 0.2,
        "backgroundColor": "white",
        "cameraEyeSep": 0.3,
        "cameraFov": 40,
        "cameraType": "orthographic",
        "clipDist": 10,
        "clipFar": 100,
        "clipNear": 0,
        "fogFar": 100,
        "fogNear": 50,
        "hoverTimeout": 0,
        "impostor": true,
        "lightColor": 14540253,
        "lightIntensity": 1,
        "mousePreset": "default",
        "panSpeed": 1,
        "quality": "medium",
        "rotateSpeed": 2,
        "sampleLevel": 0,
        "tooltip": true,
        "workerDefault": true,
        "zoomSpeed": 1.2
       },
       "_ngl_msg_archive": [
        {
         "args": [
          {
           "binary": false,
           "data": "CRYST1    3.600    3.600    3.600  90.00  90.00  90.00 P 1\nMODEL     1\nATOM      1   Fe MOL     1       0.000   0.000   0.000  1.00  0.00          FE  \nATOM      2   Fe MOL     1       0.600   0.600   0.600  1.00  0.00          FE  \nATOM      3   Fe MOL     1       0.000   0.000   1.200  1.00  0.00          FE  \nATOM      4   Fe MOL     1       0.600   0.600   1.800  1.00  0.00          FE  \nATOM      5   Fe MOL     1       0.000   0.000   2.400  1.00  0.00          FE  \nATOM      6   Fe MOL     1       0.600   0.600   3.000  1.00  0.00          FE  \nATOM      7   Fe MOL     1       0.000   1.200   0.000  1.00  0.00          FE  \nATOM      8   Fe MOL     1       0.600   1.800   0.600  1.00  0.00          FE  \nATOM      9   Fe MOL     1       0.000   1.200   1.200  1.00  0.00          FE  \nATOM     10   Fe MOL     1       0.600   1.800   1.800  1.00  0.00          FE  \nATOM     11   Fe MOL     1       0.000   1.200   2.400  1.00  0.00          FE  \nATOM     12   Fe MOL     1       0.600   1.800   3.000  1.00  0.00          FE  \nATOM     13   Fe MOL     1       0.000   2.400   0.000  1.00  0.00          FE  \nATOM     14   Fe MOL     1       0.600   3.000   0.600  1.00  0.00          FE  \nATOM     15   Fe MOL     1       0.000   2.400   1.200  1.00  0.00          FE  \nATOM     16   Fe MOL     1       0.600   3.000   1.800  1.00  0.00          FE  \nATOM     17   Fe MOL     1       0.000   2.400   2.400  1.00  0.00          FE  \nATOM     18   Fe MOL     1       0.600   3.000   3.000  1.00  0.00          FE  \nATOM     19   Fe MOL     1       1.200   0.000   0.000  1.00  0.00          FE  \nATOM     20   Fe MOL     1       1.800   0.600   0.600  1.00  0.00          FE  \nATOM     21   Fe MOL     1       1.200   0.000   1.200  1.00  0.00          FE  \nATOM     22   Fe MOL     1       1.800   0.600   1.800  1.00  0.00          FE  \nATOM     23   Fe MOL     1       1.200   0.000   2.400  1.00  0.00          FE  \nATOM     24   Fe MOL     1       1.800   0.600   3.000  1.00  0.00          FE  \nATOM     25   Fe MOL     1       1.200   1.200   0.000  1.00  0.00          FE  \nATOM     26   Fe MOL     1       1.800   1.800   0.600  1.00  0.00          FE  \nATOM     27   Fe MOL     1       1.200   1.200   1.200  1.00  0.00          FE  \nATOM     28   Fe MOL     1       1.800   1.800   1.800  1.00  0.00          FE  \nATOM     29   Fe MOL     1       1.200   1.200   2.400  1.00  0.00          FE  \nATOM     30   Fe MOL     1       1.800   1.800   3.000  1.00  0.00          FE  \nATOM     31   Fe MOL     1       1.200   2.400   0.000  1.00  0.00          FE  \nATOM     32   Fe MOL     1       1.800   3.000   0.600  1.00  0.00          FE  \nATOM     33   Fe MOL     1       1.200   2.400   1.200  1.00  0.00          FE  \nATOM     34   Fe MOL     1       1.800   3.000   1.800  1.00  0.00          FE  \nATOM     35   Fe MOL     1       1.200   2.400   2.400  1.00  0.00          FE  \nATOM     36   Fe MOL     1       1.800   3.000   3.000  1.00  0.00          FE  \nATOM     37   Fe MOL     1       2.400   0.000   0.000  1.00  0.00          FE  \nATOM     38   Fe MOL     1       3.000   0.600   0.600  1.00  0.00          FE  \nATOM     39   Fe MOL     1       2.400   0.000   1.200  1.00  0.00          FE  \nATOM     40   Fe MOL     1       3.000   0.600   1.800  1.00  0.00          FE  \nATOM     41   Fe MOL     1       2.400   0.000   2.400  1.00  0.00          FE  \nATOM     42   Fe MOL     1       3.000   0.600   3.000  1.00  0.00          FE  \nATOM     43   Fe MOL     1       2.400   1.200   0.000  1.00  0.00          FE  \nATOM     44   Fe MOL     1       3.000   1.800   0.600  1.00  0.00          FE  \nATOM     45   Fe MOL     1       2.400   1.200   1.200  1.00  0.00          FE  \nATOM     46   Fe MOL     1       3.000   1.800   1.800  1.00  0.00          FE  \nATOM     47   Fe MOL     1       2.400   1.200   2.400  1.00  0.00          FE  \nATOM     48   Fe MOL     1       3.000   1.800   3.000  1.00  0.00          FE  \nATOM     49   Fe MOL     1       2.400   2.400   0.000  1.00  0.00          FE  \nATOM     50   Fe MOL     1       3.000   3.000   0.600  1.00  0.00          FE  \nATOM     51   Fe MOL     1       2.400   2.400   1.200  1.00  0.00          FE  \nATOM     52   Fe MOL     1       3.000   3.000   1.800  1.00  0.00          FE  \nATOM     53   Fe MOL     1       2.400   2.400   2.400  1.00  0.00          FE  \nATOM     54   Fe MOL     1       3.000   3.000   3.000  1.00  0.00          FE  \nENDMDL\n",
           "type": "blob"
          }
         ],
         "kwargs": {
          "defaultRepresentation": true,
          "ext": "pdb",
          "name": "nglview.adaptor.ASETrajectory"
         },
         "methodName": "loadFile",
         "reconstruc_color_scheme": false,
         "target": "Stage",
         "type": "call_method"
        },
        {
         "args": [
          "spacefill"
         ],
         "component_index": 0,
         "kwargs": {
          "radius": 0.5,
          "radiusType": "vdw",
          "scale": 0.5,
          "sele": "all"
         },
         "methodName": "addRepresentation",
         "reconstruc_color_scheme": false,
         "target": "compList",
         "type": "call_method"
        },
        {
         "args": [
          "ball+stick",
          0
         ],
         "kwargs": {},
         "methodName": "removeRepresentationsByName",
         "reconstruc_color_scheme": false,
         "target": "Widget",
         "type": "call_method"
        },
        {
         "args": [
          "unitcell"
         ],
         "component_index": 0,
         "kwargs": {
          "sele": "all"
         },
         "methodName": "addRepresentation",
         "reconstruc_color_scheme": false,
         "target": "compList",
         "type": "call_method"
        },
        {
         "args": [],
         "kwargs": {
          "cameraType": "orthographic"
         },
         "methodName": "setParameters",
         "reconstruc_color_scheme": false,
         "target": "Stage",
         "type": "call_method"
        }
       ],
       "_ngl_original_stage_parameters": {
        "ambientColor": 14540253,
        "ambientIntensity": 0.2,
        "backgroundColor": "white",
        "cameraEyeSep": 0.3,
        "cameraFov": 40,
        "cameraType": "perspective",
        "clipDist": 10,
        "clipFar": 100,
        "clipNear": 0,
        "fogFar": 100,
        "fogNear": 50,
        "hoverTimeout": 0,
        "impostor": true,
        "lightColor": 14540253,
        "lightIntensity": 1,
        "mousePreset": "default",
        "panSpeed": 1,
        "quality": "medium",
        "rotateSpeed": 2,
        "sampleLevel": 0,
        "tooltip": true,
        "workerDefault": true,
        "zoomSpeed": 1.2
       },
       "_ngl_repr_dict": {
        "0": {
         "0": {
          "params": {
           "assembly": "default",
           "clipCenter": {
            "x": 0,
            "y": 0,
            "z": 0
           },
           "clipNear": 0,
           "clipRadius": 0,
           "colorMode": "hcl",
           "colorReverse": false,
           "colorScale": "",
           "colorScheme": "element",
           "colorValue": 9474192,
           "defaultAssembly": "",
           "depthWrite": true,
           "diffuse": 16777215,
           "diffuseInterior": false,
           "disableImpostor": false,
           "disablePicking": false,
           "flatShaded": false,
           "interiorColor": 2236962,
           "interiorDarkening": 0,
           "lazy": false,
           "matrix": {
            "elements": [
             1,
             0,
             0,
             0,
             0,
             1,
             0,
             0,
             0,
             0,
             1,
             0,
             0,
             0,
             0,
             1
            ]
           },
           "metalness": 0,
           "opacity": 1,
           "quality": "medium",
           "radiusData": {},
           "radiusScale": 1,
           "radiusSize": 0.5,
           "radiusType": "size",
           "roughness": 0.4,
           "sele": "all",
           "side": "double",
           "sphereDetail": 1,
           "useInteriorColor": true,
           "visible": true,
           "wireframe": false
          },
          "type": "spacefill"
         },
         "1": {
          "params": {
           "clipCenter": {
            "x": 0,
            "y": 0,
            "z": 0
           },
           "clipNear": 0,
           "clipRadius": 0,
           "colorMode": "hcl",
           "colorReverse": false,
           "colorScale": "",
           "colorScheme": "element",
           "colorValue": "orange",
           "defaultAssembly": "",
           "depthWrite": true,
           "diffuse": 16777215,
           "diffuseInterior": false,
           "disableImpostor": false,
           "disablePicking": false,
           "flatShaded": false,
           "interiorColor": 2236962,
           "interiorDarkening": 0,
           "lazy": false,
           "matrix": {
            "elements": [
             1,
             0,
             0,
             0,
             0,
             1,
             0,
             0,
             0,
             0,
             1,
             0,
             0,
             0,
             0,
             1
            ]
           },
           "metalness": 0,
           "opacity": 1,
           "quality": "medium",
           "radialSegments": 10,
           "radiusData": {},
           "radiusScale": 1,
           "radiusSize": 0.017999999209869933,
           "radiusType": "vdw",
           "roughness": 0.4,
           "sele": "all",
           "side": "double",
           "sphereDetail": 1,
           "useInteriorColor": true,
           "visible": true,
           "wireframe": false
          },
          "type": "unitcell"
         }
        }
       },
       "_ngl_serialize": false,
       "_ngl_version": "2.0.0-dev.36",
       "_ngl_view_id": [
        "AEE7E543-F286-4AAC-843E-55903D8E906C"
       ],
       "_player_dict": {},
       "_scene_position": {},
       "_scene_rotation": {},
       "_synced_model_ids": [],
       "_synced_repr_model_ids": [],
       "_view_height": "",
       "_view_width": "",
       "background": "white",
       "frame": 0,
       "gui_style": null,
       "layout": "IPY_MODEL_b9ab72d5e1de4c7d99fc1f3fc22216da",
       "max_frame": 21,
       "n_components": 1,
       "picked": {}
      }
     },
     "7518d4e0d82142ee9dd604b8cff07a07": {
      "model_module": "@jupyter-widgets/controls",
      "model_module_version": "1.5.0",
      "model_name": "LinkModel",
      "state": {
       "source": [
        "IPY_MODEL_2964c4b4b96e47ed977a65d55c4c30f8",
        "max"
       ],
       "target": [
        "IPY_MODEL_63d6a4ee513142359ee6edc4754f18ab",
        "max_frame"
       ]
      }
     },
     "78a1f9a2fe23401bb112cf028369300d": {
      "model_module": "@jupyter-widgets/controls",
      "model_module_version": "1.5.0",
      "model_name": "IntSliderModel",
      "state": {
       "layout": "IPY_MODEL_37d7c2ab2a74486fb7304bffbca48859",
       "max": 21,
       "style": "IPY_MODEL_68940526b8cf4c2997207324c7e7888b"
      }
     },
     "7970f82f392f44379408589deaaf3ff5": {
      "model_module": "@jupyter-widgets/controls",
      "model_module_version": "1.5.0",
      "model_name": "ButtonModel",
      "state": {
       "icon": "compress",
       "layout": "IPY_MODEL_47298cbae5234c2ba97fc00f30f32fbd",
       "style": "IPY_MODEL_28677f6679f04d989db938d88030310a"
      }
     },
     "81ab0afcff0549fe9cdc34038bcb8065": {
      "model_module": "@jupyter-widgets/controls",
      "model_module_version": "1.5.0",
      "model_name": "IntSliderModel",
      "state": {
       "layout": "IPY_MODEL_3b60682933684f1ea5058a3211578972",
       "max": 0,
       "style": "IPY_MODEL_608e267572af412bab629eb7c94fa567"
      }
     },
     "8cb24cb6978f4c998d27b645ea5757fd": {
      "model_module": "@jupyter-widgets/controls",
      "model_module_version": "1.5.0",
      "model_name": "ButtonModel",
      "state": {
       "icon": "compress",
       "layout": "IPY_MODEL_95a007abd96a4cf88dc9d1972bfcb885",
       "style": "IPY_MODEL_024eb52716ed4318b0626147bf790cf1"
      }
     },
     "8fcd49b7e0254e05b76f005d4d3ab56f": {
      "model_module": "@jupyter-widgets/base",
      "model_module_version": "1.2.0",
      "model_name": "LayoutModel",
      "state": {}
     },
     "910eb9e2748644ae844251d1462540df": {
      "model_module": "@jupyter-widgets/controls",
      "model_module_version": "1.5.0",
      "model_name": "ButtonStyleModel",
      "state": {}
     },
     "9161bdfbd4154693b32bb3ead65d3db6": {
      "model_module": "@jupyter-widgets/controls",
      "model_module_version": "1.5.0",
      "model_name": "LinkModel",
      "state": {
       "source": [
        "IPY_MODEL_f42dbefe1afa44ceac086275a099407a",
        "max"
       ],
       "target": [
        "IPY_MODEL_63d6a4ee513142359ee6edc4754f18ab",
        "max_frame"
       ]
      }
     },
     "95a007abd96a4cf88dc9d1972bfcb885": {
      "model_module": "@jupyter-widgets/base",
      "model_module_version": "1.2.0",
      "model_name": "LayoutModel",
      "state": {
       "width": "34px"
      }
     },
     "9df118d922724f7f984c7a2a354672c4": {
      "model_module": "@jupyter-widgets/base",
      "model_module_version": "1.2.0",
      "model_name": "LayoutModel",
      "state": {}
     },
     "a13a50d58406485cbfa71d192fdc504d": {
      "model_module": "@jupyter-widgets/controls",
      "model_module_version": "1.5.0",
      "model_name": "PlayModel",
      "state": {
       "layout": "IPY_MODEL_afd6af21b4a148edb9dd992bd5fa132e",
       "max": 21,
       "style": "IPY_MODEL_d7bba2a76a9647f7a7788f0c6b8fbab7"
      }
     },
     "a14ed0d326274c498b91e78604b4fccd": {
      "model_module": "@jupyter-widgets/controls",
      "model_module_version": "1.5.0",
      "model_name": "LinkModel",
      "state": {
       "source": [
        "IPY_MODEL_81ab0afcff0549fe9cdc34038bcb8065",
        "max"
       ],
       "target": [
        "IPY_MODEL_cdde213a7a3445d08efacffc1c7b0581",
        "max_frame"
       ]
      }
     },
     "a776064405af4084b8591f82b2e1fcdf": {
      "model_module": "@jupyter-widgets/controls",
      "model_module_version": "1.5.0",
      "model_name": "LinkModel",
      "state": {
       "source": [
        "IPY_MODEL_c70e261d6cf44f32bf2b6dae9c2030bc",
        "value"
       ],
       "target": [
        "IPY_MODEL_cdde213a7a3445d08efacffc1c7b0581",
        "frame"
       ]
      }
     },
     "afd6af21b4a148edb9dd992bd5fa132e": {
      "model_module": "@jupyter-widgets/base",
      "model_module_version": "1.2.0",
      "model_name": "LayoutModel",
      "state": {}
     },
     "b36c0c9105454af78422278b6847d006": {
      "model_module": "@jupyter-widgets/base",
      "model_module_version": "1.2.0",
      "model_name": "LayoutModel",
      "state": {}
     },
     "b9ab72d5e1de4c7d99fc1f3fc22216da": {
      "model_module": "@jupyter-widgets/base",
      "model_module_version": "1.2.0",
      "model_name": "LayoutModel",
      "state": {}
     },
     "ba5a5d97828140d5bc2678f11310a4b5": {
      "model_module": "@jupyter-widgets/controls",
      "model_module_version": "1.5.0",
      "model_name": "HBoxModel",
      "state": {
       "children": [
        "IPY_MODEL_a13a50d58406485cbfa71d192fdc504d",
        "IPY_MODEL_78a1f9a2fe23401bb112cf028369300d"
       ],
       "layout": "IPY_MODEL_b36c0c9105454af78422278b6847d006"
      }
     },
     "c70e261d6cf44f32bf2b6dae9c2030bc": {
      "model_module": "@jupyter-widgets/controls",
      "model_module_version": "1.5.0",
      "model_name": "PlayModel",
      "state": {
       "layout": "IPY_MODEL_d0d4bd7a685c42ada61108ebc1b2d2cf",
       "max": 0,
       "style": "IPY_MODEL_e75a2359044347888b56002f945db287"
      }
     },
     "c8b8572514b34b33aff97adc70ec50d6": {
      "model_module": "@jupyter-widgets/controls",
      "model_module_version": "1.5.0",
      "model_name": "DescriptionStyleModel",
      "state": {
       "description_width": ""
      }
     },
     "c8cc0fe989a74fe290ab251b3afda8ba": {
      "model_module": "@jupyter-widgets/controls",
      "model_module_version": "1.5.0",
      "model_name": "LinkModel",
      "state": {
       "source": [
        "IPY_MODEL_a13a50d58406485cbfa71d192fdc504d",
        "value"
       ],
       "target": [
        "IPY_MODEL_78a1f9a2fe23401bb112cf028369300d",
        "value"
       ]
      }
     },
     "cdde213a7a3445d08efacffc1c7b0581": {
      "model_module": "nglview-js-widgets",
      "model_module_version": "3.0.1",
      "model_name": "NGLModel",
      "state": {
       "_camera_orientation": [
        14,
        0,
        0,
        0,
        0,
        14,
        0,
        0,
        0,
        0,
        14,
        0,
        0,
        0,
        0,
        1
       ],
       "_camera_str": "orthographic",
       "_gui_theme": null,
       "_ibtn_fullscreen": "IPY_MODEL_00a17ba0b124451cbde0fad3b84353ee",
       "_igui": null,
       "_iplayer": "IPY_MODEL_e517781696d84f9aad35efa9ad443846",
       "_ngl_color_dict": {},
       "_ngl_coordinate_resource": {},
       "_ngl_full_stage_parameters": {
        "ambientColor": 14540253,
        "ambientIntensity": 0.2,
        "backgroundColor": "white",
        "cameraEyeSep": 0.3,
        "cameraFov": 40,
        "cameraType": "orthographic",
        "clipDist": 10,
        "clipFar": 100,
        "clipNear": 0,
        "fogFar": 100,
        "fogNear": 50,
        "hoverTimeout": 0,
        "impostor": true,
        "lightColor": 14540253,
        "lightIntensity": 1,
        "mousePreset": "default",
        "panSpeed": 1,
        "quality": "medium",
        "rotateSpeed": 2,
        "sampleLevel": 0,
        "tooltip": true,
        "workerDefault": true,
        "zoomSpeed": 1.2
       },
       "_ngl_msg_archive": [
        {
         "args": [
          {
           "binary": false,
           "data": "CRYST1   10.000   10.000   10.000  90.00  90.00  90.00 P 1\nMODEL     1\nATOM      0   Fe   Fe     0      0.000   0.000   0.000  1.00  0.00          Fe \nATOM      1   Fe   Fe     1      0.000   0.000   0.750  1.00  0.00          Fe \nENDMDL \n",
           "type": "blob"
          }
         ],
         "kwargs": {
          "defaultRepresentation": true,
          "ext": "pdb"
         },
         "methodName": "loadFile",
         "reconstruc_color_scheme": false,
         "target": "Stage",
         "type": "call_method"
        },
        {
         "args": [
          "spacefill"
         ],
         "component_index": 0,
         "kwargs": {
          "colorScheme": "element",
          "radius": 0.7099019513592786,
          "radiusType": "vdw",
          "sele": "#Fe"
         },
         "methodName": "addRepresentation",
         "reconstruc_color_scheme": false,
         "target": "compList",
         "type": "call_method"
        },
        {
         "args": [
          "ball+stick",
          0
         ],
         "kwargs": {},
         "methodName": "removeRepresentationsByName",
         "reconstruc_color_scheme": false,
         "target": "Widget",
         "type": "call_method"
        },
        {
         "args": [
          "unitcell"
         ],
         "component_index": 0,
         "kwargs": {
          "sele": "all"
         },
         "methodName": "addRepresentation",
         "reconstruc_color_scheme": false,
         "target": "compList",
         "type": "call_method"
        },
        {
         "args": [
          "shape",
          [
           [
            "arrow",
            [
             -1,
             -1,
             -1
            ],
            [
             0,
             -1,
             -1
            ],
            [
             1,
             0,
             0
            ],
            0.1
           ]
          ]
         ],
         "fire_embed": true,
         "kwargs": {},
         "methodName": "addShape",
         "reconstruc_color_scheme": false,
         "target": "Widget",
         "type": "call_method"
        },
        {
         "args": [
          "shape",
          [
           [
            "text",
            [
             0,
             -1,
             -1
            ],
            [
             0,
             0,
             0
            ],
            1,
            "x"
           ]
          ]
         ],
         "fire_embed": true,
         "kwargs": {},
         "methodName": "addShape",
         "reconstruc_color_scheme": false,
         "target": "Widget",
         "type": "call_method"
        },
        {
         "args": [
          "shape",
          [
           [
            "arrow",
            [
             -1,
             -1,
             -1
            ],
            [
             -1,
             0,
             -1
            ],
            [
             0,
             1,
             0
            ],
            0.1
           ]
          ]
         ],
         "fire_embed": true,
         "kwargs": {},
         "methodName": "addShape",
         "reconstruc_color_scheme": false,
         "target": "Widget",
         "type": "call_method"
        },
        {
         "args": [
          "shape",
          [
           [
            "text",
            [
             -1,
             0,
             -1
            ],
            [
             0,
             0,
             0
            ],
            1,
            "y"
           ]
          ]
         ],
         "fire_embed": true,
         "kwargs": {},
         "methodName": "addShape",
         "reconstruc_color_scheme": false,
         "target": "Widget",
         "type": "call_method"
        },
        {
         "args": [
          "shape",
          [
           [
            "arrow",
            [
             -1,
             -1,
             -1
            ],
            [
             -1,
             -1,
             0
            ],
            [
             0,
             0,
             1
            ],
            0.1
           ]
          ]
         ],
         "fire_embed": true,
         "kwargs": {},
         "methodName": "addShape",
         "reconstruc_color_scheme": false,
         "target": "Widget",
         "type": "call_method"
        },
        {
         "args": [
          "shape",
          [
           [
            "text",
            [
             -1,
             -1,
             0
            ],
            [
             0,
             0,
             0
            ],
            1,
            "z"
           ]
          ]
         ],
         "fire_embed": true,
         "kwargs": {},
         "methodName": "addShape",
         "reconstruc_color_scheme": false,
         "target": "Widget",
         "type": "call_method"
        },
        {
         "args": [],
         "kwargs": {
          "cameraType": "orthographic"
         },
         "methodName": "setParameters",
         "reconstruc_color_scheme": false,
         "target": "Stage",
         "type": "call_method"
        },
        {
         "args": [
          [
           14,
           0,
           0,
           0,
           0,
           14,
           0,
           0,
           0,
           0,
           14,
           0,
           0,
           0,
           0,
           14
          ]
         ],
         "kwargs": {},
         "methodName": "orient",
         "reconstruc_color_scheme": false,
         "target": "viewerControls",
         "type": "call_method"
        }
       ],
       "_ngl_original_stage_parameters": {
        "ambientColor": 14540253,
        "ambientIntensity": 0.2,
        "backgroundColor": "white",
        "cameraEyeSep": 0.3,
        "cameraFov": 40,
        "cameraType": "perspective",
        "clipDist": 10,
        "clipFar": 100,
        "clipNear": 0,
        "fogFar": 100,
        "fogNear": 50,
        "hoverTimeout": 0,
        "impostor": true,
        "lightColor": 14540253,
        "lightIntensity": 1,
        "mousePreset": "default",
        "panSpeed": 1,
        "quality": "medium",
        "rotateSpeed": 2,
        "sampleLevel": 0,
        "tooltip": true,
        "workerDefault": true,
        "zoomSpeed": 1.2
       },
       "_ngl_repr_dict": {
        "0": {
         "0": {
          "params": {
           "assembly": "default",
           "clipCenter": {
            "x": 0,
            "y": 0,
            "z": 0
           },
           "clipNear": 0,
           "clipRadius": 0,
           "colorMode": "hcl",
           "colorReverse": false,
           "colorScale": "",
           "colorScheme": "element",
           "colorValue": 9474192,
           "defaultAssembly": "",
           "depthWrite": true,
           "diffuse": 16777215,
           "diffuseInterior": false,
           "disableImpostor": false,
           "disablePicking": false,
           "flatShaded": false,
           "interiorColor": 2236962,
           "interiorDarkening": 0,
           "lazy": false,
           "matrix": {
            "elements": [
             1,
             0,
             0,
             0,
             0,
             1,
             0,
             0,
             0,
             0,
             1,
             0,
             0,
             0,
             0,
             1
            ]
           },
           "metalness": 0,
           "opacity": 1,
           "quality": "medium",
           "radiusData": {},
           "radiusScale": 1,
           "radiusSize": 0.7099019513592786,
           "radiusType": "size",
           "roughness": 0.4,
           "sele": "#Fe",
           "side": "double",
           "sphereDetail": 1,
           "useInteriorColor": true,
           "visible": true,
           "wireframe": false
          },
          "type": "spacefill"
         },
         "1": {
          "params": {
           "clipCenter": {
            "x": 0,
            "y": 0,
            "z": 0
           },
           "clipNear": 0,
           "clipRadius": 0,
           "colorMode": "hcl",
           "colorReverse": false,
           "colorScale": "",
           "colorScheme": "element",
           "colorValue": "orange",
           "defaultAssembly": "",
           "depthWrite": true,
           "diffuse": 16777215,
           "diffuseInterior": false,
           "disableImpostor": false,
           "disablePicking": false,
           "flatShaded": false,
           "interiorColor": 2236962,
           "interiorDarkening": 0,
           "lazy": false,
           "matrix": {
            "elements": [
             1,
             0,
             0,
             0,
             0,
             1,
             0,
             0,
             0,
             0,
             1,
             0,
             0,
             0,
             0,
             1
            ]
           },
           "metalness": 0,
           "opacity": 1,
           "quality": "medium",
           "radialSegments": 10,
           "radiusData": {},
           "radiusScale": 1,
           "radiusSize": 0.049999997805194256,
           "radiusType": "vdw",
           "roughness": 0.4,
           "sele": "all",
           "side": "double",
           "sphereDetail": 1,
           "useInteriorColor": true,
           "visible": true,
           "wireframe": false
          },
          "type": "unitcell"
         }
        },
        "1": {
         "0": {
          "params": {
           "clipCenter": {
            "x": 0,
            "y": 0,
            "z": 0
           },
           "clipNear": 0,
           "clipRadius": 0,
           "colorReverse": false,
           "depthWrite": true,
           "diffuse": 16777215,
           "diffuseInterior": false,
           "disablePicking": false,
           "flatShaded": false,
           "interiorColor": 2236962,
           "interiorDarkening": 0,
           "lazy": false,
           "matrix": {
            "elements": [
             1,
             0,
             0,
             0,
             0,
             1,
             0,
             0,
             0,
             0,
             1,
             0,
             0,
             0,
             0,
             1
            ]
           },
           "metalness": 0,
           "opacity": 1,
           "quality": "medium",
           "roughness": 0.4,
           "side": "double",
           "useInteriorColor": false,
           "visible": true,
           "wireframe": false
          },
          "type": "buffer"
         }
        },
        "2": {
         "0": {
          "params": {
           "clipCenter": {
            "x": 0,
            "y": 0,
            "z": 0
           },
           "clipNear": 0,
           "clipRadius": 0,
           "colorReverse": false,
           "depthWrite": true,
           "diffuse": 16777215,
           "diffuseInterior": false,
           "disablePicking": false,
           "flatShaded": false,
           "interiorColor": 2236962,
           "interiorDarkening": 0,
           "lazy": false,
           "matrix": {
            "elements": [
             1,
             0,
             0,
             0,
             0,
             1,
             0,
             0,
             0,
             0,
             1,
             0,
             0,
             0,
             0,
             1
            ]
           },
           "metalness": 0,
           "opacity": 1,
           "quality": "medium",
           "roughness": 0.4,
           "side": "double",
           "useInteriorColor": false,
           "visible": true,
           "wireframe": false
          },
          "type": "buffer"
         }
        },
        "3": {
         "0": {
          "params": {
           "clipCenter": {
            "x": 0,
            "y": 0,
            "z": 0
           },
           "clipNear": 0,
           "clipRadius": 0,
           "colorReverse": false,
           "depthWrite": true,
           "diffuse": 16777215,
           "diffuseInterior": false,
           "disablePicking": false,
           "flatShaded": false,
           "interiorColor": 2236962,
           "interiorDarkening": 0,
           "lazy": false,
           "matrix": {
            "elements": [
             1,
             0,
             0,
             0,
             0,
             1,
             0,
             0,
             0,
             0,
             1,
             0,
             0,
             0,
             0,
             1
            ]
           },
           "metalness": 0,
           "opacity": 1,
           "quality": "medium",
           "roughness": 0.4,
           "side": "double",
           "useInteriorColor": false,
           "visible": true,
           "wireframe": false
          },
          "type": "buffer"
         }
        },
        "4": {
         "0": {
          "params": {
           "clipCenter": {
            "x": 0,
            "y": 0,
            "z": 0
           },
           "clipNear": 0,
           "clipRadius": 0,
           "colorReverse": false,
           "depthWrite": true,
           "diffuse": 16777215,
           "diffuseInterior": false,
           "disablePicking": false,
           "flatShaded": false,
           "interiorColor": 2236962,
           "interiorDarkening": 0,
           "lazy": false,
           "matrix": {
            "elements": [
             1,
             0,
             0,
             0,
             0,
             1,
             0,
             0,
             0,
             0,
             1,
             0,
             0,
             0,
             0,
             1
            ]
           },
           "metalness": 0,
           "opacity": 1,
           "quality": "medium",
           "roughness": 0.4,
           "side": "double",
           "useInteriorColor": false,
           "visible": true,
           "wireframe": false
          },
          "type": "buffer"
         }
        },
        "5": {
         "0": {
          "params": {
           "clipCenter": {
            "x": 0,
            "y": 0,
            "z": 0
           },
           "clipNear": 0,
           "clipRadius": 0,
           "colorReverse": false,
           "depthWrite": true,
           "diffuse": 16777215,
           "diffuseInterior": false,
           "disablePicking": false,
           "flatShaded": false,
           "interiorColor": 2236962,
           "interiorDarkening": 0,
           "lazy": false,
           "matrix": {
            "elements": [
             1,
             0,
             0,
             0,
             0,
             1,
             0,
             0,
             0,
             0,
             1,
             0,
             0,
             0,
             0,
             1
            ]
           },
           "metalness": 0,
           "opacity": 1,
           "quality": "medium",
           "roughness": 0.4,
           "side": "double",
           "useInteriorColor": false,
           "visible": true,
           "wireframe": false
          },
          "type": "buffer"
         }
        },
        "6": {
         "0": {
          "params": {
           "clipCenter": {
            "x": 0,
            "y": 0,
            "z": 0
           },
           "clipNear": 0,
           "clipRadius": 0,
           "colorReverse": false,
           "depthWrite": true,
           "diffuse": 16777215,
           "diffuseInterior": false,
           "disablePicking": false,
           "flatShaded": false,
           "interiorColor": 2236962,
           "interiorDarkening": 0,
           "lazy": false,
           "matrix": {
            "elements": [
             1,
             0,
             0,
             0,
             0,
             1,
             0,
             0,
             0,
             0,
             1,
             0,
             0,
             0,
             0,
             1
            ]
           },
           "metalness": 0,
           "opacity": 1,
           "quality": "medium",
           "roughness": 0.4,
           "side": "double",
           "useInteriorColor": false,
           "visible": true,
           "wireframe": false
          },
          "type": "buffer"
         }
        }
       },
       "_ngl_serialize": false,
       "_ngl_version": "2.0.0-dev.36",
       "_ngl_view_id": [
        "EEA5383B-89E4-42F3-A148-FC24CADE8089"
       ],
       "_player_dict": {},
       "_scene_position": {},
       "_scene_rotation": {},
       "_synced_model_ids": [],
       "_synced_repr_model_ids": [],
       "_view_height": "",
       "_view_width": "",
       "background": "white",
       "frame": 0,
       "gui_style": null,
       "layout": "IPY_MODEL_2bf88d342df54490a8d562803f726d8b",
       "max_frame": 0,
       "n_components": 7,
       "picked": {}
      }
     },
     "d0d4bd7a685c42ada61108ebc1b2d2cf": {
      "model_module": "@jupyter-widgets/base",
      "model_module_version": "1.2.0",
      "model_name": "LayoutModel",
      "state": {}
     },
     "d3dba68b040c436a87aa1acf4b90a1c9": {
      "model_module": "nglview-js-widgets",
      "model_module_version": "3.0.1",
      "model_name": "ColormakerRegistryModel",
      "state": {
       "_msg_ar": [],
       "_msg_q": [],
       "_ready": true,
       "layout": "IPY_MODEL_8fcd49b7e0254e05b76f005d4d3ab56f"
      }
     },
     "d7bba2a76a9647f7a7788f0c6b8fbab7": {
      "model_module": "@jupyter-widgets/controls",
      "model_module_version": "1.5.0",
      "model_name": "DescriptionStyleModel",
      "state": {
       "description_width": ""
      }
     },
     "e479162c7f164eb28512cf35cef91c2f": {
      "model_module": "@jupyter-widgets/controls",
      "model_module_version": "1.5.0",
      "model_name": "LinkModel",
      "state": {
       "source": [
        "IPY_MODEL_2964c4b4b96e47ed977a65d55c4c30f8",
        "value"
       ],
       "target": [
        "IPY_MODEL_f42dbefe1afa44ceac086275a099407a",
        "value"
       ]
      }
     },
     "e517781696d84f9aad35efa9ad443846": {
      "model_module": "@jupyter-widgets/controls",
      "model_module_version": "1.5.0",
      "model_name": "HBoxModel",
      "state": {
       "children": [
        "IPY_MODEL_c70e261d6cf44f32bf2b6dae9c2030bc",
        "IPY_MODEL_81ab0afcff0549fe9cdc34038bcb8065"
       ],
       "layout": "IPY_MODEL_331e65cb645e4261b0d521035d6f9fa8"
      }
     },
     "e75a2359044347888b56002f945db287": {
      "model_module": "@jupyter-widgets/controls",
      "model_module_version": "1.5.0",
      "model_name": "DescriptionStyleModel",
      "state": {
       "description_width": ""
      }
     },
     "f42dbefe1afa44ceac086275a099407a": {
      "model_module": "@jupyter-widgets/controls",
      "model_module_version": "1.5.0",
      "model_name": "IntSliderModel",
      "state": {
       "layout": "IPY_MODEL_31e5c0c3795a498d87c8a8b1d8327917",
       "max": 4,
       "style": "IPY_MODEL_2d621d97ad4840f08a792eef56349b30"
      }
     },
     "f9278ff760c54f8fa5ad460b82946227": {
      "model_module": "@jupyter-widgets/controls",
      "model_module_version": "1.5.0",
      "model_name": "LinkModel",
      "state": {
       "source": [
        "IPY_MODEL_a13a50d58406485cbfa71d192fdc504d",
        "value"
       ],
       "target": [
        "IPY_MODEL_72151a9d47704d1fb535afa54a44cdda",
        "frame"
       ]
      }
     },
     "fda30267a096477a882c30d1c3fe783e": {
      "model_module": "@jupyter-widgets/controls",
      "model_module_version": "1.5.0",
      "model_name": "LinkModel",
      "state": {
       "source": [
        "IPY_MODEL_2964c4b4b96e47ed977a65d55c4c30f8",
        "value"
       ],
       "target": [
        "IPY_MODEL_63d6a4ee513142359ee6edc4754f18ab",
        "frame"
       ]
      }
     }
    },
    "version_major": 2,
    "version_minor": 0
   }
  }
 },
 "nbformat": 4,
 "nbformat_minor": 5
}
