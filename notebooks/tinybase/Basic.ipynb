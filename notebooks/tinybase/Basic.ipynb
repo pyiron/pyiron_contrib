{
 "cells": [
  {
   "cell_type": "markdown",
   "id": "ef2b1629-437d-45d8-b9d1-1cf3a6bf9d08",
   "metadata": {},
   "source": [
    "# Imports"
   ]
  },
  {
   "cell_type": "code",
   "execution_count": 1,
   "id": "fd11c1fd-6b5b-4739-ad10-9ebe47c0db49",
   "metadata": {},
   "outputs": [
    {
     "name": "stderr",
     "output_type": "stream",
     "text": [
      "/home/poul/pyiron/contrib/pyiron_contrib/__init__.py:9: UserWarning: pyiron module not found, importing Project from pyiron_base\n",
      "  warnings.warn(\"pyiron module not found, importing Project from pyiron_base\")\n"
     ]
    },
    {
     "data": {
      "text/html": [
       "<pre style=\"white-space:pre;overflow-x:auto;line-height:normal;font-family:Menlo,'DejaVu Sans Mono',consolas,'Courier New',monospace\"></pre>\n"
      ],
      "text/plain": []
     },
     "metadata": {},
     "output_type": "display_data"
    },
    {
     "data": {
      "text/html": [
       "<pre style=\"white-space:pre;overflow-x:auto;line-height:normal;font-family:Menlo,'DejaVu Sans Mono',consolas,'Courier New',monospace\"></pre>\n"
      ],
      "text/plain": []
     },
     "metadata": {},
     "output_type": "display_data"
    },
    {
     "data": {
      "application/vnd.jupyter.widget-view+json": {
       "model_id": "6c39844a5e564da6820d36bbba8a2060",
       "version_major": 2,
       "version_minor": 0
      },
      "text/plain": []
     },
     "metadata": {},
     "output_type": "display_data"
    }
   ],
   "source": [
    "from pyiron_contrib.tinybase.task import AbstractTask, FunctionTask, SeriesTask, LoopTask"
   ]
  },
  {
   "cell_type": "code",
   "execution_count": 2,
   "id": "95594ff4-2f77-49c2-b4a2-467268ecac00",
   "metadata": {},
   "outputs": [],
   "source": [
    "from pyiron_contrib.tinybase.executor import ProcessExecutor, BackgroundExecutor, Executor"
   ]
  },
  {
   "cell_type": "code",
   "execution_count": 3,
   "id": "88b1b600-28e0-4ad9-82d6-b2bd993efbda",
   "metadata": {},
   "outputs": [],
   "source": [
    "import logging\n",
    "logging.getLogger().setLevel(20)"
   ]
  },
  {
   "cell_type": "code",
   "execution_count": 4,
   "id": "e3d8cf33-1f39-4ef9-b92c-2dfd43cf4dd3",
   "metadata": {},
   "outputs": [],
   "source": [
    "import numpy as np"
   ]
  },
  {
   "cell_type": "markdown",
   "id": "5a1c480f-545b-411b-9cfc-a50af282de29",
   "metadata": {},
   "source": [
    "# Function Task"
   ]
  },
  {
   "cell_type": "markdown",
   "id": "756bef2c-7a16-40bb-8dee-9e9becf353f3",
   "metadata": {},
   "source": [
    "## Basic"
   ]
  },
  {
   "cell_type": "code",
   "execution_count": 5,
   "id": "9f2f3102-d15c-470a-b38c-f8084c9535ec",
   "metadata": {},
   "outputs": [],
   "source": [
    "def calc_fib(n):\n",
    "    import time\n",
    "    n1 = n2 = 1\n",
    "    for i in range(n):\n",
    "        time.sleep(.1)\n",
    "        x = n1 + n2\n",
    "        n1 = n2\n",
    "        n2 = x\n",
    "    return x"
   ]
  },
  {
   "cell_type": "code",
   "execution_count": 6,
   "id": "e125f49c-257b-4a24-bc81-83fe345d1dcf",
   "metadata": {},
   "outputs": [],
   "source": [
    "f = FunctionTask(calc_fib)"
   ]
  },
  {
   "cell_type": "code",
   "execution_count": 7,
   "id": "324f3c10-385e-4577-b089-c305f8203ca5",
   "metadata": {},
   "outputs": [
    {
     "data": {
      "application/json": [],
      "text/html": [
       "<pre>DataContainer([])</pre>"
      ],
      "text/plain": [
       "DataContainer([])"
      ]
     },
     "execution_count": 7,
     "metadata": {},
     "output_type": "execute_result"
    }
   ],
   "source": [
    "f.input.storage"
   ]
  },
  {
   "cell_type": "code",
   "execution_count": 8,
   "id": "6c1f5af7-f5e9-41d9-a849-bab0ebc7dd9f",
   "metadata": {},
   "outputs": [
    {
     "data": {
      "text/plain": [
       "[]"
      ]
     },
     "execution_count": 8,
     "metadata": {},
     "output_type": "execute_result"
    }
   ],
   "source": [
    "f.input.args"
   ]
  },
  {
   "cell_type": "code",
   "execution_count": 9,
   "id": "e0afb76d-d1b7-4b42-925f-fb117d58025e",
   "metadata": {},
   "outputs": [
    {
     "data": {
      "text/plain": [
       "{}"
      ]
     },
     "execution_count": 9,
     "metadata": {},
     "output_type": "execute_result"
    }
   ],
   "source": [
    "f.input.kwargs"
   ]
  },
  {
   "cell_type": "code",
   "execution_count": 10,
   "id": "6a5c3235-9c6b-481f-b316-db7420d1ad43",
   "metadata": {},
   "outputs": [],
   "source": [
    "f.input.kwargs['n'] = 10"
   ]
  },
  {
   "cell_type": "code",
   "execution_count": 11,
   "id": "4ade8d6a-6ce2-4f3a-b43d-71e1f87125bf",
   "metadata": {},
   "outputs": [
    {
     "data": {
      "text/plain": [
       "{'n': 10}"
      ]
     },
     "execution_count": 11,
     "metadata": {},
     "output_type": "execute_result"
    }
   ],
   "source": [
    "f.input.kwargs"
   ]
  },
  {
   "cell_type": "code",
   "execution_count": 12,
   "id": "da69a4cc-409a-4f51-b329-06a69ce8e7f5",
   "metadata": {
    "tags": []
   },
   "outputs": [
    {
     "data": {
      "text/plain": [
       "(ReturnStatus(Code.DONE, None),\n",
       " <pyiron_contrib.tinybase.task.FunctionOutput at 0x7fe13b496da0>)"
      ]
     },
     "execution_count": 12,
     "metadata": {},
     "output_type": "execute_result"
    }
   ],
   "source": [
    "f.execute()"
   ]
  },
  {
   "cell_type": "markdown",
   "id": "e4c8370f-fa93-44b8-a5d5-6fbdc59e3f4b",
   "metadata": {},
   "source": [
    "## We can use an executor to distribute the task to any compute resource"
   ]
  },
  {
   "cell_type": "markdown",
   "id": "aefcf8f6-fa1e-4902-aeff-7b3060e8290c",
   "metadata": {},
   "source": [
    "### Directly in the foreground"
   ]
  },
  {
   "cell_type": "code",
   "execution_count": 13,
   "id": "9bf053ed-14a1-4d05-80df-d5e135f2722f",
   "metadata": {
    "tags": []
   },
   "outputs": [],
   "source": [
    "exe = Executor().submit([f])"
   ]
  },
  {
   "cell_type": "code",
   "execution_count": 14,
   "id": "ab2584f3-4c66-4573-b3ab-265af626f5a5",
   "metadata": {
    "tags": []
   },
   "outputs": [],
   "source": [
    "exe.run()"
   ]
  },
  {
   "cell_type": "code",
   "execution_count": 15,
   "id": "9b995df8-09a5-45a0-b03e-ffa2706db25c",
   "metadata": {
    "tags": []
   },
   "outputs": [
    {
     "data": {
      "text/plain": [
       "ReturnStatus(Code.DONE, None)"
      ]
     },
     "execution_count": 15,
     "metadata": {},
     "output_type": "execute_result"
    }
   ],
   "source": [
    "exe.status[0]"
   ]
  },
  {
   "cell_type": "code",
   "execution_count": 16,
   "id": "b7ee90e1-7d99-46eb-bc69-138b986e6ebd",
   "metadata": {
    "tags": []
   },
   "outputs": [
    {
     "data": {
      "text/plain": [
       "144"
      ]
     },
     "execution_count": 16,
     "metadata": {},
     "output_type": "execute_result"
    }
   ],
   "source": [
    "exe.output[0].result"
   ]
  },
  {
   "cell_type": "markdown",
   "id": "8a3b6481-3605-44d3-8061-cb00c9fbcd34",
   "metadata": {},
   "source": [
    "### Do the same but in the background"
   ]
  },
  {
   "cell_type": "code",
   "execution_count": 17,
   "id": "1e1b986e-9e00-41f2-86c2-945ff7818580",
   "metadata": {},
   "outputs": [],
   "source": [
    "f = FunctionTask(calc_fib)"
   ]
  },
  {
   "cell_type": "code",
   "execution_count": 18,
   "id": "0b612150-f654-4995-8910-e46e766fdce2",
   "metadata": {},
   "outputs": [],
   "source": [
    "f.input.kwargs['n'] = 100"
   ]
  },
  {
   "cell_type": "code",
   "execution_count": 19,
   "id": "097b7515-4875-4e22-8b7a-07594ce16204",
   "metadata": {
    "tags": []
   },
   "outputs": [],
   "source": [
    "exe = BackgroundExecutor(max_threads=1).submit([f])"
   ]
  },
  {
   "cell_type": "code",
   "execution_count": 20,
   "id": "b334ac7e-35ae-4160-b6cf-96fa8672975a",
   "metadata": {
    "tags": []
   },
   "outputs": [],
   "source": [
    "exe.run()"
   ]
  },
  {
   "cell_type": "code",
   "execution_count": 21,
   "id": "0d2f427a-21e1-449e-a8cc-c2296bff6c10",
   "metadata": {},
   "outputs": [
    {
     "data": {
      "text/plain": [
       "<Code.RUNNING: 'running'>"
      ]
     },
     "execution_count": 21,
     "metadata": {},
     "output_type": "execute_result"
    }
   ],
   "source": [
    "exe._run_machine.state"
   ]
  },
  {
   "cell_type": "code",
   "execution_count": 22,
   "id": "a9631d5e-d46a-419c-a929-68ddd77487bb",
   "metadata": {},
   "outputs": [],
   "source": [
    "exe.wait()"
   ]
  },
  {
   "cell_type": "code",
   "execution_count": 23,
   "id": "408ffab0-70a1-4d08-9007-4d9f0513935d",
   "metadata": {},
   "outputs": [
    {
     "data": {
      "text/plain": [
       "927372692193078999176"
      ]
     },
     "execution_count": 23,
     "metadata": {},
     "output_type": "execute_result"
    }
   ],
   "source": [
    "exe.output[0].result"
   ]
  },
  {
   "cell_type": "markdown",
   "id": "c255f51a-950f-4e2e-a9b9-feb2f64f3ac5",
   "metadata": {},
   "source": [
    "### Do the same but in the background as process"
   ]
  },
  {
   "cell_type": "code",
   "execution_count": 24,
   "id": "ef72a65d-9020-46f6-b9f2-6cc57d7d016b",
   "metadata": {},
   "outputs": [],
   "source": [
    "f = FunctionTask(calc_fib)"
   ]
  },
  {
   "cell_type": "code",
   "execution_count": 25,
   "id": "18607afd-8c43-4c88-8b40-5f758b1afab8",
   "metadata": {},
   "outputs": [],
   "source": [
    "f.input.kwargs['n'] = 100"
   ]
  },
  {
   "cell_type": "code",
   "execution_count": 26,
   "id": "418a3d1b-abba-4609-881c-109e1e73fcff",
   "metadata": {
    "tags": []
   },
   "outputs": [],
   "source": [
    "exe = ProcessExecutor(max_processes=1).submit([f])"
   ]
  },
  {
   "cell_type": "code",
   "execution_count": 27,
   "id": "71a470dd-f25a-484b-9fbf-c758968ffb83",
   "metadata": {
    "tags": []
   },
   "outputs": [],
   "source": [
    "exe.run()"
   ]
  },
  {
   "cell_type": "code",
   "execution_count": 28,
   "id": "0c5bf27b-31da-48ce-9344-4b24638f237a",
   "metadata": {},
   "outputs": [
    {
     "data": {
      "text/plain": [
       "<Code.RUNNING: 'running'>"
      ]
     },
     "execution_count": 28,
     "metadata": {},
     "output_type": "execute_result"
    }
   ],
   "source": [
    "exe._run_machine.state"
   ]
  },
  {
   "cell_type": "code",
   "execution_count": 29,
   "id": "9765f4fe-262d-43fd-a122-a0ed1f97bc29",
   "metadata": {},
   "outputs": [],
   "source": [
    "exe.wait()"
   ]
  },
  {
   "cell_type": "code",
   "execution_count": 30,
   "id": "21f5ae38-f3e7-4f79-a38e-ef2531d537a1",
   "metadata": {},
   "outputs": [
    {
     "data": {
      "text/plain": [
       "927372692193078999176"
      ]
     },
     "execution_count": 30,
     "metadata": {},
     "output_type": "execute_result"
    }
   ],
   "source": [
    "exe.output[0].result"
   ]
  },
  {
   "cell_type": "code",
   "execution_count": 31,
   "id": "760de692-42d0-4827-abf5-8f3afaf1a2b2",
   "metadata": {},
   "outputs": [
    {
     "data": {
      "text/plain": [
       "<Code.FINISHED: 'finished'>"
      ]
     },
     "execution_count": 31,
     "metadata": {},
     "output_type": "execute_result"
    }
   ],
   "source": [
    "exe._run_machine.state"
   ]
  },
  {
   "cell_type": "markdown",
   "id": "85ec26e2-db1f-4858-a3ab-b7955e85e572",
   "metadata": {},
   "source": [
    "# Executors handle single Tasks and lists of them on the same footing"
   ]
  },
  {
   "cell_type": "code",
   "execution_count": 32,
   "id": "e2fed9f1-590b-4ab5-9922-a126444e6169",
   "metadata": {},
   "outputs": [],
   "source": [
    "tasks = [FunctionTask(calc_fib) for _ in range(10)]"
   ]
  },
  {
   "cell_type": "code",
   "execution_count": 33,
   "id": "fdfc8943-8c0b-4bc6-98f0-71a64b3fae27",
   "metadata": {},
   "outputs": [],
   "source": [
    "for i, n in enumerate(tasks):\n",
    "    n.input.kwargs['n'] = 3 + i"
   ]
  },
  {
   "cell_type": "markdown",
   "id": "cdb9c07d-a153-4e0c-926e-96702b64cbd3",
   "metadata": {},
   "source": [
    "## With the basic executor"
   ]
  },
  {
   "cell_type": "code",
   "execution_count": 34,
   "id": "dd709cfa-775f-41c1-a015-7e0647ec3d27",
   "metadata": {
    "scrolled": true,
    "tags": []
   },
   "outputs": [],
   "source": [
    "exe = Executor().submit(tasks)\n",
    "exe.run()"
   ]
  },
  {
   "cell_type": "code",
   "execution_count": 35,
   "id": "0ac1b35a-b130-4330-bf20-a1222bdc6103",
   "metadata": {},
   "outputs": [
    {
     "data": {
      "text/plain": [
       "(<pyiron_contrib.tinybase.task.FunctionOutput at 0x7fe13ab04eb0>,\n",
       " <pyiron_contrib.tinybase.task.FunctionOutput at 0x7fe13ab04f40>,\n",
       " <pyiron_contrib.tinybase.task.FunctionOutput at 0x7fe13ab050f0>,\n",
       " <pyiron_contrib.tinybase.task.FunctionOutput at 0x7fe13ab05420>,\n",
       " <pyiron_contrib.tinybase.task.FunctionOutput at 0x7fe13ab05600>,\n",
       " <pyiron_contrib.tinybase.task.FunctionOutput at 0x7fe13ab05720>,\n",
       " <pyiron_contrib.tinybase.task.FunctionOutput at 0x7fe13ab05840>,\n",
       " <pyiron_contrib.tinybase.task.FunctionOutput at 0x7fe13ab05960>,\n",
       " <pyiron_contrib.tinybase.task.FunctionOutput at 0x7fe13ab05a80>,\n",
       " <pyiron_contrib.tinybase.task.FunctionOutput at 0x7fe13ab05ba0>)"
      ]
     },
     "execution_count": 35,
     "metadata": {},
     "output_type": "execute_result"
    }
   ],
   "source": [
    "exe.output"
   ]
  },
  {
   "cell_type": "code",
   "execution_count": 36,
   "id": "1ef8d9d6-e5dc-4db1-9e20-7181321f07ce",
   "metadata": {},
   "outputs": [
    {
     "data": {
      "text/plain": [
       "8"
      ]
     },
     "execution_count": 36,
     "metadata": {},
     "output_type": "execute_result"
    }
   ],
   "source": [
    "exe.output[1].result"
   ]
  },
  {
   "cell_type": "markdown",
   "id": "4106ad2f-ece3-41d6-bed1-b340e434bec1",
   "metadata": {},
   "source": [
    "## With the process executor"
   ]
  },
  {
   "cell_type": "code",
   "execution_count": 37,
   "id": "25fe617c-ae8e-4b83-bf58-b790441a1126",
   "metadata": {
    "scrolled": true,
    "tags": []
   },
   "outputs": [],
   "source": [
    "exe = ProcessExecutor(max_processes=4).submit(tasks)\n",
    "exe.run()"
   ]
  },
  {
   "cell_type": "code",
   "execution_count": 38,
   "id": "19e5d3e8-6779-4c36-a636-2d8cd549e99c",
   "metadata": {},
   "outputs": [],
   "source": [
    "exe.wait()"
   ]
  },
  {
   "cell_type": "code",
   "execution_count": 39,
   "id": "66feb98b-3f99-4bfb-9bb5-cccaf26d009b",
   "metadata": {},
   "outputs": [
    {
     "data": {
      "text/plain": [
       "[ReturnStatus(Code.DONE, None),\n",
       " ReturnStatus(Code.DONE, None),\n",
       " ReturnStatus(Code.DONE, None),\n",
       " ReturnStatus(Code.DONE, None),\n",
       " ReturnStatus(Code.DONE, None),\n",
       " ReturnStatus(Code.DONE, None),\n",
       " ReturnStatus(Code.DONE, None),\n",
       " ReturnStatus(Code.DONE, None),\n",
       " ReturnStatus(Code.DONE, None),\n",
       " ReturnStatus(Code.DONE, None)]"
      ]
     },
     "execution_count": 39,
     "metadata": {},
     "output_type": "execute_result"
    }
   ],
   "source": [
    "exe.status"
   ]
  },
  {
   "cell_type": "code",
   "execution_count": 40,
   "id": "fbb40611-9f53-479e-854c-82c8c99a8070",
   "metadata": {},
   "outputs": [
    {
     "data": {
      "text/plain": [
       "[<pyiron_contrib.tinybase.task.FunctionOutput at 0x7fe13ab06bf0>,\n",
       " <pyiron_contrib.tinybase.task.FunctionOutput at 0x7fe13ab075e0>,\n",
       " <pyiron_contrib.tinybase.task.FunctionOutput at 0x7fe13ab06140>,\n",
       " <pyiron_contrib.tinybase.task.FunctionOutput at 0x7fe13ab07bb0>,\n",
       " <pyiron_contrib.tinybase.task.FunctionOutput at 0x7fe13ab07c70>,\n",
       " <pyiron_contrib.tinybase.task.FunctionOutput at 0x7fe13ab07d30>,\n",
       " <pyiron_contrib.tinybase.task.FunctionOutput at 0x7fe13ab07df0>,\n",
       " <pyiron_contrib.tinybase.task.FunctionOutput at 0x7fe13ab07eb0>,\n",
       " <pyiron_contrib.tinybase.task.FunctionOutput at 0x7fe13ab07f70>,\n",
       " <pyiron_contrib.tinybase.task.FunctionOutput at 0x7fe13ab07fd0>]"
      ]
     },
     "execution_count": 40,
     "metadata": {},
     "output_type": "execute_result"
    }
   ],
   "source": [
    "exe.output"
   ]
  },
  {
   "cell_type": "code",
   "execution_count": 41,
   "id": "250f9c2d-5c71-4ddb-a94e-fd42f42cbeff",
   "metadata": {},
   "outputs": [
    {
     "data": {
      "text/plain": [
       "55"
      ]
     },
     "execution_count": 41,
     "metadata": {},
     "output_type": "execute_result"
    }
   ],
   "source": [
    "exe.output[5].result"
   ]
  },
  {
   "cell_type": "markdown",
   "id": "3fc133cd-e685-499e-b139-82fc2678652a",
   "metadata": {},
   "source": [
    "# SeriesTask"
   ]
  },
  {
   "cell_type": "code",
   "execution_count": 42,
   "id": "3dba0814-6a50-41f9-a78f-040014fdc140",
   "metadata": {},
   "outputs": [],
   "source": [
    "s = SeriesTask()"
   ]
  },
  {
   "cell_type": "code",
   "execution_count": 43,
   "id": "52aae339-ebad-4621-b2e0-c55d4fea3d1b",
   "metadata": {},
   "outputs": [],
   "source": [
    "f1 = FunctionTask(calc_fib)"
   ]
  },
  {
   "cell_type": "code",
   "execution_count": 44,
   "id": "e10f7ee9-98db-48c7-affd-465c2011f7b1",
   "metadata": {},
   "outputs": [],
   "source": [
    "f2 = FunctionTask(np.sqrt)"
   ]
  },
  {
   "cell_type": "code",
   "execution_count": 45,
   "id": "b7e58b55-b4f5-4e2a-aef5-f4e080e4d50c",
   "metadata": {},
   "outputs": [],
   "source": [
    "def transfer(input, output):\n",
    "    input.args = [output.result]"
   ]
  },
  {
   "cell_type": "code",
   "execution_count": 46,
   "id": "b4b2212a-64df-4284-834d-8836c9a59b70",
   "metadata": {},
   "outputs": [
    {
     "data": {
      "text/plain": [
       "<pyiron_contrib.tinybase.task.SeriesInput at 0x7fe13ab21ab0>"
      ]
     },
     "execution_count": 46,
     "metadata": {},
     "output_type": "execute_result"
    }
   ],
   "source": [
    "s.input.first(f1).then(f2, transfer)"
   ]
  },
  {
   "cell_type": "code",
   "execution_count": 47,
   "id": "af337125-c4fe-497d-9374-b2d9301abe08",
   "metadata": {},
   "outputs": [],
   "source": [
    "s.input.tasks[0].input.kwargs['n'] = 10"
   ]
  },
  {
   "cell_type": "code",
   "execution_count": 48,
   "id": "810a17bb-9f5d-4c50-9665-fa2f93070d60",
   "metadata": {},
   "outputs": [],
   "source": [
    "status, output = s.execute()"
   ]
  },
  {
   "cell_type": "code",
   "execution_count": 49,
   "id": "4af47287-ab42-4cb4-8e65-c6efb7982ab4",
   "metadata": {},
   "outputs": [
    {
     "data": {
      "text/plain": [
       "ReturnStatus(Code.DONE, None)"
      ]
     },
     "execution_count": 49,
     "metadata": {},
     "output_type": "execute_result"
    }
   ],
   "source": [
    "status"
   ]
  },
  {
   "cell_type": "code",
   "execution_count": 50,
   "id": "705637d8-8da7-4429-ae6f-5401fc15cc9e",
   "metadata": {},
   "outputs": [
    {
     "data": {
      "text/plain": [
       "12.0"
      ]
     },
     "execution_count": 50,
     "metadata": {},
     "output_type": "execute_result"
    }
   ],
   "source": [
    "output.result"
   ]
  },
  {
   "cell_type": "markdown",
   "id": "fc672a15-6943-410e-91b2-7dfac8326948",
   "metadata": {},
   "source": [
    "# Loop Task"
   ]
  },
  {
   "cell_type": "markdown",
   "id": "adbced5b-dfa6-408e-ae01-e0a341c217e6",
   "metadata": {},
   "source": [
    "## Simple repeat loop"
   ]
  },
  {
   "cell_type": "code",
   "execution_count": 51,
   "id": "b9807c98-6df8-450f-a8dd-1a53cb4ded35",
   "metadata": {},
   "outputs": [],
   "source": [
    "l = LoopTask()"
   ]
  },
  {
   "cell_type": "code",
   "execution_count": 52,
   "id": "ac2b9aa8-c118-4a1a-bf8b-96d6853b9be6",
   "metadata": {},
   "outputs": [],
   "source": [
    "l.input.task = FunctionTask(lambda: np.random.rand())"
   ]
  },
  {
   "cell_type": "code",
   "execution_count": 53,
   "id": "ef092015-5756-409a-bd1a-a31793c0b2b8",
   "metadata": {},
   "outputs": [],
   "source": [
    "l.input.repeat(10, restart=lambda output, input, scratch: print(output.result))"
   ]
  },
  {
   "cell_type": "code",
   "execution_count": 54,
   "id": "10b67618-f56e-4348-9fdc-35514d0e83a4",
   "metadata": {
    "tags": []
   },
   "outputs": [
    {
     "name": "stdout",
     "output_type": "stream",
     "text": [
      "0.951652486500789\n",
      "0.8479495911177689\n",
      "0.39209981170147534\n",
      "0.12626824643855517\n",
      "0.1151548846424062\n",
      "0.41394951366874244\n",
      "0.32349310340372117\n",
      "0.9985082815924705\n",
      "0.036743594560547654\n",
      "0.024840470009968807\n"
     ]
    },
    {
     "data": {
      "text/plain": [
       "(ReturnStatus(Code.DONE, None),\n",
       " <pyiron_contrib.tinybase.task.FunctionOutput at 0x7fe13ab22bf0>)"
      ]
     },
     "execution_count": 54,
     "metadata": {},
     "output_type": "execute_result"
    }
   ],
   "source": [
    "l.execute()"
   ]
  },
  {
   "cell_type": "code",
   "execution_count": 55,
   "id": "1162c965-93c8-40d4-b8da-2fa4eedb8b3e",
   "metadata": {
    "tags": []
   },
   "outputs": [
    {
     "name": "stdout",
     "output_type": "stream",
     "text": [
      "0.4786223239196473\n",
      "0.8186548613180863\n",
      "0.028784009263032373\n",
      "0.5010370915300685\n",
      "0.9020777461434385\n",
      "0.8501369870658283\n",
      "0.20036590660650433\n",
      "0.048401602265645605\n",
      "0.7459809033150049\n",
      "0.8064230025647129\n"
     ]
    }
   ],
   "source": [
    "exe = BackgroundExecutor(max_threads=1).submit([l])\n",
    "exe.run()\n",
    "exe.wait()"
   ]
  },
  {
   "cell_type": "code",
   "execution_count": 56,
   "id": "a0db86f9-d974-44d5-893b-9c3a0a1c3ecb",
   "metadata": {
    "tags": []
   },
   "outputs": [
    {
     "data": {
      "text/plain": [
       "0.824491968944771"
      ]
     },
     "execution_count": 56,
     "metadata": {},
     "output_type": "execute_result"
    }
   ],
   "source": [
    "exe.output[0].result"
   ]
  },
  {
   "cell_type": "markdown",
   "id": "1be0a463-f003-4a43-80a3-3e70df03a0bc",
   "metadata": {},
   "source": [
    "## Loop with a termination condition"
   ]
  },
  {
   "cell_type": "code",
   "execution_count": 57,
   "id": "6c251bfa-e8cf-4e1a-990d-451ebb53f713",
   "metadata": {},
   "outputs": [],
   "source": [
    "l = LoopTask()"
   ]
  },
  {
   "cell_type": "code",
   "execution_count": 58,
   "id": "563c7fe1-b96f-463c-8903-50f054c831f6",
   "metadata": {},
   "outputs": [],
   "source": [
    "l.input.task = FunctionTask(lambda: np.random.rand())"
   ]
  },
  {
   "cell_type": "code",
   "execution_count": 59,
   "id": "10130bfd-636f-4771-b30b-4648a8822f04",
   "metadata": {},
   "outputs": [],
   "source": [
    "l.input.control_with(\n",
    "    condition=lambda task, output, scratch: output.result < .15,\n",
    "    restart=lambda output, input, scratch: print(output.result)\n",
    ")"
   ]
  },
  {
   "cell_type": "code",
   "execution_count": 60,
   "id": "e65a16c1-40b4-4aa6-b382-c38405edd41e",
   "metadata": {
    "tags": []
   },
   "outputs": [
    {
     "name": "stdout",
     "output_type": "stream",
     "text": [
      "0.2292513171117575\n",
      "0.22555629178899173\n",
      "0.9524191400881127\n"
     ]
    },
    {
     "data": {
      "text/plain": [
       "(ReturnStatus(Code.DONE, None),\n",
       " <pyiron_contrib.tinybase.task.FunctionOutput at 0x7fe13ab3a2f0>)"
      ]
     },
     "execution_count": 60,
     "metadata": {},
     "output_type": "execute_result"
    }
   ],
   "source": [
    "l.execute()"
   ]
  },
  {
   "cell_type": "markdown",
   "id": "840944df-098e-4318-90c1-a66ec31dd513",
   "metadata": {},
   "source": [
    "# Implementation Examples\n",
    "\n",
    "For a much too simplified example, let's write a task that simply waits `n` times `time` seconds, where each of the `time` waits is a separate, independent task itself.  In tinybase speak such a construct is a `TaskGenerator`, because it internally generates a sequence of atomic tasks that can be scheduled by an executor in whatever order.  From a user's perspective however, a task generator behaves exactly like a task (and it implements the same internal interface).\n",
    "\n",
    "To write such a class, we need to\n",
    "\n",
    "1. define an input class;\n",
    "2. define an output class\n",
    "3. and combine them on the actual generator.\n",
    "\n",
    "For the waiting, we'll reuse the already introduces `FunctionTask` to wrap `time.sleep` from the standard library."
   ]
  },
  {
   "cell_type": "code",
   "execution_count": 61,
   "id": "8ead2987-116c-4bba-a09a-4b28a71660f1",
   "metadata": {
    "tags": []
   },
   "outputs": [],
   "source": [
    "from pyiron_contrib.tinybase.task import TaskGenerator, FunctionTask, ReturnStatus\n",
    "from pyiron_contrib.tinybase.container import AbstractInput, AbstractOutput, StorageAttribute\n",
    "import time\n",
    "\n",
    "class WaitInput(AbstractInput):\n",
    "    # this defines the input parameters\n",
    "    time = StorageAttribute().type(float).default(10.0)\n",
    "    n = StorageAttribute().type(int).default(10)\n",
    "\n",
    "class WaitOutput(AbstractOutput):\n",
    "    # we have no meaningful output, so we'll leave it empty.\n",
    "    pass\n",
    "\n",
    "class WaitGenerator(TaskGenerator):\n",
    "    # here our task generator class, needs to advertise which input and output classes it is going to use\n",
    "    def _get_input(self):\n",
    "        return WaitInput()\n",
    "    def _get_output(self):\n",
    "        return WaitOutput()\n",
    "    def __iter__(self):\n",
    "        # the main computation in a generator is defined in its __iter__ method.\n",
    "        # executors will iterate over the the results yielded here and inject back the results\n",
    "        # in each iteration the generator can dynamically return new tasks depending on the\n",
    "        # results that came back from an executor.\n",
    "\n",
    "        # in our case we just have `n` independent waiting tasks, so we create them in a loop\n",
    "        # and yield them in one iteration; then discard their (anyway empty) outut and return\n",
    "        # our own return status\n",
    "        tasks = []\n",
    "        for _ in range(self.input.n):\n",
    "            t = FunctionTask(time.sleep)\n",
    "            tasks.append(t)\n",
    "            t.input.args = [self.input.time]\n",
    "        ret, out = zip(*(yield tasks))\n",
    "        return ReturnStatus.done(), self._get_output()"
   ]
  },
  {
   "cell_type": "markdown",
   "id": "d4ed0b67-f732-4247-85b8-5aea5ef3c6dd",
   "metadata": {},
   "source": [
    "Passing the `capture_exceptions` as `False` means tinybase will not catch any exceptions\n",
    "and give us the direct stack trace where any exceptions occured.  This is useful\n",
    "for debugging a new implemention in a notebook like here.  By default tinybase captures\n",
    "exceptions and sets the return status to aborted automatically."
   ]
  },
  {
   "cell_type": "code",
   "execution_count": 62,
   "id": "c4170017-0825-4e2c-87b2-ea4ddc14499e",
   "metadata": {
    "tags": []
   },
   "outputs": [
    {
     "name": "stdout",
     "output_type": "stream",
     "text": [
      "CPU times: user 0 ns, sys: 7.75 ms, total: 7.75 ms\n",
      "Wall time: 20 s\n"
     ]
    },
    {
     "data": {
      "text/plain": [
       "(ReturnStatus(Code.DONE, None), <__main__.WaitOutput at 0x7fe13ab3b430>)"
      ]
     },
     "execution_count": 62,
     "metadata": {},
     "output_type": "execute_result"
    }
   ],
   "source": [
    "%%time\n",
    "wait = WaitGenerator(capture_exceptions=False)\n",
    "wait.input.time = 2.0\n",
    "wait.input.n = 10\n",
    "wait.execute()"
   ]
  },
  {
   "cell_type": "markdown",
   "id": "56971ff1-2af6-4b4d-a659-2e39d25b3d89",
   "metadata": {},
   "source": [
    "Calling `execute` on a task generator will simply execute one task after the other.\n",
    "We therefore expect the run time to be 2 * 10 s."
   ]
  },
  {
   "cell_type": "code",
   "execution_count": 63,
   "id": "0ad95218-1e00-408e-8db3-858852d88e8f",
   "metadata": {
    "tags": []
   },
   "outputs": [],
   "source": [
    "from pyiron_contrib.tinybase.executor import BackgroundExecutor"
   ]
  },
  {
   "cell_type": "markdown",
   "id": "b8a8ffc0-98da-46d4-99f5-42eae115b0db",
   "metadata": {},
   "source": [
    "If we run with the process executor, but only give one core, we expect the run time\n",
    "to stay the same."
   ]
  },
  {
   "cell_type": "code",
   "execution_count": 64,
   "id": "dc30851f-ed76-4bde-979f-9b42286b1645",
   "metadata": {
    "tags": []
   },
   "outputs": [
    {
     "name": "stdout",
     "output_type": "stream",
     "text": [
      "CPU times: user 27.8 ms, sys: 32.7 ms, total: 60.5 ms\n",
      "Wall time: 20.1 s\n"
     ]
    }
   ],
   "source": [
    "%%time\n",
    "exe = ProcessExecutor(max_processes=1).submit([wait])\n",
    "exe.run()\n",
    "exe.wait()"
   ]
  },
  {
   "cell_type": "markdown",
   "id": "41343290-a527-41e1-a1da-b2c3b77175df",
   "metadata": {},
   "source": [
    "If we allow multiple cores to wait in parallel the run time naturally goes down accordingly\n",
    "modulo overhead from the process pool."
   ]
  },
  {
   "cell_type": "code",
   "execution_count": 65,
   "id": "d2c0e09b-bd43-4bd5-8c94-6ced8a12fa1a",
   "metadata": {
    "tags": []
   },
   "outputs": [
    {
     "name": "stdout",
     "output_type": "stream",
     "text": [
      "CPU times: user 20.1 ms, sys: 40.7 ms, total: 60.8 ms\n",
      "Wall time: 6.08 s\n"
     ]
    }
   ],
   "source": [
    "%%time\n",
    "exe = ProcessExecutor(max_processes=4).submit([wait])\n",
    "exe.run()\n",
    "exe.wait()"
   ]
  },
  {
   "cell_type": "markdown",
   "id": "f11b9d68-1632-450b-9360-e73ca4e92b03",
   "metadata": {},
   "source": [
    "Since we are just waiting here, even running in separate threads gives the same speed up, \n",
    "regardless of the GIL."
   ]
  },
  {
   "cell_type": "code",
   "execution_count": 66,
   "id": "2bf18743-4760-4491-968c-49a7968ef6cf",
   "metadata": {
    "tags": []
   },
   "outputs": [
    {
     "name": "stdout",
     "output_type": "stream",
     "text": [
      "CPU times: user 21 ms, sys: 7.34 ms, total: 28.3 ms\n",
      "Wall time: 6.04 s\n"
     ]
    }
   ],
   "source": [
    "%%time\n",
    "exe = BackgroundExecutor(max_threads=4).submit([wait])\n",
    "exe.run()\n",
    "exe.wait()"
   ]
  }
 ],
 "metadata": {
  "kernelspec": {
   "display_name": "Python 3 (ipykernel)",
   "language": "python",
   "name": "python3"
  },
  "language_info": {
   "codemirror_mode": {
    "name": "ipython",
    "version": 3
   },
   "file_extension": ".py",
   "mimetype": "text/x-python",
   "name": "python",
   "nbconvert_exporter": "python",
   "pygments_lexer": "ipython3",
   "version": "3.10.8"
  },
  "widgets": {
   "application/vnd.jupyter.widget-state+json": {
    "state": {},
    "version_major": 2,
    "version_minor": 0
   }
  }
 },
 "nbformat": 4,
 "nbformat_minor": 5
}
