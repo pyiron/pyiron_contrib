{
 "cells": [
  {
   "cell_type": "code",
   "execution_count": 1,
   "id": "1697a637-eb3d-4b63-9cf8-8bc1f56abe22",
   "metadata": {
    "tags": []
   },
   "outputs": [
    {
     "name": "stderr",
     "output_type": "stream",
     "text": [
      "/home/poul/pyiron/contrib/pyiron_contrib/__init__.py:9: UserWarning: pyiron module not found, importing Project from pyiron_base\n",
      "  warnings.warn(\"pyiron module not found, importing Project from pyiron_base\")\n"
     ]
    },
    {
     "data": {
      "application/vnd.jupyter.widget-view+json": {
       "model_id": "49e565b4cb784276848f55d7ada29e56",
       "version_major": 2,
       "version_minor": 0
      },
      "text/plain": []
     },
     "metadata": {},
     "output_type": "display_data"
    }
   ],
   "source": [
    "from pyiron_contrib.tinybase.lammps import LammpsStaticTask"
   ]
  },
  {
   "cell_type": "code",
   "execution_count": 2,
   "id": "0c91a3c3-1d02-49f2-b390-4a9ac5ae4d00",
   "metadata": {
    "tags": []
   },
   "outputs": [],
   "source": [
    "from ase.build import bulk"
   ]
  },
  {
   "cell_type": "markdown",
   "id": "a7a8f22f-9df9-4f50-9106-f6aa583444ce",
   "metadata": {},
   "source": [
    "A small hack to load resources defined in the notebook folder."
   ]
  },
  {
   "cell_type": "code",
   "execution_count": 3,
   "id": "9feaa502-d16a-4cac-bb36-e681c85a0a63",
   "metadata": {},
   "outputs": [],
   "source": [
    "from pyiron_contrib.tinybase.shell import state"
   ]
  },
  {
   "cell_type": "code",
   "execution_count": 4,
   "id": "8c340f6c-c687-4461-9c33-f98b768773d6",
   "metadata": {
    "tags": []
   },
   "outputs": [],
   "source": [
    "state.settings.resource_paths.insert(0, '/home/poul/pyiron/contrib/notebooks/tinybase/resources')"
   ]
  },
  {
   "cell_type": "markdown",
   "id": "59cf9aae-1640-4ed4-901e-06544a68e8fd",
   "metadata": {},
   "source": [
    "# Simple Static Calculation with Lammps"
   ]
  },
  {
   "cell_type": "code",
   "execution_count": 19,
   "id": "64c9b3d4-e6e1-4e21-86fc-318940c4c8e8",
   "metadata": {
    "tags": []
   },
   "outputs": [],
   "source": [
    "lmp = LammpsStaticTask(capture_exceptions=False)"
   ]
  },
  {
   "cell_type": "code",
   "execution_count": 20,
   "id": "df4de500-24f5-4160-933d-57cf3d0f15a6",
   "metadata": {
    "tags": []
   },
   "outputs": [],
   "source": [
    "lmp.input.structure = bulk('Fe', cubic=True).repeat(2)"
   ]
  },
  {
   "cell_type": "code",
   "execution_count": 21,
   "id": "4e5c69d6-fee8-4166-8e06-ba8a2e58e707",
   "metadata": {
    "tags": []
   },
   "outputs": [],
   "source": [
    "lmp.input.structure.rattle(1e-2)"
   ]
  },
  {
   "cell_type": "markdown",
   "id": "bc766dba-b88d-4b6b-997a-fbc6e37529b1",
   "metadata": {},
   "source": [
    "List potentials works as before (using the same code), but can't set custom potentials yet."
   ]
  },
  {
   "cell_type": "code",
   "execution_count": 22,
   "id": "1056c4b6-603c-4603-8021-a89c64f84255",
   "metadata": {
    "scrolled": true,
    "tags": []
   },
   "outputs": [
    {
     "data": {
      "text/plain": [
       "['1997--Ackland-G-J--Fe--LAMMPS--ipr1',\n",
       " '1998--Meyer-R--Fe--LAMMPS--ipr1',\n",
       " '2001--Lee-B-J--Fe--LAMMPS--ipr1',\n",
       " '2001--Lee-B-J--Fe-Cr--LAMMPS--ipr1',\n",
       " '2003--Mendelev-M-I--Fe-2--LAMMPS--ipr3']"
      ]
     },
     "execution_count": 22,
     "metadata": {},
     "output_type": "execute_result"
    }
   ],
   "source": [
    "lmp.input.list_potentials()[:5]"
   ]
  },
  {
   "cell_type": "code",
   "execution_count": 23,
   "id": "a6af7f64-5435-40b1-b44c-960528fc0cc5",
   "metadata": {
    "tags": []
   },
   "outputs": [],
   "source": [
    "lmp.input.potential = '1997--Ackland-G-J--Fe--LAMMPS--ipr1'"
   ]
  },
  {
   "cell_type": "code",
   "execution_count": 27,
   "id": "8a699e68-ad89-4d52-bdff-3b86d9624a4b",
   "metadata": {
    "tags": []
   },
   "outputs": [],
   "source": [
    "ret, out = lmp.execute()"
   ]
  },
  {
   "cell_type": "code",
   "execution_count": 28,
   "id": "8b837b3d-7bd0-4930-817b-d497e8ae1ead",
   "metadata": {
    "tags": []
   },
   "outputs": [
    {
     "data": {
      "text/plain": [
       "ReturnStatus(Code.DONE, None)"
      ]
     },
     "execution_count": 28,
     "metadata": {},
     "output_type": "execute_result"
    }
   ],
   "source": [
    "ret"
   ]
  },
  {
   "cell_type": "markdown",
   "id": "c4a2020c-6fe8-4ec4-a5b4-0b55ff296d29",
   "metadata": {},
   "source": [
    "Current lammps output definition only supports generic attributes, but more can be added."
   ]
  },
  {
   "cell_type": "code",
   "execution_count": 29,
   "id": "c4793e9e-b7f1-476f-807c-c313718ed49b",
   "metadata": {
    "tags": []
   },
   "outputs": [
    {
     "data": {
      "text/plain": [
       "-69.0339463780543"
      ]
     },
     "execution_count": 29,
     "metadata": {},
     "output_type": "execute_result"
    }
   ],
   "source": [
    "out.energy_pot"
   ]
  },
  {
   "cell_type": "code",
   "execution_count": 30,
   "id": "afe5c4a1-08ae-4e3a-bb0a-f501dacf4be4",
   "metadata": {
    "tags": []
   },
   "outputs": [
    {
     "data": {
      "text/plain": [
       "0.0"
      ]
     },
     "execution_count": 30,
     "metadata": {},
     "output_type": "execute_result"
    }
   ],
   "source": [
    "out.energy_kin"
   ]
  },
  {
   "cell_type": "code",
   "execution_count": 31,
   "id": "6b48188a-b84c-482a-9add-26d61a4e65f2",
   "metadata": {
    "tags": []
   },
   "outputs": [
    {
     "data": {
      "text/plain": [
       "array([[-0.02987269, -0.00282932, -0.12843858],\n",
       "       [-0.15820356,  0.0453781 , -0.03744197],\n",
       "       [-0.18450471, -0.08204103,  0.07020649],\n",
       "       [-0.06351491,  0.03401585,  0.00719245],\n",
       "       [-0.0037588 ,  0.1333546 ,  0.1740541 ],\n",
       "       [ 0.05387634, -0.00118085, -0.09480989],\n",
       "       [ 0.07405356,  0.11763504, -0.20276011],\n",
       "       [ 0.02384882, -0.05766377,  0.10891183],\n",
       "       [ 0.04153901, -0.08675459,  0.09708118],\n",
       "       [ 0.00966064,  0.03839169, -0.03484355],\n",
       "       [ 0.11122156, -0.23955637, -0.05193921],\n",
       "       [ 0.10710042, -0.19785464,  0.08232861],\n",
       "       [-0.03485634,  0.2108871 ,  0.10971198],\n",
       "       [-0.01956278, -0.10410639, -0.02254802],\n",
       "       [ 0.0187732 ,  0.08581792,  0.07211624],\n",
       "       [ 0.05420023,  0.10650667, -0.14882155]])"
      ]
     },
     "execution_count": 31,
     "metadata": {},
     "output_type": "execute_result"
    }
   ],
   "source": [
    "out.forces"
   ]
  },
  {
   "cell_type": "markdown",
   "id": "a1a01129-e7ff-4e6f-addf-5ca6a8592fe0",
   "metadata": {},
   "source": [
    "## Murnaghan\n",
    "\n",
    "Note that except for the input tasks definition, this works exactly the same way as for the ASE nodes and also works for multiple executors without the task implementation needing to know about any of these details."
   ]
  },
  {
   "cell_type": "code",
   "execution_count": 34,
   "id": "cc50f529-e3bc-4f36-af63-f496f6c1405f",
   "metadata": {
    "tags": []
   },
   "outputs": [],
   "source": [
    "from pyiron_contrib.tinybase.executor import FuturesSubmitter\n",
    "from concurrent.futures import ProcessPoolExecutor"
   ]
  },
  {
   "cell_type": "code",
   "execution_count": 33,
   "id": "1fb9a556-d882-4b21-99fa-0fd30023d3f4",
   "metadata": {
    "tags": []
   },
   "outputs": [],
   "source": [
    "from pyiron_contrib.tinybase.murn import MurnaghanTask"
   ]
  },
  {
   "cell_type": "code",
   "execution_count": 36,
   "id": "cab52837-17eb-4f33-8182-cb5e917d02ec",
   "metadata": {
    "tags": []
   },
   "outputs": [],
   "source": [
    "m = MurnaghanTask()"
   ]
  },
  {
   "cell_type": "code",
   "execution_count": 37,
   "id": "c95da0c4-fbdb-48d7-8086-f890f82c7725",
   "metadata": {
    "tags": []
   },
   "outputs": [],
   "source": [
    "m.input.task = LammpsStaticTask()\n",
    "m.input.task.input.potential = '1997--Ackland-G-J--Fe--LAMMPS--ipr1'\n",
    "m.input.structure = bulk(\"Fe\", cubic=False).repeat(20)"
   ]
  },
  {
   "cell_type": "code",
   "execution_count": 38,
   "id": "edb93bf2-9e70-4717-9929-101a3101599b",
   "metadata": {
    "tags": []
   },
   "outputs": [],
   "source": [
    "m.input.set_strain_range(.5, 50)"
   ]
  },
  {
   "cell_type": "code",
   "execution_count": 39,
   "id": "9eab17d8-380a-4199-88b0-50910b5e5296",
   "metadata": {
    "tags": []
   },
   "outputs": [
    {
     "name": "stdout",
     "output_type": "stream",
     "text": [
      "CPU times: user 256 ms, sys: 634 ms, total: 890 ms\n",
      "Wall time: 8.49 s\n"
     ]
    }
   ],
   "source": [
    "%%time\n",
    "exe = FuturesSubmitter(ProcessPoolExecutor(max_workers=4)).submit([m])\n",
    "exe.run()\n",
    "exe.wait()\n",
    "ret = exe.status[0]\n",
    "output = exe.output[0]"
   ]
  },
  {
   "cell_type": "code",
   "execution_count": 41,
   "id": "44ffaf29-f35c-451f-a3fd-9f342035569b",
   "metadata": {
    "tags": []
   },
   "outputs": [
    {
     "data": {
      "image/png": "[encoded data removed]",
      "text/plain": [
       "<Figure size 640x480 with 1 Axes>"
      ]
     },
     "metadata": {},
     "output_type": "display_data"
    }
   ],
   "source": [
    "output.plot()"
   ]
  },
  {
   "cell_type": "code",
   "execution_count": 42,
   "id": "c6d3f82b-7acb-47f1-ab0c-c0380382e7a7",
   "metadata": {},
   "outputs": [
    {
     "data": {
      "text/plain": [
       "93594.71816845893"
      ]
     },
     "execution_count": 42,
     "metadata": {},
     "output_type": "execute_result"
    }
   ],
   "source": [
    "output.equilibrium_volume"
   ]
  },
  {
   "cell_type": "code",
   "execution_count": 43,
   "id": "f8911ebd-bcc6-4696-89f4-498c60aad544",
   "metadata": {},
   "outputs": [
    {
     "data": {
      "text/plain": [
       "93594.71816845887"
      ]
     },
     "execution_count": 43,
     "metadata": {},
     "output_type": "execute_result"
    }
   ],
   "source": [
    "output.get_structure().get_volume()"
   ]
  },
  {
   "cell_type": "code",
   "execution_count": 44,
   "id": "620c128d-fcd4-4842-8f49-cd6f7052b4c3",
   "metadata": {},
   "outputs": [
    {
     "data": {
      "text/plain": [
       "Atoms(symbols='Fe8000', pbc=True, cell=[[-28.602047036763544, 28.602047036763544, 28.602047036763544], [28.602047036763544, -28.602047036763544, 28.602047036763544], [28.602047036763544, 28.602047036763544, -28.602047036763544]])"
      ]
     },
     "execution_count": 44,
     "metadata": {},
     "output_type": "execute_result"
    }
   ],
   "source": [
    "output.get_structure()"
   ]
  }
 ],
 "metadata": {
  "kernelspec": {
   "display_name": "Python 3 (ipykernel)",
   "language": "python",
   "name": "python3"
  },
  "language_info": {
   "codemirror_mode": {
    "name": "ipython",
    "version": 3
   },
   "file_extension": ".py",
   "mimetype": "text/x-python",
   "name": "python",
   "nbconvert_exporter": "python",
   "pygments_lexer": "ipython3",
   "version": "3.11.7"
  }
 },
 "nbformat": 4,
 "nbformat_minor": 5
}
