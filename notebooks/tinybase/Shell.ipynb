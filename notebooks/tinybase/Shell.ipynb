{
 "cells": [
  {
   "cell_type": "code",
   "execution_count": 1,
   "id": "9d7fa586-dc24-465a-94df-1c126e743e79",
   "metadata": {
    "tags": []
   },
   "outputs": [
    {
     "data": {
      "application/vnd.jupyter.widget-view+json": {
       "model_id": "214e14a0e17d41a9a4ddcf202ac556cc",
       "version_major": 2,
       "version_minor": 0
      },
      "text/plain": []
     },
     "metadata": {},
     "output_type": "display_data"
    }
   ],
   "source": [
    "from pathlib import Path \n",
    "\n",
    "from pyiron_contrib.tinybase.shell import ShellTask"
   ]
  },
  {
   "cell_type": "code",
   "execution_count": 2,
   "id": "1a93a8dd-e50b-43be-afb7-738524b0c201",
   "metadata": {},
   "outputs": [],
   "source": [
    "cwd = Path.cwd()\n",
    "if cwd.name == \"tinybase\":\n",
    "    # Then the notebook was started locally\n",
    "    notebook_dir = cwd\n",
    "else:\n",
    "    # We are probably executing from papermill on the CI\n",
    "    notebook_dir = cwd / \"notebooks\" / \"tinybase\""
   ]
  },
  {
   "cell_type": "markdown",
   "id": "48015102-7d5f-4079-98b8-a1a23937b9da",
   "metadata": {},
   "source": [
    "# Echo Task"
   ]
  },
  {
   "cell_type": "code",
   "execution_count": 3,
   "id": "7a799973-df87-47d9-bdf6-81a3f0691184",
   "metadata": {},
   "outputs": [],
   "source": [
    "sh = ShellTask()\n",
    "ret, out = sh.execute()"
   ]
  },
  {
   "cell_type": "code",
   "execution_count": 4,
   "id": "d4f4743a-3e7d-4d4c-a8d0-c47f03445e3c",
   "metadata": {},
   "outputs": [
    {
     "data": {
      "text/plain": [
       "ReturnStatus(Code.ABORTED, Input not ready!)"
      ]
     },
     "execution_count": 4,
     "metadata": {},
     "output_type": "execute_result"
    }
   ],
   "source": [
    "ret"
   ]
  },
  {
   "cell_type": "code",
   "execution_count": 5,
   "id": "561d682b-60ad-4420-9294-5dfc96af7c87",
   "metadata": {
    "tags": []
   },
   "outputs": [],
   "source": [
    "sh.input.command = 'echo'\n",
    "sh.input.arguments = ['foo']\n",
    "sh.input.working_directory = notebook_dir"
   ]
  },
  {
   "cell_type": "code",
   "execution_count": 6,
   "id": "aa580b7e-67b0-4afa-8ab9-8ae1aa4baf08",
   "metadata": {
    "tags": []
   },
   "outputs": [],
   "source": [
    "ret, out = sh.execute()"
   ]
  },
  {
   "cell_type": "code",
   "execution_count": 7,
   "id": "e87ee2a1-8851-4e65-b6fd-03ccaa496229",
   "metadata": {
    "tags": []
   },
   "outputs": [
    {
     "data": {
      "text/plain": [
       "'foo\\n'"
      ]
     },
     "execution_count": 7,
     "metadata": {},
     "output_type": "execute_result"
    }
   ],
   "source": [
    "out.stdout"
   ]
  },
  {
   "cell_type": "code",
   "execution_count": 8,
   "id": "0ec6cc97-dcdf-48d1-bd61-c0a79f47db24",
   "metadata": {
    "tags": []
   },
   "outputs": [
    {
     "data": {
      "text/plain": [
       "''"
      ]
     },
     "execution_count": 8,
     "metadata": {},
     "output_type": "execute_result"
    }
   ],
   "source": [
    "out.stderr"
   ]
  },
  {
   "cell_type": "code",
   "execution_count": 9,
   "id": "78f61663-b405-4979-8970-c6d1049998c0",
   "metadata": {
    "tags": []
   },
   "outputs": [],
   "source": [
    "sh = ShellTask()"
   ]
  },
  {
   "cell_type": "code",
   "execution_count": 10,
   "id": "a3e52d0a-43ff-4702-8447-f4a00c8d32bd",
   "metadata": {
    "tags": []
   },
   "outputs": [],
   "source": [
    "sh.input.command = 'pwd'\n",
    "sh.input.arguments = []\n",
    "sh.input.working_directory = notebook_dir"
   ]
  },
  {
   "cell_type": "code",
   "execution_count": 11,
   "id": "932f18f3-6d39-49d5-b7ed-5a13e5421f1a",
   "metadata": {
    "tags": []
   },
   "outputs": [],
   "source": [
    "ret, out = sh.execute()"
   ]
  },
  {
   "cell_type": "code",
   "execution_count": 12,
   "id": "022a4387-5441-4181-86fa-60ae9baacaee",
   "metadata": {
    "tags": []
   },
   "outputs": [
    {
     "data": {
      "text/plain": [
       "'/Users/huber/work/pyiron/pyiron_contrib/notebooks/tinybase\\n'"
      ]
     },
     "execution_count": 12,
     "metadata": {},
     "output_type": "execute_result"
    }
   ],
   "source": [
    "out.stdout"
   ]
  },
  {
   "cell_type": "code",
   "execution_count": 13,
   "id": "431b11c3-4054-412f-ae2f-0c71044e95e1",
   "metadata": {
    "tags": []
   },
   "outputs": [
    {
     "data": {
      "text/plain": [
       "''"
      ]
     },
     "execution_count": 13,
     "metadata": {},
     "output_type": "execute_result"
    }
   ],
   "source": [
    "out.stderr"
   ]
  },
  {
   "cell_type": "markdown",
   "id": "a4e5e274-a86c-41ce-bbaf-8de6b8253b9f",
   "metadata": {},
   "source": [
    "# We can check on returncodes and change which trigger an error"
   ]
  },
  {
   "cell_type": "code",
   "execution_count": 14,
   "id": "1d811404-5720-4194-9d09-a5e2acd1eff6",
   "metadata": {
    "tags": []
   },
   "outputs": [],
   "source": [
    "sh = ShellTask()"
   ]
  },
  {
   "cell_type": "code",
   "execution_count": 15,
   "id": "281e6833-dacd-4622-b87f-8f25d2218a86",
   "metadata": {
    "tags": []
   },
   "outputs": [],
   "source": [
    "sh.input.command = 'sh'\n",
    "sh.input.arguments = ['-c', 'echo foo; echo bar 1>&2; exit 2']\n",
    "sh.input.working_directory = notebook_dir"
   ]
  },
  {
   "cell_type": "code",
   "execution_count": 16,
   "id": "08ee6439-e617-4db1-a3a5-f7e0df73ac0a",
   "metadata": {
    "tags": []
   },
   "outputs": [],
   "source": [
    "ret, out = sh.execute()"
   ]
  },
  {
   "cell_type": "code",
   "execution_count": 17,
   "id": "f428a199-fb64-4b3b-9b65-f7f58e5e05b0",
   "metadata": {
    "tags": []
   },
   "outputs": [
    {
     "data": {
      "text/plain": [
       "ReturnStatus(Code.ABORTED, non-zero error code 2)"
      ]
     },
     "execution_count": 17,
     "metadata": {},
     "output_type": "execute_result"
    }
   ],
   "source": [
    "ret"
   ]
  },
  {
   "cell_type": "code",
   "execution_count": 18,
   "id": "1e5ed4a5-cb51-45ff-b541-830476630dac",
   "metadata": {
    "tags": []
   },
   "outputs": [
    {
     "data": {
      "text/plain": [
       "2"
      ]
     },
     "execution_count": 18,
     "metadata": {},
     "output_type": "execute_result"
    }
   ],
   "source": [
    "out.returncode"
   ]
  },
  {
   "cell_type": "code",
   "execution_count": 19,
   "id": "75eafdd9-c25e-4a57-b040-6b460fd5d06d",
   "metadata": {
    "tags": []
   },
   "outputs": [
    {
     "data": {
      "text/plain": [
       "'foo\\n'"
      ]
     },
     "execution_count": 19,
     "metadata": {},
     "output_type": "execute_result"
    }
   ],
   "source": [
    "out.stdout"
   ]
  },
  {
   "cell_type": "code",
   "execution_count": 20,
   "id": "07c7d569-3bf3-44c7-bfba-50ec28286b76",
   "metadata": {
    "tags": []
   },
   "outputs": [
    {
     "data": {
      "text/plain": [
       "'bar\\n'"
      ]
     },
     "execution_count": 20,
     "metadata": {},
     "output_type": "execute_result"
    }
   ],
   "source": [
    "out.stderr"
   ]
  },
  {
   "cell_type": "markdown",
   "id": "58a5e95a-9156-4bd9-83ce-52a54718a297",
   "metadata": {},
   "source": [
    "Now we'll explicitly allow return code 2"
   ]
  },
  {
   "cell_type": "code",
   "execution_count": 21,
   "id": "18c5432c-f6b1-49ca-a0ef-9f232102beb4",
   "metadata": {
    "tags": []
   },
   "outputs": [],
   "source": [
    "sh = ShellTask()"
   ]
  },
  {
   "cell_type": "code",
   "execution_count": 22,
   "id": "22cb0952-2cd7-40b5-895c-58d41375903f",
   "metadata": {
    "tags": []
   },
   "outputs": [],
   "source": [
    "sh.input.command = 'sh'\n",
    "sh.input.arguments = ['-c', 'echo foo; echo bar 1>&2; exit 2']\n",
    "sh.input.working_directory = notebook_dir"
   ]
  },
  {
   "cell_type": "code",
   "execution_count": 23,
   "id": "5df20abb-b0ba-428d-850e-fc6654a92afa",
   "metadata": {
    "tags": []
   },
   "outputs": [],
   "source": [
    "sh.input.allowed_returncode = [0, 2]"
   ]
  },
  {
   "cell_type": "code",
   "execution_count": 24,
   "id": "b7bae225-5f1a-4f4b-a23d-9e0c84397b8c",
   "metadata": {
    "tags": []
   },
   "outputs": [],
   "source": [
    "ret, out = sh.execute()"
   ]
  },
  {
   "cell_type": "code",
   "execution_count": 25,
   "id": "5419b35e-1bfd-49d2-88d0-b9e58841f7d2",
   "metadata": {
    "tags": []
   },
   "outputs": [
    {
     "data": {
      "text/plain": [
       "ReturnStatus(Code.DONE, None)"
      ]
     },
     "execution_count": 25,
     "metadata": {},
     "output_type": "execute_result"
    }
   ],
   "source": [
    "ret"
   ]
  },
  {
   "cell_type": "code",
   "execution_count": 26,
   "id": "5f5177ad-cd61-4fcc-96b9-d2ed701f828b",
   "metadata": {
    "tags": []
   },
   "outputs": [
    {
     "data": {
      "text/plain": [
       "2"
      ]
     },
     "execution_count": 26,
     "metadata": {},
     "output_type": "execute_result"
    }
   ],
   "source": [
    "out.returncode"
   ]
  },
  {
   "cell_type": "code",
   "execution_count": 27,
   "id": "9dc082df-fa8e-4ab7-8116-9756e5fd5fe9",
   "metadata": {
    "tags": []
   },
   "outputs": [
    {
     "data": {
      "text/plain": [
       "'foo\\n'"
      ]
     },
     "execution_count": 27,
     "metadata": {},
     "output_type": "execute_result"
    }
   ],
   "source": [
    "out.stdout"
   ]
  },
  {
   "cell_type": "code",
   "execution_count": 28,
   "id": "8b4d800f-e22b-43ae-8f55-2c06ebf30741",
   "metadata": {
    "tags": []
   },
   "outputs": [
    {
     "data": {
      "text/plain": [
       "'bar\\n'"
      ]
     },
     "execution_count": 28,
     "metadata": {},
     "output_type": "execute_result"
    }
   ],
   "source": [
    "out.stderr"
   ]
  },
  {
   "cell_type": "markdown",
   "id": "a03726ab-245f-44f1-9b31-3eb7c5c108eb",
   "metadata": {},
   "source": [
    "# We can manipulate the environment"
   ]
  },
  {
   "cell_type": "code",
   "execution_count": 29,
   "id": "aade0746-588e-4775-94c3-3f2e1da2ed55",
   "metadata": {
    "tags": []
   },
   "outputs": [],
   "source": [
    "sh = ShellTask()"
   ]
  },
  {
   "cell_type": "code",
   "execution_count": 30,
   "id": "cffaad98-6f8c-47a9-8584-fc038ba455bb",
   "metadata": {
    "tags": []
   },
   "outputs": [],
   "source": [
    "sh.input.command = 'sh'\n",
    "sh.input.arguments = ['-c', 'echo $FOO; echo $BAR 1>&2']\n",
    "sh.input.working_directory = notebook_dir"
   ]
  },
  {
   "cell_type": "code",
   "execution_count": 31,
   "id": "825f86fb-7055-401f-be3a-d52414129d4f",
   "metadata": {
    "tags": []
   },
   "outputs": [],
   "source": [
    "sh.input.environ['FOO'] = 42\n",
    "sh.input.environ['BAR'] = 'ERROR!'"
   ]
  },
  {
   "cell_type": "code",
   "execution_count": 32,
   "id": "12bbd896-5f26-4e33-b382-796b7d4312a7",
   "metadata": {
    "tags": []
   },
   "outputs": [],
   "source": [
    "ret, out = sh.execute()"
   ]
  },
  {
   "cell_type": "code",
   "execution_count": 33,
   "id": "625735ee-df96-4627-91ca-1fe9d389431e",
   "metadata": {
    "tags": []
   },
   "outputs": [
    {
     "data": {
      "text/plain": [
       "ReturnStatus(Code.DONE, None)"
      ]
     },
     "execution_count": 33,
     "metadata": {},
     "output_type": "execute_result"
    }
   ],
   "source": [
    "ret"
   ]
  },
  {
   "cell_type": "code",
   "execution_count": 34,
   "id": "5eeb62b2-ce78-4864-8cf5-e168d6bf9eb7",
   "metadata": {
    "tags": []
   },
   "outputs": [
    {
     "data": {
      "text/plain": [
       "0"
      ]
     },
     "execution_count": 34,
     "metadata": {},
     "output_type": "execute_result"
    }
   ],
   "source": [
    "out.returncode"
   ]
  },
  {
   "cell_type": "code",
   "execution_count": 35,
   "id": "d5bc1aa1-4579-45ce-ba47-20b731eec066",
   "metadata": {
    "tags": []
   },
   "outputs": [
    {
     "data": {
      "text/plain": [
       "'42\\n'"
      ]
     },
     "execution_count": 35,
     "metadata": {},
     "output_type": "execute_result"
    }
   ],
   "source": [
    "out.stdout"
   ]
  },
  {
   "cell_type": "code",
   "execution_count": 36,
   "id": "53dcc8b0-a8c4-4410-8990-78997dd1f9e9",
   "metadata": {
    "tags": []
   },
   "outputs": [
    {
     "data": {
      "text/plain": [
       "'ERROR!\\n'"
      ]
     },
     "execution_count": 36,
     "metadata": {},
     "output_type": "execute_result"
    }
   ],
   "source": [
    "out.stderr"
   ]
  },
  {
   "cell_type": "markdown",
   "id": "1fd2fae0-4dfb-42b2-8840-6dddc3404251",
   "metadata": {},
   "source": [
    "# We can use the existing resource setup"
   ]
  },
  {
   "cell_type": "code",
   "execution_count": 37,
   "id": "9feaa502-d16a-4cac-bb36-e681c85a0a63",
   "metadata": {},
   "outputs": [],
   "source": [
    "from pyiron_contrib.tinybase.shell import ExecutablePathResolver, state"
   ]
  },
  {
   "cell_type": "code",
   "execution_count": 38,
   "id": "8c340f6c-c687-4461-9c33-f98b768773d6",
   "metadata": {
    "tags": []
   },
   "outputs": [],
   "source": [
    "state.settings.resource_paths.insert(0, str(notebook_dir / \"resources\"))"
   ]
  },
  {
   "cell_type": "code",
   "execution_count": 39,
   "id": "ab27d95c-3d7c-4710-9ff7-7de523086c6d",
   "metadata": {
    "tags": []
   },
   "outputs": [
    {
     "data": {
      "text/plain": [
       "['/Users/huber/work/pyiron/pyiron_contrib/notebooks/tinybase/resources',\n",
       " '/Users/huber/anaconda3/envs/pyiron_311/share/pyiron']"
      ]
     },
     "execution_count": 39,
     "metadata": {},
     "output_type": "execute_result"
    }
   ],
   "source": [
    "state.settings.resource_paths"
   ]
  },
  {
   "cell_type": "code",
   "execution_count": 40,
   "id": "7e1bb029-a7b1-488c-8852-f0223c2e477a",
   "metadata": {
    "tags": []
   },
   "outputs": [],
   "source": [
    "res = ExecutablePathResolver('test', 'hello')"
   ]
  },
  {
   "cell_type": "code",
   "execution_count": 41,
   "id": "9e9b280d-917c-4c11-8eee-140312f3455e",
   "metadata": {
    "tags": []
   },
   "outputs": [
    {
     "data": {
      "text/plain": [
       "['/Users/huber/work/pyiron/pyiron_contrib/notebooks/tinybase/resources/test/bin/run_hello_1.2.3.sh',\n",
       " '/Users/huber/work/pyiron/pyiron_contrib/notebooks/tinybase/resources/test/bin/run_hello_1.2.4.sh']"
      ]
     },
     "execution_count": 41,
     "metadata": {},
     "output_type": "execute_result"
    }
   ],
   "source": [
    "res.list()"
   ]
  },
  {
   "cell_type": "code",
   "execution_count": 42,
   "id": "03822deb-ea98-4f07-93cf-b8af6028a856",
   "metadata": {
    "tags": []
   },
   "outputs": [
    {
     "data": {
      "text/plain": [
       "['1.2.3', '1.2.4']"
      ]
     },
     "execution_count": 42,
     "metadata": {},
     "output_type": "execute_result"
    }
   ],
   "source": [
    "res.list_versions()"
   ]
  },
  {
   "cell_type": "code",
   "execution_count": 43,
   "id": "c22c772c-b7c5-4e9e-9ddf-74da2bba1f87",
   "metadata": {
    "tags": []
   },
   "outputs": [],
   "source": [
    "sh = ShellTask()"
   ]
  },
  {
   "cell_type": "code",
   "execution_count": 44,
   "id": "37c7af44-b517-4f59-8e09-071e597d75cc",
   "metadata": {
    "tags": []
   },
   "outputs": [],
   "source": [
    "sh.input.command = res\n",
    "sh.input.working_directory = notebook_dir"
   ]
  },
  {
   "cell_type": "code",
   "execution_count": 45,
   "id": "4fd337b7-9241-4afb-a90f-5e11990f4e41",
   "metadata": {
    "tags": []
   },
   "outputs": [],
   "source": [
    "ret, out = sh.execute()"
   ]
  },
  {
   "cell_type": "code",
   "execution_count": 46,
   "id": "ce4eebc6-bad4-46d4-8598-8f706e1b25ba",
   "metadata": {
    "tags": []
   },
   "outputs": [
    {
     "data": {
      "text/plain": [
       "ReturnStatus(Code.DONE, None)"
      ]
     },
     "execution_count": 46,
     "metadata": {},
     "output_type": "execute_result"
    }
   ],
   "source": [
    "ret"
   ]
  },
  {
   "cell_type": "code",
   "execution_count": 47,
   "id": "ad6f0c64-79bc-4f5c-b86f-fee016a32df8",
   "metadata": {
    "tags": []
   },
   "outputs": [
    {
     "data": {
      "text/plain": [
       "0"
      ]
     },
     "execution_count": 47,
     "metadata": {},
     "output_type": "execute_result"
    }
   ],
   "source": [
    "out.returncode"
   ]
  },
  {
   "cell_type": "code",
   "execution_count": 48,
   "id": "393c3bf1-a41f-45a9-911f-8d7bbaf7d102",
   "metadata": {
    "tags": []
   },
   "outputs": [
    {
     "data": {
      "text/plain": [
       "'HelloWorld!\\n'"
      ]
     },
     "execution_count": 48,
     "metadata": {},
     "output_type": "execute_result"
    }
   ],
   "source": [
    "out.stdout"
   ]
  },
  {
   "cell_type": "code",
   "execution_count": 49,
   "id": "cdc3df94-c4c5-477b-833b-310c95436c56",
   "metadata": {
    "tags": []
   },
   "outputs": [
    {
     "data": {
      "text/plain": [
       "''"
      ]
     },
     "execution_count": 49,
     "metadata": {},
     "output_type": "execute_result"
    }
   ],
   "source": [
    "out.stderr"
   ]
  },
  {
   "cell_type": "code",
   "execution_count": null,
   "id": "9576fb48-d8db-4430-b4e3-99d9c5d8a58f",
   "metadata": {},
   "outputs": [],
   "source": []
  },
  {
   "cell_type": "code",
   "execution_count": 50,
   "id": "626cd697-f96c-46b2-b7ca-88beab3c1ff7",
   "metadata": {
    "tags": []
   },
   "outputs": [],
   "source": [
    "sh = ShellTask()"
   ]
  },
  {
   "cell_type": "code",
   "execution_count": 51,
   "id": "f2cfd062-3b0f-4a48-a52a-305a9ad643e9",
   "metadata": {
    "tags": []
   },
   "outputs": [],
   "source": [
    "sh.input.command = ExecutablePathResolver('test', 'hello', version='1.2.4')\n",
    "sh.input.working_directory = notebook_dir"
   ]
  },
  {
   "cell_type": "code",
   "execution_count": 52,
   "id": "573a508f-ead5-4177-85a6-19ed5b27b057",
   "metadata": {
    "tags": []
   },
   "outputs": [],
   "source": [
    "ret, out = sh.execute()"
   ]
  },
  {
   "cell_type": "code",
   "execution_count": 53,
   "id": "4197e3fd-5e3e-47bb-b49d-bac18d587d6c",
   "metadata": {
    "tags": []
   },
   "outputs": [
    {
     "data": {
      "text/plain": [
       "ReturnStatus(Code.DONE, None)"
      ]
     },
     "execution_count": 53,
     "metadata": {},
     "output_type": "execute_result"
    }
   ],
   "source": [
    "ret"
   ]
  },
  {
   "cell_type": "code",
   "execution_count": 54,
   "id": "c6ebec7f-c8d7-41cf-8222-7b9829c38e19",
   "metadata": {
    "tags": []
   },
   "outputs": [
    {
     "data": {
      "text/plain": [
       "0"
      ]
     },
     "execution_count": 54,
     "metadata": {},
     "output_type": "execute_result"
    }
   ],
   "source": [
    "out.returncode"
   ]
  },
  {
   "cell_type": "code",
   "execution_count": 55,
   "id": "efd51d34-3dc0-4a34-9dde-8a11261c5a7a",
   "metadata": {
    "tags": []
   },
   "outputs": [
    {
     "data": {
      "text/plain": [
       "'Hello World!\\n'"
      ]
     },
     "execution_count": 55,
     "metadata": {},
     "output_type": "execute_result"
    }
   ],
   "source": [
    "out.stdout"
   ]
  },
  {
   "cell_type": "code",
   "execution_count": null,
   "id": "c093939c-3081-4a41-8946-c6425124e3d4",
   "metadata": {},
   "outputs": [],
   "source": []
  },
  {
   "cell_type": "code",
   "execution_count": 56,
   "id": "8e015724-bbea-4463-a43e-2e0b84c1ca2d",
   "metadata": {
    "tags": []
   },
   "outputs": [],
   "source": [
    "sh = ShellTask()"
   ]
  },
  {
   "cell_type": "code",
   "execution_count": 57,
   "id": "7b86e8ee-29c1-4a99-bb7e-0d9564cb8e3a",
   "metadata": {
    "tags": []
   },
   "outputs": [],
   "source": [
    "sh.input.command = ExecutablePathResolver('test', 'hello')\n",
    "sh.input.working_directory = notebook_dir"
   ]
  },
  {
   "cell_type": "code",
   "execution_count": 58,
   "id": "6d1d8fdb-3ca8-4184-9b55-f82ed9719a37",
   "metadata": {
    "tags": []
   },
   "outputs": [
    {
     "data": {
      "text/plain": [
       "['1.2.3', '1.2.4']"
      ]
     },
     "execution_count": 58,
     "metadata": {},
     "output_type": "execute_result"
    }
   ],
   "source": [
    "sh.input.command.list_versions()"
   ]
  },
  {
   "cell_type": "code",
   "execution_count": 59,
   "id": "b276fa87-513f-41b9-86fa-39c54dcbb71e",
   "metadata": {
    "tags": []
   },
   "outputs": [],
   "source": [
    "sh.input.command.version = '1.2.4'"
   ]
  },
  {
   "cell_type": "code",
   "execution_count": 60,
   "id": "3a85fcd5-d80f-4197-8e8a-1b32c4f78ba5",
   "metadata": {
    "tags": []
   },
   "outputs": [],
   "source": [
    "ret, out = sh.execute()"
   ]
  },
  {
   "cell_type": "code",
   "execution_count": 61,
   "id": "03566ee2-7f64-48d6-9cc7-97be44bc41c8",
   "metadata": {
    "tags": []
   },
   "outputs": [
    {
     "data": {
      "text/plain": [
       "'Hello World!\\n'"
      ]
     },
     "execution_count": 61,
     "metadata": {},
     "output_type": "execute_result"
    }
   ],
   "source": [
    "out.stdout"
   ]
  },
  {
   "cell_type": "code",
   "execution_count": null,
   "id": "aa926850-e673-4590-a29c-8bdc4682f7b7",
   "metadata": {},
   "outputs": [],
   "source": []
  }
 ],
 "metadata": {
  "kernelspec": {
   "display_name": "Python 3 (ipykernel)",
   "language": "python",
   "name": "python3"
  },
  "language_info": {
   "codemirror_mode": {
    "name": "ipython",
    "version": 3
   },
   "file_extension": ".py",
   "mimetype": "text/x-python",
   "name": "python",
   "nbconvert_exporter": "python",
   "pygments_lexer": "ipython3",
   "version": "3.11.7"
  }
 },
 "nbformat": 4,
 "nbformat_minor": 5
}
