{
 "cells": [
  {
   "cell_type": "markdown",
   "id": "f4408d8a-2da9-4cc2-834f-f36ca47b23dc",
   "metadata": {},
   "source": [
    "# Imports"
   ]
  },
  {
   "cell_type": "code",
   "execution_count": 1,
   "id": "95763abb-4480-4ced-bf73-db72dae9ffe0",
   "metadata": {
    "tags": []
   },
   "outputs": [
    {
     "name": "stderr",
     "output_type": "stream",
     "text": [
      "/home/poul/pyiron/contrib/pyiron_contrib/__init__.py:9: UserWarning: pyiron module not found, importing Project from pyiron_base\n",
      "  warnings.warn(\"pyiron module not found, importing Project from pyiron_base\")\n"
     ]
    },
    {
     "data": {
      "text/html": [
       "<pre style=\"white-space:pre;overflow-x:auto;line-height:normal;font-family:Menlo,'DejaVu Sans Mono',consolas,'Courier New',monospace\"></pre>\n"
      ],
      "text/plain": []
     },
     "metadata": {},
     "output_type": "display_data"
    },
    {
     "data": {
      "text/html": [
       "<pre style=\"white-space:pre;overflow-x:auto;line-height:normal;font-family:Menlo,'DejaVu Sans Mono',consolas,'Courier New',monospace\"></pre>\n"
      ],
      "text/plain": []
     },
     "metadata": {},
     "output_type": "display_data"
    },
    {
     "data": {
      "application/vnd.jupyter.widget-view+json": {
       "model_id": "7257515de92a452395badcf83fb46b03",
       "version_major": 2,
       "version_minor": 0
      },
      "text/plain": []
     },
     "metadata": {},
     "output_type": "display_data"
    }
   ],
   "source": [
    "from pyiron_contrib.tinybase.job import GenericTinyJob"
   ]
  },
  {
   "cell_type": "code",
   "execution_count": 2,
   "id": "9730e2a5-9079-4863-905d-f21e47b65816",
   "metadata": {
    "tags": []
   },
   "outputs": [],
   "source": [
    "from pyiron_contrib.tinybase.executor import ProcessExecutor"
   ]
  },
  {
   "cell_type": "code",
   "execution_count": 3,
   "id": "09003a07-be8d-4607-b533-54214ae64056",
   "metadata": {
    "tags": []
   },
   "outputs": [],
   "source": [
    "from pyiron_contrib.tinybase.murn import MurnaghanTask"
   ]
  },
  {
   "cell_type": "code",
   "execution_count": 4,
   "id": "70c5d3c8-2d81-4539-9453-cd85010e7373",
   "metadata": {
    "tags": []
   },
   "outputs": [],
   "source": [
    "from pyiron_contrib.tinybase.ase import AseMDTask, AseMinimizeTask, AseStaticTask"
   ]
  },
  {
   "cell_type": "code",
   "execution_count": 5,
   "id": "1e5208d9-d7b8-4ca3-92cf-5d32c30c20f9",
   "metadata": {
    "tags": []
   },
   "outputs": [],
   "source": [
    "from pyiron_contrib.tinybase.project import ProjectAdapter, InMemoryProject"
   ]
  },
  {
   "cell_type": "code",
   "execution_count": 6,
   "id": "5606f2b7-ba23-4b0d-b44e-b41cda6e5d4d",
   "metadata": {
    "tags": []
   },
   "outputs": [],
   "source": [
    "from ase import Atoms"
   ]
  },
  {
   "cell_type": "code",
   "execution_count": 7,
   "id": "9a28ea42-360a-4e35-9fce-427b661a05c5",
   "metadata": {
    "tags": []
   },
   "outputs": [],
   "source": [
    "from ase.build import bulk"
   ]
  },
  {
   "cell_type": "code",
   "execution_count": 8,
   "id": "059021a8-6e20-4265-94f4-8fb9bdaebde3",
   "metadata": {
    "tags": []
   },
   "outputs": [],
   "source": [
    "from ase.calculators.morse import MorsePotential"
   ]
  },
  {
   "cell_type": "code",
   "execution_count": 9,
   "id": "f6fb49d0-dbfc-4b33-8b4d-999a2002831e",
   "metadata": {
    "tags": []
   },
   "outputs": [],
   "source": [
    "from pyiron_base import Project"
   ]
  },
  {
   "cell_type": "code",
   "execution_count": 29,
   "id": "f2e0123f-f0be-41ef-9733-af547b38d846",
   "metadata": {
    "tags": []
   },
   "outputs": [],
   "source": [
    "import logging\n",
    "logging.getLogger().setLevel(10)"
   ]
  },
  {
   "cell_type": "markdown",
   "id": "bc092b74-64c6-49c9-9576-ef5d871fcd1e",
   "metadata": {},
   "source": [
    "# Create Project and a new Job\n"
   ]
  },
  {
   "cell_type": "code",
   "execution_count": 14,
   "id": "0f30286b-4434-4569-8f03-fadab46ebe34",
   "metadata": {
    "tags": []
   },
   "outputs": [],
   "source": [
    "pr = ProjectAdapter(Project('tinyjob'))"
   ]
  },
  {
   "cell_type": "markdown",
   "id": "450e6b64-9824-4b8a-8854-3999a93fc781",
   "metadata": {},
   "source": [
    "## MD Job"
   ]
  },
  {
   "cell_type": "code",
   "execution_count": 15,
   "id": "ba190052-7bc1-4383-b3da-c7221c4e38d0",
   "metadata": {
    "scrolled": true,
    "tags": []
   },
   "outputs": [],
   "source": [
    "j = GenericTinyJob(pr, 'md')"
   ]
  },
  {
   "cell_type": "code",
   "execution_count": 16,
   "id": "1e21980e-14a6-4578-b4b9-8195a74a3593",
   "metadata": {
    "tags": []
   },
   "outputs": [],
   "source": [
    "j.task_class = AseMDTask"
   ]
  },
  {
   "cell_type": "code",
   "execution_count": 17,
   "id": "18e6de26-308c-46ae-9672-b2db43447ea5",
   "metadata": {
    "tags": []
   },
   "outputs": [],
   "source": [
    "j.input.structure = bulk('Fe', a=1.2, cubic=True).repeat(2)\n",
    "j.input.calculator = MorsePotential()"
   ]
  },
  {
   "cell_type": "code",
   "execution_count": 18,
   "id": "72848cd2-fd51-4ad8-b56e-ca686074bb26",
   "metadata": {
    "tags": []
   },
   "outputs": [],
   "source": [
    "j.input.steps = 100\n",
    "j.input.timestep = 3.0\n",
    "j.input.temperature = 600.0\n",
    "j.input.output_steps = 20"
   ]
  },
  {
   "cell_type": "code",
   "execution_count": 19,
   "id": "56c0e73a-c42b-4814-a25a-e6974fea3d00",
   "metadata": {
    "tags": []
   },
   "outputs": [
    {
     "name": "stderr",
     "output_type": "stream",
     "text": [
      "INFO:root:Job already finished!\n"
     ]
    }
   ],
   "source": [
    "j.run(how='foreground')"
   ]
  },
  {
   "cell_type": "code",
   "execution_count": 20,
   "id": "49ccfe01-7b7e-4615-bf43-21c1bbffec66",
   "metadata": {
    "tags": []
   },
   "outputs": [
    {
     "data": {
      "application/vnd.jupyter.widget-view+json": {
       "model_id": "16c628e0bea4418f8c357e500e5ed146",
       "version_major": 2,
       "version_minor": 0
      },
      "text/plain": [
       "NGLWidget(max_frame=21)"
      ]
     },
     "metadata": {},
     "output_type": "display_data"
    }
   ],
   "source": [
    "j.output.animate_structures()"
   ]
  },
  {
   "cell_type": "markdown",
   "id": "558dcbd7-7237-4067-b2e6-b797e3c63aaa",
   "metadata": {},
   "source": [
    "## Min Job"
   ]
  },
  {
   "cell_type": "code",
   "execution_count": 21,
   "id": "049f056e-47ff-4c2f-9e85-612744af15a8",
   "metadata": {
    "tags": []
   },
   "outputs": [],
   "source": [
    "j = GenericTinyJob(pr, 'min')"
   ]
  },
  {
   "cell_type": "code",
   "execution_count": 22,
   "id": "1137a899-b00b-4ce4-92df-23a4bbcf7aa8",
   "metadata": {
    "tags": []
   },
   "outputs": [],
   "source": [
    "j.task_class = AseMinimizeTask"
   ]
  },
  {
   "cell_type": "code",
   "execution_count": 23,
   "id": "3a8cda32-df2e-4884-8cfd-84e438c5be69",
   "metadata": {
    "tags": []
   },
   "outputs": [],
   "source": [
    "j.input.structure = Atoms(symbols=['Fe', 'Fe'], positions=[[0,0,0], [0,0, .75]], cell=[10,10,10])\n",
    "j.input.structure.rattle(1e-3)\n",
    "j.input.calculator = MorsePotential()"
   ]
  },
  {
   "cell_type": "code",
   "execution_count": 24,
   "id": "d4b81c3f-4667-4b99-a2b3-08c7ee7e2c82",
   "metadata": {
    "tags": []
   },
   "outputs": [],
   "source": [
    "j.input.lbfgs(damping=.25)\n",
    "j.input.max_steps = 100\n",
    "j.input.output_steps = 10"
   ]
  },
  {
   "cell_type": "code",
   "execution_count": 25,
   "id": "e7494fee-d565-45e3-a819-c77ab0d2c7f6",
   "metadata": {
    "scrolled": true,
    "tags": []
   },
   "outputs": [
    {
     "name": "stderr",
     "output_type": "stream",
     "text": [
      "INFO:root:Job already finished!\n"
     ]
    }
   ],
   "source": [
    "exe = j.run(how='process')\n",
    "if exe is not None:\n",
    "    exe.wait()"
   ]
  },
  {
   "cell_type": "code",
   "execution_count": 26,
   "id": "7c16a615-0913-4880-9694-2c125285babc",
   "metadata": {
    "tags": []
   },
   "outputs": [
    {
     "data": {
      "text/html": [
       "<div>\n",
       "<style scoped>\n",
       "    .dataframe tbody tr th:only-of-type {\n",
       "        vertical-align: middle;\n",
       "    }\n",
       "\n",
       "    .dataframe tbody tr th {\n",
       "        vertical-align: top;\n",
       "    }\n",
       "\n",
       "    .dataframe thead th {\n",
       "        text-align: right;\n",
       "    }\n",
       "</style>\n",
       "<table border=\"1\" class=\"dataframe\">\n",
       "  <thead>\n",
       "    <tr style=\"text-align: right;\">\n",
       "      <th></th>\n",
       "      <th>id</th>\n",
       "      <th>username</th>\n",
       "      <th>name</th>\n",
       "      <th>jobtype_id</th>\n",
       "      <th>project_id</th>\n",
       "      <th>status_id</th>\n",
       "      <th>location</th>\n",
       "      <th>status</th>\n",
       "      <th>type</th>\n",
       "    </tr>\n",
       "  </thead>\n",
       "  <tbody>\n",
       "    <tr>\n",
       "      <th>0</th>\n",
       "      <td>4</td>\n",
       "      <td>pyiron</td>\n",
       "      <td>md</td>\n",
       "      <td>1</td>\n",
       "      <td>1</td>\n",
       "      <td>4</td>\n",
       "      <td>/home/poul/pyiron/contrib/notebooks/tinybase/t...</td>\n",
       "      <td>finished</td>\n",
       "      <td>AseMDTask</td>\n",
       "    </tr>\n",
       "    <tr>\n",
       "      <th>1</th>\n",
       "      <td>5</td>\n",
       "      <td>pyiron</td>\n",
       "      <td>min</td>\n",
       "      <td>2</td>\n",
       "      <td>1</td>\n",
       "      <td>5</td>\n",
       "      <td>/home/poul/pyiron/contrib/notebooks/tinybase/t...</td>\n",
       "      <td>finished</td>\n",
       "      <td>AseMinimizeTask</td>\n",
       "    </tr>\n",
       "    <tr>\n",
       "      <th>2</th>\n",
       "      <td>6</td>\n",
       "      <td>pyiron</td>\n",
       "      <td>murn</td>\n",
       "      <td>3</td>\n",
       "      <td>1</td>\n",
       "      <td>6</td>\n",
       "      <td>/home/poul/pyiron/contrib/notebooks/tinybase/t...</td>\n",
       "      <td>finished</td>\n",
       "      <td>MurnaghanTask</td>\n",
       "    </tr>\n",
       "  </tbody>\n",
       "</table>\n",
       "</div>"
      ],
      "text/plain": [
       "   id username  name  jobtype_id  project_id  status_id  \\\n",
       "0   4   pyiron    md           1           1          4   \n",
       "1   5   pyiron   min           2           1          5   \n",
       "2   6   pyiron  murn           3           1          6   \n",
       "\n",
       "                                            location    status  \\\n",
       "0  /home/poul/pyiron/contrib/notebooks/tinybase/t...  finished   \n",
       "1  /home/poul/pyiron/contrib/notebooks/tinybase/t...  finished   \n",
       "2  /home/poul/pyiron/contrib/notebooks/tinybase/t...  finished   \n",
       "\n",
       "              type  \n",
       "0        AseMDTask  \n",
       "1  AseMinimizeTask  \n",
       "2    MurnaghanTask  "
      ]
     },
     "execution_count": 26,
     "metadata": {},
     "output_type": "execute_result"
    }
   ],
   "source": [
    "j.project.database.job_table()"
   ]
  },
  {
   "cell_type": "code",
   "execution_count": 27,
   "id": "3fb09d42-f800-46ee-9919-83180863e1ee",
   "metadata": {
    "tags": []
   },
   "outputs": [
    {
     "data": {
      "application/vnd.jupyter.widget-view+json": {
       "model_id": "d3db4f34e6854a4f9c2c8d065ce81347",
       "version_major": 2,
       "version_minor": 0
      },
      "text/plain": [
       "NGLWidget(max_frame=11)"
      ]
     },
     "metadata": {},
     "output_type": "display_data"
    }
   ],
   "source": [
    "j.output.animate_structures()"
   ]
  },
  {
   "cell_type": "markdown",
   "id": "023fbf27-f75c-4177-b35a-a18c33cc2f87",
   "metadata": {},
   "source": [
    "Escape hatch to old HDF output."
   ]
  },
  {
   "cell_type": "markdown",
   "id": "858edf07-75ee-4a40-8cff-c26f34d555f5",
   "metadata": {},
   "source": [
    "### Loading from job id or name works"
   ]
  },
  {
   "cell_type": "code",
   "execution_count": 30,
   "id": "db691097-72c6-45a4-89b1-6ec16018c8b8",
   "metadata": {
    "tags": []
   },
   "outputs": [
    {
     "data": {
      "image/png": "[encoded data removed]",
      "text/plain": [
       "<Figure size 640x480 with 1 Axes>"
      ]
     },
     "metadata": {},
     "output_type": "display_data"
    }
   ],
   "source": [
    "j.project.load(j.id).output.plot_energies()"
   ]
  },
  {
   "cell_type": "code",
   "execution_count": 31,
   "id": "23ce6822-b38b-41f3-9269-109dbb152ecf",
   "metadata": {},
   "outputs": [
    {
     "data": {
      "application/vnd.jupyter.widget-view+json": {
       "model_id": "759d4d0f319d4ffaa54b959293166c9b",
       "version_major": 2,
       "version_minor": 0
      },
      "text/plain": [
       "NGLWidget(max_frame=11)"
      ]
     },
     "metadata": {},
     "output_type": "display_data"
    }
   ],
   "source": [
    "j.project.load(j.name).output.animate_structures()"
   ]
  },
  {
   "cell_type": "markdown",
   "id": "eec174f8-d6a8-47dd-baff-f23087265375",
   "metadata": {},
   "source": [
    "## Murnaghan"
   ]
  },
  {
   "cell_type": "code",
   "execution_count": 41,
   "id": "d0f62439-3492-4392-ac2a-2b2545b85527",
   "metadata": {},
   "outputs": [],
   "source": [
    "murn = GenericTinyJob(pr, 'murn')"
   ]
  },
  {
   "cell_type": "code",
   "execution_count": 42,
   "id": "5c9ab533-cf97-49a1-8c4b-0e5e2f9758c2",
   "metadata": {},
   "outputs": [],
   "source": [
    "murn.task_class = MurnaghanTask"
   ]
  },
  {
   "cell_type": "code",
   "execution_count": 43,
   "id": "253237f0-b338-470c-bc54-3c7400a757b7",
   "metadata": {},
   "outputs": [],
   "source": [
    "murn.input.task = AseStaticTask()\n",
    "murn.input.task.input.calculator = MorsePotential()"
   ]
  },
  {
   "cell_type": "code",
   "execution_count": 44,
   "id": "c801093b-499e-48a7-8444-77602ed88a96",
   "metadata": {},
   "outputs": [],
   "source": [
    "murn.input.structure = bulk(\"Fe\", a=1.2)"
   ]
  },
  {
   "cell_type": "code",
   "execution_count": 45,
   "id": "1e30b36e-11e6-47d1-836e-cffea7b73cdd",
   "metadata": {},
   "outputs": [],
   "source": [
    "murn.input.set_strain_range(.5, 500)"
   ]
  },
  {
   "cell_type": "code",
   "execution_count": 46,
   "id": "9920e4b7-8395-4fb9-96c3-792b044c4e3a",
   "metadata": {},
   "outputs": [],
   "source": [
    "murn.input.child_executor = ProcessExecutor"
   ]
  },
  {
   "cell_type": "code",
   "execution_count": 47,
   "id": "18b5305a-8950-44af-bc2e-c9734b059713",
   "metadata": {},
   "outputs": [
    {
     "name": "stderr",
     "output_type": "stream",
     "text": [
      "DEBUG:h5py._conv:Creating converter from 5 to 3\n"
     ]
    }
   ],
   "source": [
    "exe = murn.run()"
   ]
  },
  {
   "cell_type": "code",
   "execution_count": 48,
   "id": "836bb2ec-4295-4a3c-b976-7a35d04aad36",
   "metadata": {},
   "outputs": [
    {
     "data": {
      "image/png": "[encoded data removed]",
      "text/plain": [
       "<Figure size 640x480 with 1 Axes>"
      ]
     },
     "metadata": {},
     "output_type": "display_data"
    }
   ],
   "source": [
    "murn.output.plot()"
   ]
  },
  {
   "cell_type": "markdown",
   "id": "1dfdd96a-41dc-4e39-a029-9d10eb6ecf5e",
   "metadata": {},
   "source": [
    "# Pyiron purely in memory\n",
    "\n",
    "Because the new ProjectInterface completely controls both the storage class and the database a job sees, we can easily swap them without changing anything in `TinyJob` at all.  As a demonstration we can make here a project that persists only for the duration of the process life time.  But it's not hard to imagine a number  of different project type depending on database configuration or storage location (S3, a single HDF5 for all jobs, etc.)"
   ]
  },
  {
   "cell_type": "code",
   "execution_count": 49,
   "id": "79a2bb61-0a5e-4a3a-b195-46d027738a0e",
   "metadata": {},
   "outputs": [],
   "source": [
    "pr = InMemoryProject('/')"
   ]
  },
  {
   "cell_type": "code",
   "execution_count": 50,
   "id": "b4e6e0c9-a2c6-40ab-884e-a46e16c37b04",
   "metadata": {},
   "outputs": [
    {
     "data": {
      "text/html": [
       "<div>\n",
       "<style scoped>\n",
       "    .dataframe tbody tr th:only-of-type {\n",
       "        vertical-align: middle;\n",
       "    }\n",
       "\n",
       "    .dataframe tbody tr th {\n",
       "        vertical-align: top;\n",
       "    }\n",
       "\n",
       "    .dataframe thead th {\n",
       "        text-align: right;\n",
       "    }\n",
       "</style>\n",
       "<table border=\"1\" class=\"dataframe\">\n",
       "  <thead>\n",
       "    <tr style=\"text-align: right;\">\n",
       "      <th></th>\n",
       "    </tr>\n",
       "  </thead>\n",
       "  <tbody>\n",
       "  </tbody>\n",
       "</table>\n",
       "</div>"
      ],
      "text/plain": [
       "Empty DataFrame\n",
       "Columns: []\n",
       "Index: []"
      ]
     },
     "execution_count": 50,
     "metadata": {},
     "output_type": "execute_result"
    }
   ],
   "source": [
    "pr.job_table()"
   ]
  },
  {
   "cell_type": "code",
   "execution_count": 51,
   "id": "cef7c46f-551f-401e-96c2-214628e23967",
   "metadata": {},
   "outputs": [
    {
     "data": {
      "image/png": "[encoded data removed]",
      "text/plain": [
       "<Figure size 640x480 with 1 Axes>"
      ]
     },
     "metadata": {},
     "output_type": "display_data"
    }
   ],
   "source": [
    "murn = GenericTinyJob(pr, 'murn')\n",
    "murn.task_class = MurnaghanTask\n",
    "murn.input.task = AseStaticTask()\n",
    "murn.input.task.input.calculator = MorsePotential()\n",
    "murn.input.structure = bulk(\"Fe\", a=1.2)\n",
    "murn.input.set_strain_range(.5, 500)\n",
    "murn.input.child_executor = ProcessExecutor\n",
    "murn.run()\n",
    "murn.output.plot()"
   ]
  },
  {
   "cell_type": "code",
   "execution_count": 52,
   "id": "e8a7ee30-d7a6-46fc-bf98-1b52c981470f",
   "metadata": {},
   "outputs": [
    {
     "data": {
      "text/html": [
       "<div>\n",
       "<style scoped>\n",
       "    .dataframe tbody tr th:only-of-type {\n",
       "        vertical-align: middle;\n",
       "    }\n",
       "\n",
       "    .dataframe tbody tr th {\n",
       "        vertical-align: top;\n",
       "    }\n",
       "\n",
       "    .dataframe thead th {\n",
       "        text-align: right;\n",
       "    }\n",
       "</style>\n",
       "<table border=\"1\" class=\"dataframe\">\n",
       "  <thead>\n",
       "    <tr style=\"text-align: right;\">\n",
       "      <th></th>\n",
       "      <th>id</th>\n",
       "      <th>username</th>\n",
       "      <th>name</th>\n",
       "      <th>jobtype_id</th>\n",
       "      <th>project_id</th>\n",
       "      <th>status_id</th>\n",
       "      <th>location</th>\n",
       "      <th>status</th>\n",
       "      <th>type</th>\n",
       "    </tr>\n",
       "  </thead>\n",
       "  <tbody>\n",
       "    <tr>\n",
       "      <th>0</th>\n",
       "      <td>1</td>\n",
       "      <td>pyiron</td>\n",
       "      <td>murn</td>\n",
       "      <td>1</td>\n",
       "      <td>1</td>\n",
       "      <td>1</td>\n",
       "      <td>/</td>\n",
       "      <td>finished</td>\n",
       "      <td>MurnaghanTask</td>\n",
       "    </tr>\n",
       "  </tbody>\n",
       "</table>\n",
       "</div>"
      ],
      "text/plain": [
       "   id username  name  jobtype_id  project_id  status_id location    status  \\\n",
       "0   1   pyiron  murn           1           1          1        /  finished   \n",
       "\n",
       "            type  \n",
       "0  MurnaghanTask  "
      ]
     },
     "execution_count": 52,
     "metadata": {},
     "output_type": "execute_result"
    }
   ],
   "source": [
    "pr.job_table()"
   ]
  },
  {
   "cell_type": "code",
   "execution_count": 54,
   "id": "30871447-3e20-46ee-a58e-853d4f4cb5d9",
   "metadata": {},
   "outputs": [
    {
     "data": {
      "text/plain": [
       "<pyiron_contrib.tinybase.executor.FuturesExecutionContext at 0x7f15fa17bfd0>"
      ]
     },
     "execution_count": 54,
     "metadata": {},
     "output_type": "execute_result"
    }
   ],
   "source": [
    "j = GenericTinyJob(pr, 'md')\n",
    "j.task_class = AseMDTask\n",
    "j.input.structure = bulk('Fe', a=1.2, cubic=True).repeat(2)\n",
    "j.input.calculator = MorsePotential()\n",
    "j.input.steps = 100\n",
    "j.input.timestep = 3.0\n",
    "j.input.temperature = 600.0\n",
    "j.input.output_steps = 20\n",
    "j.run(how='background')"
   ]
  },
  {
   "cell_type": "code",
   "execution_count": 55,
   "id": "e63d43c1-341f-4ec0-b0cf-9cd5ead51926",
   "metadata": {},
   "outputs": [
    {
     "data": {
      "text/html": [
       "<div>\n",
       "<style scoped>\n",
       "    .dataframe tbody tr th:only-of-type {\n",
       "        vertical-align: middle;\n",
       "    }\n",
       "\n",
       "    .dataframe tbody tr th {\n",
       "        vertical-align: top;\n",
       "    }\n",
       "\n",
       "    .dataframe thead th {\n",
       "        text-align: right;\n",
       "    }\n",
       "</style>\n",
       "<table border=\"1\" class=\"dataframe\">\n",
       "  <thead>\n",
       "    <tr style=\"text-align: right;\">\n",
       "      <th></th>\n",
       "      <th>id</th>\n",
       "      <th>username</th>\n",
       "      <th>name</th>\n",
       "      <th>jobtype_id</th>\n",
       "      <th>project_id</th>\n",
       "      <th>status_id</th>\n",
       "      <th>location</th>\n",
       "      <th>status</th>\n",
       "      <th>type</th>\n",
       "    </tr>\n",
       "  </thead>\n",
       "  <tbody>\n",
       "    <tr>\n",
       "      <th>0</th>\n",
       "      <td>1</td>\n",
       "      <td>pyiron</td>\n",
       "      <td>murn</td>\n",
       "      <td>1</td>\n",
       "      <td>1</td>\n",
       "      <td>1</td>\n",
       "      <td>/</td>\n",
       "      <td>finished</td>\n",
       "      <td>MurnaghanTask</td>\n",
       "    </tr>\n",
       "    <tr>\n",
       "      <th>1</th>\n",
       "      <td>2</td>\n",
       "      <td>pyiron</td>\n",
       "      <td>md</td>\n",
       "      <td>2</td>\n",
       "      <td>1</td>\n",
       "      <td>2</td>\n",
       "      <td>/</td>\n",
       "      <td>running</td>\n",
       "      <td>AseMDTask</td>\n",
       "    </tr>\n",
       "  </tbody>\n",
       "</table>\n",
       "</div>"
      ],
      "text/plain": [
       "   id username  name  jobtype_id  project_id  status_id location    status  \\\n",
       "0   1   pyiron  murn           1           1          1        /  finished   \n",
       "1   2   pyiron    md           2           1          2        /   running   \n",
       "\n",
       "            type  \n",
       "0  MurnaghanTask  \n",
       "1      AseMDTask  "
      ]
     },
     "execution_count": 55,
     "metadata": {},
     "output_type": "execute_result"
    }
   ],
   "source": [
    "pr.job_table()"
   ]
  },
  {
   "cell_type": "markdown",
   "id": "52ef6246-32c1-47c9-bc42-21d6135477f2",
   "metadata": {},
   "source": [
    "Subprojects work."
   ]
  },
  {
   "cell_type": "code",
   "execution_count": 57,
   "id": "80da39e2-76d1-42e6-977f-241d2683188d",
   "metadata": {},
   "outputs": [
    {
     "data": {
      "text/plain": [
       "<pyiron_contrib.tinybase.executor.FuturesExecutionContext at 0x7f15fa16f640>"
      ]
     },
     "execution_count": 57,
     "metadata": {},
     "output_type": "execute_result"
    }
   ],
   "source": [
    "sub = pr.open_location(\"/foo\")\n",
    "j = GenericTinyJob(sub, 'md')\n",
    "j.task_class = AseMDTask\n",
    "j.input.structure = bulk('Fe', a=1.2, cubic=True).repeat(2)\n",
    "j.input.calculator = MorsePotential()\n",
    "j.input.steps = 100\n",
    "j.input.timestep = 3.0\n",
    "j.input.temperature = 600.0\n",
    "j.input.output_steps = 20\n",
    "j.run(how='process')"
   ]
  },
  {
   "cell_type": "code",
   "execution_count": 58,
   "id": "a567f96a-cbb3-4d2d-95d1-6dcecee7ddb8",
   "metadata": {},
   "outputs": [
    {
     "data": {
      "text/html": [
       "<div>\n",
       "<style scoped>\n",
       "    .dataframe tbody tr th:only-of-type {\n",
       "        vertical-align: middle;\n",
       "    }\n",
       "\n",
       "    .dataframe tbody tr th {\n",
       "        vertical-align: top;\n",
       "    }\n",
       "\n",
       "    .dataframe thead th {\n",
       "        text-align: right;\n",
       "    }\n",
       "</style>\n",
       "<table border=\"1\" class=\"dataframe\">\n",
       "  <thead>\n",
       "    <tr style=\"text-align: right;\">\n",
       "      <th></th>\n",
       "      <th>id</th>\n",
       "      <th>username</th>\n",
       "      <th>name</th>\n",
       "      <th>jobtype_id</th>\n",
       "      <th>project_id</th>\n",
       "      <th>status_id</th>\n",
       "      <th>location</th>\n",
       "      <th>status</th>\n",
       "      <th>type</th>\n",
       "    </tr>\n",
       "  </thead>\n",
       "  <tbody>\n",
       "    <tr>\n",
       "      <th>0</th>\n",
       "      <td>1</td>\n",
       "      <td>pyiron</td>\n",
       "      <td>murn</td>\n",
       "      <td>1</td>\n",
       "      <td>1</td>\n",
       "      <td>1</td>\n",
       "      <td>/</td>\n",
       "      <td>finished</td>\n",
       "      <td>MurnaghanTask</td>\n",
       "    </tr>\n",
       "    <tr>\n",
       "      <th>1</th>\n",
       "      <td>2</td>\n",
       "      <td>pyiron</td>\n",
       "      <td>md</td>\n",
       "      <td>2</td>\n",
       "      <td>1</td>\n",
       "      <td>2</td>\n",
       "      <td>/</td>\n",
       "      <td>finished</td>\n",
       "      <td>AseMDTask</td>\n",
       "    </tr>\n",
       "    <tr>\n",
       "      <th>2</th>\n",
       "      <td>3</td>\n",
       "      <td>pyiron</td>\n",
       "      <td>md</td>\n",
       "      <td>2</td>\n",
       "      <td>2</td>\n",
       "      <td>3</td>\n",
       "      <td>/foo</td>\n",
       "      <td>running</td>\n",
       "      <td>AseMDTask</td>\n",
       "    </tr>\n",
       "  </tbody>\n",
       "</table>\n",
       "</div>"
      ],
      "text/plain": [
       "   id username  name  jobtype_id  project_id  status_id location    status  \\\n",
       "0   1   pyiron  murn           1           1          1        /  finished   \n",
       "1   2   pyiron    md           2           1          2        /  finished   \n",
       "2   3   pyiron    md           2           2          3     /foo   running   \n",
       "\n",
       "            type  \n",
       "0  MurnaghanTask  \n",
       "1      AseMDTask  \n",
       "2      AseMDTask  "
      ]
     },
     "execution_count": 58,
     "metadata": {},
     "output_type": "execute_result"
    }
   ],
   "source": [
    "pr.job_table()"
   ]
  },
  {
   "cell_type": "markdown",
   "id": "d8a98b01-9999-428e-9211-c1df032e7ba3",
   "metadata": {},
   "source": [
    "# Database Tests"
   ]
  },
  {
   "cell_type": "code",
   "execution_count": 59,
   "id": "a6fefefb-b09c-4cee-b632-29f88bccfeee",
   "metadata": {},
   "outputs": [],
   "source": [
    "db = j.project.database"
   ]
  },
  {
   "cell_type": "code",
   "execution_count": 60,
   "id": "3419f273-b94b-48cf-9373-7441baec2353",
   "metadata": {},
   "outputs": [
    {
     "data": {
      "text/plain": [
       "DatabaseEntry(name='murn', username='pyiron', project='/', status='finished', jobtype='MurnaghanTask')"
      ]
     },
     "execution_count": 60,
     "metadata": {},
     "output_type": "execute_result"
    }
   ],
   "source": [
    "db.get_item(1)"
   ]
  },
  {
   "cell_type": "code",
   "execution_count": null,
   "id": "a7521b67-12cd-4835-ac1d-fc42f80c01bb",
   "metadata": {},
   "outputs": [],
   "source": []
  },
  {
   "cell_type": "code",
   "execution_count": 61,
   "id": "cf75b2e8-ec15-4846-bda4-9b6661e8b5fa",
   "metadata": {},
   "outputs": [],
   "source": [
    "eng = db.engine"
   ]
  },
  {
   "cell_type": "code",
   "execution_count": 62,
   "id": "1b23728b-1050-47a4-bda0-bd5967ceed2e",
   "metadata": {},
   "outputs": [],
   "source": [
    "from sqlalchemy.orm import Session"
   ]
  },
  {
   "cell_type": "code",
   "execution_count": 63,
   "id": "4cd73be9-2c6d-4501-8a6c-0afc6083a4b9",
   "metadata": {},
   "outputs": [],
   "source": [
    "s = Session(eng)"
   ]
  },
  {
   "cell_type": "code",
   "execution_count": 64,
   "id": "e9d9a3e2-5c86-46b4-b6d0-bec3a9f448b0",
   "metadata": {},
   "outputs": [],
   "source": [
    "from pyiron_contrib.tinybase.database import Job, Project as DProject, JobStatus, JobType"
   ]
  },
  {
   "cell_type": "code",
   "execution_count": 65,
   "id": "99059ff6-18bd-40b9-85fc-d76e1828f7ac",
   "metadata": {},
   "outputs": [
    {
     "data": {
      "text/plain": [
       "[]"
      ]
     },
     "execution_count": 65,
     "metadata": {},
     "output_type": "execute_result"
    }
   ],
   "source": [
    "s.query(Job.id).where(Job.name == \"min\", ).all()"
   ]
  },
  {
   "cell_type": "code",
   "execution_count": 66,
   "id": "cb4bb9fe-13bf-4736-aa68-662b980d4f00",
   "metadata": {},
   "outputs": [
    {
     "data": {
      "text/plain": [
       "[(2, 'finished')]"
      ]
     },
     "execution_count": 66,
     "metadata": {},
     "output_type": "execute_result"
    }
   ],
   "source": [
    "s.query(JobStatus.__table__).select_from(Job).where(Job.id == 2, Job.status_id == JobStatus.id).all()"
   ]
  },
  {
   "cell_type": "code",
   "execution_count": 67,
   "id": "4641b048-b7c7-46a2-b67c-835c08916cb0",
   "metadata": {},
   "outputs": [
    {
     "data": {
      "text/plain": [
       "[(1, 'finished'), (2, 'finished'), (3, 'finished')]"
      ]
     },
     "execution_count": 67,
     "metadata": {},
     "output_type": "execute_result"
    }
   ],
   "source": [
    "s.query(JobStatus.__table__).all()"
   ]
  },
  {
   "cell_type": "code",
   "execution_count": 68,
   "id": "94364e54-b980-48cc-995b-daf977437b1b",
   "metadata": {},
   "outputs": [
    {
     "data": {
      "text/plain": [
       "[(1, '/'), (2, '/foo')]"
      ]
     },
     "execution_count": 68,
     "metadata": {},
     "output_type": "execute_result"
    }
   ],
   "source": [
    "s.query(DProject.__table__).all()"
   ]
  },
  {
   "cell_type": "code",
   "execution_count": 69,
   "id": "f32c43d5-19c8-4505-bf5c-9ac32bca51d0",
   "metadata": {
    "tags": []
   },
   "outputs": [
    {
     "data": {
      "text/plain": [
       "[(1, 'MurnaghanTask'), (2, 'AseMDTask')]"
      ]
     },
     "execution_count": 69,
     "metadata": {},
     "output_type": "execute_result"
    }
   ],
   "source": [
    "s.query(JobType.__table__).all()"
   ]
  },
  {
   "cell_type": "code",
   "execution_count": null,
   "id": "2aa7afbb-add8-4bee-8151-5ffa8cc3a0b4",
   "metadata": {},
   "outputs": [],
   "source": []
  }
 ],
 "metadata": {
  "kernelspec": {
   "display_name": "Python 3 (ipykernel)",
   "language": "python",
   "name": "python3"
  },
  "language_info": {
   "codemirror_mode": {
    "name": "ipython",
    "version": 3
   },
   "file_extension": ".py",
   "mimetype": "text/x-python",
   "name": "python",
   "nbconvert_exporter": "python",
   "pygments_lexer": "ipython3",
   "version": "3.10.8"
  },
  "widgets": {
   "application/vnd.jupyter.widget-state+json": {
    "state": {
     "01513848d0e142c19b486707145aac2b": {
      "model_module": "@jupyter-widgets/controls",
      "model_module_version": "1.5.0",
      "model_name": "PlayModel",
      "state": {
       "layout": "IPY_MODEL_2baff459d76d4d4195b376c513f20464",
       "max": 11,
       "style": "IPY_MODEL_6a1e7e89d69443f3af1d3070dcd5f743"
      }
     },
     "02942fbc3e1c40f4becd44b4acfb0325": {
      "model_module": "@jupyter-widgets/controls",
      "model_module_version": "1.5.0",
      "model_name": "SliderStyleModel",
      "state": {
       "description_width": ""
      }
     },
     "10be40fdff5d48f59854385a9e7437e0": {
      "model_module": "@jupyter-widgets/controls",
      "model_module_version": "1.5.0",
      "model_name": "ButtonStyleModel",
      "state": {}
     },
     "152f5a5b455b49b587903b4c8ce65857": {
      "model_module": "nglview-js-widgets",
      "model_module_version": "3.0.1",
      "model_name": "ColormakerRegistryModel",
      "state": {
       "_msg_ar": [],
       "_msg_q": [],
       "_ready": true,
       "layout": "IPY_MODEL_b7fef6c8c4f54afc8b0ab6cd8df3e66b"
      }
     },
     "1f676bc52a71404cac6436e0a83bfa43": {
      "model_module": "@jupyter-widgets/controls",
      "model_module_version": "1.5.0",
      "model_name": "SliderStyleModel",
      "state": {
       "description_width": ""
      }
     },
     "232c6544e5134d6db790fe885e75a4e0": {
      "model_module": "@jupyter-widgets/controls",
      "model_module_version": "1.5.0",
      "model_name": "LinkModel",
      "state": {
       "source": [
        "IPY_MODEL_d03c7a1320874169b1cb7f506bedf1d3",
        "max"
       ],
       "target": [
        "IPY_MODEL_9c1507f4d5c84e2d9f390ba74bdf4dc8",
        "max_frame"
       ]
      }
     },
     "2baff459d76d4d4195b376c513f20464": {
      "model_module": "@jupyter-widgets/base",
      "model_module_version": "1.2.0",
      "model_name": "LayoutModel",
      "state": {}
     },
     "3027a3adbccc481d8e44bd6a73c2f3b5": {
      "model_module": "@jupyter-widgets/base",
      "model_module_version": "1.2.0",
      "model_name": "LayoutModel",
      "state": {}
     },
     "32b56ca3d2714a919e6fda2bda75b840": {
      "model_module": "@jupyter-widgets/controls",
      "model_module_version": "1.5.0",
      "model_name": "HBoxModel",
      "state": {
       "children": [
        "IPY_MODEL_d77cbd6d9a6b4f379349ba2242da96be",
        "IPY_MODEL_414a367a402644e6a24ec7f61e79689f"
       ],
       "layout": "IPY_MODEL_d219818914194ca796dcd6620d67e1da"
      }
     },
     "3412eb1b649d487496b8c2287ff0cc1d": {
      "model_module": "@jupyter-widgets/base",
      "model_module_version": "1.2.0",
      "model_name": "LayoutModel",
      "state": {
       "width": "34px"
      }
     },
     "357b9196051d4d8cade7e554e5a8e789": {
      "model_module": "@jupyter-widgets/controls",
      "model_module_version": "1.5.0",
      "model_name": "LinkModel",
      "state": {
       "source": [
        "IPY_MODEL_01513848d0e142c19b486707145aac2b",
        "value"
       ],
       "target": [
        "IPY_MODEL_d03c7a1320874169b1cb7f506bedf1d3",
        "value"
       ]
      }
     },
     "377a7e31f31445758b9fe5b9d7b35922": {
      "model_module": "@jupyter-widgets/base",
      "model_module_version": "1.2.0",
      "model_name": "LayoutModel",
      "state": {}
     },
     "39b6391e86da45ffa8c513e8653fc6c5": {
      "model_module": "@jupyter-widgets/base",
      "model_module_version": "1.2.0",
      "model_name": "LayoutModel",
      "state": {}
     },
     "414a367a402644e6a24ec7f61e79689f": {
      "model_module": "@jupyter-widgets/controls",
      "model_module_version": "1.5.0",
      "model_name": "IntSliderModel",
      "state": {
       "layout": "IPY_MODEL_39b6391e86da45ffa8c513e8653fc6c5",
       "max": 11,
       "style": "IPY_MODEL_02942fbc3e1c40f4becd44b4acfb0325"
      }
     },
     "44934da01fab4ddeb34ec8fce1793432": {
      "model_module": "@jupyter-widgets/base",
      "model_module_version": "1.2.0",
      "model_name": "LayoutModel",
      "state": {
       "width": "34px"
      }
     },
     "45e8ce58f366409db6a65035b3c7e8ea": {
      "model_module": "@jupyter-widgets/controls",
      "model_module_version": "1.5.0",
      "model_name": "HBoxModel",
      "state": {
       "children": [
        "IPY_MODEL_01513848d0e142c19b486707145aac2b",
        "IPY_MODEL_d03c7a1320874169b1cb7f506bedf1d3"
       ],
       "layout": "IPY_MODEL_6af4147c8e36483783d861307e4208f8"
      }
     },
     "46e9ec85470c49bbae783ccb989baac6": {
      "model_module": "@jupyter-widgets/base",
      "model_module_version": "1.2.0",
      "model_name": "LayoutModel",
      "state": {}
     },
     "486d6774e21240209db01f3a304dceb4": {
      "model_module": "@jupyter-widgets/controls",
      "model_module_version": "1.5.0",
      "model_name": "ButtonModel",
      "state": {
       "icon": "compress",
       "layout": "IPY_MODEL_3412eb1b649d487496b8c2287ff0cc1d",
       "style": "IPY_MODEL_c6092c42c17b4fadbf8ba80b0145cede"
      }
     },
     "4e8c55c8836a40e2bc91a8cb2224f8ca": {
      "model_module": "@jupyter-widgets/controls",
      "model_module_version": "1.5.0",
      "model_name": "LinkModel",
      "state": {
       "source": [
        "IPY_MODEL_d77cbd6d9a6b4f379349ba2242da96be",
        "max"
       ],
       "target": [
        "IPY_MODEL_ac63e7c8d2b84a478b194a451a0ede25",
        "max_frame"
       ]
      }
     },
     "50a64a1dc31641abbacfb82be21fe493": {
      "model_module": "@jupyter-widgets/controls",
      "model_module_version": "1.5.0",
      "model_name": "LinkModel",
      "state": {
       "source": [
        "IPY_MODEL_529f43bed2a445419cdaa8c9f1b748c1",
        "value"
       ],
       "target": [
        "IPY_MODEL_6f48caf2815c4b6696c4a3709aa50497",
        "value"
       ]
      }
     },
     "529f43bed2a445419cdaa8c9f1b748c1": {
      "model_module": "@jupyter-widgets/controls",
      "model_module_version": "1.5.0",
      "model_name": "PlayModel",
      "state": {
       "layout": "IPY_MODEL_a1c548569b5e4dd298b096a8be070a6d",
       "max": 21,
       "style": "IPY_MODEL_90b9fb050b0f4966aaa958aac04a9143"
      }
     },
     "69e28476441f48fe95232e86889454d1": {
      "model_module": "@jupyter-widgets/base",
      "model_module_version": "1.2.0",
      "model_name": "LayoutModel",
      "state": {}
     },
     "6a1e7e89d69443f3af1d3070dcd5f743": {
      "model_module": "@jupyter-widgets/controls",
      "model_module_version": "1.5.0",
      "model_name": "DescriptionStyleModel",
      "state": {
       "description_width": ""
      }
     },
     "6af4147c8e36483783d861307e4208f8": {
      "model_module": "@jupyter-widgets/base",
      "model_module_version": "1.2.0",
      "model_name": "LayoutModel",
      "state": {}
     },
     "6ec27eda3b6e461d821642ef264200ce": {
      "model_module": "@jupyter-widgets/controls",
      "model_module_version": "1.5.0",
      "model_name": "ButtonStyleModel",
      "state": {}
     },
     "6f48caf2815c4b6696c4a3709aa50497": {
      "model_module": "@jupyter-widgets/controls",
      "model_module_version": "1.5.0",
      "model_name": "IntSliderModel",
      "state": {
       "layout": "IPY_MODEL_83a7f768dc3545b085ff8b5dda276104",
       "max": 21,
       "style": "IPY_MODEL_1f676bc52a71404cac6436e0a83bfa43"
      }
     },
     "767f5dc744e84d9ebff773d9d352cdec": {
      "model_module": "@jupyter-widgets/controls",
      "model_module_version": "1.5.0",
      "model_name": "LinkModel",
      "state": {
       "source": [
        "IPY_MODEL_529f43bed2a445419cdaa8c9f1b748c1",
        "value"
       ],
       "target": [
        "IPY_MODEL_76b5f43e298747c2b94d0904a444374c",
        "frame"
       ]
      }
     },
     "76b5f43e298747c2b94d0904a444374c": {
      "model_module": "nglview-js-widgets",
      "model_module_version": "3.0.1",
      "model_name": "NGLModel",
      "state": {
       "_camera_orientation": [
        14.593602577909778,
        0,
        0,
        0,
        0,
        14.593602577909778,
        0,
        0,
        0,
        0,
        14.593602577909778,
        0,
        -0.8999999761581421,
        -0.8999999761581421,
        -0.8999999761581421,
        1
       ],
       "_camera_str": "orthographic",
       "_gui_theme": null,
       "_ibtn_fullscreen": "IPY_MODEL_92336429a0a04914a5c2a0241a4c44ae",
       "_igui": null,
       "_iplayer": "IPY_MODEL_caf558fa0d2c435389c51dceae9fe832",
       "_ngl_color_dict": {},
       "_ngl_coordinate_resource": {},
       "_ngl_full_stage_parameters": {
        "ambientColor": 14540253,
        "ambientIntensity": 0.2,
        "backgroundColor": "white",
        "cameraEyeSep": 0.3,
        "cameraFov": 40,
        "cameraType": "orthographic",
        "clipDist": 10,
        "clipFar": 100,
        "clipNear": 0,
        "fogFar": 100,
        "fogNear": 50,
        "hoverTimeout": 0,
        "impostor": true,
        "lightColor": 14540253,
        "lightIntensity": 1,
        "mousePreset": "default",
        "panSpeed": 1,
        "quality": "medium",
        "rotateSpeed": 2,
        "sampleLevel": 0,
        "tooltip": true,
        "workerDefault": true,
        "zoomSpeed": 1.2
       },
       "_ngl_msg_archive": [
        {
         "args": [
          {
           "binary": false,
           "data": "CRYST1    2.400    2.400    2.400  90.00  90.00  90.00 P 1\nMODEL     1\nATOM      1   Fe MOL     1       0.000   0.000   0.000  1.00  0.00          FE  \nATOM      2   Fe MOL     1       0.600   0.600   0.600  1.00  0.00          FE  \nATOM      3   Fe MOL     1       0.000   0.000   1.200  1.00  0.00          FE  \nATOM      4   Fe MOL     1       0.600   0.600   1.800  1.00  0.00          FE  \nATOM      5   Fe MOL     1       0.000   1.200   0.000  1.00  0.00          FE  \nATOM      6   Fe MOL     1       0.600   1.800   0.600  1.00  0.00          FE  \nATOM      7   Fe MOL     1       0.000   1.200   1.200  1.00  0.00          FE  \nATOM      8   Fe MOL     1       0.600   1.800   1.800  1.00  0.00          FE  \nATOM      9   Fe MOL     1       1.200   0.000   0.000  1.00  0.00          FE  \nATOM     10   Fe MOL     1       1.800   0.600   0.600  1.00  0.00          FE  \nATOM     11   Fe MOL     1       1.200   0.000   1.200  1.00  0.00          FE  \nATOM     12   Fe MOL     1       1.800   0.600   1.800  1.00  0.00          FE  \nATOM     13   Fe MOL     1       1.200   1.200   0.000  1.00  0.00          FE  \nATOM     14   Fe MOL     1       1.800   1.800   0.600  1.00  0.00          FE  \nATOM     15   Fe MOL     1       1.200   1.200   1.200  1.00  0.00          FE  \nATOM     16   Fe MOL     1       1.800   1.800   1.800  1.00  0.00          FE  \nENDMDL\n",
           "type": "blob"
          }
         ],
         "kwargs": {
          "defaultRepresentation": true,
          "ext": "pdb",
          "name": "nglview.adaptor.ASETrajectory"
         },
         "methodName": "loadFile",
         "reconstruc_color_scheme": false,
         "target": "Stage",
         "type": "call_method"
        },
        {
         "args": [
          "spacefill"
         ],
         "component_index": 0,
         "kwargs": {
          "radius": 0.5,
          "radiusType": "vdw",
          "scale": 0.5,
          "sele": "all"
         },
         "methodName": "addRepresentation",
         "reconstruc_color_scheme": false,
         "target": "compList",
         "type": "call_method"
        },
        {
         "args": [
          "ball+stick",
          0
         ],
         "kwargs": {},
         "methodName": "removeRepresentationsByName",
         "reconstruc_color_scheme": false,
         "target": "Widget",
         "type": "call_method"
        },
        {
         "args": [
          "unitcell"
         ],
         "component_index": 0,
         "kwargs": {
          "sele": "all"
         },
         "methodName": "addRepresentation",
         "reconstruc_color_scheme": false,
         "target": "compList",
         "type": "call_method"
        },
        {
         "args": [],
         "kwargs": {
          "cameraType": "orthographic"
         },
         "methodName": "setParameters",
         "reconstruc_color_scheme": false,
         "target": "Stage",
         "type": "call_method"
        }
       ],
       "_ngl_original_stage_parameters": {
        "ambientColor": 14540253,
        "ambientIntensity": 0.2,
        "backgroundColor": "white",
        "cameraEyeSep": 0.3,
        "cameraFov": 40,
        "cameraType": "perspective",
        "clipDist": 10,
        "clipFar": 100,
        "clipNear": 0,
        "fogFar": 100,
        "fogNear": 50,
        "hoverTimeout": 0,
        "impostor": true,
        "lightColor": 14540253,
        "lightIntensity": 1,
        "mousePreset": "default",
        "panSpeed": 1,
        "quality": "medium",
        "rotateSpeed": 2,
        "sampleLevel": 0,
        "tooltip": true,
        "workerDefault": true,
        "zoomSpeed": 1.2
       },
       "_ngl_repr_dict": {
        "0": {
         "0": {
          "params": {
           "assembly": "default",
           "clipCenter": {
            "x": 0,
            "y": 0,
            "z": 0
           },
           "clipNear": 0,
           "clipRadius": 0,
           "colorMode": "hcl",
           "colorReverse": false,
           "colorScale": "",
           "colorScheme": "element",
           "colorValue": 9474192,
           "defaultAssembly": "",
           "depthWrite": true,
           "diffuse": 16777215,
           "diffuseInterior": false,
           "disableImpostor": false,
           "disablePicking": false,
           "flatShaded": false,
           "interiorColor": 2236962,
           "interiorDarkening": 0,
           "lazy": false,
           "matrix": {
            "elements": [
             1,
             0,
             0,
             0,
             0,
             1,
             0,
             0,
             0,
             0,
             1,
             0,
             0,
             0,
             0,
             1
            ]
           },
           "metalness": 0,
           "opacity": 1,
           "quality": "medium",
           "radiusData": {},
           "radiusScale": 1,
           "radiusSize": 0.5,
           "radiusType": "size",
           "roughness": 0.4,
           "sele": "all",
           "side": "double",
           "sphereDetail": 1,
           "useInteriorColor": true,
           "visible": true,
           "wireframe": false
          },
          "type": "spacefill"
         },
         "1": {
          "params": {
           "clipCenter": {
            "x": 0,
            "y": 0,
            "z": 0
           },
           "clipNear": 0,
           "clipRadius": 0,
           "colorMode": "hcl",
           "colorReverse": false,
           "colorScale": "",
           "colorScheme": "element",
           "colorValue": "orange",
           "defaultAssembly": "",
           "depthWrite": true,
           "diffuse": 16777215,
           "diffuseInterior": false,
           "disableImpostor": false,
           "disablePicking": false,
           "flatShaded": false,
           "interiorColor": 2236962,
           "interiorDarkening": 0,
           "lazy": false,
           "matrix": {
            "elements": [
             1,
             0,
             0,
             0,
             0,
             1,
             0,
             0,
             0,
             0,
             1,
             0,
             0,
             0,
             0,
             1
            ]
           },
           "metalness": 0,
           "opacity": 1,
           "quality": "medium",
           "radialSegments": 10,
           "radiusData": {},
           "radiusScale": 1,
           "radiusSize": 0.011999999473246623,
           "radiusType": "vdw",
           "roughness": 0.4,
           "sele": "all",
           "side": "double",
           "sphereDetail": 1,
           "useInteriorColor": true,
           "visible": true,
           "wireframe": false
          },
          "type": "unitcell"
         }
        }
       },
       "_ngl_serialize": false,
       "_ngl_version": "2.0.0-dev.36",
       "_ngl_view_id": [
        "32F2B45E-F16D-4184-922C-AB66ECAD88AF"
       ],
       "_player_dict": {},
       "_scene_position": {},
       "_scene_rotation": {},
       "_synced_model_ids": [],
       "_synced_repr_model_ids": [],
       "_view_height": "",
       "_view_width": "",
       "background": "white",
       "frame": 0,
       "gui_style": null,
       "layout": "IPY_MODEL_9875bab03c8f4bfbaec33570279cf115",
       "max_frame": 21,
       "n_components": 1,
       "picked": {}
      }
     },
     "77aacc13b5bc4330afef3f15fa27c15c": {
      "model_module": "@jupyter-widgets/base",
      "model_module_version": "1.2.0",
      "model_name": "LayoutModel",
      "state": {}
     },
     "7e14e24a4172450c9f2b8d366842a726": {
      "model_module": "@jupyter-widgets/base",
      "model_module_version": "1.2.0",
      "model_name": "LayoutModel",
      "state": {}
     },
     "825db80ef9144c50b608e08bfc0ad89c": {
      "model_module": "@jupyter-widgets/controls",
      "model_module_version": "1.5.0",
      "model_name": "LinkModel",
      "state": {
       "source": [
        "IPY_MODEL_d77cbd6d9a6b4f379349ba2242da96be",
        "value"
       ],
       "target": [
        "IPY_MODEL_414a367a402644e6a24ec7f61e79689f",
        "value"
       ]
      }
     },
     "83a7f768dc3545b085ff8b5dda276104": {
      "model_module": "@jupyter-widgets/base",
      "model_module_version": "1.2.0",
      "model_name": "LayoutModel",
      "state": {}
     },
     "85c3044bc6714b30bdff4f451f7a5dab": {
      "model_module": "@jupyter-widgets/controls",
      "model_module_version": "1.5.0",
      "model_name": "LinkModel",
      "state": {
       "source": [
        "IPY_MODEL_529f43bed2a445419cdaa8c9f1b748c1",
        "max"
       ],
       "target": [
        "IPY_MODEL_76b5f43e298747c2b94d0904a444374c",
        "max_frame"
       ]
      }
     },
     "89088764b9f54bef9878c78ba26c5b42": {
      "model_module": "@jupyter-widgets/controls",
      "model_module_version": "1.5.0",
      "model_name": "ImageModel",
      "state": {
       "layout": "IPY_MODEL_bcb522f35abc417591714281f15b6231",
       "width": "900.0"
      }
     },
     "8a4e3529d09f4a2bab53ca611f490a74": {
      "model_module": "@jupyter-widgets/controls",
      "model_module_version": "1.5.0",
      "model_name": "LinkModel",
      "state": {
       "source": [
        "IPY_MODEL_01513848d0e142c19b486707145aac2b",
        "max"
       ],
       "target": [
        "IPY_MODEL_9c1507f4d5c84e2d9f390ba74bdf4dc8",
        "max_frame"
       ]
      }
     },
     "90b9fb050b0f4966aaa958aac04a9143": {
      "model_module": "@jupyter-widgets/controls",
      "model_module_version": "1.5.0",
      "model_name": "DescriptionStyleModel",
      "state": {
       "description_width": ""
      }
     },
     "92336429a0a04914a5c2a0241a4c44ae": {
      "model_module": "@jupyter-widgets/controls",
      "model_module_version": "1.5.0",
      "model_name": "ButtonModel",
      "state": {
       "icon": "compress",
       "layout": "IPY_MODEL_44934da01fab4ddeb34ec8fce1793432",
       "style": "IPY_MODEL_6ec27eda3b6e461d821642ef264200ce"
      }
     },
     "9875bab03c8f4bfbaec33570279cf115": {
      "model_module": "@jupyter-widgets/base",
      "model_module_version": "1.2.0",
      "model_name": "LayoutModel",
      "state": {}
     },
     "9c1507f4d5c84e2d9f390ba74bdf4dc8": {
      "model_module": "nglview-js-widgets",
      "model_module_version": "3.0.1",
      "model_name": "NGLModel",
      "state": {
       "_camera_orientation": [
        11.095162889756295,
        0,
        0,
        0,
        0,
        11.095162889756295,
        0,
        0,
        0,
        0,
        11.095162889756295,
        0,
        -0.0010000000474974513,
        0,
        -0.3755000000237487,
        1
       ],
       "_camera_str": "orthographic",
       "_gui_theme": null,
       "_ibtn_fullscreen": "IPY_MODEL_486d6774e21240209db01f3a304dceb4",
       "_igui": null,
       "_iplayer": "IPY_MODEL_45e8ce58f366409db6a65035b3c7e8ea",
       "_ngl_color_dict": {},
       "_ngl_coordinate_resource": {},
       "_ngl_full_stage_parameters": {
        "ambientColor": 14540253,
        "ambientIntensity": 0.2,
        "backgroundColor": "white",
        "cameraEyeSep": 0.3,
        "cameraFov": 40,
        "cameraType": "orthographic",
        "clipDist": 10,
        "clipFar": 100,
        "clipNear": 0,
        "fogFar": 100,
        "fogNear": 50,
        "hoverTimeout": 0,
        "impostor": true,
        "lightColor": 14540253,
        "lightIntensity": 1,
        "mousePreset": "default",
        "panSpeed": 1,
        "quality": "medium",
        "rotateSpeed": 2,
        "sampleLevel": 0,
        "tooltip": true,
        "workerDefault": true,
        "zoomSpeed": 1.2
       },
       "_ngl_msg_archive": [
        {
         "args": [
          {
           "binary": false,
           "data": "MODEL     1\nATOM      1   Fe MOL     1       0.000  -0.000   0.001  1.00  0.00          FE  \nATOM      2   Fe MOL     1       0.002  -0.000   0.750  1.00  0.00          FE  \nENDMDL\n",
           "type": "blob"
          }
         ],
         "kwargs": {
          "defaultRepresentation": true,
          "ext": "pdb",
          "name": "nglview.adaptor.ASETrajectory"
         },
         "methodName": "loadFile",
         "reconstruc_color_scheme": false,
         "target": "Stage",
         "type": "call_method"
        },
        {
         "args": [
          "spacefill"
         ],
         "component_index": 0,
         "kwargs": {
          "radius": 0.5,
          "radiusType": "vdw",
          "scale": 0.5,
          "sele": "all"
         },
         "methodName": "addRepresentation",
         "reconstruc_color_scheme": false,
         "target": "compList",
         "type": "call_method"
        },
        {
         "args": [
          "ball+stick",
          0
         ],
         "kwargs": {},
         "methodName": "removeRepresentationsByName",
         "reconstruc_color_scheme": false,
         "target": "Widget",
         "type": "call_method"
        },
        {
         "args": [
          "unitcell"
         ],
         "component_index": 0,
         "kwargs": {
          "sele": "all"
         },
         "methodName": "addRepresentation",
         "reconstruc_color_scheme": false,
         "target": "compList",
         "type": "call_method"
        },
        {
         "args": [],
         "kwargs": {
          "cameraType": "orthographic"
         },
         "methodName": "setParameters",
         "reconstruc_color_scheme": false,
         "target": "Stage",
         "type": "call_method"
        }
       ],
       "_ngl_original_stage_parameters": {
        "ambientColor": 14540253,
        "ambientIntensity": 0.2,
        "backgroundColor": "white",
        "cameraEyeSep": 0.3,
        "cameraFov": 40,
        "cameraType": "perspective",
        "clipDist": 10,
        "clipFar": 100,
        "clipNear": 0,
        "fogFar": 100,
        "fogNear": 50,
        "hoverTimeout": 0,
        "impostor": true,
        "lightColor": 14540253,
        "lightIntensity": 1,
        "mousePreset": "default",
        "panSpeed": 1,
        "quality": "medium",
        "rotateSpeed": 2,
        "sampleLevel": 0,
        "tooltip": true,
        "workerDefault": true,
        "zoomSpeed": 1.2
       },
       "_ngl_repr_dict": {
        "0": {
         "0": {
          "params": {
           "assembly": "default",
           "clipCenter": {
            "x": 0,
            "y": 0,
            "z": 0
           },
           "clipNear": 0,
           "clipRadius": 0,
           "colorMode": "hcl",
           "colorReverse": false,
           "colorScale": "",
           "colorScheme": "element",
           "colorValue": 9474192,
           "defaultAssembly": "",
           "depthWrite": true,
           "diffuse": 16777215,
           "diffuseInterior": false,
           "disableImpostor": false,
           "disablePicking": false,
           "flatShaded": false,
           "interiorColor": 2236962,
           "interiorDarkening": 0,
           "lazy": false,
           "matrix": {
            "elements": [
             1,
             0,
             0,
             0,
             0,
             1,
             0,
             0,
             0,
             0,
             1,
             0,
             0,
             0,
             0,
             1
            ]
           },
           "metalness": 0,
           "opacity": 1,
           "quality": "medium",
           "radiusData": {},
           "radiusScale": 1,
           "radiusSize": 0.5,
           "radiusType": "size",
           "roughness": 0.4,
           "sele": "all",
           "side": "double",
           "sphereDetail": 1,
           "useInteriorColor": true,
           "visible": true,
           "wireframe": false
          },
          "type": "spacefill"
         },
         "1": {
          "params": {
           "clipCenter": {
            "x": 0,
            "y": 0,
            "z": 0
           },
           "clipNear": 0,
           "clipRadius": 0,
           "colorMode": "hcl",
           "colorReverse": false,
           "colorScale": "",
           "colorScheme": "element",
           "colorValue": "orange",
           "defaultAssembly": "",
           "depthWrite": true,
           "diffuse": 16777215,
           "diffuseInterior": false,
           "disableImpostor": false,
           "disablePicking": false,
           "flatShaded": false,
           "interiorColor": 2236962,
           "interiorDarkening": 0,
           "lazy": false,
           "matrix": {
            "elements": [
             1,
             0,
             0,
             0,
             0,
             1,
             0,
             0,
             0,
             0,
             1,
             0,
             0,
             0,
             0,
             1
            ]
           },
           "metalness": 0,
           "opacity": 1,
           "quality": "medium",
           "radialSegments": 10,
           "radiusData": {},
           "radiusScale": 1,
           "radiusSize": 0.5,
           "radiusType": "vdw",
           "roughness": 0.4,
           "sele": "all",
           "side": "double",
           "sphereDetail": 1,
           "useInteriorColor": true,
           "visible": true,
           "wireframe": false
          },
          "type": "unitcell"
         }
        }
       },
       "_ngl_serialize": false,
       "_ngl_version": "2.0.0-dev.36",
       "_ngl_view_id": [
        "699B59EB-55CE-4425-ADFE-ED47C0293DDA"
       ],
       "_player_dict": {},
       "_scene_position": {},
       "_scene_rotation": {},
       "_synced_model_ids": [],
       "_synced_repr_model_ids": [],
       "_view_height": "",
       "_view_width": "",
       "background": "white",
       "frame": 0,
       "gui_style": null,
       "layout": "IPY_MODEL_69e28476441f48fe95232e86889454d1",
       "max_frame": 11,
       "n_components": 1,
       "picked": {}
      }
     },
     "a1c548569b5e4dd298b096a8be070a6d": {
      "model_module": "@jupyter-widgets/base",
      "model_module_version": "1.2.0",
      "model_name": "LayoutModel",
      "state": {}
     },
     "a6fe37986c1241b09ff3ff3f085ed7c2": {
      "model_module": "@jupyter-widgets/base",
      "model_module_version": "1.2.0",
      "model_name": "LayoutModel",
      "state": {
       "width": "34px"
      }
     },
     "ac63e7c8d2b84a478b194a451a0ede25": {
      "model_module": "nglview-js-widgets",
      "model_module_version": "3.0.1",
      "model_name": "NGLModel",
      "state": {
       "_camera_orientation": [
        11.095162889756295,
        0,
        0,
        0,
        0,
        11.095162889756295,
        0,
        0,
        0,
        0,
        11.095162889756295,
        0,
        -0.0010000000474974513,
        0,
        -0.3755000000237487,
        1
       ],
       "_camera_str": "orthographic",
       "_gui_theme": null,
       "_ibtn_fullscreen": "IPY_MODEL_cdf89c40e3344be6afa00e1f39128993",
       "_igui": null,
       "_iplayer": "IPY_MODEL_32b56ca3d2714a919e6fda2bda75b840",
       "_ngl_color_dict": {},
       "_ngl_coordinate_resource": {},
       "_ngl_full_stage_parameters": {
        "ambientColor": 14540253,
        "ambientIntensity": 0.2,
        "backgroundColor": "white",
        "cameraEyeSep": 0.3,
        "cameraFov": 40,
        "cameraType": "orthographic",
        "clipDist": 10,
        "clipFar": 100,
        "clipNear": 0,
        "fogFar": 100,
        "fogNear": 50,
        "hoverTimeout": 0,
        "impostor": true,
        "lightColor": 14540253,
        "lightIntensity": 1,
        "mousePreset": "default",
        "panSpeed": 1,
        "quality": "medium",
        "rotateSpeed": 2,
        "sampleLevel": 0,
        "tooltip": true,
        "workerDefault": true,
        "zoomSpeed": 1.2
       },
       "_ngl_msg_archive": [
        {
         "args": [
          {
           "binary": false,
           "data": "MODEL     1\nATOM      1   Fe MOL     1       0.000  -0.000   0.001  1.00  0.00          FE  \nATOM      2   Fe MOL     1       0.002  -0.000   0.750  1.00  0.00          FE  \nENDMDL\n",
           "type": "blob"
          }
         ],
         "kwargs": {
          "defaultRepresentation": true,
          "ext": "pdb",
          "name": "nglview.adaptor.ASETrajectory"
         },
         "methodName": "loadFile",
         "reconstruc_color_scheme": false,
         "target": "Stage",
         "type": "call_method"
        },
        {
         "args": [
          "spacefill"
         ],
         "component_index": 0,
         "kwargs": {
          "radius": 0.5,
          "radiusType": "vdw",
          "scale": 0.5,
          "sele": "all"
         },
         "methodName": "addRepresentation",
         "reconstruc_color_scheme": false,
         "target": "compList",
         "type": "call_method"
        },
        {
         "args": [
          "ball+stick",
          0
         ],
         "kwargs": {},
         "methodName": "removeRepresentationsByName",
         "reconstruc_color_scheme": false,
         "target": "Widget",
         "type": "call_method"
        },
        {
         "args": [
          "unitcell"
         ],
         "component_index": 0,
         "kwargs": {
          "sele": "all"
         },
         "methodName": "addRepresentation",
         "reconstruc_color_scheme": false,
         "target": "compList",
         "type": "call_method"
        },
        {
         "args": [],
         "kwargs": {
          "cameraType": "orthographic"
         },
         "methodName": "setParameters",
         "reconstruc_color_scheme": false,
         "target": "Stage",
         "type": "call_method"
        }
       ],
       "_ngl_original_stage_parameters": {
        "ambientColor": 14540253,
        "ambientIntensity": 0.2,
        "backgroundColor": "white",
        "cameraEyeSep": 0.3,
        "cameraFov": 40,
        "cameraType": "perspective",
        "clipDist": 10,
        "clipFar": 100,
        "clipNear": 0,
        "fogFar": 100,
        "fogNear": 50,
        "hoverTimeout": 0,
        "impostor": true,
        "lightColor": 14540253,
        "lightIntensity": 1,
        "mousePreset": "default",
        "panSpeed": 1,
        "quality": "medium",
        "rotateSpeed": 2,
        "sampleLevel": 0,
        "tooltip": true,
        "workerDefault": true,
        "zoomSpeed": 1.2
       },
       "_ngl_repr_dict": {
        "0": {
         "0": {
          "params": {
           "assembly": "default",
           "clipCenter": {
            "x": 0,
            "y": 0,
            "z": 0
           },
           "clipNear": 0,
           "clipRadius": 0,
           "colorMode": "hcl",
           "colorReverse": false,
           "colorScale": "",
           "colorScheme": "element",
           "colorValue": 9474192,
           "defaultAssembly": "",
           "depthWrite": true,
           "diffuse": 16777215,
           "diffuseInterior": false,
           "disableImpostor": false,
           "disablePicking": false,
           "flatShaded": false,
           "interiorColor": 2236962,
           "interiorDarkening": 0,
           "lazy": false,
           "matrix": {
            "elements": [
             1,
             0,
             0,
             0,
             0,
             1,
             0,
             0,
             0,
             0,
             1,
             0,
             0,
             0,
             0,
             1
            ]
           },
           "metalness": 0,
           "opacity": 1,
           "quality": "medium",
           "radiusData": {},
           "radiusScale": 1,
           "radiusSize": 0.5,
           "radiusType": "size",
           "roughness": 0.4,
           "sele": "all",
           "side": "double",
           "sphereDetail": 1,
           "useInteriorColor": true,
           "visible": true,
           "wireframe": false
          },
          "type": "spacefill"
         },
         "1": {
          "params": {
           "clipCenter": {
            "x": 0,
            "y": 0,
            "z": 0
           },
           "clipNear": 0,
           "clipRadius": 0,
           "colorMode": "hcl",
           "colorReverse": false,
           "colorScale": "",
           "colorScheme": "element",
           "colorValue": "orange",
           "defaultAssembly": "",
           "depthWrite": true,
           "diffuse": 16777215,
           "diffuseInterior": false,
           "disableImpostor": false,
           "disablePicking": false,
           "flatShaded": false,
           "interiorColor": 2236962,
           "interiorDarkening": 0,
           "lazy": false,
           "matrix": {
            "elements": [
             1,
             0,
             0,
             0,
             0,
             1,
             0,
             0,
             0,
             0,
             1,
             0,
             0,
             0,
             0,
             1
            ]
           },
           "metalness": 0,
           "opacity": 1,
           "quality": "medium",
           "radialSegments": 10,
           "radiusData": {},
           "radiusScale": 1,
           "radiusSize": 0.5,
           "radiusType": "vdw",
           "roughness": 0.4,
           "sele": "all",
           "side": "double",
           "sphereDetail": 1,
           "useInteriorColor": true,
           "visible": true,
           "wireframe": false
          },
          "type": "unitcell"
         }
        }
       },
       "_ngl_serialize": false,
       "_ngl_version": "2.0.0-dev.36",
       "_ngl_view_id": [
        "4FE92B85-322A-43FB-A544-B442042ECB09"
       ],
       "_player_dict": {},
       "_scene_position": {},
       "_scene_rotation": {},
       "_synced_model_ids": [],
       "_synced_repr_model_ids": [],
       "_view_height": "",
       "_view_width": "",
       "background": "white",
       "frame": 0,
       "gui_style": null,
       "layout": "IPY_MODEL_d4f483bcea5f4ca2aac4272eed22083a",
       "max_frame": 11,
       "n_components": 1,
       "picked": {}
      }
     },
     "b7fef6c8c4f54afc8b0ab6cd8df3e66b": {
      "model_module": "@jupyter-widgets/base",
      "model_module_version": "1.2.0",
      "model_name": "LayoutModel",
      "state": {}
     },
     "b8bba1376ea54a03b1c8714a6ca64559": {
      "model_module": "@jupyter-widgets/controls",
      "model_module_version": "1.5.0",
      "model_name": "ImageModel",
      "state": {
       "layout": "IPY_MODEL_377a7e31f31445758b9fe5b9d7b35922",
       "width": "900.0"
      }
     },
     "bcb522f35abc417591714281f15b6231": {
      "model_module": "@jupyter-widgets/base",
      "model_module_version": "1.2.0",
      "model_name": "LayoutModel",
      "state": {}
     },
     "c6092c42c17b4fadbf8ba80b0145cede": {
      "model_module": "@jupyter-widgets/controls",
      "model_module_version": "1.5.0",
      "model_name": "ButtonStyleModel",
      "state": {}
     },
     "caf558fa0d2c435389c51dceae9fe832": {
      "model_module": "@jupyter-widgets/controls",
      "model_module_version": "1.5.0",
      "model_name": "HBoxModel",
      "state": {
       "children": [
        "IPY_MODEL_529f43bed2a445419cdaa8c9f1b748c1",
        "IPY_MODEL_6f48caf2815c4b6696c4a3709aa50497"
       ],
       "layout": "IPY_MODEL_7e14e24a4172450c9f2b8d366842a726"
      }
     },
     "cdf89c40e3344be6afa00e1f39128993": {
      "model_module": "@jupyter-widgets/controls",
      "model_module_version": "1.5.0",
      "model_name": "ButtonModel",
      "state": {
       "icon": "compress",
       "layout": "IPY_MODEL_a6fe37986c1241b09ff3ff3f085ed7c2",
       "style": "IPY_MODEL_10be40fdff5d48f59854385a9e7437e0"
      }
     },
     "ce093890ee6649b1a970930fbdbbe878": {
      "model_module": "@jupyter-widgets/controls",
      "model_module_version": "1.5.0",
      "model_name": "DescriptionStyleModel",
      "state": {
       "description_width": ""
      }
     },
     "cf19b664d4d9466eae5313a530dc4c62": {
      "model_module": "@jupyter-widgets/controls",
      "model_module_version": "1.5.0",
      "model_name": "ImageModel",
      "state": {
       "layout": "IPY_MODEL_77aacc13b5bc4330afef3f15fa27c15c",
       "width": "900.0"
      }
     },
     "d03c7a1320874169b1cb7f506bedf1d3": {
      "model_module": "@jupyter-widgets/controls",
      "model_module_version": "1.5.0",
      "model_name": "IntSliderModel",
      "state": {
       "layout": "IPY_MODEL_46e9ec85470c49bbae783ccb989baac6",
       "max": 11,
       "style": "IPY_MODEL_dcd8bcf8e7064370aafdaf883581e209"
      }
     },
     "d219818914194ca796dcd6620d67e1da": {
      "model_module": "@jupyter-widgets/base",
      "model_module_version": "1.2.0",
      "model_name": "LayoutModel",
      "state": {}
     },
     "d4f483bcea5f4ca2aac4272eed22083a": {
      "model_module": "@jupyter-widgets/base",
      "model_module_version": "1.2.0",
      "model_name": "LayoutModel",
      "state": {}
     },
     "d77cbd6d9a6b4f379349ba2242da96be": {
      "model_module": "@jupyter-widgets/controls",
      "model_module_version": "1.5.0",
      "model_name": "PlayModel",
      "state": {
       "layout": "IPY_MODEL_3027a3adbccc481d8e44bd6a73c2f3b5",
       "max": 11,
       "style": "IPY_MODEL_ce093890ee6649b1a970930fbdbbe878"
      }
     },
     "dcd8bcf8e7064370aafdaf883581e209": {
      "model_module": "@jupyter-widgets/controls",
      "model_module_version": "1.5.0",
      "model_name": "SliderStyleModel",
      "state": {
       "description_width": ""
      }
     },
     "f21b59c26c3a4bfab6b5c4c3aeccb961": {
      "model_module": "@jupyter-widgets/controls",
      "model_module_version": "1.5.0",
      "model_name": "LinkModel",
      "state": {
       "source": [
        "IPY_MODEL_414a367a402644e6a24ec7f61e79689f",
        "max"
       ],
       "target": [
        "IPY_MODEL_ac63e7c8d2b84a478b194a451a0ede25",
        "max_frame"
       ]
      }
     },
     "f2d3d7b0885944d09a1d9723dc507b5e": {
      "model_module": "@jupyter-widgets/controls",
      "model_module_version": "1.5.0",
      "model_name": "LinkModel",
      "state": {
       "source": [
        "IPY_MODEL_d77cbd6d9a6b4f379349ba2242da96be",
        "value"
       ],
       "target": [
        "IPY_MODEL_ac63e7c8d2b84a478b194a451a0ede25",
        "frame"
       ]
      }
     },
     "f3319be68c4944e9832bdd57da448d71": {
      "model_module": "@jupyter-widgets/controls",
      "model_module_version": "1.5.0",
      "model_name": "LinkModel",
      "state": {
       "source": [
        "IPY_MODEL_01513848d0e142c19b486707145aac2b",
        "value"
       ],
       "target": [
        "IPY_MODEL_9c1507f4d5c84e2d9f390ba74bdf4dc8",
        "frame"
       ]
      }
     },
     "f44ec76bf085463d85525d2c8363acca": {
      "model_module": "@jupyter-widgets/controls",
      "model_module_version": "1.5.0",
      "model_name": "LinkModel",
      "state": {
       "source": [
        "IPY_MODEL_6f48caf2815c4b6696c4a3709aa50497",
        "max"
       ],
       "target": [
        "IPY_MODEL_76b5f43e298747c2b94d0904a444374c",
        "max_frame"
       ]
      }
     }
    },
    "version_major": 2,
    "version_minor": 0
   }
  }
 },
 "nbformat": 4,
 "nbformat_minor": 5
}
