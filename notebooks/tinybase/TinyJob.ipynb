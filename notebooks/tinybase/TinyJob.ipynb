{
 "cells": [
  {
   "cell_type": "markdown",
   "id": "f4408d8a-2da9-4cc2-834f-f36ca47b23dc",
   "metadata": {},
   "source": [
    "# Imports"
   ]
  },
  {
   "cell_type": "code",
   "execution_count": 1,
   "id": "1e5208d9-d7b8-4ca3-92cf-5d32c30c20f9",
   "metadata": {
    "tags": []
   },
   "outputs": [
    {
     "name": "stderr",
     "output_type": "stream",
     "text": [
      "/home/poul/pyiron/contrib/pyiron_contrib/__init__.py:9: UserWarning: pyiron module not found, importing Project from pyiron_base\n",
      "  warnings.warn(\"pyiron module not found, importing Project from pyiron_base\")\n"
     ]
    },
    {
     "name": "stdout",
     "output_type": "stream",
     "text": [
      "CPU times: user 1.48 s, sys: 980 ms, total: 2.46 s\n",
      "Wall time: 1.47 s\n"
     ]
    }
   ],
   "source": [
    "%%time\n",
    "from pyiron_contrib.tinybase.project import FilesystemProject, InMemoryProject, SingleHdfProject"
   ]
  },
  {
   "cell_type": "code",
   "execution_count": 2,
   "id": "059021a8-6e20-4265-94f4-8fb9bdaebde3",
   "metadata": {
    "tags": []
   },
   "outputs": [],
   "source": [
    "from ase.calculators.morse import MorsePotential"
   ]
  },
  {
   "cell_type": "code",
   "execution_count": 3,
   "id": "f2e0123f-f0be-41ef-9733-af547b38d846",
   "metadata": {
    "tags": []
   },
   "outputs": [],
   "source": [
    "import logging\n",
    "logging.getLogger().setLevel(20)"
   ]
  },
  {
   "cell_type": "markdown",
   "id": "bc092b74-64c6-49c9-9576-ef5d871fcd1e",
   "metadata": {},
   "source": [
    "# Create Project and a new Job\n"
   ]
  },
  {
   "cell_type": "code",
   "execution_count": 4,
   "id": "961292c0-4dfb-41a9-970b-13782eb049a2",
   "metadata": {},
   "outputs": [],
   "source": [
    "!rm -rf tinyjob"
   ]
  },
  {
   "cell_type": "code",
   "execution_count": 5,
   "id": "0f30286b-4434-4569-8f03-fadab46ebe34",
   "metadata": {
    "tags": []
   },
   "outputs": [],
   "source": [
    "pr = FilesystemProject.open_location('tinyjob')"
   ]
  },
  {
   "cell_type": "markdown",
   "id": "450e6b64-9824-4b8a-8854-3999a93fc781",
   "metadata": {
    "tags": []
   },
   "source": [
    "## MD Job"
   ]
  },
  {
   "cell_type": "code",
   "execution_count": 6,
   "id": "e31baebd-b2c8-4343-90ad-92d9128d1496",
   "metadata": {
    "tags": []
   },
   "outputs": [
    {
     "data": {
      "application/vnd.jupyter.widget-view+json": {
       "model_id": "71760bb018a94c31bbf2d9ee9add377e",
       "version_major": 2,
       "version_minor": 0
      },
      "text/plain": []
     },
     "metadata": {},
     "output_type": "display_data"
    }
   ],
   "source": [
    "j = pr.create.job.AseMD('md')"
   ]
  },
  {
   "cell_type": "code",
   "execution_count": 7,
   "id": "18e6de26-308c-46ae-9672-b2db43447ea5",
   "metadata": {
    "tags": []
   },
   "outputs": [],
   "source": [
    "j.input.structure = pr.create.structure.bulk('Fe', a=1.2, cubic=True).repeat(2).to_ase()\n",
    "j.input.calculator = MorsePotential()"
   ]
  },
  {
   "cell_type": "code",
   "execution_count": 8,
   "id": "72848cd2-fd51-4ad8-b56e-ca686074bb26",
   "metadata": {
    "tags": []
   },
   "outputs": [],
   "source": [
    "j.input.steps = 100\n",
    "j.input.timestep = 3.0\n",
    "j.input.temperature = 600.0\n",
    "j.input.output_steps = 20"
   ]
  },
  {
   "cell_type": "code",
   "execution_count": 9,
   "id": "56c0e73a-c42b-4814-a25a-e6974fea3d00",
   "metadata": {
    "tags": []
   },
   "outputs": [
    {
     "data": {
      "text/plain": [
       "<pyiron_contrib.tinybase.executor.ExecutionContext at 0x7fbcbcb4bc50>"
      ]
     },
     "execution_count": 9,
     "metadata": {},
     "output_type": "execute_result"
    }
   ],
   "source": [
    "j.run()"
   ]
  },
  {
   "cell_type": "code",
   "execution_count": 10,
   "id": "2c533085-ade1-4585-9d3c-ed2e200f387c",
   "metadata": {
    "tags": []
   },
   "outputs": [
    {
     "data": {
      "text/plain": [
       "'finished'"
      ]
     },
     "execution_count": 10,
     "metadata": {},
     "output_type": "execute_result"
    }
   ],
   "source": [
    "j.status"
   ]
  },
  {
   "cell_type": "code",
   "execution_count": 11,
   "id": "49ccfe01-7b7e-4615-bf43-21c1bbffec66",
   "metadata": {
    "tags": []
   },
   "outputs": [
    {
     "data": {
      "application/vnd.jupyter.widget-view+json": {
       "model_id": "7ba2d6e222434c8e8f0dd80cf8edbb90",
       "version_major": 2,
       "version_minor": 0
      },
      "text/plain": [
       "NGLWidget(max_frame=21)"
      ]
     },
     "metadata": {},
     "output_type": "display_data"
    }
   ],
   "source": [
    "j.output.animate_structures()"
   ]
  },
  {
   "cell_type": "markdown",
   "id": "558dcbd7-7237-4067-b2e6-b797e3c63aaa",
   "metadata": {},
   "source": [
    "## Min Job"
   ]
  },
  {
   "cell_type": "code",
   "execution_count": 12,
   "id": "7b807119-da8d-475c-9aa8-c8e8c9afa115",
   "metadata": {
    "tags": []
   },
   "outputs": [],
   "source": [
    "j = pr.create.job.AseMinimize('min')"
   ]
  },
  {
   "cell_type": "code",
   "execution_count": 13,
   "id": "3a8cda32-df2e-4884-8cfd-84e438c5be69",
   "metadata": {
    "tags": []
   },
   "outputs": [],
   "source": [
    "j.input.structure = pr.create.structure.atoms(\n",
    "    symbols=['Fe', 'Fe'], \n",
    "    positions=[[0,0,0], [0,0, .75]], \n",
    "    cell=[10,10,10]\n",
    ").to_ase() # since our Atoms cannot be pickled, but parallel execution needs that we still convert back here\n",
    "j.input.structure.rattle(1e-3)\n",
    "j.input.calculator = MorsePotential()"
   ]
  },
  {
   "cell_type": "code",
   "execution_count": 14,
   "id": "d4b81c3f-4667-4b99-a2b3-08c7ee7e2c82",
   "metadata": {
    "tags": []
   },
   "outputs": [],
   "source": [
    "j.input.lbfgs(damping=.25)\n",
    "j.input.ionic_force_tolerance = 1e-3\n",
    "j.input.max_steps = 100\n",
    "j.input.output_steps = 10"
   ]
  },
  {
   "cell_type": "code",
   "execution_count": 15,
   "id": "e7494fee-d565-45e3-a819-c77ab0d2c7f6",
   "metadata": {
    "scrolled": true,
    "tags": []
   },
   "outputs": [
    {
     "name": "stdout",
     "output_type": "stream",
     "text": [
      "       Step     Time          Energy         fmax\n",
      "LBFGS:    0 18:00:52       11.288146      189.5231\n",
      "LBFGS:    1 18:00:52        1.168671       43.6957\n",
      "LBFGS:    2 18:00:52        0.860403       38.6924\n",
      "LBFGS:    3 18:00:52        0.362400       30.3554\n",
      "LBFGS:    4 18:00:52        0.004806       24.0865\n",
      "LBFGS:    5 18:00:52       -0.267437       19.0615\n",
      "LBFGS:    6 18:00:52       -0.471646       15.0628\n",
      "LBFGS:    7 18:00:52       -0.623506       11.8810\n",
      "LBFGS:    8 18:00:52       -0.735237        9.3518\n",
      "LBFGS:    9 18:00:52       -0.816458        7.3435\n",
      "LBFGS:   10 18:00:52       -0.874705        5.7512\n",
      "LBFGS:   11 18:00:52       -0.915849        4.4909\n",
      "LBFGS:   12 18:00:52       -0.944435        3.4955\n",
      "LBFGS:   13 18:00:53       -0.963943        2.7113\n",
      "LBFGS:   14 18:00:53       -0.977006        2.0956\n",
      "LBFGS:   15 18:00:53       -0.985585        1.6137\n",
      "LBFGS:   16 18:00:53       -0.991109        1.2382\n",
      "LBFGS:   17 18:00:53       -0.994598        0.9468\n",
      "LBFGS:   18 18:00:53       -0.996763        0.7216\n",
      "LBFGS:   19 18:00:53       -0.998083        0.5484\n",
      "LBFGS:   20 18:00:53       -0.998876        0.4157\n",
      "LBFGS:   21 18:00:53       -0.999347        0.3144\n",
      "LBFGS:   22 18:00:53       -0.999623        0.2374\n",
      "LBFGS:   23 18:00:53       -0.999784        0.1790\n",
      "LBFGS:   24 18:00:53       -0.999877        0.1348\n",
      "LBFGS:   25 18:00:53       -0.999930        0.1014\n",
      "LBFGS:   26 18:00:53       -0.999960        0.0762\n",
      "LBFGS:   27 18:00:53       -0.999977        0.0573\n",
      "LBFGS:   28 18:00:53       -0.999987        0.0430\n",
      "LBFGS:   29 18:00:53       -0.999993        0.0323\n",
      "LBFGS:   30 18:00:53       -0.999996        0.0242\n",
      "LBFGS:   31 18:00:53       -0.999998        0.0182\n",
      "LBFGS:   32 18:00:53       -0.999999        0.0136\n",
      "LBFGS:   33 18:00:53       -0.999999        0.0102\n",
      "LBFGS:   34 18:00:53       -1.000000        0.0077\n",
      "LBFGS:   35 18:00:53       -1.000000        0.0058\n",
      "LBFGS:   36 18:00:53       -1.000000        0.0043\n",
      "LBFGS:   37 18:00:53       -1.000000        0.0032\n",
      "LBFGS:   38 18:00:53       -1.000000        0.0024\n",
      "LBFGS:   39 18:00:53       -1.000000        0.0018\n",
      "LBFGS:   40 18:00:53       -1.000000        0.0014\n",
      "LBFGS:   41 18:00:53       -1.000000        0.0010\n",
      "LBFGS:   42 18:00:53       -1.000000        0.0008\n"
     ]
    }
   ],
   "source": [
    "j.run(\n",
    "    submitter=pr.create.executor.process(4)\n",
    ")\n",
    "j.wait()\n",
    "#FIXME: small race condition, other cells below can fail if executed too quickly.\n",
    "import time\n",
    "time.sleep(1)"
   ]
  },
  {
   "cell_type": "code",
   "execution_count": 16,
   "id": "f05faf5d-7586-4a10-b6ad-1f1723196eb1",
   "metadata": {},
   "outputs": [
    {
     "data": {
      "text/plain": [
       "'finished'"
      ]
     },
     "execution_count": 16,
     "metadata": {},
     "output_type": "execute_result"
    }
   ],
   "source": [
    "j.status"
   ]
  },
  {
   "cell_type": "code",
   "execution_count": 17,
   "id": "7c16a615-0913-4880-9694-2c125285babc",
   "metadata": {
    "tags": []
   },
   "outputs": [
    {
     "data": {
      "text/html": [
       "<div>\n",
       "<style scoped>\n",
       "    .dataframe tbody tr th:only-of-type {\n",
       "        vertical-align: middle;\n",
       "    }\n",
       "\n",
       "    .dataframe tbody tr th {\n",
       "        vertical-align: top;\n",
       "    }\n",
       "\n",
       "    .dataframe thead th {\n",
       "        text-align: right;\n",
       "    }\n",
       "</style>\n",
       "<table border=\"1\" class=\"dataframe\">\n",
       "  <thead>\n",
       "    <tr style=\"text-align: right;\">\n",
       "      <th></th>\n",
       "      <th>id</th>\n",
       "      <th>username</th>\n",
       "      <th>name</th>\n",
       "      <th>jobtype_id</th>\n",
       "      <th>project_id</th>\n",
       "      <th>status_id</th>\n",
       "      <th>location</th>\n",
       "      <th>status</th>\n",
       "      <th>type</th>\n",
       "    </tr>\n",
       "  </thead>\n",
       "  <tbody>\n",
       "    <tr>\n",
       "      <th>0</th>\n",
       "      <td>1</td>\n",
       "      <td>pyiron</td>\n",
       "      <td>md</td>\n",
       "      <td>1</td>\n",
       "      <td>1</td>\n",
       "      <td>1</td>\n",
       "      <td>tinyjob</td>\n",
       "      <td>finished</td>\n",
       "      <td>AseMDTask</td>\n",
       "    </tr>\n",
       "    <tr>\n",
       "      <th>1</th>\n",
       "      <td>2</td>\n",
       "      <td>pyiron</td>\n",
       "      <td>min</td>\n",
       "      <td>2</td>\n",
       "      <td>1</td>\n",
       "      <td>2</td>\n",
       "      <td>tinyjob</td>\n",
       "      <td>finished</td>\n",
       "      <td>AseMinimizeTask</td>\n",
       "    </tr>\n",
       "  </tbody>\n",
       "</table>\n",
       "</div>"
      ],
      "text/plain": [
       "   id username name  jobtype_id  project_id  status_id location    status  \\\n",
       "0   1   pyiron   md           1           1          1  tinyjob  finished   \n",
       "1   2   pyiron  min           2           1          2  tinyjob  finished   \n",
       "\n",
       "              type  \n",
       "0        AseMDTask  \n",
       "1  AseMinimizeTask  "
      ]
     },
     "execution_count": 17,
     "metadata": {},
     "output_type": "execute_result"
    }
   ],
   "source": [
    "j.project.database.job_table()"
   ]
  },
  {
   "cell_type": "code",
   "execution_count": 18,
   "id": "59ea5510-b6ce-4317-90c3-4af77db3d59a",
   "metadata": {
    "tags": []
   },
   "outputs": [
    {
     "data": {
      "image/png": "[encoded data removed]",
      "text/plain": [
       "<Figure size 640x480 with 1 Axes>"
      ]
     },
     "metadata": {},
     "output_type": "display_data"
    }
   ],
   "source": [
    "j.output.plot_energies()"
   ]
  },
  {
   "cell_type": "code",
   "execution_count": 19,
   "id": "3fb09d42-f800-46ee-9919-83180863e1ee",
   "metadata": {
    "tags": []
   },
   "outputs": [
    {
     "data": {
      "application/vnd.jupyter.widget-view+json": {
       "model_id": "be766dcb9b574096a4f5eec1db05ac17",
       "version_major": 2,
       "version_minor": 0
      },
      "text/plain": [
       "NGLWidget(max_frame=5)"
      ]
     },
     "metadata": {},
     "output_type": "display_data"
    }
   ],
   "source": [
    "j.output.animate_structures()"
   ]
  },
  {
   "cell_type": "markdown",
   "id": "858edf07-75ee-4a40-8cff-c26f34d555f5",
   "metadata": {},
   "source": [
    "### Loading from job id or name works"
   ]
  },
  {
   "cell_type": "code",
   "execution_count": 20,
   "id": "d32508b9-2854-4076-9109-08ede1b52dc2",
   "metadata": {
    "tags": []
   },
   "outputs": [
    {
     "data": {
      "text/plain": [
       "array([11.28814568, -0.87470498, -0.99887647, -0.99999594, -0.99999999,\n",
       "       -1.        ])"
      ]
     },
     "execution_count": 20,
     "metadata": {},
     "output_type": "execute_result"
    }
   ],
   "source": [
    "j.output.pot_energies"
   ]
  },
  {
   "cell_type": "code",
   "execution_count": 21,
   "id": "db691097-72c6-45a4-89b1-6ec16018c8b8",
   "metadata": {
    "tags": []
   },
   "outputs": [
    {
     "data": {
      "image/png": "[encoded data removed]",
      "text/plain": [
       "<Figure size 640x480 with 1 Axes>"
      ]
     },
     "metadata": {},
     "output_type": "display_data"
    }
   ],
   "source": [
    "j.project.load(j.id).output.plot_energies()"
   ]
  },
  {
   "cell_type": "code",
   "execution_count": 22,
   "id": "23ce6822-b38b-41f3-9269-109dbb152ecf",
   "metadata": {},
   "outputs": [
    {
     "data": {
      "application/vnd.jupyter.widget-view+json": {
       "model_id": "ac4af2962e3743f59a4aa681042b0271",
       "version_major": 2,
       "version_minor": 0
      },
      "text/plain": [
       "NGLWidget(max_frame=5)"
      ]
     },
     "metadata": {},
     "output_type": "display_data"
    }
   ],
   "source": [
    "j.project.load(j.name).output.animate_structures()"
   ]
  },
  {
   "cell_type": "markdown",
   "id": "eec174f8-d6a8-47dd-baff-f23087265375",
   "metadata": {},
   "source": [
    "## Murnaghan"
   ]
  },
  {
   "cell_type": "code",
   "execution_count": 23,
   "id": "654ce992-b73f-42e3-a32e-2e0dafa7c952",
   "metadata": {
    "tags": []
   },
   "outputs": [],
   "source": [
    "murn = pr.create.job.Murnaghan('murn')"
   ]
  },
  {
   "cell_type": "code",
   "execution_count": 24,
   "id": "253237f0-b338-470c-bc54-3c7400a757b7",
   "metadata": {},
   "outputs": [],
   "source": [
    "murn.input.task = pr.create.task.AseStatic()\n",
    "murn.input.task.input.calculator = MorsePotential()"
   ]
  },
  {
   "cell_type": "code",
   "execution_count": 25,
   "id": "c801093b-499e-48a7-8444-77602ed88a96",
   "metadata": {},
   "outputs": [],
   "source": [
    "murn.input.structure = pr.create.structure.bulk(\"Fe\", a=1.2).to_ase() # since our Atoms cannot be pickled, but parallel execution needs that we still convert back here"
   ]
  },
  {
   "cell_type": "code",
   "execution_count": 26,
   "id": "1e30b36e-11e6-47d1-836e-cffea7b73cdd",
   "metadata": {},
   "outputs": [],
   "source": [
    "murn.input.set_strain_range(.5, 1000)"
   ]
  },
  {
   "cell_type": "code",
   "execution_count": 27,
   "id": "18b5305a-8950-44af-bc2e-c9734b059713",
   "metadata": {},
   "outputs": [
    {
     "name": "stdout",
     "output_type": "stream",
     "text": [
      "CPU times: user 2.53 s, sys: 1.1 s, total: 3.64 s\n",
      "Wall time: 35.1 s\n"
     ]
    }
   ],
   "source": [
    "%%time\n",
    "murn.run(submitter='process')\n",
    "murn.wait()"
   ]
  },
  {
   "cell_type": "code",
   "execution_count": 28,
   "id": "836bb2ec-4295-4a3c-b976-7a35d04aad36",
   "metadata": {},
   "outputs": [
    {
     "data": {
      "image/png": "[encoded data removed]",
      "text/plain": [
       "<Figure size 640x480 with 1 Axes>"
      ]
     },
     "metadata": {},
     "output_type": "display_data"
    }
   ],
   "source": [
    "murn.output.plot()"
   ]
  },
  {
   "cell_type": "markdown",
   "id": "331e30ef-cfdd-46ce-a7b4-c04b4fef4744",
   "metadata": {},
   "source": [
    "# Alternative Project Implementations\n",
    "\n",
    "Because the new ProjectInterface completely controls both the storage class and the database a job sees, we can easily swap them without changing anything in `TinyJob` at all.  As a demonstration we can make here a project that persists only for the duration of the process life time and one that keeps every job in a single file.  "
   ]
  },
  {
   "cell_type": "markdown",
   "id": "c83af6b6-ed06-40fc-9d84-5f164d89af09",
   "metadata": {},
   "source": [
    "## Pyiron in a single HDF file"
   ]
  },
  {
   "cell_type": "code",
   "execution_count": 29,
   "id": "c178c3a3-f86c-4e80-a041-719ef2193b11",
   "metadata": {},
   "outputs": [],
   "source": [
    "!rm -rf tinyjob_single/"
   ]
  },
  {
   "cell_type": "code",
   "execution_count": 30,
   "id": "e4c1b466-1185-4664-8178-716068139f0c",
   "metadata": {
    "tags": []
   },
   "outputs": [],
   "source": [
    "pr = SingleHdfProject.open_location('tinyjob_single')"
   ]
  },
  {
   "cell_type": "markdown",
   "id": "dee1cf49-8d35-4ca1-9e4b-cc29f2d9d441",
   "metadata": {
    "tags": []
   },
   "source": [
    "### MD Job"
   ]
  },
  {
   "cell_type": "code",
   "execution_count": 31,
   "id": "b41e37f5-45e2-49c7-af75-4457c7b9dec5",
   "metadata": {},
   "outputs": [],
   "source": [
    "for T in [300, 600, 900]:\n",
    "    j = pr.create.job.AseMD(f'md_{T}')\n",
    "\n",
    "    j.input.structure = pr.create.structure.bulk('Fe', a=1.2, cubic=True).repeat(2).to_ase()\n",
    "    j.input.calculator = MorsePotential()\n",
    "\n",
    "    j.input.steps = 100\n",
    "    j.input.timestep = 3.0\n",
    "    j.input.temperature = float(T)\n",
    "    j.input.output_steps = 20\n",
    "\n",
    "    j.run()"
   ]
  },
  {
   "cell_type": "code",
   "execution_count": 32,
   "id": "d5dc0078-ee70-45f3-8f0a-3dafa4b50ee4",
   "metadata": {},
   "outputs": [
    {
     "data": {
      "text/plain": [
       "{'groups': ['output', 'task'], 'nodes': ['MODULE', 'NAME', 'VERSION']}"
      ]
     },
     "execution_count": 32,
     "metadata": {},
     "output_type": "execute_result"
    }
   ],
   "source": [
    "j.storage.list_all()"
   ]
  },
  {
   "cell_type": "code",
   "execution_count": 33,
   "id": "3cd9f120-9eb7-4f34-80cb-9477d492c4ae",
   "metadata": {},
   "outputs": [
    {
     "data": {
      "text/plain": [
       "{'groups': ['md_300', 'md_600', 'md_900'], 'nodes': []}"
      ]
     },
     "execution_count": 33,
     "metadata": {},
     "output_type": "execute_result"
    }
   ],
   "source": [
    "j.storage[\"..\"].list_all()"
   ]
  },
  {
   "cell_type": "code",
   "execution_count": 34,
   "id": "d0621236-07c4-4843-99e0-4c460fc7fa89",
   "metadata": {},
   "outputs": [
    {
     "name": "stdout",
     "output_type": "stream",
     "text": [
      "total 1.9M\n",
      "drwxr-xr-x 5 poul poul 4.0K Jan 26 18:02 .\n",
      "drwxr-xr-x 7 poul poul 4.0K Jan 26 18:02 ..\n",
      "drwxr-xr-x 3 poul poul 4.0K Jan 26 18:01 md_300\n",
      "drwxr-xr-x 3 poul poul 4.0K Jan 26 18:01 md_600\n",
      "drwxr-xr-x 3 poul poul 4.0K Jan 26 18:02 md_900\n",
      "-rw-r--r-- 1 poul poul 1.8M Jan 26 18:02 project.h5\n",
      "-rw-r--r-- 1 poul poul  20K Jan 26 18:02 pyiron.db\n"
     ]
    }
   ],
   "source": [
    "!ls -lha {pr.path}"
   ]
  },
  {
   "cell_type": "markdown",
   "id": "1dfdd96a-41dc-4e39-a029-9d10eb6ecf5e",
   "metadata": {},
   "source": [
    "## Pyiron purely in memory"
   ]
  },
  {
   "cell_type": "code",
   "execution_count": 35,
   "id": "79a2bb61-0a5e-4a3a-b195-46d027738a0e",
   "metadata": {},
   "outputs": [],
   "source": [
    "pr = InMemoryProject('/')"
   ]
  },
  {
   "cell_type": "code",
   "execution_count": 36,
   "id": "b4e6e0c9-a2c6-40ab-884e-a46e16c37b04",
   "metadata": {},
   "outputs": [
    {
     "data": {
      "text/html": [
       "<div>\n",
       "<style scoped>\n",
       "    .dataframe tbody tr th:only-of-type {\n",
       "        vertical-align: middle;\n",
       "    }\n",
       "\n",
       "    .dataframe tbody tr th {\n",
       "        vertical-align: top;\n",
       "    }\n",
       "\n",
       "    .dataframe thead th {\n",
       "        text-align: right;\n",
       "    }\n",
       "</style>\n",
       "<table border=\"1\" class=\"dataframe\">\n",
       "  <thead>\n",
       "    <tr style=\"text-align: right;\">\n",
       "      <th></th>\n",
       "    </tr>\n",
       "  </thead>\n",
       "  <tbody>\n",
       "  </tbody>\n",
       "</table>\n",
       "</div>"
      ],
      "text/plain": [
       "Empty DataFrame\n",
       "Columns: []\n",
       "Index: []"
      ]
     },
     "execution_count": 36,
     "metadata": {},
     "output_type": "execute_result"
    }
   ],
   "source": [
    "pr.job_table()"
   ]
  },
  {
   "cell_type": "code",
   "execution_count": 37,
   "id": "cef7c46f-551f-401e-96c2-214628e23967",
   "metadata": {},
   "outputs": [
    {
     "data": {
      "image/png": "[encoded data removed]",
      "text/plain": [
       "<Figure size 640x480 with 1 Axes>"
      ]
     },
     "metadata": {},
     "output_type": "display_data"
    }
   ],
   "source": [
    "murn = pr.create.job.Murnaghan(\"murn\")\n",
    "murn.input.task = pr.create.task.AseStatic()\n",
    "murn.input.task.input.calculator = MorsePotential()\n",
    "murn.input.structure = pr.create.structure.bulk(\"Fe\", a=1.2).to_ase() # since our Atoms cannot be pickled, but parallel execution needs that we still convert back here\n",
    "murn.input.set_strain_range(.5, 500)\n",
    "murn.run(submitter='process')\n",
    "murn.wait()\n",
    "murn.output.plot()"
   ]
  },
  {
   "cell_type": "code",
   "execution_count": 38,
   "id": "e8a7ee30-d7a6-46fc-bf98-1b52c981470f",
   "metadata": {},
   "outputs": [
    {
     "data": {
      "text/html": [
       "<div>\n",
       "<style scoped>\n",
       "    .dataframe tbody tr th:only-of-type {\n",
       "        vertical-align: middle;\n",
       "    }\n",
       "\n",
       "    .dataframe tbody tr th {\n",
       "        vertical-align: top;\n",
       "    }\n",
       "\n",
       "    .dataframe thead th {\n",
       "        text-align: right;\n",
       "    }\n",
       "</style>\n",
       "<table border=\"1\" class=\"dataframe\">\n",
       "  <thead>\n",
       "    <tr style=\"text-align: right;\">\n",
       "      <th></th>\n",
       "      <th>id</th>\n",
       "      <th>username</th>\n",
       "      <th>name</th>\n",
       "      <th>jobtype_id</th>\n",
       "      <th>project_id</th>\n",
       "      <th>status_id</th>\n",
       "      <th>location</th>\n",
       "      <th>status</th>\n",
       "      <th>type</th>\n",
       "    </tr>\n",
       "  </thead>\n",
       "  <tbody>\n",
       "    <tr>\n",
       "      <th>0</th>\n",
       "      <td>1</td>\n",
       "      <td>pyiron</td>\n",
       "      <td>murn</td>\n",
       "      <td>1</td>\n",
       "      <td>1</td>\n",
       "      <td>1</td>\n",
       "      <td>/</td>\n",
       "      <td>finished</td>\n",
       "      <td>MurnaghanTask</td>\n",
       "    </tr>\n",
       "  </tbody>\n",
       "</table>\n",
       "</div>"
      ],
      "text/plain": [
       "   id username  name  jobtype_id  project_id  status_id location    status  \\\n",
       "0   1   pyiron  murn           1           1          1        /  finished   \n",
       "\n",
       "            type  \n",
       "0  MurnaghanTask  "
      ]
     },
     "execution_count": 38,
     "metadata": {},
     "output_type": "execute_result"
    }
   ],
   "source": [
    "pr.job_table()"
   ]
  },
  {
   "cell_type": "code",
   "execution_count": 39,
   "id": "30871447-3e20-46ee-a58e-853d4f4cb5d9",
   "metadata": {},
   "outputs": [],
   "source": [
    "j = pr.create.job.AseMD('md')\n",
    "j.input.structure = pr.create.structure.bulk('Fe', a=1.2, cubic=True).repeat(2).to_ase() # since our Atoms cannot be pickled, but parallel execution needs that we still convert back here\n",
    "j.input.calculator = MorsePotential()\n",
    "j.input.steps = 100\n",
    "j.input.timestep = 3.0\n",
    "j.input.temperature = 600.0\n",
    "j.input.output_steps = 20\n",
    "j.run(submitter='background')\n",
    "j.wait()"
   ]
  },
  {
   "cell_type": "code",
   "execution_count": 40,
   "id": "e63d43c1-341f-4ec0-b0cf-9cd5ead51926",
   "metadata": {},
   "outputs": [
    {
     "data": {
      "text/html": [
       "<div>\n",
       "<style scoped>\n",
       "    .dataframe tbody tr th:only-of-type {\n",
       "        vertical-align: middle;\n",
       "    }\n",
       "\n",
       "    .dataframe tbody tr th {\n",
       "        vertical-align: top;\n",
       "    }\n",
       "\n",
       "    .dataframe thead th {\n",
       "        text-align: right;\n",
       "    }\n",
       "</style>\n",
       "<table border=\"1\" class=\"dataframe\">\n",
       "  <thead>\n",
       "    <tr style=\"text-align: right;\">\n",
       "      <th></th>\n",
       "      <th>id</th>\n",
       "      <th>username</th>\n",
       "      <th>name</th>\n",
       "      <th>jobtype_id</th>\n",
       "      <th>project_id</th>\n",
       "      <th>status_id</th>\n",
       "      <th>location</th>\n",
       "      <th>status</th>\n",
       "      <th>type</th>\n",
       "    </tr>\n",
       "  </thead>\n",
       "  <tbody>\n",
       "    <tr>\n",
       "      <th>0</th>\n",
       "      <td>1</td>\n",
       "      <td>pyiron</td>\n",
       "      <td>murn</td>\n",
       "      <td>1</td>\n",
       "      <td>1</td>\n",
       "      <td>1</td>\n",
       "      <td>/</td>\n",
       "      <td>finished</td>\n",
       "      <td>MurnaghanTask</td>\n",
       "    </tr>\n",
       "    <tr>\n",
       "      <th>1</th>\n",
       "      <td>2</td>\n",
       "      <td>pyiron</td>\n",
       "      <td>md</td>\n",
       "      <td>2</td>\n",
       "      <td>1</td>\n",
       "      <td>2</td>\n",
       "      <td>/</td>\n",
       "      <td>finished</td>\n",
       "      <td>AseMDTask</td>\n",
       "    </tr>\n",
       "  </tbody>\n",
       "</table>\n",
       "</div>"
      ],
      "text/plain": [
       "   id username  name  jobtype_id  project_id  status_id location    status  \\\n",
       "0   1   pyiron  murn           1           1          1        /  finished   \n",
       "1   2   pyiron    md           2           1          2        /  finished   \n",
       "\n",
       "            type  \n",
       "0  MurnaghanTask  \n",
       "1      AseMDTask  "
      ]
     },
     "execution_count": 40,
     "metadata": {},
     "output_type": "execute_result"
    }
   ],
   "source": [
    "pr.job_table()"
   ]
  },
  {
   "cell_type": "markdown",
   "id": "52ef6246-32c1-47c9-bc42-21d6135477f2",
   "metadata": {},
   "source": [
    "Subprojects work."
   ]
  },
  {
   "cell_type": "code",
   "execution_count": 41,
   "id": "80da39e2-76d1-42e6-977f-241d2683188d",
   "metadata": {},
   "outputs": [
    {
     "data": {
      "text/plain": [
       "<pyiron_contrib.tinybase.executor.ExecutionContext at 0x7fbcf1f3da50>"
      ]
     },
     "execution_count": 41,
     "metadata": {},
     "output_type": "execute_result"
    }
   ],
   "source": [
    "sub = pr.open_location(\"/foo\")\n",
    "j = sub.create.job.AseMD('md')\n",
    "j.input.structure = pr.create.structure.bulk('Fe', a=1.2, cubic=True).repeat(2).to_ase() # since our Atoms cannot be pickled, but parallel execution needs that we still convert back here\n",
    "j.input.calculator = MorsePotential()\n",
    "j.input.steps = 100\n",
    "j.input.timestep = 3.0\n",
    "j.input.temperature = 600.0\n",
    "j.input.output_steps = 20\n",
    "j.run()"
   ]
  },
  {
   "cell_type": "code",
   "execution_count": 42,
   "id": "a567f96a-cbb3-4d2d-95d1-6dcecee7ddb8",
   "metadata": {},
   "outputs": [
    {
     "data": {
      "text/html": [
       "<div>\n",
       "<style scoped>\n",
       "    .dataframe tbody tr th:only-of-type {\n",
       "        vertical-align: middle;\n",
       "    }\n",
       "\n",
       "    .dataframe tbody tr th {\n",
       "        vertical-align: top;\n",
       "    }\n",
       "\n",
       "    .dataframe thead th {\n",
       "        text-align: right;\n",
       "    }\n",
       "</style>\n",
       "<table border=\"1\" class=\"dataframe\">\n",
       "  <thead>\n",
       "    <tr style=\"text-align: right;\">\n",
       "      <th></th>\n",
       "      <th>id</th>\n",
       "      <th>username</th>\n",
       "      <th>name</th>\n",
       "      <th>jobtype_id</th>\n",
       "      <th>project_id</th>\n",
       "      <th>status_id</th>\n",
       "      <th>location</th>\n",
       "      <th>status</th>\n",
       "      <th>type</th>\n",
       "    </tr>\n",
       "  </thead>\n",
       "  <tbody>\n",
       "    <tr>\n",
       "      <th>0</th>\n",
       "      <td>1</td>\n",
       "      <td>pyiron</td>\n",
       "      <td>murn</td>\n",
       "      <td>1</td>\n",
       "      <td>1</td>\n",
       "      <td>1</td>\n",
       "      <td>/</td>\n",
       "      <td>finished</td>\n",
       "      <td>MurnaghanTask</td>\n",
       "    </tr>\n",
       "    <tr>\n",
       "      <th>1</th>\n",
       "      <td>2</td>\n",
       "      <td>pyiron</td>\n",
       "      <td>md</td>\n",
       "      <td>2</td>\n",
       "      <td>1</td>\n",
       "      <td>2</td>\n",
       "      <td>/</td>\n",
       "      <td>finished</td>\n",
       "      <td>AseMDTask</td>\n",
       "    </tr>\n",
       "    <tr>\n",
       "      <th>2</th>\n",
       "      <td>3</td>\n",
       "      <td>pyiron</td>\n",
       "      <td>md</td>\n",
       "      <td>2</td>\n",
       "      <td>2</td>\n",
       "      <td>3</td>\n",
       "      <td>/foo</td>\n",
       "      <td>finished</td>\n",
       "      <td>AseMDTask</td>\n",
       "    </tr>\n",
       "  </tbody>\n",
       "</table>\n",
       "</div>"
      ],
      "text/plain": [
       "   id username  name  jobtype_id  project_id  status_id location    status  \\\n",
       "0   1   pyiron  murn           1           1          1        /  finished   \n",
       "1   2   pyiron    md           2           1          2        /  finished   \n",
       "2   3   pyiron    md           2           2          3     /foo  finished   \n",
       "\n",
       "            type  \n",
       "0  MurnaghanTask  \n",
       "1      AseMDTask  \n",
       "2      AseMDTask  "
      ]
     },
     "execution_count": 42,
     "metadata": {},
     "output_type": "execute_result"
    }
   ],
   "source": [
    "pr.job_table()"
   ]
  }
 ],
 "metadata": {
  "kernelspec": {
   "display_name": "Python 3 (ipykernel)",
   "language": "python",
   "name": "python3"
  },
  "language_info": {
   "codemirror_mode": {
    "name": "ipython",
    "version": 3
   },
   "file_extension": ".py",
   "mimetype": "text/x-python",
   "name": "python",
   "nbconvert_exporter": "python",
   "pygments_lexer": "ipython3",
   "version": "3.11.7"
  },
  "widgets": {
   "application/vnd.jupyter.widget-state+json": {
    "state": {
     "038f85f23848476c9afbdf4373190fd6": {
      "model_module": "@jupyter-widgets/base",
      "model_module_version": "1.2.0",
      "model_name": "LayoutModel",
      "state": {}
     },
     "06f136bd542447b1854595cb2d607c81": {
      "model_module": "@jupyter-widgets/controls",
      "model_module_version": "1.5.0",
      "model_name": "PlayModel",
      "state": {
       "layout": "IPY_MODEL_9511cf255289415a87d8eb4188a88901",
       "max": 21,
       "style": "IPY_MODEL_74be2440ed36407cab4db88cf0860e08"
      }
     },
     "079007666c444bdabb3b829dbd704ace": {
      "model_module": "@jupyter-widgets/controls",
      "model_module_version": "1.5.0",
      "model_name": "ImageModel",
      "state": {
       "layout": "IPY_MODEL_a3e73a855f2e49d5bb2d5868b05c8310",
       "width": "900.0"
      }
     },
     "09f052769a8d47b9a1d34e8e32f2f92e": {
      "model_module": "nglview-js-widgets",
      "model_module_version": "3.0.1",
      "model_name": "NGLModel",
      "state": {
       "_camera_orientation": [
        14.593602577909778,
        0,
        0,
        0,
        0,
        14.593602577909778,
        0,
        0,
        0,
        0,
        14.593602577909778,
        0,
        -0.8999999761581421,
        -0.8999999761581421,
        -0.8999999761581421,
        1
       ],
       "_camera_str": "orthographic",
       "_gui_theme": null,
       "_ibtn_fullscreen": "IPY_MODEL_5a51ef0639a0462da9d768bc7b7e7380",
       "_igui": null,
       "_iplayer": "IPY_MODEL_8f74f356773746fb97c5ea65b696d117",
       "_ngl_color_dict": {},
       "_ngl_coordinate_resource": {},
       "_ngl_full_stage_parameters": {
        "ambientColor": 14540253,
        "ambientIntensity": 0.2,
        "backgroundColor": "white",
        "cameraEyeSep": 0.3,
        "cameraFov": 40,
        "cameraType": "orthographic",
        "clipDist": 10,
        "clipFar": 100,
        "clipNear": 0,
        "fogFar": 100,
        "fogNear": 50,
        "hoverTimeout": 0,
        "impostor": true,
        "lightColor": 14540253,
        "lightIntensity": 1,
        "mousePreset": "default",
        "panSpeed": 1,
        "quality": "medium",
        "rotateSpeed": 2,
        "sampleLevel": 0,
        "tooltip": true,
        "workerDefault": true,
        "zoomSpeed": 1.2
       },
       "_ngl_msg_archive": [
        {
         "args": [
          {
           "binary": false,
           "data": "CRYST1    2.400    2.400    2.400  90.00  90.00  90.00 P 1\nMODEL     1\nATOM      1   Fe MOL     1       0.000   0.000   0.000  1.00  0.00          FE  \nATOM      2   Fe MOL     1       0.600   0.600   0.600  1.00  0.00          FE  \nATOM      3   Fe MOL     1       0.000   0.000   1.200  1.00  0.00          FE  \nATOM      4   Fe MOL     1       0.600   0.600   1.800  1.00  0.00          FE  \nATOM      5   Fe MOL     1       0.000   1.200   0.000  1.00  0.00          FE  \nATOM      6   Fe MOL     1       0.600   1.800   0.600  1.00  0.00          FE  \nATOM      7   Fe MOL     1       0.000   1.200   1.200  1.00  0.00          FE  \nATOM      8   Fe MOL     1       0.600   1.800   1.800  1.00  0.00          FE  \nATOM      9   Fe MOL     1       1.200   0.000   0.000  1.00  0.00          FE  \nATOM     10   Fe MOL     1       1.800   0.600   0.600  1.00  0.00          FE  \nATOM     11   Fe MOL     1       1.200   0.000   1.200  1.00  0.00          FE  \nATOM     12   Fe MOL     1       1.800   0.600   1.800  1.00  0.00          FE  \nATOM     13   Fe MOL     1       1.200   1.200   0.000  1.00  0.00          FE  \nATOM     14   Fe MOL     1       1.800   1.800   0.600  1.00  0.00          FE  \nATOM     15   Fe MOL     1       1.200   1.200   1.200  1.00  0.00          FE  \nATOM     16   Fe MOL     1       1.800   1.800   1.800  1.00  0.00          FE  \nENDMDL\n",
           "type": "blob"
          }
         ],
         "kwargs": {
          "defaultRepresentation": true,
          "ext": "pdb",
          "name": "nglview.adaptor.ASETrajectory"
         },
         "methodName": "loadFile",
         "reconstruc_color_scheme": false,
         "target": "Stage",
         "type": "call_method"
        },
        {
         "args": [
          "spacefill"
         ],
         "component_index": 0,
         "kwargs": {
          "radius": 0.5,
          "radiusType": "vdw",
          "scale": 0.5,
          "sele": "all"
         },
         "methodName": "addRepresentation",
         "reconstruc_color_scheme": false,
         "target": "compList",
         "type": "call_method"
        },
        {
         "args": [
          "ball+stick",
          0
         ],
         "kwargs": {},
         "methodName": "removeRepresentationsByName",
         "reconstruc_color_scheme": false,
         "target": "Widget",
         "type": "call_method"
        },
        {
         "args": [
          "unitcell"
         ],
         "component_index": 0,
         "kwargs": {
          "sele": "all"
         },
         "methodName": "addRepresentation",
         "reconstruc_color_scheme": false,
         "target": "compList",
         "type": "call_method"
        },
        {
         "args": [],
         "kwargs": {
          "cameraType": "orthographic"
         },
         "methodName": "setParameters",
         "reconstruc_color_scheme": false,
         "target": "Stage",
         "type": "call_method"
        }
       ],
       "_ngl_original_stage_parameters": {
        "ambientColor": 14540253,
        "ambientIntensity": 0.2,
        "backgroundColor": "white",
        "cameraEyeSep": 0.3,
        "cameraFov": 40,
        "cameraType": "perspective",
        "clipDist": 10,
        "clipFar": 100,
        "clipNear": 0,
        "fogFar": 100,
        "fogNear": 50,
        "hoverTimeout": 0,
        "impostor": true,
        "lightColor": 14540253,
        "lightIntensity": 1,
        "mousePreset": "default",
        "panSpeed": 1,
        "quality": "medium",
        "rotateSpeed": 2,
        "sampleLevel": 0,
        "tooltip": true,
        "workerDefault": true,
        "zoomSpeed": 1.2
       },
       "_ngl_repr_dict": {
        "0": {
         "0": {
          "params": {
           "assembly": "default",
           "clipCenter": {
            "x": 0,
            "y": 0,
            "z": 0
           },
           "clipNear": 0,
           "clipRadius": 0,
           "colorMode": "hcl",
           "colorReverse": false,
           "colorScale": "",
           "colorScheme": "element",
           "colorValue": 9474192,
           "defaultAssembly": "",
           "depthWrite": true,
           "diffuse": 16777215,
           "diffuseInterior": false,
           "disableImpostor": false,
           "disablePicking": false,
           "flatShaded": false,
           "interiorColor": 2236962,
           "interiorDarkening": 0,
           "lazy": false,
           "matrix": {
            "elements": [
             1,
             0,
             0,
             0,
             0,
             1,
             0,
             0,
             0,
             0,
             1,
             0,
             0,
             0,
             0,
             1
            ]
           },
           "metalness": 0,
           "opacity": 1,
           "quality": "medium",
           "radiusData": {},
           "radiusScale": 1,
           "radiusSize": 0.5,
           "radiusType": "size",
           "roughness": 0.4,
           "sele": "all",
           "side": "double",
           "sphereDetail": 1,
           "useInteriorColor": true,
           "visible": true,
           "wireframe": false
          },
          "type": "spacefill"
         },
         "1": {
          "params": {
           "clipCenter": {
            "x": 0,
            "y": 0,
            "z": 0
           },
           "clipNear": 0,
           "clipRadius": 0,
           "colorMode": "hcl",
           "colorReverse": false,
           "colorScale": "",
           "colorScheme": "element",
           "colorValue": "orange",
           "defaultAssembly": "",
           "depthWrite": true,
           "diffuse": 16777215,
           "diffuseInterior": false,
           "disableImpostor": false,
           "disablePicking": false,
           "flatShaded": false,
           "interiorColor": 2236962,
           "interiorDarkening": 0,
           "lazy": false,
           "matrix": {
            "elements": [
             1,
             0,
             0,
             0,
             0,
             1,
             0,
             0,
             0,
             0,
             1,
             0,
             0,
             0,
             0,
             1
            ]
           },
           "metalness": 0,
           "opacity": 1,
           "quality": "medium",
           "radialSegments": 10,
           "radiusData": {},
           "radiusScale": 1,
           "radiusSize": 0.011999999473246623,
           "radiusType": "vdw",
           "roughness": 0.4,
           "sele": "all",
           "side": "double",
           "sphereDetail": 1,
           "useInteriorColor": true,
           "visible": true,
           "wireframe": false
          },
          "type": "unitcell"
         }
        }
       },
       "_ngl_serialize": false,
       "_ngl_version": "2.0.0-dev.36",
       "_ngl_view_id": [
        "2C636F00-DD46-4114-8E27-88300FD7DD3E"
       ],
       "_player_dict": {},
       "_scene_position": {},
       "_scene_rotation": {},
       "_synced_model_ids": [],
       "_synced_repr_model_ids": [],
       "_view_height": "",
       "_view_width": "",
       "background": "white",
       "frame": 0,
       "gui_style": null,
       "layout": "IPY_MODEL_833ebd67ecf348279ba9092206cf7ff8",
       "max_frame": 21,
       "n_components": 1,
       "picked": {}
      }
     },
     "1a46fe9c6a834075952df882f27a2f1c": {
      "model_module": "@jupyter-widgets/controls",
      "model_module_version": "1.5.0",
      "model_name": "ButtonModel",
      "state": {
       "icon": "compress",
       "layout": "IPY_MODEL_76ca239a000b466182cef72a93063dc3",
       "style": "IPY_MODEL_bd7ee1ff51ec4c588bf847ea5d65c3c2"
      }
     },
     "24ee9ae04f794a8099ee9a2404d0a857": {
      "model_module": "@jupyter-widgets/controls",
      "model_module_version": "1.5.0",
      "model_name": "IntSliderModel",
      "state": {
       "layout": "IPY_MODEL_c2cb82557fae4fda94579d287f056dd4",
       "max": 5,
       "style": "IPY_MODEL_94dae57aa8e44c21a2f4093dd76a0fc4"
      }
     },
     "2f48bccbfcb546ce8072b392d24b6233": {
      "model_module": "@jupyter-widgets/controls",
      "model_module_version": "1.5.0",
      "model_name": "IntSliderModel",
      "state": {
       "layout": "IPY_MODEL_fa53daa2b11b47c4891b85c29c2566d4",
       "max": 5,
       "style": "IPY_MODEL_6b252e01b9e94254bab3f8d937e10f18"
      }
     },
     "305f8e9e9e004875b766af2d1e9b929d": {
      "model_module": "@jupyter-widgets/controls",
      "model_module_version": "1.5.0",
      "model_name": "LinkModel",
      "state": {
       "source": [
        "IPY_MODEL_881cc27c576549a2bc9f8df351295f57",
        "value"
       ],
       "target": [
        "IPY_MODEL_c4fc225ea610406eba0b3c60a819f3dd",
        "frame"
       ]
      }
     },
     "31f516acb1274474912b5cce65d519db": {
      "model_module": "nglview-js-widgets",
      "model_module_version": "3.0.1",
      "model_name": "NGLModel",
      "state": {
       "_camera_orientation": [
        11.095162889756295,
        0,
        0,
        0,
        0,
        11.095162889756295,
        0,
        0,
        0,
        0,
        11.095162889756295,
        0,
        -0.0010000000474974513,
        0,
        -0.3755000000237487,
        1
       ],
       "_camera_str": "orthographic",
       "_gui_theme": null,
       "_ibtn_fullscreen": "IPY_MODEL_1a46fe9c6a834075952df882f27a2f1c",
       "_igui": null,
       "_iplayer": "IPY_MODEL_b64cc1b2e3c349218db69ae729c93097",
       "_ngl_color_dict": {},
       "_ngl_coordinate_resource": {},
       "_ngl_full_stage_parameters": {
        "ambientColor": 14540253,
        "ambientIntensity": 0.2,
        "backgroundColor": "white",
        "cameraEyeSep": 0.3,
        "cameraFov": 40,
        "cameraType": "orthographic",
        "clipDist": 10,
        "clipFar": 100,
        "clipNear": 0,
        "fogFar": 100,
        "fogNear": 50,
        "hoverTimeout": 0,
        "impostor": true,
        "lightColor": 14540253,
        "lightIntensity": 1,
        "mousePreset": "default",
        "panSpeed": 1,
        "quality": "medium",
        "rotateSpeed": 2,
        "sampleLevel": 0,
        "tooltip": true,
        "workerDefault": true,
        "zoomSpeed": 1.2
       },
       "_ngl_msg_archive": [
        {
         "args": [
          {
           "binary": false,
           "data": "MODEL     1\nATOM      1   Fe MOL     1       0.000  -0.000   0.001  1.00  0.00          FE  \nATOM      2   Fe MOL     1       0.002  -0.000   0.750  1.00  0.00          FE  \nENDMDL\n",
           "type": "blob"
          }
         ],
         "kwargs": {
          "defaultRepresentation": true,
          "ext": "pdb",
          "name": "nglview.adaptor.ASETrajectory"
         },
         "methodName": "loadFile",
         "reconstruc_color_scheme": false,
         "target": "Stage",
         "type": "call_method"
        },
        {
         "args": [
          "spacefill"
         ],
         "component_index": 0,
         "kwargs": {
          "radius": 0.5,
          "radiusType": "vdw",
          "scale": 0.5,
          "sele": "all"
         },
         "methodName": "addRepresentation",
         "reconstruc_color_scheme": false,
         "target": "compList",
         "type": "call_method"
        },
        {
         "args": [
          "ball+stick",
          0
         ],
         "kwargs": {},
         "methodName": "removeRepresentationsByName",
         "reconstruc_color_scheme": false,
         "target": "Widget",
         "type": "call_method"
        },
        {
         "args": [
          "unitcell"
         ],
         "component_index": 0,
         "kwargs": {
          "sele": "all"
         },
         "methodName": "addRepresentation",
         "reconstruc_color_scheme": false,
         "target": "compList",
         "type": "call_method"
        },
        {
         "args": [],
         "kwargs": {
          "cameraType": "orthographic"
         },
         "methodName": "setParameters",
         "reconstruc_color_scheme": false,
         "target": "Stage",
         "type": "call_method"
        }
       ],
       "_ngl_original_stage_parameters": {
        "ambientColor": 14540253,
        "ambientIntensity": 0.2,
        "backgroundColor": "white",
        "cameraEyeSep": 0.3,
        "cameraFov": 40,
        "cameraType": "perspective",
        "clipDist": 10,
        "clipFar": 100,
        "clipNear": 0,
        "fogFar": 100,
        "fogNear": 50,
        "hoverTimeout": 0,
        "impostor": true,
        "lightColor": 14540253,
        "lightIntensity": 1,
        "mousePreset": "default",
        "panSpeed": 1,
        "quality": "medium",
        "rotateSpeed": 2,
        "sampleLevel": 0,
        "tooltip": true,
        "workerDefault": true,
        "zoomSpeed": 1.2
       },
       "_ngl_repr_dict": {
        "0": {
         "0": {
          "params": {
           "assembly": "default",
           "clipCenter": {
            "x": 0,
            "y": 0,
            "z": 0
           },
           "clipNear": 0,
           "clipRadius": 0,
           "colorMode": "hcl",
           "colorReverse": false,
           "colorScale": "",
           "colorScheme": "element",
           "colorValue": 9474192,
           "defaultAssembly": "",
           "depthWrite": true,
           "diffuse": 16777215,
           "diffuseInterior": false,
           "disableImpostor": false,
           "disablePicking": false,
           "flatShaded": false,
           "interiorColor": 2236962,
           "interiorDarkening": 0,
           "lazy": false,
           "matrix": {
            "elements": [
             1,
             0,
             0,
             0,
             0,
             1,
             0,
             0,
             0,
             0,
             1,
             0,
             0,
             0,
             0,
             1
            ]
           },
           "metalness": 0,
           "opacity": 1,
           "quality": "medium",
           "radiusData": {},
           "radiusScale": 1,
           "radiusSize": 0.5,
           "radiusType": "size",
           "roughness": 0.4,
           "sele": "all",
           "side": "double",
           "sphereDetail": 1,
           "useInteriorColor": true,
           "visible": true,
           "wireframe": false
          },
          "type": "spacefill"
         },
         "1": {
          "params": {
           "clipCenter": {
            "x": 0,
            "y": 0,
            "z": 0
           },
           "clipNear": 0,
           "clipRadius": 0,
           "colorMode": "hcl",
           "colorReverse": false,
           "colorScale": "",
           "colorScheme": "element",
           "colorValue": "orange",
           "defaultAssembly": "",
           "depthWrite": true,
           "diffuse": 16777215,
           "diffuseInterior": false,
           "disableImpostor": false,
           "disablePicking": false,
           "flatShaded": false,
           "interiorColor": 2236962,
           "interiorDarkening": 0,
           "lazy": false,
           "matrix": {
            "elements": [
             1,
             0,
             0,
             0,
             0,
             1,
             0,
             0,
             0,
             0,
             1,
             0,
             0,
             0,
             0,
             1
            ]
           },
           "metalness": 0,
           "opacity": 1,
           "quality": "medium",
           "radialSegments": 10,
           "radiusData": {},
           "radiusScale": 1,
           "radiusSize": 0.5,
           "radiusType": "vdw",
           "roughness": 0.4,
           "sele": "all",
           "side": "double",
           "sphereDetail": 1,
           "useInteriorColor": true,
           "visible": true,
           "wireframe": false
          },
          "type": "unitcell"
         }
        }
       },
       "_ngl_serialize": false,
       "_ngl_version": "2.0.0-dev.36",
       "_ngl_view_id": [
        "84CE43D0-EF97-4B31-AAEB-85E60D531159"
       ],
       "_player_dict": {},
       "_scene_position": {},
       "_scene_rotation": {},
       "_synced_model_ids": [],
       "_synced_repr_model_ids": [],
       "_view_height": "",
       "_view_width": "",
       "background": "white",
       "frame": 0,
       "gui_style": null,
       "layout": "IPY_MODEL_d240169915f149248847eb7261f3db6c",
       "max_frame": 5,
       "n_components": 1,
       "picked": {}
      }
     },
     "3545072b43b240088c82631be2341edf": {
      "model_module": "@jupyter-widgets/base",
      "model_module_version": "1.2.0",
      "model_name": "LayoutModel",
      "state": {}
     },
     "3886e41abf0347aaa2a6908f3f11621d": {
      "model_module": "@jupyter-widgets/controls",
      "model_module_version": "1.5.0",
      "model_name": "LinkModel",
      "state": {
       "source": [
        "IPY_MODEL_2f48bccbfcb546ce8072b392d24b6233",
        "max"
       ],
       "target": [
        "IPY_MODEL_31f516acb1274474912b5cce65d519db",
        "max_frame"
       ]
      }
     },
     "3b87f0d0cd034252a91e0baeabe65bb3": {
      "model_module": "@jupyter-widgets/controls",
      "model_module_version": "1.5.0",
      "model_name": "LinkModel",
      "state": {
       "source": [
        "IPY_MODEL_06f136bd542447b1854595cb2d607c81",
        "value"
       ],
       "target": [
        "IPY_MODEL_70a3ea22fe684ab9a820bce25946cd81",
        "value"
       ]
      }
     },
     "41351978cfb14d378fcb2194d8d94c5f": {
      "model_module": "@jupyter-widgets/base",
      "model_module_version": "1.2.0",
      "model_name": "LayoutModel",
      "state": {}
     },
     "4fa8d2b7743b4f219d01310590372565": {
      "model_module": "@jupyter-widgets/controls",
      "model_module_version": "1.5.0",
      "model_name": "LinkModel",
      "state": {
       "source": [
        "IPY_MODEL_881cc27c576549a2bc9f8df351295f57",
        "max"
       ],
       "target": [
        "IPY_MODEL_c4fc225ea610406eba0b3c60a819f3dd",
        "max_frame"
       ]
      }
     },
     "5415f748692e4af98a974e50bec40e8e": {
      "model_module": "@jupyter-widgets/controls",
      "model_module_version": "1.5.0",
      "model_name": "ButtonStyleModel",
      "state": {}
     },
     "59ba6ca4d1c942fd975fc35995343966": {
      "model_module": "@jupyter-widgets/base",
      "model_module_version": "1.2.0",
      "model_name": "LayoutModel",
      "state": {}
     },
     "5a51ef0639a0462da9d768bc7b7e7380": {
      "model_module": "@jupyter-widgets/controls",
      "model_module_version": "1.5.0",
      "model_name": "ButtonModel",
      "state": {
       "icon": "compress",
       "layout": "IPY_MODEL_a61fc92984ec44c9a8f18b6c7f276849",
       "style": "IPY_MODEL_82fb0f2232874147b5489c4fab2d036d"
      }
     },
     "5aba29605f0845b19e35084636ff691a": {
      "model_module": "@jupyter-widgets/controls",
      "model_module_version": "1.5.0",
      "model_name": "ImageModel",
      "state": {
       "layout": "IPY_MODEL_59ba6ca4d1c942fd975fc35995343966",
       "width": "900.0"
      }
     },
     "5fceb36da4b641ecacd34173cf54f8a5": {
      "model_module": "@jupyter-widgets/controls",
      "model_module_version": "1.5.0",
      "model_name": "LinkModel",
      "state": {
       "source": [
        "IPY_MODEL_06f136bd542447b1854595cb2d607c81",
        "value"
       ],
       "target": [
        "IPY_MODEL_09f052769a8d47b9a1d34e8e32f2f92e",
        "frame"
       ]
      }
     },
     "602a6aaacd2a4e38b9c7c95f4240a5ae": {
      "model_module": "@jupyter-widgets/controls",
      "model_module_version": "1.5.0",
      "model_name": "DescriptionStyleModel",
      "state": {
       "description_width": ""
      }
     },
     "69526ff60e5d47f5906cefa78d26abda": {
      "model_module": "@jupyter-widgets/controls",
      "model_module_version": "1.5.0",
      "model_name": "LinkModel",
      "state": {
       "source": [
        "IPY_MODEL_fa171f870e084368839a110fb3bb67fc",
        "value"
       ],
       "target": [
        "IPY_MODEL_31f516acb1274474912b5cce65d519db",
        "frame"
       ]
      }
     },
     "6b252e01b9e94254bab3f8d937e10f18": {
      "model_module": "@jupyter-widgets/controls",
      "model_module_version": "1.5.0",
      "model_name": "SliderStyleModel",
      "state": {
       "description_width": ""
      }
     },
     "6eb89b4339644ff5a2e79ff8f8c3a94f": {
      "model_module": "nglview-js-widgets",
      "model_module_version": "3.0.1",
      "model_name": "ColormakerRegistryModel",
      "state": {
       "_msg_ar": [],
       "_msg_q": [],
       "_ready": true,
       "layout": "IPY_MODEL_fd7d9c8e45e5495ba7088c49099fcede"
      }
     },
     "70a3ea22fe684ab9a820bce25946cd81": {
      "model_module": "@jupyter-widgets/controls",
      "model_module_version": "1.5.0",
      "model_name": "IntSliderModel",
      "state": {
       "layout": "IPY_MODEL_41351978cfb14d378fcb2194d8d94c5f",
       "max": 21,
       "style": "IPY_MODEL_a0e33570d0fa4c36b4804c0a6f5916b8"
      }
     },
     "74be2440ed36407cab4db88cf0860e08": {
      "model_module": "@jupyter-widgets/controls",
      "model_module_version": "1.5.0",
      "model_name": "DescriptionStyleModel",
      "state": {
       "description_width": ""
      }
     },
     "761edaffefdf436b9820a66c98ecf5fe": {
      "model_module": "@jupyter-widgets/controls",
      "model_module_version": "1.5.0",
      "model_name": "HBoxModel",
      "state": {
       "children": [
        "IPY_MODEL_881cc27c576549a2bc9f8df351295f57",
        "IPY_MODEL_24ee9ae04f794a8099ee9a2404d0a857"
       ],
       "layout": "IPY_MODEL_9b8911dedc6a4702acf69b88e19c2db8"
      }
     },
     "76ca239a000b466182cef72a93063dc3": {
      "model_module": "@jupyter-widgets/base",
      "model_module_version": "1.2.0",
      "model_name": "LayoutModel",
      "state": {
       "width": "34px"
      }
     },
     "7c46a902c98d4e9d954fa4bdbae4740b": {
      "model_module": "@jupyter-widgets/base",
      "model_module_version": "1.2.0",
      "model_name": "LayoutModel",
      "state": {
       "width": "34px"
      }
     },
     "82376befd1a34030bfb611d4eff01f91": {
      "model_module": "@jupyter-widgets/base",
      "model_module_version": "1.2.0",
      "model_name": "LayoutModel",
      "state": {}
     },
     "82fb0f2232874147b5489c4fab2d036d": {
      "model_module": "@jupyter-widgets/controls",
      "model_module_version": "1.5.0",
      "model_name": "ButtonStyleModel",
      "state": {}
     },
     "833ebd67ecf348279ba9092206cf7ff8": {
      "model_module": "@jupyter-widgets/base",
      "model_module_version": "1.2.0",
      "model_name": "LayoutModel",
      "state": {}
     },
     "881cc27c576549a2bc9f8df351295f57": {
      "model_module": "@jupyter-widgets/controls",
      "model_module_version": "1.5.0",
      "model_name": "PlayModel",
      "state": {
       "layout": "IPY_MODEL_82376befd1a34030bfb611d4eff01f91",
       "max": 5,
       "style": "IPY_MODEL_f5385733930e48d4a878d19ec65aa94c"
      }
     },
     "8e3a06909454450cbaf3a863b69968cb": {
      "model_module": "@jupyter-widgets/controls",
      "model_module_version": "1.5.0",
      "model_name": "LinkModel",
      "state": {
       "source": [
        "IPY_MODEL_fa171f870e084368839a110fb3bb67fc",
        "max"
       ],
       "target": [
        "IPY_MODEL_31f516acb1274474912b5cce65d519db",
        "max_frame"
       ]
      }
     },
     "8f17226bdbb34f7399575cc3c9bc78bb": {
      "model_module": "@jupyter-widgets/controls",
      "model_module_version": "1.5.0",
      "model_name": "LinkModel",
      "state": {
       "source": [
        "IPY_MODEL_881cc27c576549a2bc9f8df351295f57",
        "value"
       ],
       "target": [
        "IPY_MODEL_24ee9ae04f794a8099ee9a2404d0a857",
        "value"
       ]
      }
     },
     "8f74f356773746fb97c5ea65b696d117": {
      "model_module": "@jupyter-widgets/controls",
      "model_module_version": "1.5.0",
      "model_name": "HBoxModel",
      "state": {
       "children": [
        "IPY_MODEL_06f136bd542447b1854595cb2d607c81",
        "IPY_MODEL_70a3ea22fe684ab9a820bce25946cd81"
       ],
       "layout": "IPY_MODEL_3545072b43b240088c82631be2341edf"
      }
     },
     "94dae57aa8e44c21a2f4093dd76a0fc4": {
      "model_module": "@jupyter-widgets/controls",
      "model_module_version": "1.5.0",
      "model_name": "SliderStyleModel",
      "state": {
       "description_width": ""
      }
     },
     "9511cf255289415a87d8eb4188a88901": {
      "model_module": "@jupyter-widgets/base",
      "model_module_version": "1.2.0",
      "model_name": "LayoutModel",
      "state": {}
     },
     "9718c2f7b7544043b7baf462e28f6ca6": {
      "model_module": "@jupyter-widgets/controls",
      "model_module_version": "1.5.0",
      "model_name": "ImageModel",
      "state": {
       "layout": "IPY_MODEL_038f85f23848476c9afbdf4373190fd6",
       "width": "900.0"
      }
     },
     "9b8911dedc6a4702acf69b88e19c2db8": {
      "model_module": "@jupyter-widgets/base",
      "model_module_version": "1.2.0",
      "model_name": "LayoutModel",
      "state": {}
     },
     "a0e33570d0fa4c36b4804c0a6f5916b8": {
      "model_module": "@jupyter-widgets/controls",
      "model_module_version": "1.5.0",
      "model_name": "SliderStyleModel",
      "state": {
       "description_width": ""
      }
     },
     "a3e73a855f2e49d5bb2d5868b05c8310": {
      "model_module": "@jupyter-widgets/base",
      "model_module_version": "1.2.0",
      "model_name": "LayoutModel",
      "state": {}
     },
     "a4349898924c42adace0627d45f1d55a": {
      "model_module": "@jupyter-widgets/controls",
      "model_module_version": "1.5.0",
      "model_name": "LinkModel",
      "state": {
       "source": [
        "IPY_MODEL_06f136bd542447b1854595cb2d607c81",
        "max"
       ],
       "target": [
        "IPY_MODEL_09f052769a8d47b9a1d34e8e32f2f92e",
        "max_frame"
       ]
      }
     },
     "a61fc92984ec44c9a8f18b6c7f276849": {
      "model_module": "@jupyter-widgets/base",
      "model_module_version": "1.2.0",
      "model_name": "LayoutModel",
      "state": {
       "width": "34px"
      }
     },
     "b4b8f6b557a34e8898b059cb3496344f": {
      "model_module": "@jupyter-widgets/controls",
      "model_module_version": "1.5.0",
      "model_name": "LinkModel",
      "state": {
       "source": [
        "IPY_MODEL_24ee9ae04f794a8099ee9a2404d0a857",
        "max"
       ],
       "target": [
        "IPY_MODEL_c4fc225ea610406eba0b3c60a819f3dd",
        "max_frame"
       ]
      }
     },
     "b64cc1b2e3c349218db69ae729c93097": {
      "model_module": "@jupyter-widgets/controls",
      "model_module_version": "1.5.0",
      "model_name": "HBoxModel",
      "state": {
       "children": [
        "IPY_MODEL_fa171f870e084368839a110fb3bb67fc",
        "IPY_MODEL_2f48bccbfcb546ce8072b392d24b6233"
       ],
       "layout": "IPY_MODEL_f4a6da491f0b46d2a4a5b85c00b7ff01"
      }
     },
     "bd7ee1ff51ec4c588bf847ea5d65c3c2": {
      "model_module": "@jupyter-widgets/controls",
      "model_module_version": "1.5.0",
      "model_name": "ButtonStyleModel",
      "state": {}
     },
     "c2cb82557fae4fda94579d287f056dd4": {
      "model_module": "@jupyter-widgets/base",
      "model_module_version": "1.2.0",
      "model_name": "LayoutModel",
      "state": {}
     },
     "c4fc225ea610406eba0b3c60a819f3dd": {
      "model_module": "nglview-js-widgets",
      "model_module_version": "3.0.1",
      "model_name": "NGLModel",
      "state": {
       "_camera_orientation": [
        11.095162889756295,
        0,
        0,
        0,
        0,
        11.095162889756295,
        0,
        0,
        0,
        0,
        11.095162889756295,
        0,
        -0.0010000000474974513,
        0,
        -0.3755000000237487,
        1
       ],
       "_camera_str": "orthographic",
       "_gui_theme": null,
       "_ibtn_fullscreen": "IPY_MODEL_c9f7aaa9c5d04b159fe3ee079e59529f",
       "_igui": null,
       "_iplayer": "IPY_MODEL_761edaffefdf436b9820a66c98ecf5fe",
       "_ngl_color_dict": {},
       "_ngl_coordinate_resource": {},
       "_ngl_full_stage_parameters": {
        "ambientColor": 14540253,
        "ambientIntensity": 0.2,
        "backgroundColor": "white",
        "cameraEyeSep": 0.3,
        "cameraFov": 40,
        "cameraType": "orthographic",
        "clipDist": 10,
        "clipFar": 100,
        "clipNear": 0,
        "fogFar": 100,
        "fogNear": 50,
        "hoverTimeout": 0,
        "impostor": true,
        "lightColor": 14540253,
        "lightIntensity": 1,
        "mousePreset": "default",
        "panSpeed": 1,
        "quality": "medium",
        "rotateSpeed": 2,
        "sampleLevel": 0,
        "tooltip": true,
        "workerDefault": true,
        "zoomSpeed": 1.2
       },
       "_ngl_msg_archive": [
        {
         "args": [
          {
           "binary": false,
           "data": "MODEL     1\nATOM      1   Fe MOL     1       0.000  -0.000   0.001  1.00  0.00          FE  \nATOM      2   Fe MOL     1       0.002  -0.000   0.750  1.00  0.00          FE  \nENDMDL\n",
           "type": "blob"
          }
         ],
         "kwargs": {
          "defaultRepresentation": true,
          "ext": "pdb",
          "name": "nglview.adaptor.ASETrajectory"
         },
         "methodName": "loadFile",
         "reconstruc_color_scheme": false,
         "target": "Stage",
         "type": "call_method"
        },
        {
         "args": [
          "spacefill"
         ],
         "component_index": 0,
         "kwargs": {
          "radius": 0.5,
          "radiusType": "vdw",
          "scale": 0.5,
          "sele": "all"
         },
         "methodName": "addRepresentation",
         "reconstruc_color_scheme": false,
         "target": "compList",
         "type": "call_method"
        },
        {
         "args": [
          "ball+stick",
          0
         ],
         "kwargs": {},
         "methodName": "removeRepresentationsByName",
         "reconstruc_color_scheme": false,
         "target": "Widget",
         "type": "call_method"
        },
        {
         "args": [
          "unitcell"
         ],
         "component_index": 0,
         "kwargs": {
          "sele": "all"
         },
         "methodName": "addRepresentation",
         "reconstruc_color_scheme": false,
         "target": "compList",
         "type": "call_method"
        },
        {
         "args": [],
         "kwargs": {
          "cameraType": "orthographic"
         },
         "methodName": "setParameters",
         "reconstruc_color_scheme": false,
         "target": "Stage",
         "type": "call_method"
        }
       ],
       "_ngl_original_stage_parameters": {
        "ambientColor": 14540253,
        "ambientIntensity": 0.2,
        "backgroundColor": "white",
        "cameraEyeSep": 0.3,
        "cameraFov": 40,
        "cameraType": "perspective",
        "clipDist": 10,
        "clipFar": 100,
        "clipNear": 0,
        "fogFar": 100,
        "fogNear": 50,
        "hoverTimeout": 0,
        "impostor": true,
        "lightColor": 14540253,
        "lightIntensity": 1,
        "mousePreset": "default",
        "panSpeed": 1,
        "quality": "medium",
        "rotateSpeed": 2,
        "sampleLevel": 0,
        "tooltip": true,
        "workerDefault": true,
        "zoomSpeed": 1.2
       },
       "_ngl_repr_dict": {
        "0": {
         "0": {
          "params": {
           "assembly": "default",
           "clipCenter": {
            "x": 0,
            "y": 0,
            "z": 0
           },
           "clipNear": 0,
           "clipRadius": 0,
           "colorMode": "hcl",
           "colorReverse": false,
           "colorScale": "",
           "colorScheme": "element",
           "colorValue": 9474192,
           "defaultAssembly": "",
           "depthWrite": true,
           "diffuse": 16777215,
           "diffuseInterior": false,
           "disableImpostor": false,
           "disablePicking": false,
           "flatShaded": false,
           "interiorColor": 2236962,
           "interiorDarkening": 0,
           "lazy": false,
           "matrix": {
            "elements": [
             1,
             0,
             0,
             0,
             0,
             1,
             0,
             0,
             0,
             0,
             1,
             0,
             0,
             0,
             0,
             1
            ]
           },
           "metalness": 0,
           "opacity": 1,
           "quality": "medium",
           "radiusData": {},
           "radiusScale": 1,
           "radiusSize": 0.5,
           "radiusType": "size",
           "roughness": 0.4,
           "sele": "all",
           "side": "double",
           "sphereDetail": 1,
           "useInteriorColor": true,
           "visible": true,
           "wireframe": false
          },
          "type": "spacefill"
         },
         "1": {
          "params": {
           "clipCenter": {
            "x": 0,
            "y": 0,
            "z": 0
           },
           "clipNear": 0,
           "clipRadius": 0,
           "colorMode": "hcl",
           "colorReverse": false,
           "colorScale": "",
           "colorScheme": "element",
           "colorValue": "orange",
           "defaultAssembly": "",
           "depthWrite": true,
           "diffuse": 16777215,
           "diffuseInterior": false,
           "disableImpostor": false,
           "disablePicking": false,
           "flatShaded": false,
           "interiorColor": 2236962,
           "interiorDarkening": 0,
           "lazy": false,
           "matrix": {
            "elements": [
             1,
             0,
             0,
             0,
             0,
             1,
             0,
             0,
             0,
             0,
             1,
             0,
             0,
             0,
             0,
             1
            ]
           },
           "metalness": 0,
           "opacity": 1,
           "quality": "medium",
           "radialSegments": 10,
           "radiusData": {},
           "radiusScale": 1,
           "radiusSize": 0.5,
           "radiusType": "vdw",
           "roughness": 0.4,
           "sele": "all",
           "side": "double",
           "sphereDetail": 1,
           "useInteriorColor": true,
           "visible": true,
           "wireframe": false
          },
          "type": "unitcell"
         }
        }
       },
       "_ngl_serialize": false,
       "_ngl_version": "2.0.0-dev.36",
       "_ngl_view_id": [
        "4CE1D101-4D00-439C-8CDA-7D1723ED20F2"
       ],
       "_player_dict": {},
       "_scene_position": {},
       "_scene_rotation": {},
       "_synced_model_ids": [],
       "_synced_repr_model_ids": [],
       "_view_height": "",
       "_view_width": "",
       "background": "white",
       "frame": 0,
       "gui_style": null,
       "layout": "IPY_MODEL_c84561f2971b4b9ea55284f5468bb553",
       "max_frame": 5,
       "n_components": 1,
       "picked": {}
      }
     },
     "c84561f2971b4b9ea55284f5468bb553": {
      "model_module": "@jupyter-widgets/base",
      "model_module_version": "1.2.0",
      "model_name": "LayoutModel",
      "state": {}
     },
     "c9f7aaa9c5d04b159fe3ee079e59529f": {
      "model_module": "@jupyter-widgets/controls",
      "model_module_version": "1.5.0",
      "model_name": "ButtonModel",
      "state": {
       "icon": "compress",
       "layout": "IPY_MODEL_7c46a902c98d4e9d954fa4bdbae4740b",
       "style": "IPY_MODEL_5415f748692e4af98a974e50bec40e8e"
      }
     },
     "d240169915f149248847eb7261f3db6c": {
      "model_module": "@jupyter-widgets/base",
      "model_module_version": "1.2.0",
      "model_name": "LayoutModel",
      "state": {}
     },
     "da623284092c4b579e84498cf475699c": {
      "model_module": "@jupyter-widgets/controls",
      "model_module_version": "1.5.0",
      "model_name": "LinkModel",
      "state": {
       "source": [
        "IPY_MODEL_fa171f870e084368839a110fb3bb67fc",
        "value"
       ],
       "target": [
        "IPY_MODEL_2f48bccbfcb546ce8072b392d24b6233",
        "value"
       ]
      }
     },
     "f353ff40b3eb4968bb49852c1f944f6c": {
      "model_module": "@jupyter-widgets/controls",
      "model_module_version": "1.5.0",
      "model_name": "LinkModel",
      "state": {
       "source": [
        "IPY_MODEL_70a3ea22fe684ab9a820bce25946cd81",
        "max"
       ],
       "target": [
        "IPY_MODEL_09f052769a8d47b9a1d34e8e32f2f92e",
        "max_frame"
       ]
      }
     },
     "f4a6da491f0b46d2a4a5b85c00b7ff01": {
      "model_module": "@jupyter-widgets/base",
      "model_module_version": "1.2.0",
      "model_name": "LayoutModel",
      "state": {}
     },
     "f5385733930e48d4a878d19ec65aa94c": {
      "model_module": "@jupyter-widgets/controls",
      "model_module_version": "1.5.0",
      "model_name": "DescriptionStyleModel",
      "state": {
       "description_width": ""
      }
     },
     "f88f7e7b83fe4bd792c505d062c8c6c4": {
      "model_module": "@jupyter-widgets/base",
      "model_module_version": "1.2.0",
      "model_name": "LayoutModel",
      "state": {}
     },
     "fa171f870e084368839a110fb3bb67fc": {
      "model_module": "@jupyter-widgets/controls",
      "model_module_version": "1.5.0",
      "model_name": "PlayModel",
      "state": {
       "layout": "IPY_MODEL_f88f7e7b83fe4bd792c505d062c8c6c4",
       "max": 5,
       "style": "IPY_MODEL_602a6aaacd2a4e38b9c7c95f4240a5ae"
      }
     },
     "fa53daa2b11b47c4891b85c29c2566d4": {
      "model_module": "@jupyter-widgets/base",
      "model_module_version": "1.2.0",
      "model_name": "LayoutModel",
      "state": {}
     },
     "fd7d9c8e45e5495ba7088c49099fcede": {
      "model_module": "@jupyter-widgets/base",
      "model_module_version": "1.2.0",
      "model_name": "LayoutModel",
      "state": {}
     }
    },
    "version_major": 2,
    "version_minor": 0
   }
  }
 },
 "nbformat": 4,
 "nbformat_minor": 5
}
