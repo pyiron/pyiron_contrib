{
 "cells": [
  {
   "cell_type": "code",
   "execution_count": 1,
   "id": "8dee8129-6b23-4abf-90d2-217d71b8ba7a",
   "metadata": {
    "tags": []
   },
   "outputs": [
    {
     "data": {
      "application/vnd.jupyter.widget-view+json": {
       "model_id": "71c73d24f4ea44e5aef03b0611a3c9a4",
       "version_major": 2,
       "version_minor": 0
      },
      "text/plain": []
     },
     "metadata": {},
     "output_type": "display_data"
    }
   ],
   "source": [
    "from pyiron_contrib.workflow.function import Function"
   ]
  },
  {
   "cell_type": "markdown",
   "id": "5edfe456-c5b8-4347-a74f-1fb19fdff91b",
   "metadata": {},
   "source": [
    "# Pyiron workflows: Introduction and Syntax\n",
    "\n",
    "Here we will highlight:\n",
    "- How to instantiate a node\n",
    "- How to make reusable node classes\n",
    "- How to connect node inputs and outputs together\n",
    "- Flow control (i.e. signal channels vs data channels)\n",
    "- Defining new nodes from special node classes (Fast and SingleValue)\n",
    "- The five ways of adding nodes to a workflow\n",
    "- Using pre-defined nodes "
   ]
  },
  {
   "cell_type": "markdown",
   "id": "f4e75528-3ea7-4feb-8167-533d439f798d",
   "metadata": {},
   "source": [
    "## Instantiating a node\n",
    "\n",
    "Simple nodes can be defined on-the-fly by passing any callable to the `Function(Node)` class. This transforms the function into a node instance which has input and output, can be connected to other nodes in a workflow, and can run the function it stores.\n",
    "\n",
    "Input and output channels are _automatically_ extracted from the signature and return value(s) of the function. (Note: \"Nodized\" functions must have _at most_ one `return` expression!)"
   ]
  },
  {
   "cell_type": "code",
   "execution_count": 2,
   "id": "2502bc6b-d961-43d1-b2d9-66b20e2740d7",
   "metadata": {},
   "outputs": [],
   "source": [
    "def plus_minus_one(x):\n",
    "    return x+1, x-1\n",
    "\n",
    "pm_node = Function(plus_minus_one)"
   ]
  },
  {
   "cell_type": "markdown",
   "id": "5d15f0c2-b36d-4960-86b3-40d769f78528",
   "metadata": {},
   "source": [
    "This has automatically created a node with input and output data channels whose labels are gathered by inspecting the function:"
   ]
  },
  {
   "cell_type": "code",
   "execution_count": 3,
   "id": "840f4c07-4b21-4bcc-b15c-9847c6c1b048",
   "metadata": {},
   "outputs": [
    {
     "name": "stdout",
     "output_type": "stream",
     "text": [
      "['x'] ['x+1', 'x-1']\n"
     ]
    }
   ],
   "source": [
    "print(pm_node.inputs.labels, pm_node.outputs.labels)"
   ]
  },
  {
   "cell_type": "markdown",
   "id": "22ee2a49-47d1-4cec-bb25-8441ea01faf7",
   "metadata": {},
   "source": [
    "The output is still empty (`NotData`) because we haven't `run()` the node:"
   ]
  },
  {
   "cell_type": "code",
   "execution_count": 4,
   "id": "613a90fa-66ed-49f8-ba8c-2f83a54253cd",
   "metadata": {},
   "outputs": [
    {
     "name": "stdout",
     "output_type": "stream",
     "text": [
      "{'x+1': <class 'pyiron_contrib.workflow.channels.NotData'>, 'x-1': <class 'pyiron_contrib.workflow.channels.NotData'>}\n"
     ]
    }
   ],
   "source": [
    "print(pm_node.outputs.to_value_dict())"
   ]
  },
  {
   "cell_type": "markdown",
   "id": "0374e277-55ab-45d2-8058-b06365bd07af",
   "metadata": {},
   "source": [
    "If we try that now though, we'll just get a type error because the input is not set! "
   ]
  },
  {
   "cell_type": "code",
   "execution_count": 5,
   "id": "05196cd8-97c7-4f08-ae3a-ad6a076512f7",
   "metadata": {},
   "outputs": [],
   "source": [
    "# pm_node.run()"
   ]
  },
  {
   "cell_type": "markdown",
   "id": "48b0db5a-548e-4195-8361-76763ddf0474",
   "metadata": {},
   "source": [
    "By default, a softer `update()` call is made at instantiation and whenever the node input is updated.\n",
    "This call checks to make sure the input is `ready` before moving on to `run()`. \n",
    "\n",
    "If we update the input, we'll give the node enough data to work with and it will automatically update the output:"
   ]
  },
  {
   "cell_type": "code",
   "execution_count": 6,
   "id": "b1500a40-f4f2-4c06-ad78-aaebcf3e9a50",
   "metadata": {},
   "outputs": [
    {
     "name": "stdout",
     "output_type": "stream",
     "text": [
      "{'x+1': 6, 'x-1': 4}\n"
     ]
    }
   ],
   "source": [
    "pm_node.inputs.x = 5\n",
    "print(pm_node.outputs.to_value_dict())"
   ]
  },
  {
   "cell_type": "markdown",
   "id": "df4520d7-856e-4bc8-817f-5b2e22c1ddce",
   "metadata": {},
   "source": [
    "We can be stricter and force the node to wait for an explicit `run()` call by modifying the `run_on_updates` and `update_on_instantiation` flags. \n",
    "\n",
    "Let's also take the opportunity to give our output channel a better name so we can get it by dot-access."
   ]
  },
  {
   "cell_type": "code",
   "execution_count": 7,
   "id": "ab1ac28a-6e69-491f-882f-da4a43162dd7",
   "metadata": {},
   "outputs": [
    {
     "data": {
      "text/plain": [
       "pyiron_contrib.workflow.channels.NotData"
      ]
     },
     "execution_count": 7,
     "metadata": {},
     "output_type": "execute_result"
    }
   ],
   "source": [
    "def adder(x: int, y: int = 1) -> int:\n",
    "    sum_ = x + y\n",
    "    return sum_\n",
    "\n",
    "adder_node = Function(adder, run_on_updates=False)\n",
    "adder_node.inputs.x = 1\n",
    "adder_node.outputs.sum_.value  # We use `value` to see the data the channel holds"
   ]
  },
  {
   "cell_type": "markdown",
   "id": "0929f222-6073-4201-b5a1-723c31c8998a",
   "metadata": {},
   "source": [
    "We see that now the output did not get populated automatically when we updated `x`. \n",
    "We can still get the output by asking for it though:"
   ]
  },
  {
   "cell_type": "code",
   "execution_count": 8,
   "id": "dc41a447-15fd-4df2-b60a-0935d81d469e",
   "metadata": {},
   "outputs": [
    {
     "data": {
      "text/plain": [
       "2"
      ]
     },
     "execution_count": 8,
     "metadata": {},
     "output_type": "execute_result"
    }
   ],
   "source": [
    "adder_node.run()\n",
    "adder_node.outputs.sum_.value"
   ]
  },
  {
   "cell_type": "markdown",
   "id": "58ed9b25-6dde-488d-9582-d49d405793c6",
   "metadata": {},
   "source": [
    "This node also exploits type hinting!\n",
    "After turning the automatic updates back on, we can see that we can safely pass incorrect data without running into an error:"
   ]
  },
  {
   "cell_type": "code",
   "execution_count": 9,
   "id": "ac0fe993-6c82-48c8-a780-cbd0c97fc386",
   "metadata": {},
   "outputs": [
    {
     "data": {
      "text/plain": [
       "(int, str)"
      ]
     },
     "execution_count": 9,
     "metadata": {},
     "output_type": "execute_result"
    }
   ],
   "source": [
    "adder_node.run_on_updates = True\n",
    "adder_node.inputs.x = \"not an integer\"\n",
    "adder_node.inputs.x.type_hint, type(adder_node.inputs.x.value)\n",
    "# No error because the update doesn't trigger a run since the type hint is not satisfied"
   ]
  },
  {
   "cell_type": "markdown",
   "id": "2737de39-6e75-44e1-b751-6315afe5c676",
   "metadata": {},
   "source": [
    "But `run()` never got called, so the output is unchanged"
   ]
  },
  {
   "cell_type": "code",
   "execution_count": 10,
   "id": "bcbd17f1-a3e4-44f0-bde1-cbddc51c5d73",
   "metadata": {},
   "outputs": [
    {
     "data": {
      "text/plain": [
       "2"
      ]
     },
     "execution_count": 10,
     "metadata": {},
     "output_type": "execute_result"
    }
   ],
   "source": [
    "adder_node.outputs.sum_.value"
   ]
  },
  {
   "cell_type": "markdown",
   "id": "263f5b24-113f-45d9-82cc-0475c59da587",
   "metadata": {},
   "source": [
    "Note that assigning data to channels with `=` is actually just syntactic sugar for calling the `update` method of the underlying channel:"
   ]
  },
  {
   "cell_type": "code",
   "execution_count": 11,
   "id": "15742a49-4c23-4d4a-84d9-9bf19677544c",
   "metadata": {},
   "outputs": [
    {
     "data": {
      "text/plain": [
       "3"
      ]
     },
     "execution_count": 11,
     "metadata": {},
     "output_type": "execute_result"
    }
   ],
   "source": [
    "adder_node.inputs.x.update(2)\n",
    "adder_node.outputs.sum_.value"
   ]
  },
  {
   "cell_type": "markdown",
   "id": "416ba898-21ee-4638-820f-0f04a98a6706",
   "metadata": {},
   "source": [
    "We can also set new input as any valid combination of kwargs and/or args at both instantiation or on call:"
   ]
  },
  {
   "cell_type": "code",
   "execution_count": 12,
   "id": "0c8f09a7-67c4-4c6c-a021-e3fea1a16576",
   "metadata": {},
   "outputs": [
    {
     "data": {
      "text/plain": [
       "30"
      ]
     },
     "execution_count": 12,
     "metadata": {},
     "output_type": "execute_result"
    }
   ],
   "source": [
    "adder_node(10, y=20)\n",
    "adder_node.outputs.sum_.value"
   ]
  },
  {
   "cell_type": "markdown",
   "id": "c0997630-c053-42bb-8c0d-332f8bc26216",
   "metadata": {},
   "source": [
    "Finally, when running (or updating or calling when those result in a run -- i.e. the node is set to run on updates and is ready) a function node returns the wrapped function output directly:"
   ]
  },
  {
   "cell_type": "code",
   "execution_count": 13,
   "id": "69b59737-9e09-4b4b-a0e2-76a09de02c08",
   "metadata": {},
   "outputs": [
    {
     "data": {
      "text/plain": [
       "31"
      ]
     },
     "execution_count": 13,
     "metadata": {},
     "output_type": "execute_result"
    }
   ],
   "source": [
    "adder_node(15, 16)"
   ]
  },
  {
   "cell_type": "markdown",
   "id": "f233f3f7-9576-4400-8e92-a1f6109d7f9b",
   "metadata": {},
   "source": [
    "Note for advanced users: when the node has an executor set, running returns a futures object for the calculation, whose `.result()` will eventually be the function output."
   ]
  },
  {
   "cell_type": "markdown",
   "id": "07a22cee-e340-4551-bb81-07d8be1d152b",
   "metadata": {},
   "source": [
    "## Reusable node classes\n",
    "\n",
    "If we're going to use a node many times, we may want to define a new sub-class of `Function` to handle this.\n",
    "\n",
    "The can be done directly by inheriting from `Function` and overriding it's `__init__` function so that the core functionality of the node (i.e. the node function and output labels) are set in stone, but even easier is to use the `function_node` decorator to do this for you!\n",
    "\n",
    "The decorator takes the output labels and whatever other class kwargs you want to override, and the function is defined like any other node function:"
   ]
  },
  {
   "cell_type": "code",
   "execution_count": 14,
   "id": "61b43a9b-8dad-48b7-9194-2045e465793b",
   "metadata": {},
   "outputs": [],
   "source": [
    "from pyiron_contrib.workflow.function import function_node"
   ]
  },
  {
   "cell_type": "code",
   "execution_count": 15,
   "id": "647360a9-c971-4272-995c-aa01e5f5bb83",
   "metadata": {},
   "outputs": [
    {
     "name": "stdout",
     "output_type": "stream",
     "text": [
      "class name = SubtractNode\n",
      "label = subtract_node\n",
      "default output = 1\n"
     ]
    }
   ],
   "source": [
    "@function_node()\n",
    "def subtract_node(x: int | float = 2, y: int | float = 1) -> int | float:\n",
    "    diff = x - y\n",
    "    return diff\n",
    "\n",
    "sn = subtract_node()\n",
    "print(\"class name =\", sn.__class__.__name__)\n",
    "print(\"label =\", sn.label)\n",
    "print(\"default output =\", sn.outputs.diff.value)"
   ]
  },
  {
   "cell_type": "markdown",
   "id": "7b7133ff-6ef6-49fa-9eb0-7c280de9b1e5",
   "metadata": {},
   "source": [
    "Earlier we saw that we could set input data by function defaults, or by directly setting the `.inputs.*` channel values with an `=` assignement or `.update` method call.\n",
    "\n",
    "We can also set the input of a node instance at instantiation by passing the input labels as kwargs!"
   ]
  },
  {
   "cell_type": "code",
   "execution_count": 16,
   "id": "8fb0671b-045a-4d71-9d35-f0beadc9cf3a",
   "metadata": {},
   "outputs": [
    {
     "data": {
      "text/plain": [
       "-10"
      ]
     },
     "execution_count": 16,
     "metadata": {},
     "output_type": "execute_result"
    }
   ],
   "source": [
    "subtract_node(10, 20).outputs.diff.value"
   ]
  },
  {
   "cell_type": "markdown",
   "id": "af45e7a1-0a8d-4ad6-9363-ed2bcfe4c405",
   "metadata": {},
   "source": [
    "## Node connections \n",
    "\n",
    "Next, we want to make connections between nodes. Instead of `update` we can use the `connect` method to accomplish this, or we can do it with the other syntactic sugar we saw for regular data (i.e. direct attribute access or using kwargs at instantiation):"
   ]
  },
  {
   "cell_type": "code",
   "execution_count": 17,
   "id": "5ce91f42-7aec-492c-94fb-2320c971cd79",
   "metadata": {},
   "outputs": [
    {
     "name": "stdout",
     "output_type": "stream",
     "text": [
      "2 - 4 = -2\n"
     ]
    }
   ],
   "source": [
    "@function_node()\n",
    "def add_node(x: int | float = 1, y: int | float = 1) -> int | float:\n",
    "    sum_ = x + y\n",
    "    return sum_\n",
    "\n",
    "add1 = add_node()\n",
    "add2 = add_node(2, 2)\n",
    "sub = subtract_node(x=add1.outputs.sum_, y=add2.outputs.sum_)\n",
    "print(\n",
    "    f\"{add1.outputs.sum_.value} - {add2.outputs.sum_.value} = {sub.outputs.diff.value}\"\n",
    ")"
   ]
  },
  {
   "cell_type": "markdown",
   "id": "0bea37ae-65f6-4842-b507-9542f17791ca",
   "metadata": {},
   "source": [
    "Because we've set all of our nodes to run automatically on updates, we can change upstream data and see the result propogate downstream immediately:"
   ]
  },
  {
   "cell_type": "code",
   "execution_count": 18,
   "id": "20360fe7-b422-4d78-9bd1-de233f28c8df",
   "metadata": {},
   "outputs": [
    {
     "name": "stdout",
     "output_type": "stream",
     "text": [
      "11 - 4 = 7\n"
     ]
    }
   ],
   "source": [
    "add1.inputs.x = 10\n",
    "print(\n",
    "    f\"{add1.outputs.sum_.value} - {add2.outputs.sum_.value} = {sub.outputs.diff.value}\"\n",
    ")"
   ]
  },
  {
   "cell_type": "markdown",
   "id": "e5c531a3-77e4-48ad-a189-fed619e79baa",
   "metadata": {},
   "source": [
    "## Special nodes\n",
    "\n",
    "In addition to the basic `Function` class, for the sake of convenience we also offer `Slow(Function)` -- which changes the defaults of `run_on_updates` and `update_on_instantiation` to `False` so that `run()` calls are necessary -- this can be helpful for nodes that are computationally expensive; and `SingleValue(Function)` -- which enforces that there is only a _single_ return value to the node function (i.e. a single output label), and then lets attribute and item access fall back to looking for attributes and items of this single output value. Of course there are decorators available for both of these.\n",
    "\n",
    "Let's look at a use case:"
   ]
  },
  {
   "cell_type": "code",
   "execution_count": 19,
   "id": "1a4e9693-0980-4435-aecc-3331d8b608dd",
   "metadata": {},
   "outputs": [],
   "source": [
    "import numpy as np\n",
    "\n",
    "from pyiron_contrib.workflow.function import single_value_node"
   ]
  },
  {
   "cell_type": "code",
   "execution_count": 20,
   "id": "7c4d314b-33bb-4a67-bfb9-ed77fba3949c",
   "metadata": {},
   "outputs": [
    {
     "name": "stdout",
     "output_type": "stream",
     "text": [
      "<class 'numpy.ndarray'>\n",
      "[0.02040816 0.04081633 0.06122449]\n",
      "0.5\n"
     ]
    }
   ],
   "source": [
    "@single_value_node()\n",
    "def linspace_node(\n",
    "    start: int | float = 0, stop: int | float = 1, num: int = 50\n",
    "):\n",
    "    linspace = np.linspace(start=start, stop=stop, num=num)\n",
    "    return linspace\n",
    "\n",
    "lin = linspace_node()\n",
    "\n",
    "print(type(lin.outputs.linspace.value))  # Output is just what we expect\n",
    "print(lin[1:4])  # Gets items from the output\n",
    "print(lin.mean())  # Finds the method on the output -- a special feature of SingleValueNode"
   ]
  },
  {
   "cell_type": "markdown",
   "id": "9b9220b0-833d-4c6a-9929-5dfa60a47d14",
   "metadata": {},
   "source": [
    "# Flow control\n",
    "\n",
    "By default, when a node runs and updates its output, this triggers outputs in all downstream connections. This is useful when all your node functions are small and light, but there may come times when you want something other than this simple \"push\" flow.\n",
    "\n",
    "In addition to input and output data channels, nodes also have \"signal\" channels available. Input signals are bound to a callback function (typically one of its node's methods), and output signals trigger the callbacks for all the input signal channels they're connected to.\n",
    "\n",
    "Standard nodes have a `run` input signal (which is, unsurprisingly, bound to the `run` method), and a `ran` output signal (which, again, hopefully with no great surprise, is triggered at the end of the `run` method.)\n",
    "\n",
    "Below is a super simple example of how these signal channels can be used to delay execution and manually control flow:"
   ]
  },
  {
   "cell_type": "code",
   "execution_count": 21,
   "id": "2e418abf-7059-4e1e-9b9f-b3dc0a4b5e35",
   "metadata": {},
   "outputs": [
    {
     "name": "stdout",
     "output_type": "stream",
     "text": [
      "1 <class 'pyiron_contrib.workflow.channels.NotData'>\n"
     ]
    }
   ],
   "source": [
    "@function_node()\n",
    "def linear(x):\n",
    "    return x\n",
    "\n",
    "@function_node(run_on_updates=False)\n",
    "def times_two(x):\n",
    "    double = 2 * x\n",
    "    return double\n",
    "\n",
    "l = linear(x=1)\n",
    "t2 = times_two(x=l.outputs.x)\n",
    "print(t2.inputs.x, t2.outputs.double)"
   ]
  },
  {
   "cell_type": "markdown",
   "id": "37aa4455-9b98-4be5-a365-363e3c490bb6",
   "metadata": {},
   "source": [
    "Now the input of `t2` got updated when the connection is made, but by we told this node not to do any automatic updates, so the output has its uninitialized value of `NotData`.\n",
    "\n",
    "Often, you will want to have nodes with data connections to have signal connections, but this is not strictly required. Here, we'll introduce a (not strictly necessary) third node to control starting the workflow, and chain together to signals from our two functional nodes.\n",
    "\n",
    "Note that we have all the same syntacic sugar from data channels when creating connections between signal channels."
   ]
  },
  {
   "cell_type": "code",
   "execution_count": 22,
   "id": "3310eac4-04f6-421b-9824-19bb2d680be6",
   "metadata": {},
   "outputs": [
    {
     "name": "stdout",
     "output_type": "stream",
     "text": [
      "2\n"
     ]
    }
   ],
   "source": [
    "@function_node()\n",
    "def control():\n",
    "    return\n",
    "\n",
    "c = control()\n",
    "l.signals.input.run = c.signals.output.ran\n",
    "t2.signals.input.run = l.signals.output.ran\n",
    "c.run()\n",
    "print(t2.outputs.double.value)"
   ]
  },
  {
   "cell_type": "markdown",
   "id": "003ed16e-c493-4465-9f08-492f9c51f764",
   "metadata": {},
   "source": [
    "`Function` and its children always push out data updates _before_ triggering their `ran` signal."
   ]
  },
  {
   "cell_type": "markdown",
   "id": "9ac89662-a34f-4209-a657-dc54b6cc5317",
   "metadata": {},
   "source": [
    "It is also possible to flag certain inputs channels so they require updates after each time their node is run before they are `ready` again. These can be defined either at the node instantiation, or after the fact using a method on the channel. Both approaches are shown in the example below:"
   ]
  },
  {
   "cell_type": "code",
   "execution_count": 23,
   "id": "7a6f2bce-6b5e-4321-9457-0a6790d2202a",
   "metadata": {},
   "outputs": [],
   "source": [
    "import matplotlib.pyplot as plt"
   ]
  },
  {
   "cell_type": "code",
   "execution_count": 24,
   "id": "6569014a-815b-46dd-8b47-4e1cd4584b3b",
   "metadata": {},
   "outputs": [
    {
     "data": {
      "image/png": "[encoded data removed]",
      "text/plain": [
       "<Figure size 640x480 with 1 Axes>"
      ]
     },
     "metadata": {},
     "output_type": "display_data"
    }
   ],
   "source": [
    "@single_value_node()\n",
    "def noise(length: int = 1):\n",
    "    array =  np.random.rand(length)\n",
    "    return array\n",
    "\n",
    "@function_node()\n",
    "def plot(x, y):\n",
    "    fig = plt.scatter(x, y)\n",
    "    return fig\n",
    "\n",
    "x = noise(length=10)\n",
    "y = noise(length=10)\n",
    "f = plot(\n",
    "    x=x, \n",
    "    y=y,\n",
    "    channels_requiring_update_after_run=[\"x\"],\n",
    ")\n",
    "f.inputs.y.require_update_after_node_runs(wait_now=True)"
   ]
  },
  {
   "cell_type": "markdown",
   "id": "4a717c47-9e5f-496a-82d9-ec5cb69f65e9",
   "metadata": {},
   "source": [
    "Now that the plotting node has run, its input channels are no longer `ready` because they are waiting for a fresh update:"
   ]
  },
  {
   "cell_type": "code",
   "execution_count": 25,
   "id": "25f0495a-e85f-43b7-8a70-a2c9cbd51ebb",
   "metadata": {},
   "outputs": [
    {
     "data": {
      "text/plain": [
       "(False, False)"
      ]
     },
     "execution_count": 25,
     "metadata": {},
     "output_type": "execute_result"
    }
   ],
   "source": [
    "f.inputs.x.ready, f.inputs.y.ready"
   ]
  },
  {
   "cell_type": "code",
   "execution_count": 26,
   "id": "449ce797-be62-4211-b483-c717a3d70583",
   "metadata": {},
   "outputs": [
    {
     "data": {
      "text/plain": [
       "(True, False)"
      ]
     },
     "execution_count": 26,
     "metadata": {},
     "output_type": "execute_result"
    }
   ],
   "source": [
    "x.inputs.length = 20\n",
    "f.inputs.x.ready, f.inputs.y.ready"
   ]
  },
  {
   "cell_type": "code",
   "execution_count": 27,
   "id": "7008b0fc-3644-401c-b49f-9c40f9d89ac4",
   "metadata": {},
   "outputs": [
    {
     "data": {
      "image/png": "[encoded data removed]",
      "text/plain": [
       "<Figure size 640x480 with 1 Axes>"
      ]
     },
     "metadata": {},
     "output_type": "display_data"
    }
   ],
   "source": [
    "y.inputs.length = 20"
   ]
  },
  {
   "cell_type": "markdown",
   "id": "3dfc3f99-be35-4c3f-bf5d-6ff60749e4d2",
   "metadata": {},
   "source": [
    "Note that in the second cell, `f` is trying to update itself as soon as its inputs are ready, so if we _hadn't_ set the `f.inputs.y` channel to wait for an update, we would have gotten an error from the plotting command due to the mis-matched lengths of the x- and y-arrays."
   ]
  },
  {
   "cell_type": "markdown",
   "id": "5dc12164-b663-405b-872f-756996f628bd",
   "metadata": {},
   "source": [
    "# Workflows\n",
    "\n",
    "The case where we have groups of connected nodes working together is our normal, intended use case.\n",
    "We offer a formal way to group these objects together as a `Workflow(Node)` object.\n",
    "`Workflow` also offers us a single point of entry to the codebase -- i.e. most of the time you shouldn't need the node imports used above, because the decorators are available right on the workflow class.\n",
    "\n",
    "We will also see here that we can our node output channels using the `output_labels: Optional[str | list[str] | tuple[str]` kwarg, in case they don't have a convenient name to start with.\n",
    "This way we can always have convenient dot-based access (and tab completion) instead of having to access things by string-based keys."
   ]
  },
  {
   "cell_type": "code",
   "execution_count": 28,
   "id": "1cd000bd-9b24-4c39-9cac-70a3291d0660",
   "metadata": {},
   "outputs": [],
   "source": [
    "from pyiron_contrib.workflow.workflow import Workflow\n",
    "\n",
    "@Workflow.wrap_as.single_value_node(output_labels=\"is_greater\")\n",
    "def greater_than_half(x: int | float | bool = 0) -> bool:\n",
    "    \"\"\"The functionality doesn't matter here, it's just an example\"\"\"\n",
    "    return x > 0.5"
   ]
  },
  {
   "cell_type": "markdown",
   "id": "8f17751c-f5bf-4b13-8275-0685d8a1629e",
   "metadata": {},
   "source": [
    "## Adding nodes to a workflow\n",
    "\n",
    "All five of the following approaches are equivalent ways to add a node to a workflow:"
   ]
  },
  {
   "cell_type": "code",
   "execution_count": 29,
   "id": "7964df3c-55af-4c25-afc5-9e07accb606a",
   "metadata": {},
   "outputs": [
    {
     "name": "stdout",
     "output_type": "stream",
     "text": [
      "n1 n1 n1 (GreaterThanHalf) output single-value: False\n",
      "n3 n3 n3 (GreaterThanHalf) output single-value: False\n",
      "n4 n4 n4 (GreaterThanHalf) output single-value: False\n",
      "n5 n5 n5 (GreaterThanHalf) output single-value: False\n"
     ]
    }
   ],
   "source": [
    "from pyiron_contrib.workflow.function import Slow\n",
    "\n",
    "n1 = greater_than_half(label=\"n1\")\n",
    "\n",
    "wf = Workflow(\"my_wf\", n1)  # As args at init\n",
    "wf.add.Slow(lambda: x + 1, output_labels=\"p1\", label=\"n2\")  # Instantiating from the class with a lambda function\n",
    "# (Slow since we don't have an x default)\n",
    "wf.add(greater_than_half(label=\"n3\"))  # Instantiating then passing to node adder\n",
    "wf.n4 = greater_than_half(label=\"will_get_overwritten_with_n4\")  # Set attribute to instance\n",
    "greater_than_half(label=\"n5\", parent=wf)  # By passing the workflow to the node\n",
    "\n",
    "for k, v in wf.nodes.items():\n",
    "    print(k, v.label, v)"
   ]
  },
  {
   "cell_type": "markdown",
   "id": "dd5768a4-1810-4675-9389-bceb053cddfa",
   "metadata": {},
   "source": [
    "Workflows have inputs and outputs just like function nodes, but these are dynamically created to map to all _unconnected_ input and output for their underlying graph:"
   ]
  },
  {
   "cell_type": "code",
   "execution_count": 30,
   "id": "809178a5-2e6b-471d-89ef-0797db47c5ad",
   "metadata": {},
   "outputs": [
    {
     "name": "stdout",
     "output_type": "stream",
     "text": [
      "2\n"
     ]
    },
    {
     "name": "stderr",
     "output_type": "stream",
     "text": [
      "/Users/huber/work/pyiron/pyiron_contrib/pyiron_contrib/workflow/io.py:80: UserWarning: Assigning a channel with the label sum_ to the io key sum_sum_\n",
      "  warn(\n"
     ]
    }
   ],
   "source": [
    "wf = Workflow(\"simple\")\n",
    "\n",
    "@Workflow.wrap_as.single_value_node()\n",
    "def add_one(x):\n",
    "    y = x + 1\n",
    "    return y\n",
    "\n",
    "wf.a = add_one(0)\n",
    "wf.b = add_one(0)\n",
    "wf.sum = add_node(wf.a, wf.b)  \n",
    "# Remember, with single value nodes we can pass the whole node instead of an output channel!\n",
    "\n",
    "print(wf.outputs.sum_sum_.value)"
   ]
  },
  {
   "cell_type": "markdown",
   "id": "18ba07ca-f1f9-4f05-98db-d5612f9acbb6",
   "metadata": {},
   "source": [
    "Unlike function nodes, workflow input has no intrinsic order. We can still update it by calling the workflow, but we _need_ to use keyword and not positional arguments. Runs of the workflow (which typically happen when the workflow is updated or called) return a dot-accessible dictionary based on the output channels:"
   ]
  },
  {
   "cell_type": "code",
   "execution_count": 31,
   "id": "52c48d19-10a2-4c48-ae81-eceea4129a60",
   "metadata": {},
   "outputs": [
    {
     "name": "stderr",
     "output_type": "stream",
     "text": [
      "/Users/huber/work/pyiron/pyiron_contrib/pyiron_contrib/workflow/io.py:80: UserWarning: Assigning a channel with the label x to the io key a_x\n",
      "  warn(\n",
      "/Users/huber/work/pyiron/pyiron_contrib/pyiron_contrib/workflow/io.py:80: UserWarning: Assigning a channel with the label x to the io key b_x\n",
      "  warn(\n"
     ]
    },
    {
     "data": {
      "text/plain": [
       "{'sum_sum_': 7}"
      ]
     },
     "execution_count": 31,
     "metadata": {},
     "output_type": "execute_result"
    }
   ],
   "source": [
    "out = wf(a_x=2, b_x=3)\n",
    "out"
   ]
  },
  {
   "cell_type": "code",
   "execution_count": 32,
   "id": "bb35ba3e-602d-4c9c-b046-32da9401dd1c",
   "metadata": {},
   "outputs": [
    {
     "data": {
      "text/plain": [
       "7"
      ]
     },
     "execution_count": 32,
     "metadata": {},
     "output_type": "execute_result"
    }
   ],
   "source": [
    "out.sum_sum_"
   ]
  },
  {
   "cell_type": "markdown",
   "id": "0d6c7e6a-d39d-4c03-9f73-d506d7975fea",
   "metadata": {},
   "source": [
    "(Note, you might see warnings from the workflow IO. This is fine, it's just letting us know that its keys don't match up with the channel labels. We don't see it until we call the input because workflows generate their IO panels dynamically on request to account for the fact that connections may change.)"
   ]
  },
  {
   "cell_type": "markdown",
   "id": "2671dc36-42a4-466b-848d-067ef7bd1d1d",
   "metadata": {},
   "source": [
    "# Example with pre-built nodes\n",
    "\n",
    "Currently we have a handfull of pre-build nodes available for import from the `nodes` package. Let's use these to quickly put together a workflow for looking at some MD data.\n",
    "\n",
    "The `calc_md` node is `Slow`, but we happen to know that the calculation we're doing here is very easy, so we'll manually set `run_on_updates` and `update_at_instantiation` to `True` to get it to behave like a typical `Function` node.\n",
    "\n",
    "Finally, `SingleValue` has one more piece of syntactic sugar: when you're making a connection to the (single!) output channel, you can just pass the node itself!"
   ]
  },
  {
   "cell_type": "code",
   "execution_count": 33,
   "id": "ae500d5e-e55b-432c-8b5f-d5892193cdf5",
   "metadata": {},
   "outputs": [
    {
     "name": "stderr",
     "output_type": "stream",
     "text": [
      "/Users/huber/work/pyiron/pyiron_contrib/pyiron_contrib/workflow/composite.py:220: UserWarning: Reassigning the node bulk_structure to the label structure when adding it to the parent with_prebuilt.\n",
      "  warn(\n",
      "/Users/huber/work/pyiron/pyiron_contrib/pyiron_contrib/workflow/composite.py:220: UserWarning: Reassigning the node lammps to the label engine when adding it to the parent with_prebuilt.\n",
      "  warn(\n"
     ]
    },
    {
     "name": "stdout",
     "output_type": "stream",
     "text": [
      "The job JUSTAJOBNAME was saved and received the ID: 9558\n"
     ]
    },
    {
     "name": "stderr",
     "output_type": "stream",
     "text": [
      "/Users/huber/work/pyiron/pyiron_contrib/pyiron_contrib/workflow/composite.py:220: UserWarning: Reassigning the node calc_md to the label calc when adding it to the parent with_prebuilt.\n",
      "  warn(\n",
      "/Users/huber/work/pyiron/pyiron_contrib/pyiron_contrib/workflow/composite.py:220: UserWarning: Reassigning the node scatter to the label plot when adding it to the parent with_prebuilt.\n",
      "  warn(\n"
     ]
    },
    {
     "data": {
      "image/png": "[encoded data removed]",
      "text/plain": [
       "<Figure size 640x480 with 1 Axes>"
      ]
     },
     "metadata": {},
     "output_type": "display_data"
    }
   ],
   "source": [
    "wf = Workflow(\"with_prebuilt\")\n",
    "\n",
    "wf.structure = wf.add.atomistics.BulkStructure(repeat=3, cubic=True, element=\"Al\")\n",
    "wf.engine = wf.add.atomistics.Lammps(structure=wf.structure)\n",
    "wf.calc = wf.add.atomistics.CalcMd(\n",
    "    job=wf.engine, \n",
    "    run_on_updates=True, \n",
    "    update_on_instantiation=True\n",
    ")\n",
    "wf.plot = wf.add.standard.Scatter(\n",
    "    x=wf.calc.outputs.steps, \n",
    "    y=wf.calc.outputs.temperature\n",
    ")"
   ]
  },
  {
   "cell_type": "markdown",
   "id": "fa52dae9-8b3e-4de5-a916-eb548f7b9845",
   "metadata": {},
   "source": [
    "Nodes and workflows can be visualized using graphviz:"
   ]
  },
  {
   "cell_type": "code",
   "execution_count": 34,
   "id": "be3dd2a3-0cb2-4fc4-a07f-7ec719bbc6c9",
   "metadata": {},
   "outputs": [
    {
     "name": "stderr",
     "output_type": "stream",
     "text": [
      "/Users/huber/work/pyiron/pyiron_contrib/pyiron_contrib/workflow/io.py:80: UserWarning: Assigning a channel with the label element to the io key structure_element\n",
      "  warn(\n",
      "/Users/huber/work/pyiron/pyiron_contrib/pyiron_contrib/workflow/io.py:80: UserWarning: Assigning a channel with the label cubic to the io key structure_cubic\n",
      "  warn(\n",
      "/Users/huber/work/pyiron/pyiron_contrib/pyiron_contrib/workflow/io.py:80: UserWarning: Assigning a channel with the label repeat to the io key structure_repeat\n",
      "  warn(\n",
      "/Users/huber/work/pyiron/pyiron_contrib/pyiron_contrib/workflow/io.py:80: UserWarning: Assigning a channel with the label n_ionic_steps to the io key calc_n_ionic_steps\n",
      "  warn(\n",
      "/Users/huber/work/pyiron/pyiron_contrib/pyiron_contrib/workflow/io.py:80: UserWarning: Assigning a channel with the label n_print to the io key calc_n_print\n",
      "  warn(\n",
      "/Users/huber/work/pyiron/pyiron_contrib/pyiron_contrib/workflow/io.py:80: UserWarning: Assigning a channel with the label temperature to the io key calc_temperature\n",
      "  warn(\n",
      "/Users/huber/work/pyiron/pyiron_contrib/pyiron_contrib/workflow/io.py:80: UserWarning: Assigning a channel with the label pressure to the io key calc_pressure\n",
      "  warn(\n",
      "/Users/huber/work/pyiron/pyiron_contrib/pyiron_contrib/workflow/io.py:80: UserWarning: Assigning a channel with the label cells to the io key calc_cells\n",
      "  warn(\n",
      "/Users/huber/work/pyiron/pyiron_contrib/pyiron_contrib/workflow/io.py:80: UserWarning: Assigning a channel with the label displacements to the io key calc_displacements\n",
      "  warn(\n",
      "/Users/huber/work/pyiron/pyiron_contrib/pyiron_contrib/workflow/io.py:80: UserWarning: Assigning a channel with the label energy_pot to the io key calc_energy_pot\n",
      "  warn(\n",
      "/Users/huber/work/pyiron/pyiron_contrib/pyiron_contrib/workflow/io.py:80: UserWarning: Assigning a channel with the label energy_tot to the io key calc_energy_tot\n",
      "  warn(\n",
      "/Users/huber/work/pyiron/pyiron_contrib/pyiron_contrib/workflow/io.py:80: UserWarning: Assigning a channel with the label force_max to the io key calc_force_max\n",
      "  warn(\n",
      "/Users/huber/work/pyiron/pyiron_contrib/pyiron_contrib/workflow/io.py:80: UserWarning: Assigning a channel with the label forces to the io key calc_forces\n",
      "  warn(\n",
      "/Users/huber/work/pyiron/pyiron_contrib/pyiron_contrib/workflow/io.py:80: UserWarning: Assigning a channel with the label indices to the io key calc_indices\n",
      "  warn(\n",
      "/Users/huber/work/pyiron/pyiron_contrib/pyiron_contrib/workflow/io.py:80: UserWarning: Assigning a channel with the label positions to the io key calc_positions\n",
      "  warn(\n",
      "/Users/huber/work/pyiron/pyiron_contrib/pyiron_contrib/workflow/io.py:80: UserWarning: Assigning a channel with the label pressures to the io key calc_pressures\n",
      "  warn(\n",
      "/Users/huber/work/pyiron/pyiron_contrib/pyiron_contrib/workflow/io.py:80: UserWarning: Assigning a channel with the label total_displacements to the io key calc_total_displacements\n",
      "  warn(\n",
      "/Users/huber/work/pyiron/pyiron_contrib/pyiron_contrib/workflow/io.py:80: UserWarning: Assigning a channel with the label unwrapped_positions to the io key calc_unwrapped_positions\n",
      "  warn(\n",
      "/Users/huber/work/pyiron/pyiron_contrib/pyiron_contrib/workflow/io.py:80: UserWarning: Assigning a channel with the label volume to the io key calc_volume\n",
      "  warn(\n",
      "/Users/huber/work/pyiron/pyiron_contrib/pyiron_contrib/workflow/io.py:80: UserWarning: Assigning a channel with the label fig to the io key plot_fig\n",
      "  warn(\n"
     ]
    },
    {
     "data": {
      "image/svg+xml": [
       "<?xml version=\"1.0\" encoding=\"UTF-8\" standalone=\"no\"?>\n",
       "<!DOCTYPE svg PUBLIC \"-//W3C//DTD SVG 1.1//EN\"\n",
       " \"http://www.w3.org/Graphics/SVG/1.1/DTD/svg11.dtd\">\n",
       "<!-- Generated by graphviz version 8.0.5 (0)\n",
       " -->\n",
       "<!-- Title: clusterwith_prebuilt Pages: 1 -->\n",
       "<svg width=\"1575pt\" height=\"1090pt\"\n",
       " viewBox=\"0.00 0.00 1574.96 1090.25\" xmlns=\"http://www.w3.org/2000/svg\" xmlns:xlink=\"http://www.w3.org/1999/xlink\">\n",
       "<g id=\"graph0\" class=\"graph\" transform=\"scale(1 1) rotate(0) translate(4 1086.25)\">\n",
       "<title>clusterwith_prebuilt</title>\n",
       "<polygon fill=\"white\" stroke=\"none\" points=\"-4,4 -4,-1086.25 1570.96,-1086.25 1570.96,4 -4,4\"/>\n",
       "<text text-anchor=\"middle\" x=\"783.48\" y=\"-4.95\" font-family=\"Times,serif\" font-size=\"14.00\">with_prebuilt: Workflow</text>\n",
       "<g id=\"clust1\" class=\"cluster\">\n",
       "<title>clusterwith_prebuiltInputs</title>\n",
       "<defs>\n",
       "<linearGradient id=\"clust1_l_0\" gradientUnits=\"userSpaceOnUse\" x1=\"8\" y1=\"-809.25\" x2=\"166.47\" y2=\"-809.25\" >\n",
       "<stop offset=\"0\" style=\"stop-color:#7f7f7f;stop-opacity:1.;\"/>\n",
       "<stop offset=\"1\" style=\"stop-color:#d9d9d9;stop-opacity:1.;\"/>\n",
       "</linearGradient>\n",
       "</defs>\n",
       "<polygon fill=\"url(#clust1_l_0)\" stroke=\"black\" points=\"8,-583.25 8,-1035.25 166.47,-1035.25 166.47,-583.25 8,-583.25\"/>\n",
       "<text text-anchor=\"middle\" x=\"87.23\" y=\"-1017.95\" font-family=\"Times,serif\" font-size=\"14.00\">Inputs</text>\n",
       "</g>\n",
       "<g id=\"clust2\" class=\"cluster\">\n",
       "<title>clusterwith_prebuiltOutputs</title>\n",
       "<defs>\n",
       "<linearGradient id=\"clust2_l_1\" gradientUnits=\"userSpaceOnUse\" x1=\"1460.96\" y1=\"-646.25\" x2=\"1277.69\" y2=\"-646.25\" >\n",
       "<stop offset=\"0\" style=\"stop-color:#7f7f7f;stop-opacity:1.;\"/>\n",
       "<stop offset=\"1\" style=\"stop-color:#d9d9d9;stop-opacity:1.;\"/>\n",
       "</linearGradient>\n",
       "</defs>\n",
       "<polygon fill=\"url(#clust2_l_1)\" stroke=\"black\" points=\"1277.69,-258.25 1277.69,-1034.25 1460.96,-1034.25 1460.96,-258.25 1277.69,-258.25\"/>\n",
       "<text text-anchor=\"middle\" x=\"1369.32\" y=\"-1016.95\" font-family=\"Times,serif\" font-size=\"14.00\">Outputs</text>\n",
       "</g>\n",
       "<g id=\"clust3\" class=\"cluster\">\n",
       "<title>clusterwith_prebuiltstructure</title>\n",
       "<defs>\n",
       "<linearGradient id=\"clust3_l_2\" gradientUnits=\"userSpaceOnUse\" x1=\"331.56\" y1=\"-790.25\" x2=\"331.56\" y2=\"-1064.25\" >\n",
       "<stop offset=\"0\" style=\"stop-color:#17becf;stop-opacity:1.;\"/>\n",
       "<stop offset=\"1\" style=\"stop-color:#b9ecf1;stop-opacity:1.;\"/>\n",
       "</linearGradient>\n",
       "</defs>\n",
       "<polygon fill=\"url(#clust3_l_2)\" stroke=\"black\" points=\"178.47,-790.25 178.47,-1064.25 484.66,-1064.25 484.66,-790.25 178.47,-790.25\"/>\n",
       "<text text-anchor=\"middle\" x=\"331.56\" y=\"-1046.95\" font-family=\"Times,serif\" font-size=\"14.00\">structure: BulkStructure</text>\n",
       "</g>\n",
       "<g id=\"clust4\" class=\"cluster\">\n",
       "<title>clusterwith_prebuiltstructureInputs</title>\n",
       "<defs>\n",
       "<linearGradient id=\"clust4_l_3\" gradientUnits=\"userSpaceOnUse\" x1=\"186.47\" y1=\"-916.25\" x2=\"304.87\" y2=\"-916.25\" >\n",
       "<stop offset=\"0\" style=\"stop-color:#7f7f7f;stop-opacity:1.;\"/>\n",
       "<stop offset=\"1\" style=\"stop-color:#d9d9d9;stop-opacity:1.;\"/>\n",
       "</linearGradient>\n",
       "</defs>\n",
       "<polygon fill=\"url(#clust4_l_3)\" stroke=\"black\" points=\"186.47,-798.25 186.47,-1034.25 304.87,-1034.25 304.87,-798.25 186.47,-798.25\"/>\n",
       "<text text-anchor=\"middle\" x=\"245.67\" y=\"-1016.95\" font-family=\"Times,serif\" font-size=\"14.00\">Inputs</text>\n",
       "</g>\n",
       "<g id=\"clust5\" class=\"cluster\">\n",
       "<title>clusterwith_prebuiltstructureOutputs</title>\n",
       "<defs>\n",
       "<linearGradient id=\"clust5_l_4\" gradientUnits=\"userSpaceOnUse\" x1=\"476.66\" y1=\"-943.25\" x2=\"324.87\" y2=\"-943.25\" >\n",
       "<stop offset=\"0\" style=\"stop-color:#7f7f7f;stop-opacity:1.;\"/>\n",
       "<stop offset=\"1\" style=\"stop-color:#d9d9d9;stop-opacity:1.;\"/>\n",
       "</linearGradient>\n",
       "</defs>\n",
       "<polygon fill=\"url(#clust5_l_4)\" stroke=\"black\" points=\"324.87,-879.25 324.87,-1007.25 476.66,-1007.25 476.66,-879.25 324.87,-879.25\"/>\n",
       "<text text-anchor=\"middle\" x=\"400.76\" y=\"-989.95\" font-family=\"Times,serif\" font-size=\"14.00\">Outputs</text>\n",
       "</g>\n",
       "<g id=\"clust6\" class=\"cluster\">\n",
       "<title>clusterwith_prebuiltengine</title>\n",
       "<defs>\n",
       "<linearGradient id=\"clust6_l_5\" gradientUnits=\"userSpaceOnUse\" x1=\"658.63\" y1=\"-844.25\" x2=\"658.63\" y2=\"-1010.25\" >\n",
       "<stop offset=\"0\" style=\"stop-color:#17becf;stop-opacity:1.;\"/>\n",
       "<stop offset=\"1\" style=\"stop-color:#b9ecf1;stop-opacity:1.;\"/>\n",
       "</linearGradient>\n",
       "</defs>\n",
       "<polygon fill=\"url(#clust6_l_5)\" stroke=\"black\" points=\"492.66,-844.25 492.66,-1010.25 824.61,-1010.25 824.61,-844.25 492.66,-844.25\"/>\n",
       "<text text-anchor=\"middle\" x=\"658.63\" y=\"-992.95\" font-family=\"Times,serif\" font-size=\"14.00\">engine: Lammps</text>\n",
       "</g>\n",
       "<g id=\"clust7\" class=\"cluster\">\n",
       "<title>clusterwith_prebuiltengineInputs</title>\n",
       "<defs>\n",
       "<linearGradient id=\"clust7_l_6\" gradientUnits=\"userSpaceOnUse\" x1=\"500.66\" y1=\"-916.25\" x2=\"666.76\" y2=\"-916.25\" >\n",
       "<stop offset=\"0\" style=\"stop-color:#7f7f7f;stop-opacity:1.;\"/>\n",
       "<stop offset=\"1\" style=\"stop-color:#d9d9d9;stop-opacity:1.;\"/>\n",
       "</linearGradient>\n",
       "</defs>\n",
       "<polygon fill=\"url(#clust7_l_6)\" stroke=\"black\" points=\"500.66,-852.25 500.66,-980.25 666.76,-980.25 666.76,-852.25 500.66,-852.25\"/>\n",
       "<text text-anchor=\"middle\" x=\"583.71\" y=\"-962.95\" font-family=\"Times,serif\" font-size=\"14.00\">Inputs</text>\n",
       "</g>\n",
       "<g id=\"clust8\" class=\"cluster\">\n",
       "<title>clusterwith_prebuiltengineOutputs</title>\n",
       "<defs>\n",
       "<linearGradient id=\"clust8_l_7\" gradientUnits=\"userSpaceOnUse\" x1=\"816.61\" y1=\"-916.25\" x2=\"686.76\" y2=\"-916.25\" >\n",
       "<stop offset=\"0\" style=\"stop-color:#7f7f7f;stop-opacity:1.;\"/>\n",
       "<stop offset=\"1\" style=\"stop-color:#d9d9d9;stop-opacity:1.;\"/>\n",
       "</linearGradient>\n",
       "</defs>\n",
       "<polygon fill=\"url(#clust8_l_7)\" stroke=\"black\" points=\"686.76,-852.25 686.76,-980.25 816.61,-980.25 816.61,-852.25 686.76,-852.25\"/>\n",
       "<text text-anchor=\"middle\" x=\"751.69\" y=\"-962.95\" font-family=\"Times,serif\" font-size=\"14.00\">Outputs</text>\n",
       "</g>\n",
       "<g id=\"clust9\" class=\"cluster\">\n",
       "<title>clusterwith_prebuiltcalc</title>\n",
       "<defs>\n",
       "<linearGradient id=\"clust9_l_8\" gradientUnits=\"userSpaceOnUse\" x1=\"1049.15\" y1=\"-196.25\" x2=\"1049.15\" y2=\"-1064.25\" >\n",
       "<stop offset=\"0\" style=\"stop-color:#d62728;stop-opacity:1.;\"/>\n",
       "<stop offset=\"1\" style=\"stop-color:#f3bebe;stop-opacity:1.;\"/>\n",
       "</linearGradient>\n",
       "</defs>\n",
       "<polygon fill=\"url(#clust9_l_8)\" stroke=\"black\" points=\"832.61,-196.25 832.61,-1064.25 1265.69,-1064.25 1265.69,-196.25 832.61,-196.25\"/>\n",
       "<text text-anchor=\"middle\" x=\"1049.15\" y=\"-1046.95\" font-family=\"Times,serif\" font-size=\"14.00\">calc: CalcMd</text>\n",
       "</g>\n",
       "<g id=\"clust10\" class=\"cluster\">\n",
       "<title>clusterwith_prebuiltcalcInputs</title>\n",
       "<defs>\n",
       "<linearGradient id=\"clust10_l_9\" gradientUnits=\"userSpaceOnUse\" x1=\"840.61\" y1=\"-755.25\" x2=\"1054.41\" y2=\"-755.25\" >\n",
       "<stop offset=\"0\" style=\"stop-color:#7f7f7f;stop-opacity:1.;\"/>\n",
       "<stop offset=\"1\" style=\"stop-color:#d9d9d9;stop-opacity:1.;\"/>\n",
       "</linearGradient>\n",
       "</defs>\n",
       "<polygon fill=\"url(#clust10_l_9)\" stroke=\"black\" points=\"840.61,-583.25 840.61,-927.25 1054.41,-927.25 1054.41,-583.25 840.61,-583.25\"/>\n",
       "<text text-anchor=\"middle\" x=\"947.51\" y=\"-909.95\" font-family=\"Times,serif\" font-size=\"14.00\">Inputs</text>\n",
       "</g>\n",
       "<g id=\"clust11\" class=\"cluster\">\n",
       "<title>clusterwith_prebuiltcalcOutputs</title>\n",
       "<defs>\n",
       "<linearGradient id=\"clust11_l_10\" gradientUnits=\"userSpaceOnUse\" x1=\"1257.69\" y1=\"-619.25\" x2=\"1074.41\" y2=\"-619.25\" >\n",
       "<stop offset=\"0\" style=\"stop-color:#7f7f7f;stop-opacity:1.;\"/>\n",
       "<stop offset=\"1\" style=\"stop-color:#d9d9d9;stop-opacity:1.;\"/>\n",
       "</linearGradient>\n",
       "</defs>\n",
       "<polygon fill=\"url(#clust11_l_10)\" stroke=\"black\" points=\"1074.41,-204.25 1074.41,-1034.25 1257.69,-1034.25 1257.69,-204.25 1074.41,-204.25\"/>\n",
       "<text text-anchor=\"middle\" x=\"1166.05\" y=\"-1016.95\" font-family=\"Times,serif\" font-size=\"14.00\">Outputs</text>\n",
       "</g>\n",
       "<g id=\"clust12\" class=\"cluster\">\n",
       "<title>clusterwith_prebuiltplot</title>\n",
       "<defs>\n",
       "<linearGradient id=\"clust12_l_11\" gradientUnits=\"userSpaceOnUse\" x1=\"1435.79\" y1=\"-30.25\" x2=\"1435.79\" y2=\"-250.25\" >\n",
       "<stop offset=\"0\" style=\"stop-color:#17becf;stop-opacity:1.;\"/>\n",
       "<stop offset=\"1\" style=\"stop-color:#b9ecf1;stop-opacity:1.;\"/>\n",
       "</linearGradient>\n",
       "</defs>\n",
       "<polygon fill=\"url(#clust12_l_11)\" stroke=\"black\" points=\"1312.62,-30.25 1312.62,-250.25 1558.96,-250.25 1558.96,-30.25 1312.62,-30.25\"/>\n",
       "<text text-anchor=\"middle\" x=\"1435.79\" y=\"-232.95\" font-family=\"Times,serif\" font-size=\"14.00\">plot: Scatter</text>\n",
       "</g>\n",
       "<g id=\"clust13\" class=\"cluster\">\n",
       "<title>clusterwith_prebuiltplotInputs</title>\n",
       "<defs>\n",
       "<linearGradient id=\"clust13_l_12\" gradientUnits=\"userSpaceOnUse\" x1=\"1320.62\" y1=\"-129.25\" x2=\"1418.03\" y2=\"-129.25\" >\n",
       "<stop offset=\"0\" style=\"stop-color:#7f7f7f;stop-opacity:1.;\"/>\n",
       "<stop offset=\"1\" style=\"stop-color:#d9d9d9;stop-opacity:1.;\"/>\n",
       "</linearGradient>\n",
       "</defs>\n",
       "<polygon fill=\"url(#clust13_l_12)\" stroke=\"black\" points=\"1320.62,-38.25 1320.62,-220.25 1418.03,-220.25 1418.03,-38.25 1320.62,-38.25\"/>\n",
       "<text text-anchor=\"middle\" x=\"1369.32\" y=\"-202.95\" font-family=\"Times,serif\" font-size=\"14.00\">Inputs</text>\n",
       "</g>\n",
       "<g id=\"clust14\" class=\"cluster\">\n",
       "<title>clusterwith_prebuiltplotOutputs</title>\n",
       "<defs>\n",
       "<linearGradient id=\"clust14_l_13\" gradientUnits=\"userSpaceOnUse\" x1=\"1550.96\" y1=\"-156.25\" x2=\"1480.96\" y2=\"-156.25\" >\n",
       "<stop offset=\"0\" style=\"stop-color:#7f7f7f;stop-opacity:1.;\"/>\n",
       "<stop offset=\"1\" style=\"stop-color:#d9d9d9;stop-opacity:1.;\"/>\n",
       "</linearGradient>\n",
       "</defs>\n",
       "<polygon fill=\"url(#clust14_l_13)\" stroke=\"black\" points=\"1480.96,-92.25 1480.96,-220.25 1550.96,-220.25 1550.96,-92.25 1480.96,-92.25\"/>\n",
       "<text text-anchor=\"middle\" x=\"1515.96\" y=\"-202.95\" font-family=\"Times,serif\" font-size=\"14.00\">Outputs</text>\n",
       "</g>\n",
       "<!-- clusterwith_prebuiltInputsrun -->\n",
       "<g id=\"node1\" class=\"node\">\n",
       "<title>clusterwith_prebuiltInputsrun</title>\n",
       "<polygon fill=\"#1f77b4\" stroke=\"#1f77b4\" points=\"102.23,-999.25 60.23,-999.25 60.23,-975.25 102.23,-975.25 114.23,-987.25 102.23,-999.25\"/>\n",
       "<text text-anchor=\"middle\" x=\"87.23\" y=\"-981.08\" font-family=\"Times,serif\" font-size=\"14.00\">run</text>\n",
       "</g>\n",
       "<!-- clusterwith_prebuiltOutputsran -->\n",
       "<g id=\"node9\" class=\"node\">\n",
       "<title>clusterwith_prebuiltOutputsran</title>\n",
       "<polygon fill=\"#1f77b4\" stroke=\"#1f77b4\" points=\"1384.32,-998.25 1342.32,-998.25 1342.32,-974.25 1384.32,-974.25 1396.32,-986.25 1384.32,-998.25\"/>\n",
       "<text text-anchor=\"middle\" x=\"1369.32\" y=\"-980.08\" font-family=\"Times,serif\" font-size=\"14.00\">ran</text>\n",
       "</g>\n",
       "<!-- clusterwith_prebuiltInputsrun&#45;&gt;clusterwith_prebuiltOutputsran -->\n",
       "<!-- clusterwith_prebuiltInputselement -->\n",
       "<g id=\"node2\" class=\"node\">\n",
       "<title>clusterwith_prebuiltInputselement</title>\n",
       "<ellipse fill=\"#ff7f0e\" stroke=\"#ff7f0e\" cx=\"87.23\" cy=\"-825.25\" rx=\"51.2\" ry=\"18\"/>\n",
       "<text text-anchor=\"middle\" x=\"87.23\" y=\"-819.08\" font-family=\"Times,serif\" font-size=\"14.00\">element: str</text>\n",
       "</g>\n",
       "<!-- clusterwith_prebuiltstructureInputselement -->\n",
       "<g id=\"node24\" class=\"node\">\n",
       "<title>clusterwith_prebuiltstructureInputselement</title>\n",
       "<ellipse fill=\"#ff7f0e\" stroke=\"#ff7f0e\" cx=\"245.67\" cy=\"-824.25\" rx=\"51.2\" ry=\"18\"/>\n",
       "<text text-anchor=\"middle\" x=\"245.67\" y=\"-818.08\" font-family=\"Times,serif\" font-size=\"14.00\">element: str</text>\n",
       "</g>\n",
       "<!-- clusterwith_prebuiltInputselement&#45;&gt;clusterwith_prebuiltstructureInputselement -->\n",
       "<g id=\"edge10\" class=\"edge\">\n",
       "<title>clusterwith_prebuiltInputselement&#45;&gt;clusterwith_prebuiltstructureInputselement</title>\n",
       "<path fill=\"none\" stroke=\"#ff7f0e\" d=\"M138.59,-824.93C145.74,-824.88 153.25,-824.83 160.83,-824.79\"/>\n",
       "<path fill=\"none\" stroke=\"#ff7f0e\" d=\"M160.83,-824.79C168.41,-824.74 176.06,-824.69 183.5,-824.64\"/>\n",
       "<polygon fill=\"#ff7f0e\" stroke=\"#ff7f0e\" points=\"183.16,-828.14 193.14,-824.57 183.12,-821.14 183.16,-828.14\"/>\n",
       "</g>\n",
       "<!-- clusterwith_prebuiltInputscubic -->\n",
       "<g id=\"node3\" class=\"node\">\n",
       "<title>clusterwith_prebuiltInputscubic</title>\n",
       "<ellipse fill=\"#ff7f0e\" stroke=\"#ff7f0e\" cx=\"87.23\" cy=\"-933.25\" rx=\"48.81\" ry=\"18\"/>\n",
       "<text text-anchor=\"middle\" x=\"87.23\" y=\"-927.08\" font-family=\"Times,serif\" font-size=\"14.00\">cubic: bool</text>\n",
       "</g>\n",
       "<!-- clusterwith_prebuiltstructureInputscubic -->\n",
       "<g id=\"node25\" class=\"node\">\n",
       "<title>clusterwith_prebuiltstructureInputscubic</title>\n",
       "<ellipse fill=\"#ff7f0e\" stroke=\"#ff7f0e\" cx=\"245.67\" cy=\"-932.25\" rx=\"48.81\" ry=\"18\"/>\n",
       "<text text-anchor=\"middle\" x=\"245.67\" y=\"-926.08\" font-family=\"Times,serif\" font-size=\"14.00\">cubic: bool</text>\n",
       "</g>\n",
       "<!-- clusterwith_prebuiltInputscubic&#45;&gt;clusterwith_prebuiltstructureInputscubic -->\n",
       "<g id=\"edge11\" class=\"edge\">\n",
       "<title>clusterwith_prebuiltInputscubic&#45;&gt;clusterwith_prebuiltstructureInputscubic</title>\n",
       "<path fill=\"none\" stroke=\"#ff7f0e\" d=\"M136.45,-932.94C144.29,-932.89 152.61,-932.84 161.01,-932.78\"/>\n",
       "<path fill=\"none\" stroke=\"#ff7f0e\" d=\"M161.01,-932.78C169.41,-932.73 177.9,-932.68 186.08,-932.62\"/>\n",
       "<polygon fill=\"#ff7f0e\" stroke=\"#ff7f0e\" points=\"185.64,-936.12 195.62,-932.56 185.59,-929.12 185.64,-936.12\"/>\n",
       "</g>\n",
       "<!-- clusterwith_prebuiltInputsrepeat -->\n",
       "<g id=\"node4\" class=\"node\">\n",
       "<title>clusterwith_prebuiltInputsrepeat</title>\n",
       "<ellipse fill=\"#ff7f0e\" stroke=\"#ff7f0e\" cx=\"87.23\" cy=\"-879.25\" rx=\"45\" ry=\"18\"/>\n",
       "<text text-anchor=\"middle\" x=\"87.23\" y=\"-873.08\" font-family=\"Times,serif\" font-size=\"14.00\">repeat: int</text>\n",
       "</g>\n",
       "<!-- clusterwith_prebuiltstructureInputsrepeat -->\n",
       "<g id=\"node26\" class=\"node\">\n",
       "<title>clusterwith_prebuiltstructureInputsrepeat</title>\n",
       "<ellipse fill=\"#ff7f0e\" stroke=\"#ff7f0e\" cx=\"245.67\" cy=\"-878.25\" rx=\"45\" ry=\"18\"/>\n",
       "<text text-anchor=\"middle\" x=\"245.67\" y=\"-872.08\" font-family=\"Times,serif\" font-size=\"14.00\">repeat: int</text>\n",
       "</g>\n",
       "<!-- clusterwith_prebuiltInputsrepeat&#45;&gt;clusterwith_prebuiltstructureInputsrepeat -->\n",
       "<g id=\"edge12\" class=\"edge\">\n",
       "<title>clusterwith_prebuiltInputsrepeat&#45;&gt;clusterwith_prebuiltstructureInputsrepeat</title>\n",
       "<path fill=\"none\" stroke=\"#ff7f0e\" d=\"M132.64,-878.97C141.48,-878.91 151.02,-878.85 160.68,-878.79\"/>\n",
       "<path fill=\"none\" stroke=\"#ff7f0e\" d=\"M160.68,-878.79C170.34,-878.73 180.12,-878.66 189.42,-878.6\"/>\n",
       "<polygon fill=\"#ff7f0e\" stroke=\"#ff7f0e\" points=\"189.44,-882.1 199.42,-878.53 189.4,-875.1 189.44,-882.1\"/>\n",
       "</g>\n",
       "<!-- clusterwith_prebuiltInputsn_ionic_steps -->\n",
       "<g id=\"node5\" class=\"node\">\n",
       "<title>clusterwith_prebuiltInputsn_ionic_steps</title>\n",
       "<ellipse fill=\"#ff7f0e\" stroke=\"#ff7f0e\" cx=\"87.23\" cy=\"-717.25\" rx=\"71.23\" ry=\"18\"/>\n",
       "<text text-anchor=\"middle\" x=\"87.23\" y=\"-711.08\" font-family=\"Times,serif\" font-size=\"14.00\">n_ionic_steps: int</text>\n",
       "</g>\n",
       "<!-- clusterwith_prebuiltcalcInputsn_ionic_steps -->\n",
       "<g id=\"node35\" class=\"node\">\n",
       "<title>clusterwith_prebuiltcalcInputsn_ionic_steps</title>\n",
       "<ellipse fill=\"#ff7f0e\" stroke=\"#ff7f0e\" cx=\"947.51\" cy=\"-717.25\" rx=\"71.23\" ry=\"18\"/>\n",
       "<text text-anchor=\"middle\" x=\"947.51\" y=\"-711.08\" font-family=\"Times,serif\" font-size=\"14.00\">n_ionic_steps: int</text>\n",
       "</g>\n",
       "<!-- clusterwith_prebuiltInputsn_ionic_steps&#45;&gt;clusterwith_prebuiltcalcInputsn_ionic_steps -->\n",
       "<g id=\"edge13\" class=\"edge\">\n",
       "<title>clusterwith_prebuiltInputsn_ionic_steps&#45;&gt;clusterwith_prebuiltcalcInputsn_ionic_steps</title>\n",
       "<path fill=\"none\" stroke=\"#ff7f0e\" d=\"M158.76,-717.25C221.9,-717.25 317.01,-717.25 399.76,-717.25 399.76,-717.25 399.76,-717.25 440.86,-717.25\"/>\n",
       "<path fill=\"none\" stroke=\"#ff7f0e\" d=\"M440.86,-717.25C467.61,-717.25 511.78,-717.25 584.71,-717.25 680.9,-717.25 791.48,-717.25 864.81,-717.25\"/>\n",
       "<polygon fill=\"#ff7f0e\" stroke=\"#ff7f0e\" points=\"864.8,-720.75 874.8,-717.25 864.8,-713.75 864.8,-720.75\"/>\n",
       "</g>\n",
       "<!-- clusterwith_prebuiltInputsn_print -->\n",
       "<g id=\"node6\" class=\"node\">\n",
       "<title>clusterwith_prebuiltInputsn_print</title>\n",
       "<ellipse fill=\"#ff7f0e\" stroke=\"#ff7f0e\" cx=\"87.23\" cy=\"-663.25\" rx=\"48.81\" ry=\"18\"/>\n",
       "<text text-anchor=\"middle\" x=\"87.23\" y=\"-657.08\" font-family=\"Times,serif\" font-size=\"14.00\">n_print: int</text>\n",
       "</g>\n",
       "<!-- clusterwith_prebuiltcalcInputsn_print -->\n",
       "<g id=\"node36\" class=\"node\">\n",
       "<title>clusterwith_prebuiltcalcInputsn_print</title>\n",
       "<ellipse fill=\"#ff7f0e\" stroke=\"#ff7f0e\" cx=\"947.51\" cy=\"-663.25\" rx=\"48.81\" ry=\"18\"/>\n",
       "<text text-anchor=\"middle\" x=\"947.51\" y=\"-657.08\" font-family=\"Times,serif\" font-size=\"14.00\">n_print: int</text>\n",
       "</g>\n",
       "<!-- clusterwith_prebuiltInputsn_print&#45;&gt;clusterwith_prebuiltcalcInputsn_print -->\n",
       "<g id=\"edge14\" class=\"edge\">\n",
       "<title>clusterwith_prebuiltInputsn_print&#45;&gt;clusterwith_prebuiltcalcInputsn_print</title>\n",
       "<path fill=\"none\" stroke=\"#ff7f0e\" d=\"M136.53,-663.25C197.77,-663.25 306.6,-663.25 399.76,-663.25 399.76,-663.25 399.76,-663.25 441.19,-663.25\"/>\n",
       "<path fill=\"none\" stroke=\"#ff7f0e\" d=\"M441.19,-663.25C467.98,-663.25 512.08,-663.25 584.71,-663.25 691.51,-663.25 816.03,-663.25 887.63,-663.25\"/>\n",
       "<polygon fill=\"#ff7f0e\" stroke=\"#ff7f0e\" points=\"887.23,-666.75 897.23,-663.25 887.23,-659.75 887.23,-666.75\"/>\n",
       "</g>\n",
       "<!-- clusterwith_prebuiltInputstemperature -->\n",
       "<g id=\"node7\" class=\"node\">\n",
       "<title>clusterwith_prebuiltInputstemperature</title>\n",
       "<ellipse fill=\"#ff7f0e\" stroke=\"#ff7f0e\" cx=\"87.23\" cy=\"-609.25\" rx=\"51.68\" ry=\"18\"/>\n",
       "<text text-anchor=\"middle\" x=\"87.23\" y=\"-603.08\" font-family=\"Times,serif\" font-size=\"14.00\">temperature</text>\n",
       "</g>\n",
       "<!-- clusterwith_prebuiltcalcInputstemperature -->\n",
       "<g id=\"node37\" class=\"node\">\n",
       "<title>clusterwith_prebuiltcalcInputstemperature</title>\n",
       "<ellipse fill=\"#ff7f0e\" stroke=\"#ff7f0e\" cx=\"947.51\" cy=\"-609.25\" rx=\"51.68\" ry=\"18\"/>\n",
       "<text text-anchor=\"middle\" x=\"947.51\" y=\"-603.08\" font-family=\"Times,serif\" font-size=\"14.00\">temperature</text>\n",
       "</g>\n",
       "<!-- clusterwith_prebuiltInputstemperature&#45;&gt;clusterwith_prebuiltcalcInputstemperature -->\n",
       "<g id=\"edge15\" class=\"edge\">\n",
       "<title>clusterwith_prebuiltInputstemperature&#45;&gt;clusterwith_prebuiltcalcInputstemperature</title>\n",
       "<path fill=\"none\" stroke=\"#ff7f0e\" d=\"M139.23,-609.25C200.93,-609.25 307.96,-609.25 399.76,-609.25 399.76,-609.25 399.76,-609.25 441.17,-609.25\"/>\n",
       "<path fill=\"none\" stroke=\"#ff7f0e\" d=\"M441.17,-609.25C467.96,-609.25 512.07,-609.25 584.71,-609.25 690.16,-609.25 812.9,-609.25 884.9,-609.25\"/>\n",
       "<polygon fill=\"#ff7f0e\" stroke=\"#ff7f0e\" points=\"884.58,-612.75 894.58,-609.25 884.58,-605.75 884.58,-612.75\"/>\n",
       "</g>\n",
       "<!-- clusterwith_prebuiltInputspressure -->\n",
       "<g id=\"node8\" class=\"node\">\n",
       "<title>clusterwith_prebuiltInputspressure</title>\n",
       "<ellipse fill=\"#ff7f0e\" stroke=\"#ff7f0e\" cx=\"87.23\" cy=\"-771.25\" rx=\"38.8\" ry=\"18\"/>\n",
       "<text text-anchor=\"middle\" x=\"87.23\" y=\"-765.08\" font-family=\"Times,serif\" font-size=\"14.00\">pressure</text>\n",
       "</g>\n",
       "<!-- clusterwith_prebuiltcalcInputspressure -->\n",
       "<g id=\"node38\" class=\"node\">\n",
       "<title>clusterwith_prebuiltcalcInputspressure</title>\n",
       "<ellipse fill=\"#ff7f0e\" stroke=\"#ff7f0e\" cx=\"947.51\" cy=\"-771.25\" rx=\"38.8\" ry=\"18\"/>\n",
       "<text text-anchor=\"middle\" x=\"947.51\" y=\"-765.08\" font-family=\"Times,serif\" font-size=\"14.00\">pressure</text>\n",
       "</g>\n",
       "<!-- clusterwith_prebuiltInputspressure&#45;&gt;clusterwith_prebuiltcalcInputspressure -->\n",
       "<g id=\"edge16\" class=\"edge\">\n",
       "<title>clusterwith_prebuiltInputspressure&#45;&gt;clusterwith_prebuiltcalcInputspressure</title>\n",
       "<path fill=\"none\" stroke=\"#ff7f0e\" d=\"M126.12,-771.25C184.76,-771.25 301.06,-771.25 399.76,-771.25 399.76,-771.25 399.76,-771.25 440.95,-771.25\"/>\n",
       "<path fill=\"none\" stroke=\"#ff7f0e\" d=\"M440.95,-771.25C467.71,-771.25 511.86,-771.25 584.71,-771.25 696.65,-771.25 828.08,-771.25 897.61,-771.25\"/>\n",
       "<polygon fill=\"#ff7f0e\" stroke=\"#ff7f0e\" points=\"897.22,-774.75 907.22,-771.25 897.22,-767.75 897.22,-774.75\"/>\n",
       "</g>\n",
       "<!-- clusterwith_prebuiltOutputscells -->\n",
       "<g id=\"node10\" class=\"node\">\n",
       "<title>clusterwith_prebuiltOutputscells</title>\n",
       "<ellipse fill=\"#ff7f0e\" stroke=\"#ff7f0e\" cx=\"1369.32\" cy=\"-932.25\" rx=\"27\" ry=\"18\"/>\n",
       "<text text-anchor=\"middle\" x=\"1369.32\" y=\"-926.08\" font-family=\"Times,serif\" font-size=\"14.00\">cells</text>\n",
       "</g>\n",
       "<!-- clusterwith_prebuiltOutputsdisplacements -->\n",
       "<g id=\"node11\" class=\"node\">\n",
       "<title>clusterwith_prebuiltOutputsdisplacements</title>\n",
       "<ellipse fill=\"#ff7f0e\" stroke=\"#ff7f0e\" cx=\"1369.32\" cy=\"-878.25\" rx=\"59.31\" ry=\"18\"/>\n",
       "<text text-anchor=\"middle\" x=\"1369.32\" y=\"-872.08\" font-family=\"Times,serif\" font-size=\"14.00\">displacements</text>\n",
       "</g>\n",
       "<!-- clusterwith_prebuiltOutputsenergy_pot -->\n",
       "<g id=\"node12\" class=\"node\">\n",
       "<title>clusterwith_prebuiltOutputsenergy_pot</title>\n",
       "<ellipse fill=\"#ff7f0e\" stroke=\"#ff7f0e\" cx=\"1369.32\" cy=\"-824.25\" rx=\"48.81\" ry=\"18\"/>\n",
       "<text text-anchor=\"middle\" x=\"1369.32\" y=\"-818.08\" font-family=\"Times,serif\" font-size=\"14.00\">energy_pot</text>\n",
       "</g>\n",
       "<!-- clusterwith_prebuiltOutputsenergy_tot -->\n",
       "<g id=\"node13\" class=\"node\">\n",
       "<title>clusterwith_prebuiltOutputsenergy_tot</title>\n",
       "<ellipse fill=\"#ff7f0e\" stroke=\"#ff7f0e\" cx=\"1369.32\" cy=\"-770.25\" rx=\"46.91\" ry=\"18\"/>\n",
       "<text text-anchor=\"middle\" x=\"1369.32\" y=\"-764.08\" font-family=\"Times,serif\" font-size=\"14.00\">energy_tot</text>\n",
       "</g>\n",
       "<!-- clusterwith_prebuiltOutputsforce_max -->\n",
       "<g id=\"node14\" class=\"node\">\n",
       "<title>clusterwith_prebuiltOutputsforce_max</title>\n",
       "<ellipse fill=\"#ff7f0e\" stroke=\"#ff7f0e\" cx=\"1369.32\" cy=\"-716.25\" rx=\"47.38\" ry=\"18\"/>\n",
       "<text text-anchor=\"middle\" x=\"1369.32\" y=\"-710.08\" font-family=\"Times,serif\" font-size=\"14.00\">force_max</text>\n",
       "</g>\n",
       "<!-- clusterwith_prebuiltOutputsforces -->\n",
       "<g id=\"node15\" class=\"node\">\n",
       "<title>clusterwith_prebuiltOutputsforces</title>\n",
       "<ellipse fill=\"#ff7f0e\" stroke=\"#ff7f0e\" cx=\"1369.32\" cy=\"-662.25\" rx=\"31.17\" ry=\"18\"/>\n",
       "<text text-anchor=\"middle\" x=\"1369.32\" y=\"-656.08\" font-family=\"Times,serif\" font-size=\"14.00\">forces</text>\n",
       "</g>\n",
       "<!-- clusterwith_prebuiltOutputsindices -->\n",
       "<g id=\"node16\" class=\"node\">\n",
       "<title>clusterwith_prebuiltOutputsindices</title>\n",
       "<ellipse fill=\"#ff7f0e\" stroke=\"#ff7f0e\" cx=\"1369.32\" cy=\"-608.25\" rx=\"34.5\" ry=\"18\"/>\n",
       "<text text-anchor=\"middle\" x=\"1369.32\" y=\"-602.08\" font-family=\"Times,serif\" font-size=\"14.00\">indices</text>\n",
       "</g>\n",
       "<!-- clusterwith_prebuiltOutputspositions -->\n",
       "<g id=\"node17\" class=\"node\">\n",
       "<title>clusterwith_prebuiltOutputspositions</title>\n",
       "<ellipse fill=\"#ff7f0e\" stroke=\"#ff7f0e\" cx=\"1369.32\" cy=\"-554.25\" rx=\"41.18\" ry=\"18\"/>\n",
       "<text text-anchor=\"middle\" x=\"1369.32\" y=\"-548.08\" font-family=\"Times,serif\" font-size=\"14.00\">positions</text>\n",
       "</g>\n",
       "<!-- clusterwith_prebuiltOutputspressures -->\n",
       "<g id=\"node18\" class=\"node\">\n",
       "<title>clusterwith_prebuiltOutputspressures</title>\n",
       "<ellipse fill=\"#ff7f0e\" stroke=\"#ff7f0e\" cx=\"1369.32\" cy=\"-500.25\" rx=\"42.14\" ry=\"18\"/>\n",
       "<text text-anchor=\"middle\" x=\"1369.32\" y=\"-494.07\" font-family=\"Times,serif\" font-size=\"14.00\">pressures</text>\n",
       "</g>\n",
       "<!-- clusterwith_prebuiltOutputstotal_displacements -->\n",
       "<g id=\"node19\" class=\"node\">\n",
       "<title>clusterwith_prebuiltOutputstotal_displacements</title>\n",
       "<ellipse fill=\"#ff7f0e\" stroke=\"#ff7f0e\" cx=\"1369.32\" cy=\"-446.25\" rx=\"78.87\" ry=\"18\"/>\n",
       "<text text-anchor=\"middle\" x=\"1369.32\" y=\"-440.07\" font-family=\"Times,serif\" font-size=\"14.00\">total_displacements</text>\n",
       "</g>\n",
       "<!-- clusterwith_prebuiltOutputsunwrapped_positions -->\n",
       "<g id=\"node20\" class=\"node\">\n",
       "<title>clusterwith_prebuiltOutputsunwrapped_positions</title>\n",
       "<ellipse fill=\"#ff7f0e\" stroke=\"#ff7f0e\" cx=\"1369.32\" cy=\"-392.25\" rx=\"83.64\" ry=\"18\"/>\n",
       "<text text-anchor=\"middle\" x=\"1369.32\" y=\"-386.07\" font-family=\"Times,serif\" font-size=\"14.00\">unwrapped_positions</text>\n",
       "</g>\n",
       "<!-- clusterwith_prebuiltOutputsvolume -->\n",
       "<g id=\"node21\" class=\"node\">\n",
       "<title>clusterwith_prebuiltOutputsvolume</title>\n",
       "<ellipse fill=\"#ff7f0e\" stroke=\"#ff7f0e\" cx=\"1369.32\" cy=\"-338.25\" rx=\"36.41\" ry=\"18\"/>\n",
       "<text text-anchor=\"middle\" x=\"1369.32\" y=\"-332.07\" font-family=\"Times,serif\" font-size=\"14.00\">volume</text>\n",
       "</g>\n",
       "<!-- clusterwith_prebuiltOutputsfig -->\n",
       "<g id=\"node22\" class=\"node\">\n",
       "<title>clusterwith_prebuiltOutputsfig</title>\n",
       "<ellipse fill=\"#ff7f0e\" stroke=\"#ff7f0e\" cx=\"1369.32\" cy=\"-284.25\" rx=\"27\" ry=\"18\"/>\n",
       "<text text-anchor=\"middle\" x=\"1369.32\" y=\"-278.07\" font-family=\"Times,serif\" font-size=\"14.00\">fig</text>\n",
       "</g>\n",
       "<!-- clusterwith_prebuiltstructureInputsrun -->\n",
       "<g id=\"node23\" class=\"node\">\n",
       "<title>clusterwith_prebuiltstructureInputsrun</title>\n",
       "<polygon fill=\"#1f77b4\" stroke=\"#1f77b4\" points=\"260.67,-998.25 218.67,-998.25 218.67,-974.25 260.67,-974.25 272.67,-986.25 260.67,-998.25\"/>\n",
       "<text text-anchor=\"middle\" x=\"245.67\" y=\"-980.08\" font-family=\"Times,serif\" font-size=\"14.00\">run</text>\n",
       "</g>\n",
       "<!-- clusterwith_prebuiltstructureOutputsran -->\n",
       "<g id=\"node27\" class=\"node\">\n",
       "<title>clusterwith_prebuiltstructureOutputsran</title>\n",
       "<polygon fill=\"#1f77b4\" stroke=\"#1f77b4\" points=\"415.76,-971.25 373.76,-971.25 373.76,-947.25 415.76,-947.25 427.76,-959.25 415.76,-971.25\"/>\n",
       "<text text-anchor=\"middle\" x=\"400.76\" y=\"-953.08\" font-family=\"Times,serif\" font-size=\"14.00\">ran</text>\n",
       "</g>\n",
       "<!-- clusterwith_prebuiltstructureInputsrun&#45;&gt;clusterwith_prebuiltstructureOutputsran -->\n",
       "<!-- clusterwith_prebuiltstructureOutputsstructure -->\n",
       "<g id=\"node28\" class=\"node\">\n",
       "<title>clusterwith_prebuiltstructureOutputsstructure</title>\n",
       "<ellipse fill=\"#ff7f0e\" stroke=\"#ff7f0e\" cx=\"400.76\" cy=\"-905.25\" rx=\"67.9\" ry=\"18\"/>\n",
       "<text text-anchor=\"middle\" x=\"400.76\" y=\"-899.08\" font-family=\"Times,serif\" font-size=\"14.00\">structure: Atoms</text>\n",
       "</g>\n",
       "<!-- clusterwith_prebuiltengineInputsstructure -->\n",
       "<g id=\"node30\" class=\"node\">\n",
       "<title>clusterwith_prebuiltengineInputsstructure</title>\n",
       "<ellipse fill=\"#ff7f0e\" stroke=\"#ff7f0e\" cx=\"583.71\" cy=\"-878.25\" rx=\"75.05\" ry=\"18\"/>\n",
       "<text text-anchor=\"middle\" x=\"583.71\" y=\"-872.08\" font-family=\"Times,serif\" font-size=\"14.00\">structure: Optional</text>\n",
       "</g>\n",
       "<!-- clusterwith_prebuiltstructureOutputsstructure&#45;&gt;clusterwith_prebuiltengineInputsstructure -->\n",
       "<g id=\"edge6\" class=\"edge\">\n",
       "<title>clusterwith_prebuiltstructureOutputsstructure&#45;&gt;clusterwith_prebuiltengineInputsstructure</title>\n",
       "<path fill=\"none\" stroke=\"#ff7f0e\" d=\"M460.51,-896.48C468.1,-895.35 476.03,-894.17 484.04,-892.97\"/>\n",
       "<path fill=\"none\" stroke=\"#ff7f0e\" d=\"M484.04,-892.97C492.06,-891.78 500.16,-890.57 508.1,-889.38\"/>\n",
       "<polygon fill=\"#ff7f0e\" stroke=\"#ff7f0e\" points=\"508.57,-892.7 517.95,-887.76 507.54,-885.78 508.57,-892.7\"/>\n",
       "</g>\n",
       "<!-- clusterwith_prebuiltengineInputsrun -->\n",
       "<g id=\"node29\" class=\"node\">\n",
       "<title>clusterwith_prebuiltengineInputsrun</title>\n",
       "<polygon fill=\"#1f77b4\" stroke=\"#1f77b4\" points=\"598.71,-944.25 556.71,-944.25 556.71,-920.25 598.71,-920.25 610.71,-932.25 598.71,-944.25\"/>\n",
       "<text text-anchor=\"middle\" x=\"583.71\" y=\"-926.08\" font-family=\"Times,serif\" font-size=\"14.00\">run</text>\n",
       "</g>\n",
       "<!-- clusterwith_prebuiltengineOutputsran -->\n",
       "<g id=\"node31\" class=\"node\">\n",
       "<title>clusterwith_prebuiltengineOutputsran</title>\n",
       "<polygon fill=\"#1f77b4\" stroke=\"#1f77b4\" points=\"766.69,-944.25 724.69,-944.25 724.69,-920.25 766.69,-920.25 778.69,-932.25 766.69,-944.25\"/>\n",
       "<text text-anchor=\"middle\" x=\"751.69\" y=\"-926.08\" font-family=\"Times,serif\" font-size=\"14.00\">ran</text>\n",
       "</g>\n",
       "<!-- clusterwith_prebuiltengineInputsrun&#45;&gt;clusterwith_prebuiltengineOutputsran -->\n",
       "<!-- clusterwith_prebuiltengineOutputsjob -->\n",
       "<g id=\"node32\" class=\"node\">\n",
       "<title>clusterwith_prebuiltengineOutputsjob</title>\n",
       "<ellipse fill=\"#ff7f0e\" stroke=\"#ff7f0e\" cx=\"751.69\" cy=\"-878.25\" rx=\"56.92\" ry=\"18\"/>\n",
       "<text text-anchor=\"middle\" x=\"751.69\" y=\"-872.08\" font-family=\"Times,serif\" font-size=\"14.00\">job: Lammps</text>\n",
       "</g>\n",
       "<!-- clusterwith_prebuiltcalcInputsjob -->\n",
       "<g id=\"node34\" class=\"node\">\n",
       "<title>clusterwith_prebuiltcalcInputsjob</title>\n",
       "<ellipse fill=\"#ff7f0e\" stroke=\"#ff7f0e\" cx=\"947.51\" cy=\"-825.25\" rx=\"98.9\" ry=\"18\"/>\n",
       "<text text-anchor=\"middle\" x=\"947.51\" y=\"-819.08\" font-family=\"Times,serif\" font-size=\"14.00\">job: AtomisticGenericJob</text>\n",
       "</g>\n",
       "<!-- clusterwith_prebuiltengineOutputsjob&#45;&gt;clusterwith_prebuiltcalcInputsjob -->\n",
       "<g id=\"edge7\" class=\"edge\">\n",
       "<title>clusterwith_prebuiltengineOutputsjob&#45;&gt;clusterwith_prebuiltcalcInputsjob</title>\n",
       "<path fill=\"none\" stroke=\"#ff7f0e\" d=\"M791.11,-865.05C803.9,-860.83 818.3,-856.29 831.66,-852.52\"/>\n",
       "<path fill=\"none\" stroke=\"#ff7f0e\" d=\"M831.66,-852.52C831.98,-852.43 832.29,-852.34 832.61,-852.25 845.5,-848.63 859.3,-845.09 872.69,-841.82\"/>\n",
       "<polygon fill=\"#ff7f0e\" stroke=\"#ff7f0e\" points=\"873.41,-845 882.31,-839.26 871.77,-838.2 873.41,-845\"/>\n",
       "</g>\n",
       "<!-- clusterwith_prebuiltcalcInputsrun -->\n",
       "<g id=\"node33\" class=\"node\">\n",
       "<title>clusterwith_prebuiltcalcInputsrun</title>\n",
       "<polygon fill=\"#1f77b4\" stroke=\"#1f77b4\" points=\"962.51,-891.25 920.51,-891.25 920.51,-867.25 962.51,-867.25 974.51,-879.25 962.51,-891.25\"/>\n",
       "<text text-anchor=\"middle\" x=\"947.51\" y=\"-873.08\" font-family=\"Times,serif\" font-size=\"14.00\">run</text>\n",
       "</g>\n",
       "<!-- clusterwith_prebuiltcalcOutputsran -->\n",
       "<g id=\"node39\" class=\"node\">\n",
       "<title>clusterwith_prebuiltcalcOutputsran</title>\n",
       "<polygon fill=\"#1f77b4\" stroke=\"#1f77b4\" points=\"1181.05,-998.25 1139.05,-998.25 1139.05,-974.25 1181.05,-974.25 1193.05,-986.25 1181.05,-998.25\"/>\n",
       "<text text-anchor=\"middle\" x=\"1166.05\" y=\"-980.08\" font-family=\"Times,serif\" font-size=\"14.00\">ran</text>\n",
       "</g>\n",
       "<!-- clusterwith_prebuiltcalcInputsrun&#45;&gt;clusterwith_prebuiltcalcOutputsran -->\n",
       "<!-- clusterwith_prebuiltcalcOutputscells -->\n",
       "<g id=\"node40\" class=\"node\">\n",
       "<title>clusterwith_prebuiltcalcOutputscells</title>\n",
       "<ellipse fill=\"#ff7f0e\" stroke=\"#ff7f0e\" cx=\"1166.05\" cy=\"-932.25\" rx=\"27\" ry=\"18\"/>\n",
       "<text text-anchor=\"middle\" x=\"1166.05\" y=\"-926.08\" font-family=\"Times,serif\" font-size=\"14.00\">cells</text>\n",
       "</g>\n",
       "<!-- clusterwith_prebuiltcalcOutputscells&#45;&gt;clusterwith_prebuiltOutputscells -->\n",
       "<g id=\"edge17\" class=\"edge\">\n",
       "<title>clusterwith_prebuiltcalcOutputscells&#45;&gt;clusterwith_prebuiltOutputscells</title>\n",
       "<path fill=\"none\" stroke=\"#ff7f0e\" d=\"M1193.36,-932.25C1210.96,-932.25 1235.39,-932.25 1260.43,-932.25\"/>\n",
       "<path fill=\"none\" stroke=\"#ff7f0e\" d=\"M1260.43,-932.25C1285.47,-932.25 1311.11,-932.25 1331.12,-932.25\"/>\n",
       "<polygon fill=\"#ff7f0e\" stroke=\"#ff7f0e\" points=\"1331,-935.75 1341,-932.25 1331,-928.75 1331,-935.75\"/>\n",
       "</g>\n",
       "<!-- clusterwith_prebuiltcalcOutputsdisplacements -->\n",
       "<g id=\"node41\" class=\"node\">\n",
       "<title>clusterwith_prebuiltcalcOutputsdisplacements</title>\n",
       "<ellipse fill=\"#ff7f0e\" stroke=\"#ff7f0e\" cx=\"1166.05\" cy=\"-878.25\" rx=\"59.31\" ry=\"18\"/>\n",
       "<text text-anchor=\"middle\" x=\"1166.05\" y=\"-872.08\" font-family=\"Times,serif\" font-size=\"14.00\">displacements</text>\n",
       "</g>\n",
       "<!-- clusterwith_prebuiltcalcOutputsdisplacements&#45;&gt;clusterwith_prebuiltOutputsdisplacements -->\n",
       "<g id=\"edge18\" class=\"edge\">\n",
       "<title>clusterwith_prebuiltcalcOutputsdisplacements&#45;&gt;clusterwith_prebuiltOutputsdisplacements</title>\n",
       "<path fill=\"none\" stroke=\"#ff7f0e\" d=\"M1225.81,-878.25C1237.28,-878.25 1249.63,-878.25 1262.1,-878.25\"/>\n",
       "<path fill=\"none\" stroke=\"#ff7f0e\" d=\"M1262.1,-878.25C1274.57,-878.25 1287.16,-878.25 1299.09,-878.25\"/>\n",
       "<polygon fill=\"#ff7f0e\" stroke=\"#ff7f0e\" points=\"1298.84,-881.75 1308.84,-878.25 1298.84,-874.75 1298.84,-881.75\"/>\n",
       "</g>\n",
       "<!-- clusterwith_prebuiltcalcOutputsenergy_pot -->\n",
       "<g id=\"node42\" class=\"node\">\n",
       "<title>clusterwith_prebuiltcalcOutputsenergy_pot</title>\n",
       "<ellipse fill=\"#ff7f0e\" stroke=\"#ff7f0e\" cx=\"1166.05\" cy=\"-824.25\" rx=\"48.81\" ry=\"18\"/>\n",
       "<text text-anchor=\"middle\" x=\"1166.05\" y=\"-818.08\" font-family=\"Times,serif\" font-size=\"14.00\">energy_pot</text>\n",
       "</g>\n",
       "<!-- clusterwith_prebuiltcalcOutputsenergy_pot&#45;&gt;clusterwith_prebuiltOutputsenergy_pot -->\n",
       "<g id=\"edge19\" class=\"edge\">\n",
       "<title>clusterwith_prebuiltcalcOutputsenergy_pot&#45;&gt;clusterwith_prebuiltOutputsenergy_pot</title>\n",
       "<path fill=\"none\" stroke=\"#ff7f0e\" d=\"M1215.26,-824.25C1229.4,-824.25 1245.45,-824.25 1261.72,-824.25\"/>\n",
       "<path fill=\"none\" stroke=\"#ff7f0e\" d=\"M1261.72,-824.25C1277.98,-824.25 1294.45,-824.25 1309.42,-824.25\"/>\n",
       "<polygon fill=\"#ff7f0e\" stroke=\"#ff7f0e\" points=\"1309.16,-827.75 1319.16,-824.25 1309.16,-820.75 1309.16,-827.75\"/>\n",
       "</g>\n",
       "<!-- clusterwith_prebuiltcalcOutputsenergy_tot -->\n",
       "<g id=\"node43\" class=\"node\">\n",
       "<title>clusterwith_prebuiltcalcOutputsenergy_tot</title>\n",
       "<ellipse fill=\"#ff7f0e\" stroke=\"#ff7f0e\" cx=\"1166.05\" cy=\"-770.25\" rx=\"46.91\" ry=\"18\"/>\n",
       "<text text-anchor=\"middle\" x=\"1166.05\" y=\"-764.08\" font-family=\"Times,serif\" font-size=\"14.00\">energy_tot</text>\n",
       "</g>\n",
       "<!-- clusterwith_prebuiltcalcOutputsenergy_tot&#45;&gt;clusterwith_prebuiltOutputsenergy_tot -->\n",
       "<g id=\"edge20\" class=\"edge\">\n",
       "<title>clusterwith_prebuiltcalcOutputsenergy_tot&#45;&gt;clusterwith_prebuiltOutputsenergy_tot</title>\n",
       "<path fill=\"none\" stroke=\"#ff7f0e\" d=\"M1213.23,-770.25C1227.81,-770.25 1244.58,-770.25 1261.59,-770.25\"/>\n",
       "<path fill=\"none\" stroke=\"#ff7f0e\" d=\"M1261.59,-770.25C1278.59,-770.25 1295.83,-770.25 1311.35,-770.25\"/>\n",
       "<polygon fill=\"#ff7f0e\" stroke=\"#ff7f0e\" points=\"1311.01,-773.75 1321.01,-770.25 1311.01,-766.75 1311.01,-773.75\"/>\n",
       "</g>\n",
       "<!-- clusterwith_prebuiltcalcOutputsforce_max -->\n",
       "<g id=\"node44\" class=\"node\">\n",
       "<title>clusterwith_prebuiltcalcOutputsforce_max</title>\n",
       "<ellipse fill=\"#ff7f0e\" stroke=\"#ff7f0e\" cx=\"1166.05\" cy=\"-716.25\" rx=\"47.38\" ry=\"18\"/>\n",
       "<text text-anchor=\"middle\" x=\"1166.05\" y=\"-710.08\" font-family=\"Times,serif\" font-size=\"14.00\">force_max</text>\n",
       "</g>\n",
       "<!-- clusterwith_prebuiltcalcOutputsforce_max&#45;&gt;clusterwith_prebuiltOutputsforce_max -->\n",
       "<g id=\"edge21\" class=\"edge\">\n",
       "<title>clusterwith_prebuiltcalcOutputsforce_max&#45;&gt;clusterwith_prebuiltOutputsforce_max</title>\n",
       "<path fill=\"none\" stroke=\"#ff7f0e\" d=\"M1213.73,-716.25C1228.16,-716.25 1244.69,-716.25 1261.45,-716.25\"/>\n",
       "<path fill=\"none\" stroke=\"#ff7f0e\" d=\"M1261.45,-716.25C1278.21,-716.25 1295.2,-716.25 1310.56,-716.25\"/>\n",
       "<polygon fill=\"#ff7f0e\" stroke=\"#ff7f0e\" points=\"1310.55,-719.75 1320.55,-716.25 1310.55,-712.75 1310.55,-719.75\"/>\n",
       "</g>\n",
       "<!-- clusterwith_prebuiltcalcOutputsforces -->\n",
       "<g id=\"node45\" class=\"node\">\n",
       "<title>clusterwith_prebuiltcalcOutputsforces</title>\n",
       "<ellipse fill=\"#ff7f0e\" stroke=\"#ff7f0e\" cx=\"1166.05\" cy=\"-662.25\" rx=\"31.17\" ry=\"18\"/>\n",
       "<text text-anchor=\"middle\" x=\"1166.05\" y=\"-656.08\" font-family=\"Times,serif\" font-size=\"14.00\">forces</text>\n",
       "</g>\n",
       "<!-- clusterwith_prebuiltcalcOutputsforces&#45;&gt;clusterwith_prebuiltOutputsforces -->\n",
       "<g id=\"edge22\" class=\"edge\">\n",
       "<title>clusterwith_prebuiltcalcOutputsforces&#45;&gt;clusterwith_prebuiltOutputsforces</title>\n",
       "<path fill=\"none\" stroke=\"#ff7f0e\" d=\"M1197.62,-662.25C1214.89,-662.25 1237.61,-662.25 1260.83,-662.25\"/>\n",
       "<path fill=\"none\" stroke=\"#ff7f0e\" d=\"M1260.83,-662.25C1284.05,-662.25 1307.75,-662.25 1326.98,-662.25\"/>\n",
       "<polygon fill=\"#ff7f0e\" stroke=\"#ff7f0e\" points=\"1326.8,-665.75 1336.8,-662.25 1326.8,-658.75 1326.8,-665.75\"/>\n",
       "</g>\n",
       "<!-- clusterwith_prebuiltcalcOutputsindices -->\n",
       "<g id=\"node46\" class=\"node\">\n",
       "<title>clusterwith_prebuiltcalcOutputsindices</title>\n",
       "<ellipse fill=\"#ff7f0e\" stroke=\"#ff7f0e\" cx=\"1166.05\" cy=\"-608.25\" rx=\"34.5\" ry=\"18\"/>\n",
       "<text text-anchor=\"middle\" x=\"1166.05\" y=\"-602.08\" font-family=\"Times,serif\" font-size=\"14.00\">indices</text>\n",
       "</g>\n",
       "<!-- clusterwith_prebuiltcalcOutputsindices&#45;&gt;clusterwith_prebuiltOutputsindices -->\n",
       "<g id=\"edge23\" class=\"edge\">\n",
       "<title>clusterwith_prebuiltcalcOutputsindices&#45;&gt;clusterwith_prebuiltOutputsindices</title>\n",
       "<path fill=\"none\" stroke=\"#ff7f0e\" d=\"M1200.74,-608.25C1217.65,-608.25 1239.17,-608.25 1261.11,-608.25\"/>\n",
       "<path fill=\"none\" stroke=\"#ff7f0e\" d=\"M1261.11,-608.25C1283.05,-608.25 1305.41,-608.25 1323.99,-608.25\"/>\n",
       "<polygon fill=\"#ff7f0e\" stroke=\"#ff7f0e\" points=\"1323.53,-611.75 1333.53,-608.25 1323.53,-604.75 1323.53,-611.75\"/>\n",
       "</g>\n",
       "<!-- clusterwith_prebuiltcalcOutputspositions -->\n",
       "<g id=\"node47\" class=\"node\">\n",
       "<title>clusterwith_prebuiltcalcOutputspositions</title>\n",
       "<ellipse fill=\"#ff7f0e\" stroke=\"#ff7f0e\" cx=\"1166.05\" cy=\"-554.25\" rx=\"41.18\" ry=\"18\"/>\n",
       "<text text-anchor=\"middle\" x=\"1166.05\" y=\"-548.08\" font-family=\"Times,serif\" font-size=\"14.00\">positions</text>\n",
       "</g>\n",
       "<!-- clusterwith_prebuiltcalcOutputspositions&#45;&gt;clusterwith_prebuiltOutputspositions -->\n",
       "<g id=\"edge24\" class=\"edge\">\n",
       "<title>clusterwith_prebuiltcalcOutputspositions&#45;&gt;clusterwith_prebuiltOutputspositions</title>\n",
       "<path fill=\"none\" stroke=\"#ff7f0e\" d=\"M1207.3,-554.25C1223.08,-554.25 1242.02,-554.25 1261.26,-554.25\"/>\n",
       "<path fill=\"none\" stroke=\"#ff7f0e\" d=\"M1261.26,-554.25C1280.51,-554.25 1300.07,-554.25 1317.12,-554.25\"/>\n",
       "<polygon fill=\"#ff7f0e\" stroke=\"#ff7f0e\" points=\"1316.8,-557.75 1326.8,-554.25 1316.8,-550.75 1316.8,-557.75\"/>\n",
       "</g>\n",
       "<!-- clusterwith_prebuiltcalcOutputspressures -->\n",
       "<g id=\"node48\" class=\"node\">\n",
       "<title>clusterwith_prebuiltcalcOutputspressures</title>\n",
       "<ellipse fill=\"#ff7f0e\" stroke=\"#ff7f0e\" cx=\"1166.05\" cy=\"-500.25\" rx=\"42.14\" ry=\"18\"/>\n",
       "<text text-anchor=\"middle\" x=\"1166.05\" y=\"-494.07\" font-family=\"Times,serif\" font-size=\"14.00\">pressures</text>\n",
       "</g>\n",
       "<!-- clusterwith_prebuiltcalcOutputspressures&#45;&gt;clusterwith_prebuiltOutputspressures -->\n",
       "<g id=\"edge25\" class=\"edge\">\n",
       "<title>clusterwith_prebuiltcalcOutputspressures&#45;&gt;clusterwith_prebuiltOutputspressures</title>\n",
       "<path fill=\"none\" stroke=\"#ff7f0e\" d=\"M1208.27,-500.25C1223.82,-500.25 1242.32,-500.25 1261.13,-500.25\"/>\n",
       "<path fill=\"none\" stroke=\"#ff7f0e\" d=\"M1261.13,-500.25C1279.93,-500.25 1299.05,-500.25 1315.83,-500.25\"/>\n",
       "<polygon fill=\"#ff7f0e\" stroke=\"#ff7f0e\" points=\"1315.82,-503.75 1325.82,-500.25 1315.82,-496.75 1315.82,-503.75\"/>\n",
       "</g>\n",
       "<!-- clusterwith_prebuiltcalcOutputssteps -->\n",
       "<g id=\"node49\" class=\"node\">\n",
       "<title>clusterwith_prebuiltcalcOutputssteps</title>\n",
       "<ellipse fill=\"#ff7f0e\" stroke=\"#ff7f0e\" cx=\"1166.05\" cy=\"-284.25\" rx=\"27.35\" ry=\"18\"/>\n",
       "<text text-anchor=\"middle\" x=\"1166.05\" y=\"-278.07\" font-family=\"Times,serif\" font-size=\"14.00\">steps</text>\n",
       "</g>\n",
       "<!-- clusterwith_prebuiltplotInputsx -->\n",
       "<g id=\"node55\" class=\"node\">\n",
       "<title>clusterwith_prebuiltplotInputsx</title>\n",
       "<ellipse fill=\"#ff7f0e\" stroke=\"#ff7f0e\" cx=\"1369.32\" cy=\"-118.25\" rx=\"40.71\" ry=\"18\"/>\n",
       "<text text-anchor=\"middle\" x=\"1369.32\" y=\"-112.08\" font-family=\"Times,serif\" font-size=\"14.00\">x: Union</text>\n",
       "</g>\n",
       "<!-- clusterwith_prebuiltcalcOutputssteps&#45;&gt;clusterwith_prebuiltplotInputsx -->\n",
       "<g id=\"edge8\" class=\"edge\">\n",
       "<title>clusterwith_prebuiltcalcOutputssteps&#45;&gt;clusterwith_prebuiltplotInputsx</title>\n",
       "<path fill=\"none\" stroke=\"#ff7f0e\" d=\"M1193.55,-284.7C1216.29,-283.54 1248.08,-277.94 1265.69,-257.25 1278.52,-242.18 1278.07,-227.53 1274.82,-212.95\"/>\n",
       "<path fill=\"none\" stroke=\"#ff7f0e\" d=\"M1274.82,-212.95C1269.85,-190.65 1258.33,-168.52 1277.69,-145.25 1287.76,-133.15 1303,-126.33 1318.12,-122.52\"/>\n",
       "<polygon fill=\"#ff7f0e\" stroke=\"#ff7f0e\" points=\"1318.44,-125.82 1327.51,-120.35 1317,-118.97 1318.44,-125.82\"/>\n",
       "</g>\n",
       "<!-- clusterwith_prebuiltcalcOutputstemperature -->\n",
       "<g id=\"node50\" class=\"node\">\n",
       "<title>clusterwith_prebuiltcalcOutputstemperature</title>\n",
       "<ellipse fill=\"#ff7f0e\" stroke=\"#ff7f0e\" cx=\"1166.05\" cy=\"-230.25\" rx=\"51.68\" ry=\"18\"/>\n",
       "<text text-anchor=\"middle\" x=\"1166.05\" y=\"-224.07\" font-family=\"Times,serif\" font-size=\"14.00\">temperature</text>\n",
       "</g>\n",
       "<!-- clusterwith_prebuiltplotInputsy -->\n",
       "<g id=\"node56\" class=\"node\">\n",
       "<title>clusterwith_prebuiltplotInputsy</title>\n",
       "<ellipse fill=\"#ff7f0e\" stroke=\"#ff7f0e\" cx=\"1369.32\" cy=\"-64.25\" rx=\"40.71\" ry=\"18\"/>\n",
       "<text text-anchor=\"middle\" x=\"1369.32\" y=\"-58.08\" font-family=\"Times,serif\" font-size=\"14.00\">y: Union</text>\n",
       "</g>\n",
       "<!-- clusterwith_prebuiltcalcOutputstemperature&#45;&gt;clusterwith_prebuiltplotInputsy -->\n",
       "<g id=\"edge9\" class=\"edge\">\n",
       "<title>clusterwith_prebuiltcalcOutputstemperature&#45;&gt;clusterwith_prebuiltplotInputsy</title>\n",
       "<path fill=\"none\" stroke=\"#ff7f0e\" d=\"M1176.41,-212.44C1187.03,-193.35 1206.17,-161.95 1231.23,-133.39\"/>\n",
       "<path fill=\"none\" stroke=\"#ff7f0e\" d=\"M1231.23,-133.39C1245.06,-117.63 1260.69,-102.73 1277.69,-91.25 1290.28,-82.75 1305.61,-76.86 1320.06,-72.82\"/>\n",
       "<polygon fill=\"#ff7f0e\" stroke=\"#ff7f0e\" points=\"1320.54,-76.05 1329.37,-70.18 1318.81,-69.27 1320.54,-76.05\"/>\n",
       "</g>\n",
       "<!-- clusterwith_prebuiltcalcOutputstotal_displacements -->\n",
       "<g id=\"node51\" class=\"node\">\n",
       "<title>clusterwith_prebuiltcalcOutputstotal_displacements</title>\n",
       "<ellipse fill=\"#ff7f0e\" stroke=\"#ff7f0e\" cx=\"1166.05\" cy=\"-446.25\" rx=\"78.87\" ry=\"18\"/>\n",
       "<text text-anchor=\"middle\" x=\"1166.05\" y=\"-440.07\" font-family=\"Times,serif\" font-size=\"14.00\">total_displacements</text>\n",
       "</g>\n",
       "<!-- clusterwith_prebuiltcalcOutputstotal_displacements&#45;&gt;clusterwith_prebuiltOutputstotal_displacements -->\n",
       "<g id=\"edge26\" class=\"edge\">\n",
       "<title>clusterwith_prebuiltcalcOutputstotal_displacements&#45;&gt;clusterwith_prebuiltOutputstotal_displacements</title>\n",
       "<path fill=\"none\" stroke=\"#ff7f0e\" d=\"M1245.16,-446.25C1250.77,-446.25 1256.48,-446.25 1262.21,-446.25\"/>\n",
       "<path fill=\"none\" stroke=\"#ff7f0e\" d=\"M1262.21,-446.25C1267.94,-446.25 1273.7,-446.25 1279.4,-446.25\"/>\n",
       "<polygon fill=\"#ff7f0e\" stroke=\"#ff7f0e\" points=\"1279.26,-449.75 1289.26,-446.25 1279.26,-442.75 1279.26,-449.75\"/>\n",
       "</g>\n",
       "<!-- clusterwith_prebuiltcalcOutputsunwrapped_positions -->\n",
       "<g id=\"node52\" class=\"node\">\n",
       "<title>clusterwith_prebuiltcalcOutputsunwrapped_positions</title>\n",
       "<ellipse fill=\"#ff7f0e\" stroke=\"#ff7f0e\" cx=\"1166.05\" cy=\"-392.25\" rx=\"83.64\" ry=\"18\"/>\n",
       "<text text-anchor=\"middle\" x=\"1166.05\" y=\"-386.07\" font-family=\"Times,serif\" font-size=\"14.00\">unwrapped_positions</text>\n",
       "</g>\n",
       "<!-- clusterwith_prebuiltcalcOutputsunwrapped_positions&#45;&gt;clusterwith_prebuiltOutputsunwrapped_positions -->\n",
       "<g id=\"edge27\" class=\"edge\">\n",
       "<title>clusterwith_prebuiltcalcOutputsunwrapped_positions&#45;&gt;clusterwith_prebuiltOutputsunwrapped_positions</title>\n",
       "<path fill=\"none\" stroke=\"#ff7f0e\" d=\"M1250.08,-392.25C1254.14,-392.25 1258.25,-392.25 1262.37,-392.25\"/>\n",
       "<path fill=\"none\" stroke=\"#ff7f0e\" d=\"M1262.37,-392.25C1266.48,-392.25 1270.61,-392.25 1274.73,-392.25\"/>\n",
       "<polygon fill=\"#ff7f0e\" stroke=\"#ff7f0e\" points=\"1274.49,-395.75 1284.49,-392.25 1274.49,-388.75 1274.49,-395.75\"/>\n",
       "</g>\n",
       "<!-- clusterwith_prebuiltcalcOutputsvolume -->\n",
       "<g id=\"node53\" class=\"node\">\n",
       "<title>clusterwith_prebuiltcalcOutputsvolume</title>\n",
       "<ellipse fill=\"#ff7f0e\" stroke=\"#ff7f0e\" cx=\"1166.05\" cy=\"-338.25\" rx=\"36.41\" ry=\"18\"/>\n",
       "<text text-anchor=\"middle\" x=\"1166.05\" y=\"-332.07\" font-family=\"Times,serif\" font-size=\"14.00\">volume</text>\n",
       "</g>\n",
       "<!-- clusterwith_prebuiltcalcOutputsvolume&#45;&gt;clusterwith_prebuiltOutputsvolume -->\n",
       "<g id=\"edge28\" class=\"edge\">\n",
       "<title>clusterwith_prebuiltcalcOutputsvolume&#45;&gt;clusterwith_prebuiltOutputsvolume</title>\n",
       "<path fill=\"none\" stroke=\"#ff7f0e\" d=\"M1202.57,-338.25C1219.14,-338.25 1239.83,-338.25 1260.93,-338.25\"/>\n",
       "<path fill=\"none\" stroke=\"#ff7f0e\" d=\"M1260.93,-338.25C1282.02,-338.25 1303.51,-338.25 1321.67,-338.25\"/>\n",
       "<polygon fill=\"#ff7f0e\" stroke=\"#ff7f0e\" points=\"1321.48,-341.75 1331.48,-338.25 1321.48,-334.75 1321.48,-341.75\"/>\n",
       "</g>\n",
       "<!-- clusterwith_prebuiltplotInputsrun -->\n",
       "<g id=\"node54\" class=\"node\">\n",
       "<title>clusterwith_prebuiltplotInputsrun</title>\n",
       "<polygon fill=\"#1f77b4\" stroke=\"#1f77b4\" points=\"1384.32,-184.25 1342.32,-184.25 1342.32,-160.25 1384.32,-160.25 1396.32,-172.25 1384.32,-184.25\"/>\n",
       "<text text-anchor=\"middle\" x=\"1369.32\" y=\"-166.07\" font-family=\"Times,serif\" font-size=\"14.00\">run</text>\n",
       "</g>\n",
       "<!-- clusterwith_prebuiltplotOutputsran -->\n",
       "<g id=\"node57\" class=\"node\">\n",
       "<title>clusterwith_prebuiltplotOutputsran</title>\n",
       "<polygon fill=\"#1f77b4\" stroke=\"#1f77b4\" points=\"1530.96,-130.25 1488.96,-130.25 1488.96,-106.25 1530.96,-106.25 1542.96,-118.25 1530.96,-130.25\"/>\n",
       "<text text-anchor=\"middle\" x=\"1515.96\" y=\"-112.08\" font-family=\"Times,serif\" font-size=\"14.00\">ran</text>\n",
       "</g>\n",
       "<!-- clusterwith_prebuiltplotInputsrun&#45;&gt;clusterwith_prebuiltplotOutputsran -->\n",
       "<!-- clusterwith_prebuiltplotOutputsfig -->\n",
       "<g id=\"node58\" class=\"node\">\n",
       "<title>clusterwith_prebuiltplotOutputsfig</title>\n",
       "<ellipse fill=\"#ff7f0e\" stroke=\"#ff7f0e\" cx=\"1515.96\" cy=\"-172.25\" rx=\"27\" ry=\"18\"/>\n",
       "<text text-anchor=\"middle\" x=\"1515.96\" y=\"-166.07\" font-family=\"Times,serif\" font-size=\"14.00\">fig</text>\n",
       "</g>\n",
       "<!-- clusterwith_prebuiltplotOutputsfig&#45;&gt;clusterwith_prebuiltOutputsfig -->\n",
       "<g id=\"edge29\" class=\"edge\">\n",
       "<title>clusterwith_prebuiltplotOutputsfig&#45;&gt;clusterwith_prebuiltOutputsfig</title>\n",
       "<path fill=\"none\" stroke=\"#ff7f0e\" d=\"M1500.95,-187.13C1490.42,-197.96 1475.38,-212.69 1460.96,-224.25 1458.3,-226.38 1455.57,-228.51 1452.78,-230.63\"/>\n",
       "<path fill=\"none\" stroke=\"#ff7f0e\" d=\"M1452.78,-230.63C1435.03,-244.11 1415.17,-257.09 1399.39,-266.9\"/>\n",
       "<polygon fill=\"#ff7f0e\" stroke=\"#ff7f0e\" points=\"1397.82,-264.37 1391.13,-272.58 1401.49,-270.33 1397.82,-264.37\"/>\n",
       "</g>\n",
       "</g>\n",
       "</svg>\n"
      ],
      "text/plain": [
       "<graphviz.graphs.Digraph at 0x14b341f10>"
      ]
     },
     "execution_count": 34,
     "metadata": {},
     "output_type": "execute_result"
    }
   ],
   "source": [
    "wf.draw()"
   ]
  },
  {
   "cell_type": "markdown",
   "id": "43c09aa8-8229-4636-aaeb-9214b723c2fc",
   "metadata": {},
   "source": [
    "In case you want to see more or less of the inner workings of the nodes, you can modify the `depth` parameter, which controls how deeply child nodes are decomposed. E.g. we can force our workflow to only show us it's basic IO by setting `depth=0`:"
   ]
  },
  {
   "cell_type": "code",
   "execution_count": 35,
   "id": "2114d0c3-cdad-43c7-9ffa-50c36d56d18f",
   "metadata": {},
   "outputs": [
    {
     "name": "stderr",
     "output_type": "stream",
     "text": [
      "/Users/huber/work/pyiron/pyiron_contrib/pyiron_contrib/workflow/io.py:80: UserWarning: Assigning a channel with the label element to the io key structure_element\n",
      "  warn(\n",
      "/Users/huber/work/pyiron/pyiron_contrib/pyiron_contrib/workflow/io.py:80: UserWarning: Assigning a channel with the label cubic to the io key structure_cubic\n",
      "  warn(\n",
      "/Users/huber/work/pyiron/pyiron_contrib/pyiron_contrib/workflow/io.py:80: UserWarning: Assigning a channel with the label repeat to the io key structure_repeat\n",
      "  warn(\n",
      "/Users/huber/work/pyiron/pyiron_contrib/pyiron_contrib/workflow/io.py:80: UserWarning: Assigning a channel with the label n_ionic_steps to the io key calc_n_ionic_steps\n",
      "  warn(\n",
      "/Users/huber/work/pyiron/pyiron_contrib/pyiron_contrib/workflow/io.py:80: UserWarning: Assigning a channel with the label n_print to the io key calc_n_print\n",
      "  warn(\n",
      "/Users/huber/work/pyiron/pyiron_contrib/pyiron_contrib/workflow/io.py:80: UserWarning: Assigning a channel with the label temperature to the io key calc_temperature\n",
      "  warn(\n",
      "/Users/huber/work/pyiron/pyiron_contrib/pyiron_contrib/workflow/io.py:80: UserWarning: Assigning a channel with the label pressure to the io key calc_pressure\n",
      "  warn(\n",
      "/Users/huber/work/pyiron/pyiron_contrib/pyiron_contrib/workflow/io.py:80: UserWarning: Assigning a channel with the label cells to the io key calc_cells\n",
      "  warn(\n",
      "/Users/huber/work/pyiron/pyiron_contrib/pyiron_contrib/workflow/io.py:80: UserWarning: Assigning a channel with the label displacements to the io key calc_displacements\n",
      "  warn(\n",
      "/Users/huber/work/pyiron/pyiron_contrib/pyiron_contrib/workflow/io.py:80: UserWarning: Assigning a channel with the label energy_pot to the io key calc_energy_pot\n",
      "  warn(\n",
      "/Users/huber/work/pyiron/pyiron_contrib/pyiron_contrib/workflow/io.py:80: UserWarning: Assigning a channel with the label energy_tot to the io key calc_energy_tot\n",
      "  warn(\n",
      "/Users/huber/work/pyiron/pyiron_contrib/pyiron_contrib/workflow/io.py:80: UserWarning: Assigning a channel with the label force_max to the io key calc_force_max\n",
      "  warn(\n",
      "/Users/huber/work/pyiron/pyiron_contrib/pyiron_contrib/workflow/io.py:80: UserWarning: Assigning a channel with the label forces to the io key calc_forces\n",
      "  warn(\n",
      "/Users/huber/work/pyiron/pyiron_contrib/pyiron_contrib/workflow/io.py:80: UserWarning: Assigning a channel with the label indices to the io key calc_indices\n",
      "  warn(\n",
      "/Users/huber/work/pyiron/pyiron_contrib/pyiron_contrib/workflow/io.py:80: UserWarning: Assigning a channel with the label positions to the io key calc_positions\n",
      "  warn(\n",
      "/Users/huber/work/pyiron/pyiron_contrib/pyiron_contrib/workflow/io.py:80: UserWarning: Assigning a channel with the label pressures to the io key calc_pressures\n",
      "  warn(\n",
      "/Users/huber/work/pyiron/pyiron_contrib/pyiron_contrib/workflow/io.py:80: UserWarning: Assigning a channel with the label total_displacements to the io key calc_total_displacements\n",
      "  warn(\n",
      "/Users/huber/work/pyiron/pyiron_contrib/pyiron_contrib/workflow/io.py:80: UserWarning: Assigning a channel with the label unwrapped_positions to the io key calc_unwrapped_positions\n",
      "  warn(\n",
      "/Users/huber/work/pyiron/pyiron_contrib/pyiron_contrib/workflow/io.py:80: UserWarning: Assigning a channel with the label volume to the io key calc_volume\n",
      "  warn(\n",
      "/Users/huber/work/pyiron/pyiron_contrib/pyiron_contrib/workflow/io.py:80: UserWarning: Assigning a channel with the label fig to the io key plot_fig\n",
      "  warn(\n"
     ]
    },
    {
     "data": {
      "image/svg+xml": [
       "<?xml version=\"1.0\" encoding=\"UTF-8\" standalone=\"no\"?>\n",
       "<!DOCTYPE svg PUBLIC \"-//W3C//DTD SVG 1.1//EN\"\n",
       " \"http://www.w3.org/Graphics/SVG/1.1/DTD/svg11.dtd\">\n",
       "<!-- Generated by graphviz version 8.0.5 (0)\n",
       " -->\n",
       "<!-- Title: clusterwith_prebuilt Pages: 1 -->\n",
       "<svg width=\"386pt\" height=\"822pt\"\n",
       " viewBox=\"0.00 0.00 385.74 822.25\" xmlns=\"http://www.w3.org/2000/svg\" xmlns:xlink=\"http://www.w3.org/1999/xlink\">\n",
       "<g id=\"graph0\" class=\"graph\" transform=\"scale(1 1) rotate(0) translate(4 818.25)\">\n",
       "<title>clusterwith_prebuilt</title>\n",
       "<polygon fill=\"white\" stroke=\"none\" points=\"-4,4 -4,-818.25 381.74,-818.25 381.74,4 -4,4\"/>\n",
       "<text text-anchor=\"middle\" x=\"188.87\" y=\"-4.95\" font-family=\"Times,serif\" font-size=\"14.00\">with_prebuilt: Workflow</text>\n",
       "<g id=\"clust1\" class=\"cluster\">\n",
       "<title>clusterwith_prebuiltInputs</title>\n",
       "<defs>\n",
       "<linearGradient id=\"clust1_l_0\" gradientUnits=\"userSpaceOnUse\" x1=\"8\" y1=\"-580.25\" x2=\"166.47\" y2=\"-580.25\" >\n",
       "<stop offset=\"0\" style=\"stop-color:#7f7f7f;stop-opacity:1.;\"/>\n",
       "<stop offset=\"1\" style=\"stop-color:#d9d9d9;stop-opacity:1.;\"/>\n",
       "</linearGradient>\n",
       "</defs>\n",
       "<polygon fill=\"url(#clust1_l_0)\" stroke=\"black\" points=\"8,-354.25 8,-806.25 166.47,-806.25 166.47,-354.25 8,-354.25\"/>\n",
       "<text text-anchor=\"middle\" x=\"87.23\" y=\"-788.95\" font-family=\"Times,serif\" font-size=\"14.00\">Inputs</text>\n",
       "</g>\n",
       "<g id=\"clust2\" class=\"cluster\">\n",
       "<title>clusterwith_prebuiltOutputs</title>\n",
       "<defs>\n",
       "<linearGradient id=\"clust2_l_1\" gradientUnits=\"userSpaceOnUse\" x1=\"369.74\" y1=\"-418.25\" x2=\"186.47\" y2=\"-418.25\" >\n",
       "<stop offset=\"0\" style=\"stop-color:#7f7f7f;stop-opacity:1.;\"/>\n",
       "<stop offset=\"1\" style=\"stop-color:#d9d9d9;stop-opacity:1.;\"/>\n",
       "</linearGradient>\n",
       "</defs>\n",
       "<polygon fill=\"url(#clust2_l_1)\" stroke=\"black\" points=\"186.47,-30.25 186.47,-806.25 369.74,-806.25 369.74,-30.25 186.47,-30.25\"/>\n",
       "<text text-anchor=\"middle\" x=\"278.11\" y=\"-788.95\" font-family=\"Times,serif\" font-size=\"14.00\">Outputs</text>\n",
       "</g>\n",
       "<!-- clusterwith_prebuiltInputsrun -->\n",
       "<g id=\"node1\" class=\"node\">\n",
       "<title>clusterwith_prebuiltInputsrun</title>\n",
       "<polygon fill=\"#1f77b4\" stroke=\"#1f77b4\" points=\"102.23,-770.25 60.23,-770.25 60.23,-746.25 102.23,-746.25 114.23,-758.25 102.23,-770.25\"/>\n",
       "<text text-anchor=\"middle\" x=\"87.23\" y=\"-752.08\" font-family=\"Times,serif\" font-size=\"14.00\">run</text>\n",
       "</g>\n",
       "<!-- clusterwith_prebuiltOutputsran -->\n",
       "<g id=\"node9\" class=\"node\">\n",
       "<title>clusterwith_prebuiltOutputsran</title>\n",
       "<polygon fill=\"#1f77b4\" stroke=\"#1f77b4\" points=\"293.11,-770.25 251.11,-770.25 251.11,-746.25 293.11,-746.25 305.11,-758.25 293.11,-770.25\"/>\n",
       "<text text-anchor=\"middle\" x=\"278.11\" y=\"-752.08\" font-family=\"Times,serif\" font-size=\"14.00\">ran</text>\n",
       "</g>\n",
       "<!-- clusterwith_prebuiltInputsrun&#45;&gt;clusterwith_prebuiltOutputsran -->\n",
       "<!-- clusterwith_prebuiltInputselement -->\n",
       "<g id=\"node2\" class=\"node\">\n",
       "<title>clusterwith_prebuiltInputselement</title>\n",
       "<ellipse fill=\"#ff7f0e\" stroke=\"#ff7f0e\" cx=\"87.23\" cy=\"-704.25\" rx=\"51.2\" ry=\"18\"/>\n",
       "<text text-anchor=\"middle\" x=\"87.23\" y=\"-698.08\" font-family=\"Times,serif\" font-size=\"14.00\">element: str</text>\n",
       "</g>\n",
       "<!-- clusterwith_prebuiltInputscubic -->\n",
       "<g id=\"node3\" class=\"node\">\n",
       "<title>clusterwith_prebuiltInputscubic</title>\n",
       "<ellipse fill=\"#ff7f0e\" stroke=\"#ff7f0e\" cx=\"87.23\" cy=\"-650.25\" rx=\"48.81\" ry=\"18\"/>\n",
       "<text text-anchor=\"middle\" x=\"87.23\" y=\"-644.08\" font-family=\"Times,serif\" font-size=\"14.00\">cubic: bool</text>\n",
       "</g>\n",
       "<!-- clusterwith_prebuiltInputsrepeat -->\n",
       "<g id=\"node4\" class=\"node\">\n",
       "<title>clusterwith_prebuiltInputsrepeat</title>\n",
       "<ellipse fill=\"#ff7f0e\" stroke=\"#ff7f0e\" cx=\"87.23\" cy=\"-596.25\" rx=\"45\" ry=\"18\"/>\n",
       "<text text-anchor=\"middle\" x=\"87.23\" y=\"-590.08\" font-family=\"Times,serif\" font-size=\"14.00\">repeat: int</text>\n",
       "</g>\n",
       "<!-- clusterwith_prebuiltInputsn_ionic_steps -->\n",
       "<g id=\"node5\" class=\"node\">\n",
       "<title>clusterwith_prebuiltInputsn_ionic_steps</title>\n",
       "<ellipse fill=\"#ff7f0e\" stroke=\"#ff7f0e\" cx=\"87.23\" cy=\"-542.25\" rx=\"71.23\" ry=\"18\"/>\n",
       "<text text-anchor=\"middle\" x=\"87.23\" y=\"-536.08\" font-family=\"Times,serif\" font-size=\"14.00\">n_ionic_steps: int</text>\n",
       "</g>\n",
       "<!-- clusterwith_prebuiltInputsn_print -->\n",
       "<g id=\"node6\" class=\"node\">\n",
       "<title>clusterwith_prebuiltInputsn_print</title>\n",
       "<ellipse fill=\"#ff7f0e\" stroke=\"#ff7f0e\" cx=\"87.23\" cy=\"-488.25\" rx=\"48.81\" ry=\"18\"/>\n",
       "<text text-anchor=\"middle\" x=\"87.23\" y=\"-482.07\" font-family=\"Times,serif\" font-size=\"14.00\">n_print: int</text>\n",
       "</g>\n",
       "<!-- clusterwith_prebuiltInputstemperature -->\n",
       "<g id=\"node7\" class=\"node\">\n",
       "<title>clusterwith_prebuiltInputstemperature</title>\n",
       "<ellipse fill=\"#ff7f0e\" stroke=\"#ff7f0e\" cx=\"87.23\" cy=\"-434.25\" rx=\"51.68\" ry=\"18\"/>\n",
       "<text text-anchor=\"middle\" x=\"87.23\" y=\"-428.07\" font-family=\"Times,serif\" font-size=\"14.00\">temperature</text>\n",
       "</g>\n",
       "<!-- clusterwith_prebuiltInputspressure -->\n",
       "<g id=\"node8\" class=\"node\">\n",
       "<title>clusterwith_prebuiltInputspressure</title>\n",
       "<ellipse fill=\"#ff7f0e\" stroke=\"#ff7f0e\" cx=\"87.23\" cy=\"-380.25\" rx=\"38.8\" ry=\"18\"/>\n",
       "<text text-anchor=\"middle\" x=\"87.23\" y=\"-374.07\" font-family=\"Times,serif\" font-size=\"14.00\">pressure</text>\n",
       "</g>\n",
       "<!-- clusterwith_prebuiltOutputscells -->\n",
       "<g id=\"node10\" class=\"node\">\n",
       "<title>clusterwith_prebuiltOutputscells</title>\n",
       "<ellipse fill=\"#ff7f0e\" stroke=\"#ff7f0e\" cx=\"278.11\" cy=\"-704.25\" rx=\"27\" ry=\"18\"/>\n",
       "<text text-anchor=\"middle\" x=\"278.11\" y=\"-698.08\" font-family=\"Times,serif\" font-size=\"14.00\">cells</text>\n",
       "</g>\n",
       "<!-- clusterwith_prebuiltOutputsdisplacements -->\n",
       "<g id=\"node11\" class=\"node\">\n",
       "<title>clusterwith_prebuiltOutputsdisplacements</title>\n",
       "<ellipse fill=\"#ff7f0e\" stroke=\"#ff7f0e\" cx=\"278.11\" cy=\"-650.25\" rx=\"59.31\" ry=\"18\"/>\n",
       "<text text-anchor=\"middle\" x=\"278.11\" y=\"-644.08\" font-family=\"Times,serif\" font-size=\"14.00\">displacements</text>\n",
       "</g>\n",
       "<!-- clusterwith_prebuiltOutputsenergy_pot -->\n",
       "<g id=\"node12\" class=\"node\">\n",
       "<title>clusterwith_prebuiltOutputsenergy_pot</title>\n",
       "<ellipse fill=\"#ff7f0e\" stroke=\"#ff7f0e\" cx=\"278.11\" cy=\"-596.25\" rx=\"48.81\" ry=\"18\"/>\n",
       "<text text-anchor=\"middle\" x=\"278.11\" y=\"-590.08\" font-family=\"Times,serif\" font-size=\"14.00\">energy_pot</text>\n",
       "</g>\n",
       "<!-- clusterwith_prebuiltOutputsenergy_tot -->\n",
       "<g id=\"node13\" class=\"node\">\n",
       "<title>clusterwith_prebuiltOutputsenergy_tot</title>\n",
       "<ellipse fill=\"#ff7f0e\" stroke=\"#ff7f0e\" cx=\"278.11\" cy=\"-542.25\" rx=\"46.91\" ry=\"18\"/>\n",
       "<text text-anchor=\"middle\" x=\"278.11\" y=\"-536.08\" font-family=\"Times,serif\" font-size=\"14.00\">energy_tot</text>\n",
       "</g>\n",
       "<!-- clusterwith_prebuiltOutputsforce_max -->\n",
       "<g id=\"node14\" class=\"node\">\n",
       "<title>clusterwith_prebuiltOutputsforce_max</title>\n",
       "<ellipse fill=\"#ff7f0e\" stroke=\"#ff7f0e\" cx=\"278.11\" cy=\"-488.25\" rx=\"47.38\" ry=\"18\"/>\n",
       "<text text-anchor=\"middle\" x=\"278.11\" y=\"-482.07\" font-family=\"Times,serif\" font-size=\"14.00\">force_max</text>\n",
       "</g>\n",
       "<!-- clusterwith_prebuiltOutputsforces -->\n",
       "<g id=\"node15\" class=\"node\">\n",
       "<title>clusterwith_prebuiltOutputsforces</title>\n",
       "<ellipse fill=\"#ff7f0e\" stroke=\"#ff7f0e\" cx=\"278.11\" cy=\"-434.25\" rx=\"31.17\" ry=\"18\"/>\n",
       "<text text-anchor=\"middle\" x=\"278.11\" y=\"-428.07\" font-family=\"Times,serif\" font-size=\"14.00\">forces</text>\n",
       "</g>\n",
       "<!-- clusterwith_prebuiltOutputsindices -->\n",
       "<g id=\"node16\" class=\"node\">\n",
       "<title>clusterwith_prebuiltOutputsindices</title>\n",
       "<ellipse fill=\"#ff7f0e\" stroke=\"#ff7f0e\" cx=\"278.11\" cy=\"-380.25\" rx=\"34.5\" ry=\"18\"/>\n",
       "<text text-anchor=\"middle\" x=\"278.11\" y=\"-374.07\" font-family=\"Times,serif\" font-size=\"14.00\">indices</text>\n",
       "</g>\n",
       "<!-- clusterwith_prebuiltOutputspositions -->\n",
       "<g id=\"node17\" class=\"node\">\n",
       "<title>clusterwith_prebuiltOutputspositions</title>\n",
       "<ellipse fill=\"#ff7f0e\" stroke=\"#ff7f0e\" cx=\"278.11\" cy=\"-326.25\" rx=\"41.18\" ry=\"18\"/>\n",
       "<text text-anchor=\"middle\" x=\"278.11\" y=\"-320.07\" font-family=\"Times,serif\" font-size=\"14.00\">positions</text>\n",
       "</g>\n",
       "<!-- clusterwith_prebuiltOutputspressures -->\n",
       "<g id=\"node18\" class=\"node\">\n",
       "<title>clusterwith_prebuiltOutputspressures</title>\n",
       "<ellipse fill=\"#ff7f0e\" stroke=\"#ff7f0e\" cx=\"278.11\" cy=\"-272.25\" rx=\"42.14\" ry=\"18\"/>\n",
       "<text text-anchor=\"middle\" x=\"278.11\" y=\"-266.07\" font-family=\"Times,serif\" font-size=\"14.00\">pressures</text>\n",
       "</g>\n",
       "<!-- clusterwith_prebuiltOutputstotal_displacements -->\n",
       "<g id=\"node19\" class=\"node\">\n",
       "<title>clusterwith_prebuiltOutputstotal_displacements</title>\n",
       "<ellipse fill=\"#ff7f0e\" stroke=\"#ff7f0e\" cx=\"278.11\" cy=\"-218.25\" rx=\"78.87\" ry=\"18\"/>\n",
       "<text text-anchor=\"middle\" x=\"278.11\" y=\"-212.07\" font-family=\"Times,serif\" font-size=\"14.00\">total_displacements</text>\n",
       "</g>\n",
       "<!-- clusterwith_prebuiltOutputsunwrapped_positions -->\n",
       "<g id=\"node20\" class=\"node\">\n",
       "<title>clusterwith_prebuiltOutputsunwrapped_positions</title>\n",
       "<ellipse fill=\"#ff7f0e\" stroke=\"#ff7f0e\" cx=\"278.11\" cy=\"-164.25\" rx=\"83.64\" ry=\"18\"/>\n",
       "<text text-anchor=\"middle\" x=\"278.11\" y=\"-158.07\" font-family=\"Times,serif\" font-size=\"14.00\">unwrapped_positions</text>\n",
       "</g>\n",
       "<!-- clusterwith_prebuiltOutputsvolume -->\n",
       "<g id=\"node21\" class=\"node\">\n",
       "<title>clusterwith_prebuiltOutputsvolume</title>\n",
       "<ellipse fill=\"#ff7f0e\" stroke=\"#ff7f0e\" cx=\"278.11\" cy=\"-110.25\" rx=\"36.41\" ry=\"18\"/>\n",
       "<text text-anchor=\"middle\" x=\"278.11\" y=\"-104.08\" font-family=\"Times,serif\" font-size=\"14.00\">volume</text>\n",
       "</g>\n",
       "<!-- clusterwith_prebuiltOutputsfig -->\n",
       "<g id=\"node22\" class=\"node\">\n",
       "<title>clusterwith_prebuiltOutputsfig</title>\n",
       "<ellipse fill=\"#ff7f0e\" stroke=\"#ff7f0e\" cx=\"278.11\" cy=\"-56.25\" rx=\"27\" ry=\"18\"/>\n",
       "<text text-anchor=\"middle\" x=\"278.11\" y=\"-50.08\" font-family=\"Times,serif\" font-size=\"14.00\">fig</text>\n",
       "</g>\n",
       "</g>\n",
       "</svg>\n"
      ],
      "text/plain": [
       "<graphviz.graphs.Digraph at 0x14b2f60d0>"
      ]
     },
     "execution_count": 35,
     "metadata": {},
     "output_type": "execute_result"
    }
   ],
   "source": [
    "wf.draw(depth=0)"
   ]
  }
 ],
 "metadata": {
  "kernelspec": {
   "display_name": "Python 3 (ipykernel)",
   "language": "python",
   "name": "python3"
  },
  "language_info": {
   "codemirror_mode": {
    "name": "ipython",
    "version": 3
   },
   "file_extension": ".py",
   "mimetype": "text/x-python",
   "name": "python",
   "nbconvert_exporter": "python",
   "pygments_lexer": "ipython3",
   "version": "3.11.4"
  }
 },
 "nbformat": 4,
 "nbformat_minor": 5
}
