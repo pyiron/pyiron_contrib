{
 "cells": [
  {
   "cell_type": "code",
   "execution_count": 1,
   "id": "8dee8129-6b23-4abf-90d2-217d71b8ba7a",
   "metadata": {
    "tags": []
   },
   "outputs": [
    {
     "data": {
      "application/vnd.jupyter.widget-view+json": {
       "model_id": "88c66e527673496c8f5b7ea75538baa0",
       "version_major": 2,
       "version_minor": 0
      },
      "text/plain": []
     },
     "metadata": {},
     "output_type": "display_data"
    }
   ],
   "source": [
    "from pyiron_contrib.workflow.function import Function"
   ]
  },
  {
   "cell_type": "markdown",
   "id": "5edfe456-c5b8-4347-a74f-1fb19fdff91b",
   "metadata": {},
   "source": [
    "# Pyiron workflows: Introduction and Syntax\n",
    "\n",
    "Here we will highlight:\n",
    "- How to instantiate a node\n",
    "- How to make reusable node classes\n",
    "- How to connect node inputs and outputs together\n",
    "- Defining new nodes from special node classes (Fast and SingleValue)\n",
    "- The five ways of adding nodes to a workflow\n",
    "- Flow control (i.e. signal channels vs data channels)\n",
    "- Using pre-defined nodes "
   ]
  },
  {
   "cell_type": "markdown",
   "id": "f4e75528-3ea7-4feb-8167-533d439f798d",
   "metadata": {},
   "source": [
    "## Instantiating a node\n",
    "\n",
    "Simple nodes can be defined on-the-fly by passing any callable to the `Function(Node)` class. This transforms the function into a node instance which has input and output, can be connected to other nodes in a workflow, and can run the function it stores.\n",
    "\n",
    "Input and output channels are _automatically_ extracted from the signature and return value(s) of the function. (Note: \"Nodized\" functions must have _at most_ one `return` expression!)"
   ]
  },
  {
   "cell_type": "code",
   "execution_count": 2,
   "id": "2502bc6b-d961-43d1-b2d9-66b20e2740d7",
   "metadata": {},
   "outputs": [],
   "source": [
    "def plus_minus_one(x):\n",
    "    return x+1, x-1\n",
    "\n",
    "pm_node = Function(plus_minus_one)"
   ]
  },
  {
   "cell_type": "markdown",
   "id": "5d15f0c2-b36d-4960-86b3-40d769f78528",
   "metadata": {},
   "source": [
    "This has automatically created a node with input and output data channels whose labels are gathered by inspecting the function:"
   ]
  },
  {
   "cell_type": "code",
   "execution_count": 3,
   "id": "840f4c07-4b21-4bcc-b15c-9847c6c1b048",
   "metadata": {},
   "outputs": [
    {
     "name": "stdout",
     "output_type": "stream",
     "text": [
      "['x'] ['x+1', 'x-1']\n"
     ]
    }
   ],
   "source": [
    "print(pm_node.inputs.labels, pm_node.outputs.labels)"
   ]
  },
  {
   "cell_type": "markdown",
   "id": "22ee2a49-47d1-4cec-bb25-8441ea01faf7",
   "metadata": {},
   "source": [
    "The output is still empty (`NotData`) because we haven't `run()` the node:"
   ]
  },
  {
   "cell_type": "code",
   "execution_count": 4,
   "id": "613a90fa-66ed-49f8-ba8c-2f83a54253cd",
   "metadata": {},
   "outputs": [
    {
     "name": "stdout",
     "output_type": "stream",
     "text": [
      "{'x+1': <class 'pyiron_contrib.workflow.channels.NotData'>, 'x-1': <class 'pyiron_contrib.workflow.channels.NotData'>}\n"
     ]
    }
   ],
   "source": [
    "print(pm_node.outputs.to_value_dict())"
   ]
  },
  {
   "cell_type": "markdown",
   "id": "0374e277-55ab-45d2-8058-b06365bd07af",
   "metadata": {},
   "source": [
    "If we try that now though, we'll just get a type error because the input is not set! "
   ]
  },
  {
   "cell_type": "code",
   "execution_count": 5,
   "id": "05196cd8-97c7-4f08-ae3a-ad6a076512f7",
   "metadata": {},
   "outputs": [],
   "source": [
    "# pm_node.run()"
   ]
  },
  {
   "cell_type": "markdown",
   "id": "48b0db5a-548e-4195-8361-76763ddf0474",
   "metadata": {},
   "source": [
    "By default, a softer `update()` call is made at instantiation and whenever the node input is updated.\n",
    "This call checks to make sure the input is `ready` before moving on to `run()`. \n",
    "\n",
    "If we update the input, we'll give the node enough data to work with and it will automatically update the output:"
   ]
  },
  {
   "cell_type": "code",
   "execution_count": 6,
   "id": "b1500a40-f4f2-4c06-ad78-aaebcf3e9a50",
   "metadata": {},
   "outputs": [
    {
     "name": "stdout",
     "output_type": "stream",
     "text": [
      "{'x+1': 6, 'x-1': 4}\n"
     ]
    }
   ],
   "source": [
    "pm_node.inputs.x = 5\n",
    "print(pm_node.outputs.to_value_dict())"
   ]
  },
  {
   "cell_type": "markdown",
   "id": "df4520d7-856e-4bc8-817f-5b2e22c1ddce",
   "metadata": {},
   "source": [
    "We can be stricter and force the node to wait for an explicit `run()` call by modifying the `run_on_updates` and `update_on_instantiation` flags. \n",
    "\n",
    "Let's also take the opportunity to give our output channel a better name so we can get it by dot-access."
   ]
  },
  {
   "cell_type": "code",
   "execution_count": 7,
   "id": "ab1ac28a-6e69-491f-882f-da4a43162dd7",
   "metadata": {},
   "outputs": [
    {
     "data": {
      "text/plain": [
       "pyiron_contrib.workflow.channels.NotData"
      ]
     },
     "execution_count": 7,
     "metadata": {},
     "output_type": "execute_result"
    }
   ],
   "source": [
    "def adder(x: int, y: int = 1) -> int:\n",
    "    sum_ = x + y\n",
    "    return sum_\n",
    "\n",
    "adder_node = Function(adder, run_on_updates=False)\n",
    "adder_node.inputs.x = 1\n",
    "adder_node.outputs.sum_.value  # We use `value` to see the data the channel holds"
   ]
  },
  {
   "cell_type": "markdown",
   "id": "0929f222-6073-4201-b5a1-723c31c8998a",
   "metadata": {},
   "source": [
    "We see that now the output did not get populated automatically when we updated `x`. \n",
    "We can still get the output by asking for it though:"
   ]
  },
  {
   "cell_type": "code",
   "execution_count": 8,
   "id": "dc41a447-15fd-4df2-b60a-0935d81d469e",
   "metadata": {},
   "outputs": [
    {
     "data": {
      "text/plain": [
       "2"
      ]
     },
     "execution_count": 8,
     "metadata": {},
     "output_type": "execute_result"
    }
   ],
   "source": [
    "adder_node.run()\n",
    "adder_node.outputs.sum_.value"
   ]
  },
  {
   "cell_type": "markdown",
   "id": "58ed9b25-6dde-488d-9582-d49d405793c6",
   "metadata": {},
   "source": [
    "This node also exploits type hinting!\n",
    "After turning the automatic updates back on, we can see that we can safely pass incorrect data without running into an error:"
   ]
  },
  {
   "cell_type": "code",
   "execution_count": 9,
   "id": "ac0fe993-6c82-48c8-a780-cbd0c97fc386",
   "metadata": {},
   "outputs": [
    {
     "data": {
      "text/plain": [
       "(int, str)"
      ]
     },
     "execution_count": 9,
     "metadata": {},
     "output_type": "execute_result"
    }
   ],
   "source": [
    "adder_node.run_on_updates = True\n",
    "adder_node.inputs.x = \"not an integer\"\n",
    "adder_node.inputs.x.type_hint, type(adder_node.inputs.x.value)\n",
    "# No error because the update doesn't trigger a run since the type hint is not satisfied"
   ]
  },
  {
   "cell_type": "markdown",
   "id": "2737de39-6e75-44e1-b751-6315afe5c676",
   "metadata": {},
   "source": [
    "But `run()` never got called, so the output is unchanged"
   ]
  },
  {
   "cell_type": "code",
   "execution_count": 10,
   "id": "bcbd17f1-a3e4-44f0-bde1-cbddc51c5d73",
   "metadata": {},
   "outputs": [
    {
     "data": {
      "text/plain": [
       "2"
      ]
     },
     "execution_count": 10,
     "metadata": {},
     "output_type": "execute_result"
    }
   ],
   "source": [
    "adder_node.outputs.sum_.value"
   ]
  },
  {
   "cell_type": "markdown",
   "id": "263f5b24-113f-45d9-82cc-0475c59da587",
   "metadata": {},
   "source": [
    "Note that assigning data to channels with `=` is actually just syntactic sugar for calling the `update` method of the underlying channel:"
   ]
  },
  {
   "cell_type": "code",
   "execution_count": 11,
   "id": "15742a49-4c23-4d4a-84d9-9bf19677544c",
   "metadata": {},
   "outputs": [
    {
     "data": {
      "text/plain": [
       "3"
      ]
     },
     "execution_count": 11,
     "metadata": {},
     "output_type": "execute_result"
    }
   ],
   "source": [
    "adder_node.inputs.x.update(2)\n",
    "adder_node.outputs.sum_.value"
   ]
  },
  {
   "cell_type": "markdown",
   "id": "416ba898-21ee-4638-820f-0f04a98a6706",
   "metadata": {},
   "source": [
    "We can also set new input as any valid combination of kwargs and/or args at both instantiation or on call:"
   ]
  },
  {
   "cell_type": "code",
   "execution_count": 12,
   "id": "0c8f09a7-67c4-4c6c-a021-e3fea1a16576",
   "metadata": {},
   "outputs": [
    {
     "data": {
      "text/plain": [
       "30"
      ]
     },
     "execution_count": 12,
     "metadata": {},
     "output_type": "execute_result"
    }
   ],
   "source": [
    "adder_node(10, y=20)\n",
    "adder_node.outputs.sum_.value"
   ]
  },
  {
   "cell_type": "markdown",
   "id": "07a22cee-e340-4551-bb81-07d8be1d152b",
   "metadata": {},
   "source": [
    "## Reusable node classes\n",
    "\n",
    "If we're going to use a node many times, we may want to define a new sub-class of `Function` to handle this.\n",
    "\n",
    "The can be done directly by inheriting from `Function` and overriding it's `__init__` function so that the core functionality of the node (i.e. the node function and output labels) are set in stone, but even easier is to use the `function_node` decorator to do this for you!\n",
    "\n",
    "The decorator takes the output labels and whatever other class kwargs you want to override, and the function is defined like any other node function:"
   ]
  },
  {
   "cell_type": "code",
   "execution_count": 13,
   "id": "61b43a9b-8dad-48b7-9194-2045e465793b",
   "metadata": {},
   "outputs": [],
   "source": [
    "from pyiron_contrib.workflow.function import function_node"
   ]
  },
  {
   "cell_type": "code",
   "execution_count": 14,
   "id": "647360a9-c971-4272-995c-aa01e5f5bb83",
   "metadata": {},
   "outputs": [
    {
     "name": "stdout",
     "output_type": "stream",
     "text": [
      "class name = SubtractNode\n",
      "label = subtract_node\n",
      "default output = 1\n"
     ]
    }
   ],
   "source": [
    "@function_node()\n",
    "def subtract_node(x: int | float = 2, y: int | float = 1) -> int | float:\n",
    "    diff = x - y\n",
    "    return diff\n",
    "\n",
    "sn = subtract_node()\n",
    "print(\"class name =\", sn.__class__.__name__)\n",
    "print(\"label =\", sn.label)\n",
    "print(\"default output =\", sn.outputs.diff.value)"
   ]
  },
  {
   "cell_type": "markdown",
   "id": "7b7133ff-6ef6-49fa-9eb0-7c280de9b1e5",
   "metadata": {},
   "source": [
    "Earlier we saw that we could set input data by function defaults, or by directly setting the `.inputs.*` channel values with an `=` assignement or `.update` method call.\n",
    "\n",
    "We can also set the input of a node instance at instantiation by passing the input labels as kwargs!"
   ]
  },
  {
   "cell_type": "code",
   "execution_count": 15,
   "id": "8fb0671b-045a-4d71-9d35-f0beadc9cf3a",
   "metadata": {},
   "outputs": [
    {
     "data": {
      "text/plain": [
       "-10"
      ]
     },
     "execution_count": 15,
     "metadata": {},
     "output_type": "execute_result"
    }
   ],
   "source": [
    "subtract_node(10, 20).outputs.diff.value"
   ]
  },
  {
   "cell_type": "markdown",
   "id": "af45e7a1-0a8d-4ad6-9363-ed2bcfe4c405",
   "metadata": {},
   "source": [
    "## Node connections \n",
    "\n",
    "Next, we want to make connections between nodes. Instead of `update` we can use the `connect` method to accomplish this, or we can do it with the other syntactic sugar we saw for regular data (i.e. direct attribute access or using kwargs at instantiation):"
   ]
  },
  {
   "cell_type": "code",
   "execution_count": 16,
   "id": "5ce91f42-7aec-492c-94fb-2320c971cd79",
   "metadata": {},
   "outputs": [
    {
     "name": "stdout",
     "output_type": "stream",
     "text": [
      "2 - 4 = -2\n"
     ]
    }
   ],
   "source": [
    "@function_node()\n",
    "def add_node(x: int | float = 1, y: int | float = 1) -> int | float:\n",
    "    sum_ = x + y\n",
    "    return sum_\n",
    "\n",
    "add1 = add_node()\n",
    "add2 = add_node(2, 2)\n",
    "sub = subtract_node(x=add1.outputs.sum_, y=add2.outputs.sum_)\n",
    "print(\n",
    "    f\"{add1.outputs.sum_.value} - {add2.outputs.sum_.value} = {sub.outputs.diff.value}\"\n",
    ")"
   ]
  },
  {
   "cell_type": "markdown",
   "id": "0bea37ae-65f6-4842-b507-9542f17791ca",
   "metadata": {},
   "source": [
    "Because we've set all of our nodes to run automatically on updates, we can change upstream data and see the result propogate downstream immediately:"
   ]
  },
  {
   "cell_type": "code",
   "execution_count": 17,
   "id": "20360fe7-b422-4d78-9bd1-de233f28c8df",
   "metadata": {},
   "outputs": [
    {
     "name": "stdout",
     "output_type": "stream",
     "text": [
      "11 - 4 = 7\n"
     ]
    }
   ],
   "source": [
    "add1.inputs.x = 10\n",
    "print(\n",
    "    f\"{add1.outputs.sum_.value} - {add2.outputs.sum_.value} = {sub.outputs.diff.value}\"\n",
    ")"
   ]
  },
  {
   "cell_type": "markdown",
   "id": "e5c531a3-77e4-48ad-a189-fed619e79baa",
   "metadata": {},
   "source": [
    "## Special nodes\n",
    "\n",
    "In addition to the basic `Function` class, for the sake of convenience we also offer `Slow(Function)` -- which changes the defaults of `run_on_updates` and `update_on_instantiation` to `False` so that `run()` calls are necessary -- this can be helpful for nodes that are computationally expensive; and `SingleValue(Function)` -- which enforces that there is only a _single_ return value to the node function (i.e. a single output label), and then lets attribute and item access fall back to looking for attributes and items of this single output value. Of course there are decorators available for both of these.\n",
    "\n",
    "Let's look at a use case:"
   ]
  },
  {
   "cell_type": "code",
   "execution_count": 18,
   "id": "1a4e9693-0980-4435-aecc-3331d8b608dd",
   "metadata": {},
   "outputs": [],
   "source": [
    "import numpy as np\n",
    "\n",
    "from pyiron_contrib.workflow.function import single_value_node"
   ]
  },
  {
   "cell_type": "code",
   "execution_count": 19,
   "id": "7c4d314b-33bb-4a67-bfb9-ed77fba3949c",
   "metadata": {},
   "outputs": [
    {
     "name": "stdout",
     "output_type": "stream",
     "text": [
      "<class 'numpy.ndarray'>\n",
      "[0.02040816 0.04081633 0.06122449]\n",
      "0.5\n"
     ]
    }
   ],
   "source": [
    "@single_value_node()\n",
    "def linspace_node(\n",
    "    start: int | float = 0, stop: int | float = 1, num: int = 50\n",
    "):\n",
    "    linspace = np.linspace(start=start, stop=stop, num=num)\n",
    "    return linspace\n",
    "\n",
    "lin = linspace_node()\n",
    "\n",
    "print(type(lin.outputs.linspace.value))  # Output is just what we expect\n",
    "print(lin[1:4])  # Gets items from the output\n",
    "print(lin.mean())  # Finds the method on the output -- a special feature of SingleValueNode"
   ]
  },
  {
   "cell_type": "markdown",
   "id": "9b9220b0-833d-4c6a-9929-5dfa60a47d14",
   "metadata": {},
   "source": [
    "# Flow control\n",
    "\n",
    "By default, when a node runs and updates its output, this triggers outputs in all downstream connections. This is useful when all your node functions are small and light, but there may come times when you want something other than this simple \"push\" flow.\n",
    "\n",
    "In addition to input and output data channels, nodes also have \"signal\" channels available. Input signals are bound to a callback function (typically one of its node's methods), and output signals trigger the callbacks for all the input signal channels they're connected to.\n",
    "\n",
    "Standard nodes have a `run` input signal (which is, unsurprisingly, bound to the `run` method), and a `ran` output signal (which, again, hopefully with no great surprise, is triggered at the end of the `run` method.)\n",
    "\n",
    "Below is a super simple example of how these signal channels can be used to delay execution and manually control flow:"
   ]
  },
  {
   "cell_type": "code",
   "execution_count": 20,
   "id": "2e418abf-7059-4e1e-9b9f-b3dc0a4b5e35",
   "metadata": {},
   "outputs": [
    {
     "name": "stdout",
     "output_type": "stream",
     "text": [
      "1 <class 'pyiron_contrib.workflow.channels.NotData'>\n"
     ]
    }
   ],
   "source": [
    "@function_node()\n",
    "def linear(x):\n",
    "    return x\n",
    "\n",
    "@function_node(run_on_updates=False)\n",
    "def times_two(x):\n",
    "    double = 2 * x\n",
    "    return double\n",
    "\n",
    "l = linear(x=1)\n",
    "t2 = times_two(x=l.outputs.x)\n",
    "print(t2.inputs.x, t2.outputs.double)"
   ]
  },
  {
   "cell_type": "markdown",
   "id": "37aa4455-9b98-4be5-a365-363e3c490bb6",
   "metadata": {},
   "source": [
    "Now the input of `t2` got updated when the connection is made, but by we told this node not to do any automatic updates, so the output has its uninitialized value of `NotData`.\n",
    "\n",
    "Often, you will want to have nodes with data connections to have signal connections, but this is not strictly required. Here, we'll introduce a (not strictly necessary) third node to control starting the workflow, and chain together to signals from our two functional nodes.\n",
    "\n",
    "Note that we have all the same syntacic sugar from data channels when creating connections between signal channels."
   ]
  },
  {
   "cell_type": "code",
   "execution_count": 21,
   "id": "3310eac4-04f6-421b-9824-19bb2d680be6",
   "metadata": {},
   "outputs": [
    {
     "name": "stdout",
     "output_type": "stream",
     "text": [
      "2\n"
     ]
    }
   ],
   "source": [
    "@function_node()\n",
    "def control():\n",
    "    return\n",
    "\n",
    "c = control()\n",
    "l.signals.input.run = c.signals.output.ran\n",
    "t2.signals.input.run = l.signals.output.ran\n",
    "c.run()\n",
    "print(t2.outputs.double.value)"
   ]
  },
  {
   "cell_type": "markdown",
   "id": "003ed16e-c493-4465-9f08-492f9c51f764",
   "metadata": {},
   "source": [
    "`Function` and its children always push out data updates _before_ triggering their `ran` signal."
   ]
  },
  {
   "cell_type": "markdown",
   "id": "9ac89662-a34f-4209-a657-dc54b6cc5317",
   "metadata": {},
   "source": [
    "It is also possible to flag certain inputs channels so they require updates after each time their node is run before they are `ready` again. These can be defined either at the node instantiation, or after the fact using a method on the channel. Both approaches are shown in the example below:"
   ]
  },
  {
   "cell_type": "code",
   "execution_count": 22,
   "id": "7a6f2bce-6b5e-4321-9457-0a6790d2202a",
   "metadata": {},
   "outputs": [],
   "source": [
    "import matplotlib.pyplot as plt"
   ]
  },
  {
   "cell_type": "code",
   "execution_count": 23,
   "id": "6569014a-815b-46dd-8b47-4e1cd4584b3b",
   "metadata": {},
   "outputs": [
    {
     "data": {
      "image/png": "[encoded data removed]",
      "text/plain": [
       "<Figure size 640x480 with 1 Axes>"
      ]
     },
     "metadata": {},
     "output_type": "display_data"
    }
   ],
   "source": [
    "@single_value_node()\n",
    "def noise(length: int = 1):\n",
    "    array =  np.random.rand(length)\n",
    "    return array\n",
    "\n",
    "@function_node()\n",
    "def plot(x, y):\n",
    "    fig = plt.scatter(x, y)\n",
    "    return fig\n",
    "\n",
    "x = noise(length=10)\n",
    "y = noise(length=10)\n",
    "f = plot(\n",
    "    x=x, \n",
    "    y=y,\n",
    "    channels_requiring_update_after_run=[\"x\"],\n",
    ")\n",
    "f.inputs.y.require_update_after_node_runs(wait_now=True)"
   ]
  },
  {
   "cell_type": "markdown",
   "id": "4a717c47-9e5f-496a-82d9-ec5cb69f65e9",
   "metadata": {},
   "source": [
    "Now that the plotting node has run, its input channels are no longer `ready` because they are waiting for a fresh update:"
   ]
  },
  {
   "cell_type": "code",
   "execution_count": 24,
   "id": "25f0495a-e85f-43b7-8a70-a2c9cbd51ebb",
   "metadata": {},
   "outputs": [
    {
     "data": {
      "text/plain": [
       "(False, False)"
      ]
     },
     "execution_count": 24,
     "metadata": {},
     "output_type": "execute_result"
    }
   ],
   "source": [
    "f.inputs.x.ready, f.inputs.y.ready"
   ]
  },
  {
   "cell_type": "code",
   "execution_count": 25,
   "id": "449ce797-be62-4211-b483-c717a3d70583",
   "metadata": {},
   "outputs": [
    {
     "data": {
      "text/plain": [
       "(True, False)"
      ]
     },
     "execution_count": 25,
     "metadata": {},
     "output_type": "execute_result"
    }
   ],
   "source": [
    "x.inputs.length = 20\n",
    "f.inputs.x.ready, f.inputs.y.ready"
   ]
  },
  {
   "cell_type": "code",
   "execution_count": 26,
   "id": "7008b0fc-3644-401c-b49f-9c40f9d89ac4",
   "metadata": {},
   "outputs": [
    {
     "data": {
      "image/png": "[encoded data removed]",
      "text/plain": [
       "<Figure size 640x480 with 1 Axes>"
      ]
     },
     "metadata": {},
     "output_type": "display_data"
    }
   ],
   "source": [
    "y.inputs.length = 20"
   ]
  },
  {
   "cell_type": "markdown",
   "id": "3dfc3f99-be35-4c3f-bf5d-6ff60749e4d2",
   "metadata": {},
   "source": [
    "Note that in the second cell, `f` is trying to update itself as soon as its inputs are ready, so if we _hadn't_ set the `f.inputs.y` channel to wait for an update, we would have gotten an error from the plotting command due to the mis-matched lengths of the x- and y-arrays."
   ]
  },
  {
   "cell_type": "markdown",
   "id": "5dc12164-b663-405b-872f-756996f628bd",
   "metadata": {},
   "source": [
    "# Workflows\n",
    "\n",
    "The case where we have groups of connected nodes working together is our normal, intended use case.\n",
    "We offer a formal way to group these objects together as a `Workflow(Node)` object.\n",
    "`Workflow` also offers us a single point of entry to the codebase -- i.e. most of the time you shouldn't need the node imports used above, because the decorators are available right on the workflow class.\n",
    "\n",
    "We will also see here that we can our node output channels using the `output_labels: Optional[str | list[str] | tuple[str]` kwarg, in case they don't have a convenient name to start with.\n",
    "This way we can always have convenient dot-based access (and tab completion) instead of having to access things by string-based keys."
   ]
  },
  {
   "cell_type": "code",
   "execution_count": 27,
   "id": "1cd000bd-9b24-4c39-9cac-70a3291d0660",
   "metadata": {},
   "outputs": [],
   "source": [
    "from pyiron_contrib.workflow.workflow import Workflow\n",
    "\n",
    "@Workflow.wrap_as.single_value_node(output_labels=\"is_greater\")\n",
    "def greater_than_half(x: int | float | bool = 0) -> bool:\n",
    "    \"\"\"The functionality doesn't matter here, it's just an example\"\"\"\n",
    "    return x > 0.5"
   ]
  },
  {
   "cell_type": "markdown",
   "id": "8f17751c-f5bf-4b13-8275-0685d8a1629e",
   "metadata": {},
   "source": [
    "## Adding nodes to a workflow\n",
    "\n",
    "All five of the following approaches are equivalent ways to add a node to a workflow:"
   ]
  },
  {
   "cell_type": "code",
   "execution_count": 28,
   "id": "7964df3c-55af-4c25-afc5-9e07accb606a",
   "metadata": {},
   "outputs": [
    {
     "name": "stdout",
     "output_type": "stream",
     "text": [
      "n1 n1 n1 (GreaterThanHalf) output single-value: False\n",
      "n3 n3 n3 (GreaterThanHalf) output single-value: False\n",
      "n4 n4 n4 (GreaterThanHalf) output single-value: False\n",
      "n5 n5 n5 (GreaterThanHalf) output single-value: False\n"
     ]
    }
   ],
   "source": [
    "from pyiron_contrib.workflow.function import Slow\n",
    "\n",
    "n1 = greater_than_half(label=\"n1\")\n",
    "\n",
    "wf = Workflow(\"my_wf\", n1)  # As args at init\n",
    "wf.add.Slow(lambda: x + 1, output_labels=\"p1\", label=\"n2\")  # Instantiating from the class with a lambda function\n",
    "# (Slow since we don't have an x default)\n",
    "wf.add(greater_than_half(label=\"n3\"))  # Instantiating then passing to node adder\n",
    "wf.n4 = greater_than_half(label=\"will_get_overwritten_with_n4\")  # Set attribute to instance\n",
    "greater_than_half(label=\"n5\", parent=wf)  # By passing the workflow to the node\n",
    "\n",
    "for k, v in wf.nodes.items():\n",
    "    print(k, v.label, v)"
   ]
  },
  {
   "cell_type": "markdown",
   "id": "dd5768a4-1810-4675-9389-bceb053cddfa",
   "metadata": {},
   "source": [
    "Workflows have inputs and outputs just like function nodes, but these are dynamically created to map to all _unconnected_ input and output for their underlying graph:"
   ]
  },
  {
   "cell_type": "code",
   "execution_count": 29,
   "id": "809178a5-2e6b-471d-89ef-0797db47c5ad",
   "metadata": {},
   "outputs": [
    {
     "name": "stdout",
     "output_type": "stream",
     "text": [
      "2\n"
     ]
    },
    {
     "name": "stderr",
     "output_type": "stream",
     "text": [
      "/Users/huber/work/pyiron/pyiron_contrib/pyiron_contrib/workflow/io.py:80: UserWarning: Assigning a channel with the label sum_ to the io key sum_sum_\n",
      "  warn(\n"
     ]
    }
   ],
   "source": [
    "wf = Workflow(\"simple\")\n",
    "\n",
    "@Workflow.wrap_as.single_value_node()\n",
    "def add_one(x):\n",
    "    y = x + 1\n",
    "    return y\n",
    "\n",
    "wf.a = add_one(0)\n",
    "wf.b = add_one(0)\n",
    "wf.sum = add_node(wf.a, wf.b)  \n",
    "# Remember, with single value nodes we can pass the whole node instead of an output channel!\n",
    "\n",
    "print(wf.outputs.sum_sum_.value)"
   ]
  },
  {
   "cell_type": "markdown",
   "id": "18ba07ca-f1f9-4f05-98db-d5612f9acbb6",
   "metadata": {},
   "source": [
    "Unlike function nodes, workflow input has no intrinsic order. We can still update it by calling the workflow, but we _need_ to use keyword and not positional arguments:"
   ]
  },
  {
   "cell_type": "code",
   "execution_count": 30,
   "id": "52c48d19-10a2-4c48-ae81-eceea4129a60",
   "metadata": {},
   "outputs": [
    {
     "name": "stdout",
     "output_type": "stream",
     "text": [
      "7\n"
     ]
    },
    {
     "name": "stderr",
     "output_type": "stream",
     "text": [
      "/Users/huber/work/pyiron/pyiron_contrib/pyiron_contrib/workflow/io.py:80: UserWarning: Assigning a channel with the label x to the io key a_x\n",
      "  warn(\n",
      "/Users/huber/work/pyiron/pyiron_contrib/pyiron_contrib/workflow/io.py:80: UserWarning: Assigning a channel with the label x to the io key b_x\n",
      "  warn(\n"
     ]
    }
   ],
   "source": [
    "wf(a_x=2, b_x=3)\n",
    "print(wf.outputs.sum_sum_.value)"
   ]
  },
  {
   "cell_type": "markdown",
   "id": "0d6c7e6a-d39d-4c03-9f73-d506d7975fea",
   "metadata": {},
   "source": [
    "(Note, you might see warnings from the workflow IO. This is fine, it's just letting us know that its keys don't match up with the channel labels. We don't see it until we call the input because workflows generate their IO panels dynamically on request to account for the fact that connections may change.)"
   ]
  },
  {
   "cell_type": "markdown",
   "id": "2671dc36-42a4-466b-848d-067ef7bd1d1d",
   "metadata": {},
   "source": [
    "# Example with pre-built nodes\n",
    "\n",
    "Currently we have a handfull of pre-build nodes available for import from the `nodes` package. Let's use these to quickly put together a workflow for looking at some MD data.\n",
    "\n",
    "The `calc_md` node is `Slow`, but we happen to know that the calculation we're doing here is very easy, so we'll manually set `run_on_updates` and `update_at_instantiation` to `True` to get it to behave like a typical `Function` node.\n",
    "\n",
    "Finally, `SingleValue` has one more piece of syntactic sugar: when you're making a connection to the (single!) output channel, you can just pass the node itself!"
   ]
  },
  {
   "cell_type": "code",
   "execution_count": 31,
   "id": "ae500d5e-e55b-432c-8b5f-d5892193cdf5",
   "metadata": {},
   "outputs": [
    {
     "name": "stderr",
     "output_type": "stream",
     "text": [
      "/Users/huber/work/pyiron/pyiron_contrib/pyiron_contrib/workflow/composite.py:193: UserWarning: Reassigning the node bulk_structure to the label structure when adding it to the parent with_prebuilt.\n",
      "  warn(\n",
      "/Users/huber/work/pyiron/pyiron_contrib/pyiron_contrib/workflow/composite.py:193: UserWarning: Reassigning the node lammps to the label engine when adding it to the parent with_prebuilt.\n",
      "  warn(\n"
     ]
    },
    {
     "name": "stdout",
     "output_type": "stream",
     "text": [
      "The job JUSTAJOBNAME was saved and received the ID: 9558\n"
     ]
    },
    {
     "name": "stderr",
     "output_type": "stream",
     "text": [
      "/Users/huber/work/pyiron/pyiron_contrib/pyiron_contrib/workflow/composite.py:193: UserWarning: Reassigning the node calc_md to the label calc when adding it to the parent with_prebuilt.\n",
      "  warn(\n",
      "/Users/huber/work/pyiron/pyiron_contrib/pyiron_contrib/workflow/composite.py:193: UserWarning: Reassigning the node scatter to the label plot when adding it to the parent with_prebuilt.\n",
      "  warn(\n"
     ]
    },
    {
     "data": {
      "image/png": "[encoded data removed]",
      "text/plain": [
       "<Figure size 640x480 with 1 Axes>"
      ]
     },
     "metadata": {},
     "output_type": "display_data"
    }
   ],
   "source": [
    "wf = Workflow(\"with_prebuilt\")\n",
    "\n",
    "wf.structure = wf.add.atomistics.BulkStructure(repeat=3, cubic=True, element=\"Al\")\n",
    "wf.engine = wf.add.atomistics.Lammps(structure=wf.structure)\n",
    "wf.calc = wf.add.atomistics.CalcMd(\n",
    "    job=wf.engine, \n",
    "    run_on_updates=True, \n",
    "    update_on_instantiation=True\n",
    ")\n",
    "wf.plot = wf.add.standard.Scatter(\n",
    "    x=wf.calc.outputs.steps, \n",
    "    y=wf.calc.outputs.temperature\n",
    ")"
   ]
  },
  {
   "cell_type": "code",
   "execution_count": null,
   "id": "cab89cc8-2409-4bdb-8b50-ccdf48e9ec5d",
   "metadata": {},
   "outputs": [],
   "source": []
  }
 ],
 "metadata": {
  "kernelspec": {
   "display_name": "Python 3 (ipykernel)",
   "language": "python",
   "name": "python3"
  },
  "language_info": {
   "codemirror_mode": {
    "name": "ipython",
    "version": 3
   },
   "file_extension": ".py",
   "mimetype": "text/x-python",
   "name": "python",
   "nbconvert_exporter": "python",
   "pygments_lexer": "ipython3",
   "version": "3.11.4"
  }
 },
 "nbformat": 4,
 "nbformat_minor": 5
}
