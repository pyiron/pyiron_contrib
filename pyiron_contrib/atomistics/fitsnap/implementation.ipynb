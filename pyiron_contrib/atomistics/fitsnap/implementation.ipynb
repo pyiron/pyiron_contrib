{
 "cells": [
  {
   "cell_type": "code",
   "execution_count": null,
   "id": "ea8942f4-dea7-4265-9ce2-d7d7f7b3a77e",
   "metadata": {},
   "outputs": [],
   "source": [
    "from pyiron import Project\n",
    "import numpy as np\n",
    "import matplotlib.pylab as plt\n",
    "import json\n",
    "from pandas import DataFrame\n",
    "import os\n",
    "%config InlineBackend.figure_format = 'retina'"
   ]
  },
  {
   "cell_type": "code",
   "execution_count": null,
   "id": "b24b04e5-c8e6-4fd1-bdf8-e314ecf3bca6",
   "metadata": {},
   "outputs": [],
   "source": [
    "pr = Project('SNAP')"
   ]
  },
  {
   "cell_type": "raw",
   "id": "9747bf6b-3087-4703-b602-b7254a0d38fd",
   "metadata": {},
   "source": [
    "plt.xlabel('Steps')\n",
    "plt.ylabel('Energy eV')\n",
    "plt.grid()\n",
    "plt.plot(lmp.output.energy_pot)"
   ]
  },
  {
   "cell_type": "code",
   "execution_count": null,
   "id": "fc9a6598-9ea2-47a4-8f0d-5611974a4a9a",
   "metadata": {},
   "outputs": [],
   "source": [
    "lmp = pr.create.job.Lammps('lmp_Ta')\n",
    "lmp.structure = pr.create.structure.bulk('Ta', cubic=True).repeat(4)\n",
    "lmp.calc_md(temperature=300, n_ionic_steps=10000)\n",
    "lmp.run()"
   ]
  },
  {
   "cell_type": "code",
   "execution_count": null,
   "id": "e480f58a-12a0-45f0-ab78-44fc93fbeece",
   "metadata": {},
   "outputs": [],
   "source": [
    "from pyiron_atomistics.atomistics.structure.atoms import pyiron_to_ase\n",
    "from ase.calculators.singlepoint import SinglePointCalculator\n",
    "import ase\n",
    "def get_ase_structure(job, frame=-1):\n",
    "    structure = pyiron_to_ase(job.get_structure(frame))\n",
    "    args = {}\n",
    "    try:\n",
    "        args['forces'] = job['output/generic/forces'][frame]\n",
    "        args['stress'] = -job['output/generic/pressures'][frame].flatten()[[0, 4, 8, 5, 2, 1]] * 1e4\n",
    "        args['energy'] = job['output/generic/energy_pot'][frame]\n",
    "    except:\n",
    "        pass\n",
    "    calc = SinglePointCalculator(structure, **args)\n",
    "    structure.set_calculator(calc)\n",
    "    return structure"
   ]
  },
  {
   "cell_type": "code",
   "execution_count": null,
   "id": "d2fa4446-421f-41da-bf71-1dc995d6f19d",
   "metadata": {},
   "outputs": [],
   "source": [
    "structures = [get_ase_structure(lmp, frame) for frame in np.arange(len(lmp.output.energy_pot))]"
   ]
  },
  {
   "cell_type": "code",
   "execution_count": null,
   "id": "b696e6c7-83a4-459f-9aef-35dee9bba743",
   "metadata": {},
   "outputs": [],
   "source": [
    "ase.io.write('XYZ/test.xyz', structures)"
   ]
  },
  {
   "cell_type": "code",
   "execution_count": null,
   "id": "b062d864-102a-4c49-9886-6e5b4fea84b8",
   "metadata": {},
   "outputs": [],
   "source": [
    "%cd /home/jovyan/testing\n",
    "from fitsnap3lib.parallel_tools import ParallelTools\n",
    "from fitsnap3lib.io.input import Config\n",
    "pt = ParallelTools()\n",
    "pt.check_fitsnap_exist=False\n",
    "config = Config(arguments_lst=[\"./Ta-example.in\", \"--overwrite\"])\n",
    "\n",
    "# create a fitsnap object\n",
    "\n",
    "from fitsnap3lib.fitsnap import FitSnap\n",
    "snap = FitSnap()"
   ]
  },
  {
   "cell_type": "code",
   "execution_count": null,
   "id": "f56d195a-a86a-4be9-b9d7-ffbfcdea1a23",
   "metadata": {},
   "outputs": [],
   "source": [
    "snap.scrape_configs()\n",
    "snap.process_configs()\n",
    "snap.perform_fit()"
   ]
  },
  {
   "cell_type": "code",
   "execution_count": null,
   "id": "3b887663-45bc-4574-bdeb-aaa13288ea14",
   "metadata": {},
   "outputs": [],
   "source": [
    "lmp_ref = pr.load('lmp_Ta')"
   ]
  },
  {
   "cell_type": "code",
   "execution_count": null,
   "id": "cb05fe77-c62f-4c50-879f-f1c0168eed4b",
   "metadata": {
    "tags": []
   },
   "outputs": [],
   "source": [
    "lmp = pr.create.job.Lammps('lmp', delete_existing_job=True)\n",
    "lmp.structure = lmp_ref.structure.copy()\n",
    "# lmp.potential = lmp.list_potentials()[0]\n",
    "\n",
    "path = os.path.abspath('.')\n",
    "config = [\n",
    "    'pair_style hybrid/overlay zbl 4.0 4.8 snap\\n',\n",
    "    'pair_coeff * * zbl 73 73\\n',\n",
    "    'pair_coeff * * snap {0}/Ta_pot.snapcoeff {0}/Ta_pot.snapparam Ta\\n'.format(path)\n",
    "]\n",
    "\n",
    "potential = DataFrame.from_dict({\n",
    "    'Config': [config],\n",
    "    'Filename': [[]],\n",
    "    'Name': ['Snap'],\n",
    "    'Model': ['Snap'],\n",
    "    'Species': [['Ta']],\n",
    "    'Citations': [[]]\n",
    "})\n",
    "\n",
    "lmp.potential = potential\n",
    "\n",
    "with lmp.interactive_open() as ll:\n",
    "    for xx in lmp_ref.output.positions:\n",
    "        ll.structure.positions = xx\n",
    "        ll.run()"
   ]
  },
  {
   "cell_type": "code",
   "execution_count": null,
   "id": "c2975b37-1c26-4826-80cd-7107e49cfe7b",
   "metadata": {},
   "outputs": [],
   "source": [
    "plt.scatter(lmp_ref.output.energy_pot, lmp.output.energy_pot)"
   ]
  },
  {
   "cell_type": "code",
   "execution_count": null,
   "id": "359ed20c-bc11-42c7-8c2b-9003423849ea",
   "metadata": {},
   "outputs": [],
   "source": []
  }
 ],
 "metadata": {
  "kernelspec": {
   "display_name": "Python 3 (ipykernel)",
   "language": "python",
   "name": "python3"
  },
  "language_info": {
   "codemirror_mode": {
    "name": "ipython",
    "version": 3
   },
   "file_extension": ".py",
   "mimetype": "text/x-python",
   "name": "python",
   "nbconvert_exporter": "python",
   "pygments_lexer": "ipython3",
   "version": "3.8.13"
  }
 },
 "nbformat": 4,
 "nbformat_minor": 5
}
