{
 "cells": [
  {
   "cell_type": "code",
   "execution_count": null,
   "id": "a73bce6e",
   "metadata": {
    "ExecuteTime": {
     "end_time": "2022-09-26T13:20:48.229238Z",
     "start_time": "2022-09-26T13:20:44.058044Z"
    }
   },
   "outputs": [],
   "source": [
    "import numpy as np\n",
    "import matplotlib.pyplot as plt\n",
    "import pandas as pd\n",
    "\n",
    "from os.path import abspath, join, isfile\n",
    "from os import remove\n",
    "from shutil import rmtree\n",
    "from glob import glob\n",
    "\n",
    "from pyiron_atomistics import Project\n",
    "from pyiron_contrib.atomistics.mean_field.core.bond_analysis import StaticBondAnalysis\n",
    "\n",
    "def cleanup_job(job):\n",
    "    \"\"\"\n",
    "    Removes all the child jobs (files AND folders) to save disk space and reduce file count, and only keeps\n",
    "    the hdf file.\n",
    "    \"\"\"\n",
    "    for f in glob(abspath(join(job.working_directory, '../..')) + '/' + job.job_name + '_*'):\n",
    "        if isfile(f):\n",
    "            remove(f)\n",
    "        else:\n",
    "            rmtree(f)"
   ]
  },
  {
   "cell_type": "code",
   "execution_count": null,
   "id": "7bd29db7",
   "metadata": {
    "ExecuteTime": {
     "end_time": "2022-09-26T13:20:52.734516Z",
     "start_time": "2022-09-26T13:20:48.233296Z"
    }
   },
   "outputs": [],
   "source": [
    "alpha=1.5\n",
    "pr = Project('morse_al/md_runs_nvt/alpha_' + str(alpha).replace('.', '_'))\n",
    "# pr.remove_jobs(recursive=True)"
   ]
  },
  {
   "cell_type": "code",
   "execution_count": null,
   "id": "0d0bea2d",
   "metadata": {
    "ExecuteTime": {
     "end_time": "2022-09-26T13:20:53.479854Z",
     "start_time": "2022-09-26T13:20:53.475012Z"
    }
   },
   "outputs": [],
   "source": [
    "# potential functions\n",
    "D = 0.1\n",
    "a_0 = 2.856\n",
    "kappa = 0.\n",
    "\n",
    "# for lammps\n",
    "def md_morse(D=D, alpha=alpha, r_0=a_0, b=1):\n",
    "    config = 'atom_style bond\\nbond_style morse\\n'\n",
    "    for i in range(b):\n",
    "        vals = (i+1, D, alpha, a_0)\n",
    "        config += 'bond_coeff %d %.7f %.7f %.7f\\n'%(vals)\n",
    "    return pd.DataFrame({'Name': ['Morse'],\n",
    "                         'Filename': [[]],                             \n",
    "                         'Model'   : ['Morse'], \n",
    "                         'Species' : [['Al']], \n",
    "                         'Config'  : [[config]]})"
   ]
  },
  {
   "cell_type": "code",
   "execution_count": null,
   "id": "587e4da6",
   "metadata": {
    "ExecuteTime": {
     "end_time": "2022-09-26T13:20:54.061220Z",
     "start_time": "2022-09-26T13:20:54.057138Z"
    }
   },
   "outputs": [],
   "source": [
    "# standard stuff\n",
    "\n",
    "element = 'Al'\n",
    "supercell_size = 4\n",
    "n_atoms = 4*supercell_size**3\n",
    "samples = 5\n",
    "md_steps = 1e4\n",
    "md_samples = md_steps / 2000\n",
    "temperatures = np.linspace(100, 900, 9)\n",
    "base_structure = pr.create.structure.bulk(name=element, cubic=True).repeat(supercell_size)"
   ]
  },
  {
   "cell_type": "code",
   "execution_count": null,
   "id": "9300f452",
   "metadata": {
    "ExecuteTime": {
     "end_time": "2022-09-26T13:21:01.120643Z",
     "start_time": "2022-09-26T13:20:59.785630Z"
    }
   },
   "outputs": [],
   "source": [
    "# relax the structure to atm pressure\n",
    "\n",
    "minim_job = pr.create.job.Lammps('minim_job', delete_existing_job=True)\n",
    "minim_job.structure = base_structure\n",
    "minim_job.potential = md_morse()\n",
    "minim_job.calc_minimize(pressure=0.0001)\n",
    "minim_job.run()\n",
    "structure = minim_job.get_structure()\n",
    "a_0 = (structure.cell/supercell_size/np.sqrt(2))[0][0]\n",
    "U_0 = minim_job.output.energy_pot[-1]/n_atoms"
   ]
  },
  {
   "cell_type": "code",
   "execution_count": null,
   "id": "52748d3b",
   "metadata": {
    "ExecuteTime": {
     "end_time": "2022-09-26T13:21:02.060511Z",
     "start_time": "2022-09-26T13:21:01.508450Z"
    }
   },
   "outputs": [],
   "source": [
    "# analyze bonds and get rotations and displacement matrix\n",
    "\n",
    "stat_ba = pr.create_job(StaticBondAnalysis, 'stat_ba', delete_existing_job=True)\n",
    "stat_ba.input.structure = structure.copy()\n",
    "stat_ba.input.n_shells = 1\n",
    "stat_ba.run()"
   ]
  },
  {
   "cell_type": "code",
   "execution_count": null,
   "id": "6f6ff28b-77f4-4dbd-bb65-11ac339758e9",
   "metadata": {
    "ExecuteTime": {
     "end_time": "2022-09-26T13:21:02.332021Z",
     "start_time": "2022-09-26T13:21:02.328904Z"
    }
   },
   "outputs": [],
   "source": [
    "# from the static bond analysis, create a bonds list that can be passed to a pyiron lammps job\n",
    "\n",
    "def get_bonds_list(bond_relations):\n",
    "    # for FCC, only include 6 bonds out of 12, as other 6 are anti-parallel\n",
    "    bonds_list = bond_relations[::2]\n",
    "    for (per_bond_relations, i) in zip(bonds_list, np.arange(len(bonds_list))+1):\n",
    "        # change bond type index\n",
    "        per_bond_relations[:, 2] = i\n",
    "    return bonds_list.reshape(-1, 3)"
   ]
  },
  {
   "cell_type": "code",
   "execution_count": null,
   "id": "a73a0ec1",
   "metadata": {},
   "outputs": [],
   "source": [
    "## Run NVT job first and then run NVE"
   ]
  },
  {
   "cell_type": "code",
   "execution_count": null,
   "id": "e59068ed",
   "metadata": {
    "ExecuteTime": {
     "end_time": "2022-09-26T13:21:21.131093Z",
     "start_time": "2022-09-26T13:21:10.725370Z"
    },
    "scrolled": true
   },
   "outputs": [],
   "source": [
    "## NVT\n",
    "\n",
    "# for i, temp in enumerate(temperatures):\n",
    "#     temp_group = pr.create_group('temp_' + str(i))\n",
    "#     for j in range(samples):\n",
    "#         job = temp_group.create.job.Lammps('npt_temp_' + str(i) + '_sample_' + str(j), delete_existing_job=True)\n",
    "#         job.structure = structure.copy()\n",
    "#         job.structure.bonds = get_bonds_list(stat_ba.output.per_shell_bond_relations[0].copy())\n",
    "#         job.potential = md_morse(b=6)\n",
    "#         job.calc_md(temperature=temp, pressure=None, n_ionic_steps=md_steps, n_print=md_samples,\n",
    "#                     langevin=True, pressure_damping_timescale=100., time_step=1.)\n",
    "#         job.input.control.energy_pot_per_atom()\n",
    "#         job.write_restart_file()\n",
    "#         job.server.queue = 'cmti'\n",
    "#         job.server.cores = 4\n",
    "#         job.server.runtime = 3600\n",
    "#         job.run()"
   ]
  },
  {
   "cell_type": "code",
   "execution_count": null,
   "id": "5047f781",
   "metadata": {
    "ExecuteTime": {
     "end_time": "2022-09-26T13:24:54.986620Z",
     "start_time": "2022-09-26T13:23:52.441768Z"
    },
    "scrolled": true
   },
   "outputs": [],
   "source": [
    "## NVE\n",
    "\n",
    "for i, temp in enumerate(temperatures):\n",
    "    temp_group = pr.create_group('temp_' + str(i))\n",
    "    for j in range(samples):\n",
    "        job = pr.load('npt_temp_' + str(i) + '_sample_' + str(j))\n",
    "        job_nve = job.restart(job_type=pr.job_type.Lammps, job_name='nve_temp_' + str(i) + '_sample_' + str(j))\n",
    "        job_nve.calc_md(temperature=None, n_print=md_samples, n_ionic_steps=md_steps)\n",
    "        del job_nve.input.control[\"fix___langevin\"]\n",
    "        job.server.queue = 'cmti'\n",
    "        job.server.cores = 4\n",
    "        job.server.runtime = 3600\n",
    "        job_nve.run()"
   ]
  },
  {
   "cell_type": "code",
   "execution_count": null,
   "id": "3c255818",
   "metadata": {
    "ExecuteTime": {
     "end_time": "2022-09-26T13:27:10.391451Z",
     "start_time": "2022-09-26T13:26:52.268307Z"
    }
   },
   "outputs": [],
   "source": [
    "## to delete all LAMMPS files, and only keep the pyiron job\n",
    "\n",
    "for i in range(len(temperatures)):\n",
    "    for j in range(samples):\n",
    "        cleanup_job(job_npt)\n",
    "        cleanup_job(job_nve)"
   ]
  }
 ],
 "metadata": {
  "kernelspec": {
   "display_name": "Python 3 (ipykernel)",
   "language": "python",
   "name": "python3"
  },
  "language_info": {
   "codemirror_mode": {
    "name": "ipython",
    "version": 3
   },
   "file_extension": ".py",
   "mimetype": "text/x-python",
   "name": "python",
   "nbconvert_exporter": "python",
   "pygments_lexer": "ipython3",
   "version": "3.8.15"
  }
 },
 "nbformat": 4,
 "nbformat_minor": 5
}
