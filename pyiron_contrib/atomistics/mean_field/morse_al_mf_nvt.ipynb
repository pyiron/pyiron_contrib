{
 "cells": [
  {
   "cell_type": "markdown",
   "id": "04ace7b5",
   "metadata": {},
   "source": [
    "# Bond lattice mean-field model for a Morse potential - NVT"
   ]
  },
  {
   "cell_type": "code",
   "execution_count": 1,
   "id": "08515601",
   "metadata": {
    "ExecuteTime": {
     "end_time": "2022-12-01T12:39:29.787937Z",
     "start_time": "2022-12-01T12:39:18.101470Z"
    }
   },
   "outputs": [
    {
     "name": "stderr",
     "output_type": "stream",
     "text": [
      "/cmmc/u/system/SLES12/soft/pyiron/dev/anaconda3/lib/python3.8/site-packages/pkg_resources/__init__.py:123: PkgResourcesDeprecationWarning: NOT-A-GIT-REPOSITORY is an invalid version and will not be supported in a future release\n",
      "  warnings.warn(\n"
     ]
    },
    {
     "data": {
      "application/vnd.jupyter.widget-view+json": {
       "model_id": "7aef85872b764f33b9afa27055579fa6",
       "version_major": 2,
       "version_minor": 0
      },
      "text/plain": []
     },
     "metadata": {},
     "output_type": "display_data"
    }
   ],
   "source": [
    "from pyiron_atomistics import Project\n",
    "\n",
    "from scipy.interpolate import UnivariateSpline, CubicSpline\n",
    "from scipy.optimize import root_scalar, root\n",
    "from scipy.integrate import cumtrapz\n",
    "\n",
    "import numpy as np\n",
    "import matplotlib.pyplot as plt\n",
    "import pandas as pd\n",
    "from matplotlib import gridspec\n",
    "\n",
    "from scipy.constants import physical_constants\n",
    "KB = physical_constants['Boltzmann constant in eV/K'][0]\n",
    "\n",
    "from pyiron_contrib.atomistics.mean_field.core.bond_analysis import StaticBondAnalysis, MDBondAnalysis\n",
    "\n",
    "import seaborn as sns\n",
    "sns.set_context('paper', font_scale=1.5, rc={\"lines.linewidth\": 2})"
   ]
  },
  {
   "cell_type": "code",
   "execution_count": 2,
   "id": "c9c25b36",
   "metadata": {
    "ExecuteTime": {
     "end_time": "2022-12-01T12:39:29.793519Z",
     "start_time": "2022-12-01T12:39:29.788229Z"
    }
   },
   "outputs": [],
   "source": [
    "alpha = 1.5\n",
    "pr = Project('morse_al/mfm')\n",
    "pr_md_nvt = Project('morse_al/md_runs_nvt/alpha_' + str(alpha).replace('.', '_'))"
   ]
  },
  {
   "cell_type": "code",
   "execution_count": 3,
   "id": "d1e84e27",
   "metadata": {
    "ExecuteTime": {
     "end_time": "2022-12-01T12:39:29.800805Z",
     "start_time": "2022-12-01T12:39:29.793725Z"
    }
   },
   "outputs": [],
   "source": [
    "# potential functions\n",
    "D = 0.1\n",
    "a_0 = 2.856\n",
    "kappa = 0.\n",
    "\n",
    "# for lammps\n",
    "def md_morse(D=D, alpha=alpha, r_0=a_0, b=1):\n",
    "    config = 'atom_style bond\\nbond_style morse\\n'\n",
    "    for i in range(b):\n",
    "        vals = (i+1, D, alpha, a_0)\n",
    "        config += 'bond_coeff %d %.7f %.7f %.7f\\n'%(vals)\n",
    "    return pd.DataFrame({'Name': ['Morse'],\n",
    "                         'Filename': [[]],                             \n",
    "                         'Model'   : ['Morse'], \n",
    "                         'Species' : [['Al']], \n",
    "                         'Config'  : [[config]]})\n",
    "\n",
    "# longitudinal_potential\n",
    "def morse(r, D=D, alpha=alpha, a_0=a_0):\n",
    "    return D*(1.0+np.exp(-2.0*alpha*(r-a_0)) - 2.0*np.exp(-alpha*(r-a_0)))\n",
    "\n",
    "def dmorse(r, D=D, alpha=alpha, a_0=a_0):\n",
    "    return -2.0*alpha*D*(np.exp(-2.0*alpha*(r-a_0)) - np.exp(-alpha*(r-a_0)))\n",
    "\n",
    "# harmonic potential\n",
    "def harm(r, kappa=kappa):\n",
    "    return D*alpha*alpha*kappa*(r**2)"
   ]
  },
  {
   "cell_type": "code",
   "execution_count": 4,
   "id": "f1997bca",
   "metadata": {
    "ExecuteTime": {
     "end_time": "2022-12-01T12:39:29.807240Z",
     "start_time": "2022-12-01T12:39:29.800985Z"
    }
   },
   "outputs": [],
   "source": [
    "# structure\n",
    "element = 'Al'\n",
    "potential = md_morse()\n",
    "supercell = 4\n",
    "n_atoms = 4*supercell**3\n",
    "temperatures = np.linspace(100, 900, 9)\n",
    "samples = 5"
   ]
  },
  {
   "cell_type": "code",
   "execution_count": 5,
   "id": "ddf9c025",
   "metadata": {
    "ExecuteTime": {
     "end_time": "2022-12-01T12:39:31.207687Z",
     "start_time": "2022-12-01T12:39:29.807441Z"
    }
   },
   "outputs": [
    {
     "name": "stdout",
     "output_type": "stream",
     "text": [
      "The job zero was saved and received the ID: 18414706\n"
     ]
    }
   ],
   "source": [
    "# minimize structure\n",
    "zero = pr.create.job.Lammps('zero', delete_existing_job=True)\n",
    "zero.structure = pr.create.structure.bulk(element, cubic=True).repeat(supercell)\n",
    "zero.potential = potential\n",
    "zero.calc_minimize(pressure=0.0001)\n",
    "zero.run()\n",
    "structure = zero.get_structure()\n",
    "a_0 = (structure.cell/supercell/np.sqrt(2))[0][0]\n",
    "U_0 = zero.output.energy_pot[-1]/n_atoms"
   ]
  },
  {
   "cell_type": "code",
   "execution_count": 6,
   "id": "8d6b917f",
   "metadata": {
    "ExecuteTime": {
     "end_time": "2022-12-01T12:39:31.841612Z",
     "start_time": "2022-12-01T12:39:31.209275Z"
    }
   },
   "outputs": [
    {
     "name": "stdout",
     "output_type": "stream",
     "text": [
      "The job stat_ba was saved and received the ID: 18414707\n"
     ]
    }
   ],
   "source": [
    "# analyze bonds and get rotations and displacement matrix\n",
    "stat_ba = pr.create_job(StaticBondAnalysis, 'stat_ba', delete_existing_job=True)\n",
    "stat_ba.input.structure = structure.copy()\n",
    "stat_ba.input.n_shells = 1\n",
    "stat_ba.run()"
   ]
  },
  {
   "cell_type": "code",
   "execution_count": 7,
   "id": "6749c0f7",
   "metadata": {
    "ExecuteTime": {
     "end_time": "2022-12-01T12:39:31.842974Z",
     "start_time": "2022-12-01T12:39:31.841807Z"
    }
   },
   "outputs": [],
   "source": [
    "# normalized displacement vectors along which to displace our atom\n",
    "disp_matrix = np.array(stat_ba.output.per_shell_transformation_matrices[0][0])\n",
    "# these are also the normalized long, t1 and t2 vectors\n",
    "long_hat, t1_hat, t2_hat = disp_matrix\n",
    "# rotations\n",
    "rotations = stat_ba.output.per_shell_0K_rotations[0]\n",
    "# a_xyz\n",
    "a_xyz = long_hat*a_0"
   ]
  },
  {
   "cell_type": "code",
   "execution_count": 8,
   "id": "e3de985e",
   "metadata": {
    "ExecuteTime": {
     "end_time": "2022-12-01T12:39:39.408764Z",
     "start_time": "2022-12-01T12:39:31.843144Z"
    }
   },
   "outputs": [],
   "source": [
    "# load the nvt jobs from the md runs\n",
    "md_jobs_nvt = []\n",
    "for i in range(len(temperatures)):\n",
    "    temp_jobs = []\n",
    "    for j in range(samples):\n",
    "        temp_jobs.append(pr_md_nvt.load('nve_temp_' + str(i) + '_sample_' + str(j)))\n",
    "    md_jobs_nvt.append(temp_jobs)"
   ]
  },
  {
   "cell_type": "code",
   "execution_count": 9,
   "id": "32ad89bd",
   "metadata": {
    "ExecuteTime": {
     "end_time": "2022-12-01T12:39:41.585289Z",
     "start_time": "2022-12-01T12:39:39.409009Z"
    }
   },
   "outputs": [],
   "source": [
    "# extract mean anharmonic internal energy from the md run\n",
    "def get_md_ah_U(temp_jobs, temperature, snapshots=200):\n",
    "    ah_U_pa = []\n",
    "    for job in temp_jobs:\n",
    "        if job.status == 'finished':\n",
    "            U_pa = np.mean(job['output/generic/energy_pot'][snapshots:])/n_atoms - U_0\n",
    "            T_virial = np.mean(job['output/generic/temperature'][snapshots:])\n",
    "            ah_U_pa.append(U_pa - 1.5*KB*T_virial)\n",
    "    return np.mean(ah_U_pa)*1000, np.std(ah_U_pa)/np.sqrt(len(temp_jobs))*1000  # in meV\n",
    "\n",
    "U_md_nvt = []\n",
    "U_md_nvt_err = []\n",
    "for (temp_jobs, temp) in zip(md_jobs_nvt, temperatures):\n",
    "    ah_U_pa, ah_U_pa_err = get_md_ah_U(temp_jobs, temp)\n",
    "    U_md_nvt.append(ah_U_pa)\n",
    "    U_md_nvt_err.append(ah_U_pa_err)\n",
    "U_md_nvt = np.array(U_md_nvt)\n",
    "U_md_nvt_err = np.array(U_md_nvt_err)"
   ]
  },
  {
   "cell_type": "code",
   "execution_count": 10,
   "id": "d2509a66",
   "metadata": {
    "ExecuteTime": {
     "end_time": "2022-12-01T12:40:13.530109Z",
     "start_time": "2022-12-01T12:39:41.585524Z"
    }
   },
   "outputs": [
    {
     "name": "stdout",
     "output_type": "stream",
     "text": [
      "The job md_ba_100_0 was saved and received the ID: 18414708\n",
      "The job md_ba_200_0 was saved and received the ID: 18414709\n",
      "The job md_ba_300_0 was saved and received the ID: 18414710\n",
      "The job md_ba_400_0 was saved and received the ID: 18414711\n",
      "The job md_ba_500_0 was saved and received the ID: 18414712\n",
      "The job md_ba_600_0 was saved and received the ID: 18414713\n",
      "The job md_ba_700_0 was saved and received the ID: 18414714\n",
      "The job md_ba_800_0 was saved and received the ID: 18414715\n",
      "The job md_ba_900_0 was saved and received the ID: 18414716\n"
     ]
    }
   ],
   "source": [
    "# analyze MD bonds for the highest temperature\n",
    "md_ba_jobs = []\n",
    "for (temp, temp_jobs) in zip(temperatures, md_jobs_nvt):\n",
    "    md_job = temp_jobs[0]\n",
    "    md_ba = pr.create_job(MDBondAnalysis, 'md_ba_nvt' + str(temp).replace('.','_'), delete_existing_job=True)\n",
    "    md_ba.input.structure = structure.copy()\n",
    "    md_ba.input.n_shells = 1\n",
    "    md_ba.input.md_job = md_job.copy()\n",
    "    md_ba.input.thermalize_snapshots = 200\n",
    "    md_ba.run()\n",
    "    md_ba_jobs.append(md_ba)"
   ]
  },
  {
   "cell_type": "code",
   "execution_count": 11,
   "id": "7526d922",
   "metadata": {
    "ExecuteTime": {
     "end_time": "2022-12-01T12:40:13.532353Z",
     "start_time": "2022-12-01T12:40:13.530326Z"
    }
   },
   "outputs": [],
   "source": [
    "# bond arrangement functions\n",
    "\n",
    "# for 1d\n",
    "def get_b_array(long_samples, t1_samples, t2_samples):\n",
    "    b_array = np.outer(long_samples, long_hat) + np.outer(t1_samples, t1_hat) +  np.outer(t2_samples, t2_hat)\n",
    "    return b_array\n",
    "\n",
    "# for 3d\n",
    "def get_sample_mesh(long_samples, t1_samples, t2_samples):\n",
    "    long_mesh, t1_mesh, t2_mesh = np.meshgrid(long_samples, t1_samples, t2_samples, indexing='ij')\n",
    "    return long_mesh, t1_mesh, t2_mesh\n",
    "\n",
    "def get_b_grid(long_mesh, t1_mesh, t2_mesh):\n",
    "    b_grid = np.tensordot(long_mesh, long_hat, axes=0) + np.tensordot(t1_mesh, t1_hat, axes=0) + \\\n",
    "             np.tensordot(t2_mesh, t2_hat, axes=0)\n",
    "    return b_grid"
   ]
  },
  {
   "cell_type": "code",
   "execution_count": 12,
   "id": "bf701729",
   "metadata": {
    "ExecuteTime": {
     "end_time": "2022-12-01T12:40:21.236963Z",
     "start_time": "2022-12-01T12:40:13.532511Z"
    }
   },
   "outputs": [],
   "source": [
    "# create bond vectors from the MD bond distribution (so a seperate one for each temperature)\n",
    "n_bins = 51\n",
    "long_meshs, t1_meshs, t2_meshs = [], [], []\n",
    "for c in range(len(temperatures)):\n",
    "    md_rho, md_bins = md_ba_jobs[c].get_3d_histogram_long_t1_t2(n_bins=n_bins, shell=0)\n",
    "    long_meshs.append(md_bins[0])\n",
    "    t1_meshs.append(md_bins[1])\n",
    "    t2_meshs.append(md_bins[2])\n",
    "    \n",
    "# since our rotations are done in the xyz coordinate system, we convert them to xyz\n",
    "b_grids = []\n",
    "for c in range(len(temperatures)):\n",
    "    b_grids.append(get_b_grid(long_meshs[c], t1_meshs[c], t2_meshs[c]))"
   ]
  },
  {
   "cell_type": "code",
   "execution_count": 13,
   "id": "07c0556b",
   "metadata": {
    "ExecuteTime": {
     "end_time": "2022-12-01T12:40:21.237941Z",
     "start_time": "2022-12-01T12:40:21.237206Z"
    }
   },
   "outputs": [],
   "source": [
    "# # create custom meshs\n",
    "# n_bins = 51\n",
    "# long_samples = np.linspace(1.5, 4.5, n_bins)\n",
    "# t1_samples = np.linspace(-1.5, 1.5, n_bins)\n",
    "# t2_samples = t1_samples.copy()\n",
    "# long_mesh, t1_mesh, t2_mesh = get_sample_mesh(long_samples, t1_samples, t2_samples)\n",
    "# b_grids = [get_b_grid(long_mesh, t1_mesh, t2_mesh)]*len(temperatures)"
   ]
  },
  {
   "cell_type": "code",
   "execution_count": 14,
   "id": "005004e3",
   "metadata": {
    "ExecuteTime": {
     "end_time": "2022-12-01T12:40:21.254880Z",
     "start_time": "2022-12-01T12:40:21.238194Z"
    }
   },
   "outputs": [],
   "source": [
    "# single bonding potential\n",
    "def V_1(b_xyz):\n",
    "    r = np.linalg.norm(b_xyz, axis=-1)\n",
    "    return morse(r)\n",
    "\n",
    "# single bonding potential gradient\n",
    "def dV_1(b_xyz):\n",
    "    V = V_1(b_xyz=b_xyz)\n",
    "    long_samples = np.dot(b_xyz, long_hat)[:, 0, 0]\n",
    "    t1_samples = np.dot(b_xyz, t1_hat)[0, :, 0]\n",
    "    t2_samples = np.dot(b_xyz, t2_hat)[0, 0, :]\n",
    "    return np.gradient(V, long_samples, t1_samples, t2_samples, edge_order=2)\n",
    "\n",
    "# each mean field component\n",
    "def V_mf_component(b_xyz, rotation, a_s=1., a_ex=1.):\n",
    "    \"\"\"\n",
    "    here, a_s=the 'global' strain and a_ex=the 'pseudo' strain, which is equal to the 'global' strain at P=0 for \n",
    "    a given temperature. Once a_ex is established for a temperature, it remains the same for that temperature for \n",
    "    all new 'global' strains that we would like our model to predict free energies for.\n",
    "    \"\"\"\n",
    "    return V_1((b_xyz-a_xyz*a_s*a_ex)@rotation.T+a_xyz*a_s*a_ex)\n",
    "\n",
    "# mean field potential\n",
    "def V_mf(b_xyz, a_s=1., a_ex=1.):\n",
    "    vmf = V_1(b_xyz)/2\n",
    "    for rot in rotations[1:]:\n",
    "        vmf += V_mf_component(b_xyz=b_xyz, rotation=rot, a_s=a_s, a_ex=a_ex)/2\n",
    "    return vmf\n",
    "\n",
    "# mean field correlated potential\n",
    "def V_mfc(b_xyz, a_s=1., a_ex=1.):\n",
    "    vmfc = V_mf_component(b_xyz=b_xyz, rotation=rotations[0], a_s=a_s, a_ex=a_ex)\n",
    "    for i, rot in enumerate(rotations):\n",
    "        if i not in [0, 1]:\n",
    "            vmfc += V_mf_component(b_xyz=b_xyz, rotation=rot, a_s=a_s, a_ex=a_ex)/2\n",
    "    return vmfc\n",
    "\n",
    "# # linear correction function 1-d\n",
    "# def find_linear_correction(temperature=100., a_s=1., a_ex=1., nstep=10000, minr=0.1, maxr=5.):\n",
    "#     r = np.linspace(minr, maxr, nstep, endpoint=True)\n",
    "#     r_array = get_b_array(r, np.zeros(nstep), np.zeros(nstep))\n",
    "#     V = V_mfc(b_xyz=r_array, a_s=a_s, a_ex=a_ex)\n",
    "#     V -= V.min()\n",
    "#     sel = V/temperature/KB<200.0 \n",
    "#     r, V = r[sel], V[sel]\n",
    "#     aa = a_s*a_0\n",
    "#     def f(m):\n",
    "#         rho = brho * np.exp(-m*(r-aa)/temperature/KB)\n",
    "#         res = np.abs(np.log((rho*r).sum()/rho.sum()/aa)).sum()\n",
    "#         return res\n",
    "#     brho = np.exp(-(V-V.min())/temperature/KB)\n",
    "#     solver = root_scalar(f, x0=0.0, x1=0.01, rtol=1e-8)\n",
    "#     return solver.root\n",
    "\n",
    "# linear correction function\n",
    "def find_linear_correction(b_xyz, temperature=100., a_s=1., a_ex=1.):\n",
    "    \"\"\"\n",
    "    since the 1-d linear correction was not correctly setting <b>=a (bug in the code?) I use the 3d bond vectors\n",
    "    to find the linear correction. This works.\n",
    "    \"\"\"\n",
    "    V = V_mfc(b_xyz=b_xyz, a_s=a_s, a_ex=a_ex)\n",
    "    V -= V.min()\n",
    "    long_mesh = np.dot(b_xyz, long_hat)\n",
    "    sel = V/temperature/KB<200.0 \n",
    "    long_mesh, V = long_mesh[sel], V[sel]\n",
    "    aa = a_s*a_0\n",
    "    def f(m):\n",
    "        rho = brho*np.exp(-m*(long_mesh-aa)/temperature/KB)\n",
    "        res = np.abs(np.log((rho*long_mesh).sum()/rho.sum()/aa)).sum()\n",
    "        return res\n",
    "    brho = np.exp(-(V-V.min())/temperature/KB)\n",
    "    solver = root_scalar(f, x0=0.0, x1=0.01, rtol=1e-8)\n",
    "    return solver.root\n",
    "\n",
    "# mean field correlated potential with linear correction term\n",
    "def V_mfc_lc(b_xyz, temperature=100., a_s=1., a_ex=1.):\n",
    "    lm = find_linear_correction(b_xyz=b_xyz, temperature=temperature, a_s=a_s, a_ex=a_ex)\n",
    "    # NOTE here that the additional local strain is NOT considered here, as this will make the model predict\n",
    "    # the correction term at that strain, thus violating <b>=a.\n",
    "    lc = lm*(np.dot(b_xyz, long_hat)-a_0*a_s)\n",
    "    vmfclc = V_mfc(b_xyz=b_xyz, a_s=a_s, a_ex=a_ex)+lc\n",
    "    return vmfclc\n",
    "\n",
    "# helper method to find virial quantities\n",
    "def virial_helper(b_xyz, a_s=1., a_ex=1., pressure=False):\n",
    "    dV = np.array(dV_1(b_xyz))\n",
    "    if not pressure:\n",
    "        db_dV = (np.dot(b_xyz, long_hat)-a_0*a_s)*dV[0] + np.dot(b_xyz, t1_hat)*dV[1] + np.dot(b_xyz, t2_hat)*dV[2]\n",
    "    else:\n",
    "        db_dV = a_0*a_s*dV[0] # + np.dot(b_xyz, t1_hat)*dV[1] + np.dot(b_xyz, t2_hat)*dV[2]\n",
    "    return db_dV\n",
    "\n",
    "# bonding density function\n",
    "def get_rho(v, temperature=100.):\n",
    "    rho = np.exp(-(v-v.min())/KB/ temperature)\n",
    "    return rho/rho.sum()\n",
    "\n",
    "# virial temperature\n",
    "def find_virial_T(b_xyz, temperature=100., a_s=1., a_ex=1.):\n",
    "    db_dV = virial_helper(b_xyz, a_s=a_s, a_ex=a_ex)\n",
    "    vmfclc = V_mfc_lc(b_xyz=b_xyz, temperature=temperature, a_s=a_s, a_ex=a_ex)\n",
    "    rho = get_rho(v=vmfclc, temperature=temperature)\n",
    "    return 2./KB*(rho*db_dV).sum()\n",
    "\n",
    "# virial pressure\n",
    "def find_virial_P(b_xyz, temperature=100., a_s=1., a_ex=1.):\n",
    "    db_dV = virial_helper(b_xyz, a_s=a_s, a_ex=a_ex, pressure=True)\n",
    "    vmfclc = V_mfc_lc(b_xyz=b_xyz, temperature=temperature, a_s=a_s, a_ex=a_ex)\n",
    "    rho = get_rho(v=vmfclc, temperature=temperature)\n",
    "    N_by_V = n_atoms/((a_0*a_s*np.sqrt(2)*supercell)**3)\n",
    "    return N_by_V*(KB*temperature+4.*((rho*db_dV).sum()))\n",
    "\n",
    "# 2 virials, 1 method\n",
    "def find_virial(b_xyz, temperature=100., a_s=1., a_ex=1.):\n",
    "    \"\"\"\n",
    "    Find both the virial temperature and pressure in the same method.\n",
    "    \"\"\"\n",
    "    vmfclc = V_mfc_lc(b_xyz=b_xyz, temperature=temperature, a_s=a_s, a_ex=a_ex)\n",
    "    rho = get_rho(v=vmfclc, temperature=temperature)\n",
    "    db_dV_T = virial_helper(b_xyz=b_xyz, a_s=a_s, a_ex=a_ex)\n",
    "    virial_T = 2./KB*(rho*db_dV_T).sum()\n",
    "    db_dV_P = virial_helper(b_xyz, a_s=a_s, a_ex=a_ex, pressure=True)\n",
    "    N_by_V = n_atoms/((a_0*a_s*np.sqrt(2)*supercell)**3)\n",
    "    virial_P = N_by_V*(KB*temperature+4.*((rho*db_dV_P).sum()))\n",
    "    return virial_T, virial_P\n",
    "\n",
    "# effective temperature\n",
    "def find_eff_T(b_xyz, temperature=100., a_s=1., a_ex=1.):\n",
    "    print(\"Initial temperature: {}\".format(temperature))\n",
    "    def dvirialE(eff_temperature):\n",
    "        res = find_virial_T(b_xyz=b_xyz, temperature=eff_temperature, a_s=a_s, a_ex=a_ex)\n",
    "        return res/(temperature+1e-20)-1.\n",
    "    solver = root_scalar(dvirialE, x0=temperature, x1=temperature+10, rtol=1e-8)\n",
    "    print(\"Effective temperature: {}\".format(solver.root))\n",
    "    return solver.root\n",
    "    \n",
    "# effective temperature + strain\n",
    "def find_eff_strain_and_T(b_xyz, temperature=100., pressure=1e-10, a_s=1., a_ex=1.):\n",
    "    \"\"\"\n",
    "    Optimize both the effective temperature and strain corresponding to a given pressure. Presently, I use this\n",
    "    method to set my pressure to 0 to obtain a_ex.\n",
    "    \"\"\"\n",
    "    def dvirialPT(arg):\n",
    "        res_T, res_P = find_virial(b_xyz=b_xyz, temperature=arg[0], a_s=arg[1], a_ex=arg[1])\n",
    "        return [res_T/(temperature+1e-20)-1., res_P/(pressure+1e-20)-1.]\n",
    "    solver = root(dvirialPT, x0=(temperature, a_s), tol=1e-8)\n",
    "    print('Effective temperature: {}\\nGlobal strain: {}'.format(solver.x[0], solver.x[1]))\n",
    "    return solver.x\n",
    "\n",
    "# strain_at_pressure\n",
    "def find_strain_at_pressure(b_xyz, temperature=100., pressure=1e-20, a_ex=1., a_s=1.):\n",
    "    \"\"\"\n",
    "    seperate method to find the strain at an input pressure.\n",
    "    \"\"\"\n",
    "    def f(a_s):\n",
    "        res = find_virial_P(b_xyz=b_xyz, temperature=temperature, a_s=a_s, a_ex=a_ex)\n",
    "        return res/(pressure+1e-20)-1.\n",
    "    solver = root_scalar(f, x0=a_ex*0.99, x1=a_ex*1.01, rtol=1e-8)\n",
    "    return solver.root\n",
    "\n",
    "# get ah U's using this function...\n",
    "def get_ah_U(rhos, temperatures=temperatures):\n",
    "    return np.array([(6*(((V_1(b_grids[i]) - V_1(a_xyz))*rho).sum()) - 1.5*KB*t)*1000 \n",
    "                           for i, (rho, t) in enumerate(zip(rhos, temperatures))])\n",
    "\n",
    "# get ah F's using this function...\n",
    "def get_ah_F(ah_Us, temperatures=temperatures, n_fine=10000):\n",
    "    fine_temperatures = np.linspace(temperatures[0], temperatures[-1], n_fine, endpoint=True)\n",
    "    ah_U_eqn = UnivariateSpline(x=temperatures, y=ah_Us, k=3, s=0)\n",
    "    return -cumtrapz(ah_U_eqn(fine_temperatures), 1/fine_temperatures)*fine_temperatures[1:], fine_temperatures[1:]"
   ]
  },
  {
   "cell_type": "code",
   "execution_count": 15,
   "id": "358fc4a9",
   "metadata": {
    "ExecuteTime": {
     "end_time": "2022-12-01T12:40:32.681284Z",
     "start_time": "2022-12-01T12:40:21.255102Z"
    }
   },
   "outputs": [
    {
     "name": "stdout",
     "output_type": "stream",
     "text": [
      "Initial temperature: 100.0\n",
      "Effective temperature: 102.27073193969343\n",
      "Initial temperature: 200.0\n",
      "Effective temperature: 208.30874684550085\n",
      "Initial temperature: 300.0\n",
      "Effective temperature: 317.3666072552088\n",
      "Initial temperature: 400.0\n",
      "Effective temperature: 428.1827095112276\n",
      "Initial temperature: 500.0\n",
      "Effective temperature: 540.7044354412858\n",
      "Initial temperature: 600.0\n",
      "Effective temperature: 654.4027427164102\n",
      "Initial temperature: 700.0\n",
      "Effective temperature: 766.6114678679114\n",
      "Initial temperature: 800.0\n",
      "Effective temperature: 879.6841310785211\n",
      "Initial temperature: 900.0\n",
      "Effective temperature: 992.2656375806246\n"
     ]
    }
   ],
   "source": [
    "# collect effective temperatures using the old approach\n",
    "eff_temperatures_old = np.array([find_eff_T(b_grid, temp) for temp, b_grid in zip(temperatures, b_grids)])"
   ]
  },
  {
   "cell_type": "code",
   "execution_count": 16,
   "id": "73c19a10",
   "metadata": {
    "ExecuteTime": {
     "end_time": "2022-12-01T12:41:06.146230Z",
     "start_time": "2022-12-01T12:40:32.681498Z"
    }
   },
   "outputs": [
    {
     "name": "stdout",
     "output_type": "stream",
     "text": [
      "Effective temperature: 99.84299423194422\n",
      "Global strain: 1.0060857914733892\n",
      "Effective temperature: 199.1268613415269\n",
      "Global strain: 1.0126535077823045\n",
      "Effective temperature: 297.72108879440196\n",
      "Global strain: 1.0197490143622303\n",
      "Effective temperature: 394.3199506973771\n",
      "Global strain: 1.0276349109964757\n",
      "Effective temperature: 489.90350390534894\n",
      "Global strain: 1.0361942420182997\n",
      "Effective temperature: 584.6048844327706\n",
      "Global strain: 1.0455876039896872\n",
      "Effective temperature: 671.5812667636701\n",
      "Global strain: 1.0571505314103442\n",
      "Effective temperature: 761.2374212571572\n",
      "Global strain: 1.0701544460546282\n",
      "Effective temperature: 856.5602020395352\n",
      "Global strain: 1.08696032519274\n"
     ]
    }
   ],
   "source": [
    "# collect effective temperatures and pseudo strains for each temperature using the new approach\n",
    "eff_parameters = np.array([find_eff_strain_and_T(b_xyz, t) for b_xyz, t in zip(b_grids, temperatures)]).T\n",
    "eff_temperatures_new, pseudo_strains = eff_parameters"
   ]
  },
  {
   "cell_type": "code",
   "execution_count": 17,
   "id": "682ce597-dbc6-427d-8a5f-8f45bc31532e",
   "metadata": {
    "ExecuteTime": {
     "end_time": "2022-12-01T12:41:10.13936Z",
     "start_time": "2022-12-01T12:41:06.146462Z"
    }
   },
   "outputs": [],
   "source": [
    "# ah_Us and ah_Fs for different methods\n",
    "\n",
    "# vmf = []\n",
    "# mf_rhos = []\n",
    "# for i, temp in enumerate(temperatures):\n",
    "#     v = V_mfc(b_grids[i])\n",
    "#     vmf.append(v)\n",
    "#     mf_rhos.append(get_rho(v, temp))\n",
    "# U_mf = get_ah_U(mf_rhos, temperatures=temperatures)\n",
    "# F_mf, fine_temperatures = get_ah_F(U_mf, temperatures=temperatures)\n",
    "\n",
    "# vmfc = []\n",
    "# mfc_rhos = []\n",
    "# for i, temp in enumerate(temperatures):\n",
    "#     v = V_mfc_lc(b_grids[i], temperature=temp)\n",
    "#     vmfc.append(v)\n",
    "#     mfc_rhos.append(get_rho(v, temp))\n",
    "# U_mfc = get_ah_U(mfc_rhos, temperatures=temperatures)\n",
    "# F_mfc, fine_temperatures = get_ah_F(U_mfc, temperatures=temperatures)\n",
    "\n",
    "vmfcv = []\n",
    "mfcv_rhos = []\n",
    "for i, (eff_temp) in enumerate(eff_temperatures_old):\n",
    "    v = V_mfc_lc(b_grids[i], temperature=eff_temp)\n",
    "    vmfcv.append(v)\n",
    "    mfcv_rhos.append(get_rho(v, eff_temp))\n",
    "U_mfcv = get_ah_U(mfcv_rhos, temperatures=temperatures)\n",
    "F_mfcv, fine_temperatures = get_ah_F(U_mfcv, temperatures=temperatures)\n",
    "\n",
    "# fixed volume = no global strain, only pseudo strain\n",
    "vmfcv_ps = []\n",
    "mfcv_ps_rhos = []\n",
    "for i, (eff_temp, ex) in enumerate(zip(eff_temperatures_new, pseudo_strains)):\n",
    "    v = V_mfc_lc(b_grids[i], a_s=1., a_ex=ex, temperature=eff_temp)\n",
    "    vmfcv_ps.append(v)\n",
    "    mfcv_ps_rhos.append(get_rho(v, eff_temp))\n",
    "U_mfcv_ps = get_ah_U(mfcv_ps_rhos, temperatures=temperatures)\n",
    "F_mfcv_ps, fine_temperatures = get_ah_F(U_mfcv_ps, temperatures=temperatures)"
   ]
  },
  {
   "cell_type": "code",
   "execution_count": 18,
   "id": "4736e364-ec0a-4750-bef4-fab3fcd555f3",
   "metadata": {
    "ExecuteTime": {
     "end_time": "2022-12-01T12:41:10.317932Z",
     "start_time": "2022-12-01T12:41:10.14210Z"
    }
   },
   "outputs": [
    {
     "data": {
      "image/png": "[encoded data removed]",
      "text/plain": [
       "<Figure size 640x480 with 1 Axes>"
      ]
     },
     "metadata": {},
     "output_type": "display_data"
    }
   ],
   "source": [
    "plt.title('NVT anharmonic internal energy')\n",
    "plt.xlabel('Temperatures [K]')\n",
    "plt.ylabel('$U_{\\mathrm{ah}}$ [meV]')\n",
    "plt.plot(temperatures, U_md_nvt, label='MD')\n",
    "plt.fill_between(temperatures, U_md_nvt-U_md_nvt_err, U_md_nvt+U_md_nvt_err, alpha=0.5)\n",
    "# plt.plot(temperatures, U_mf, label='mf')\n",
    "# plt.plot(temperatures, U_mfc, label='mfc')\n",
    "plt.plot(temperatures, U_mfcv, label='mfc-lc-v')\n",
    "plt.plot(temperatures, U_mfcv_ps, label='mfc-lc-v-ps')\n",
    "plt.legend()\n",
    "plt.show()"
   ]
  },
  {
   "cell_type": "code",
   "execution_count": 19,
   "id": "ebcb8647-fabb-4ee4-953b-ef4ae24ab553",
   "metadata": {
    "ExecuteTime": {
     "end_time": "2022-12-01T12:41:10.549882Z",
     "start_time": "2022-12-01T12:41:10.318112Z"
    }
   },
   "outputs": [
    {
     "data": {
      "image/png": "[encoded data removed]",
      "text/plain": [
       "<Figure size 640x480 with 1 Axes>"
      ]
     },
     "metadata": {},
     "output_type": "display_data"
    }
   ],
   "source": [
    "F_md_nvt, fine_temperatures = get_ah_F(U_md_nvt, temperatures=temperatures)\n",
    "plt.title('NVT anharmonic free energy')\n",
    "plt.xlabel('Temperatures [K]')\n",
    "plt.ylabel('$F_{\\mathrm{ah}}$ [meV]')\n",
    "plt.plot(fine_temperatures, F_md_nvt, label='MD')\n",
    "# plt.plot(fine_temperatures, F_mf, label='mf')\n",
    "# plt.plot(fine_temperatures, F_mfc, label='mfc')\n",
    "plt.plot(fine_temperatures, F_mfcv, label='mfc-lc-v')\n",
    "plt.plot(fine_temperatures, F_mfcv_ps, label='mfc-lc-v-ps')\n",
    "plt.legend()\n",
    "plt.show()"
   ]
  },
  {
   "cell_type": "code",
   "execution_count": null,
   "id": "98439c5b",
   "metadata": {},
   "outputs": [],
   "source": []
  }
 ],
 "metadata": {
  "kernelspec": {
   "display_name": "Python 3.8 (XPython)",
   "language": "python",
   "name": "xpython"
  },
  "language_info": {
   "file_extension": ".py",
   "mimetype": "text/x-python",
   "name": "python",
   "version": "3.8.13"
  }
 },
 "nbformat": 4,
 "nbformat_minor": 5
}
